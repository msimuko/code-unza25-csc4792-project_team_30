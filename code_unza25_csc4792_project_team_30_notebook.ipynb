{
  "cells": [
    {
      "cell_type": "markdown",
      "metadata": {
        "id": "view-in-github",
        "colab_type": "text"
      },
      "source": [
        "<a href=\"https://colab.research.google.com/github/msimuko/code-unza25-csc4792-project_team_30/blob/main/code_unza25_csc4792_project_team_30_notebook.ipynb\" target=\"_parent\"><img src=\"https://colab.research.google.com/assets/colab-badge.svg\" alt=\"Open In Colab\"/></a>"
      ]
    },
    {
      "cell_type": "code",
      "execution_count": null,
      "metadata": {
        "id": "1MXqjlYYyp6J"
      },
      "outputs": [],
      "source": []
    },
    {
      "cell_type": "markdown",
      "metadata": {
        "id": "h6uc-m5PoAdU"
      },
      "source": [
        "# 2.3.2 References Publication Type Classification (CRISP-DM)\n",
        "##Business understanding: Reference Classification Project\n",
        "\n",
        "### Overview\n",
        "Build a supervised classifier to assign publication types (journal, conference, report, thesis, book) from citation text and URLs.\n",
        "Curate and label a training set from scraped references; ensure\n",
        "\n",
        "### Business Understanding\n",
        "\n",
        "### Problem Statement  \n",
        "Managing and organizing academic references is a time-consuming process for students, researchers, and librarians. Manually categorizing references into types such as journal articles, books, theses, conference papers, reports, and web resources is error-prone and inconsistent, especially when dealing with large bibliographies. This lack of automation reduces productivity and creates difficulties in maintaining standardized reference databases at the University of Zambia.  \n",
        "\n",
        "---\n",
        "\n",
        "## Business Objectives  \n",
        "The project seeks to automate the classification of academic references into their correct publication types.  \n",
        "\n",
        "**Practical Success means:**  \n",
        "- Students and researchers spend less time categorizing references manually.  \n",
        "- Librarians can easily maintain structured institutional repositories.  \n",
        "- The system provides fast, accurate, and consistent classification regardless of reference style (APA, IEEE, etc.).  \n",
        "---\n",
        "\n",
        "### Data Mining Goals\n",
        "\n",
        "#### To achieve these objectives, we will:\n",
        "Build a supervised classification model that can categorize references into publication types (e.g., journal, book, conference, report, thesis).\n",
        "*   Explore natural language processing (NLP) techniques (such as text embeddings or feature extraction from citation strings).\n",
        "*   Evaluate multiple classification algorithms (e.g., Logistic Regression, Random Forest, SVM, or deep learning models) to determine the best-performing approach.\n",
        "---\n",
        "\n",
        "## Initial Project Success Criteria  \n",
        "- **Technical Success:**  \n",
        "  - The model should achieve at least **80% classification accuracy** on test data.  \n",
        "\n",
        "\n",
        "## Publication Types\n",
        "The model classifies references into the following categories:\n",
        "- **Journal Articles**: Peer-reviewed academic papers\n",
        "- **Books**: Monographs and edited volumes\n",
        "- **Thesis/Dissertations**: Graduate research works\n",
        "- **Conference Papers**: Proceedings and presentations\n",
        "- **Technical Reports / Reports**: Government and institutional publications\n",
        "- **Web Resources**: Online publications and documents\n",
        "\n",
        "\n",
        "## Key Features\n",
        "- **Scalable Pipeline**: Easy to retrain with new data\n",
        "- **Performance Analysis**: Comprehensive evaluation metrics\n",
        "- **Extensible Design**: Simple to add new publication types\n",
        "\n"
      ]
    },
    {
      "cell_type": "markdown",
      "metadata": {
        "id": "m3GevLMizJ6m"
      },
      "source": [
        "## Data Understanding\n",
        "\n",
        "The dataset for this project is located in `references_classification_metadata.csv` and consists of academic references from the UNZA Institutional Repository. Each entry includes:\n",
        "- `reference_text`: The full bibliographic reference as a string.\n",
        "- `publication_type`: The manually assigned category label (e.g., Journal Article, Book, Thesis, Conference Paper, Report, Web Resource).\n",
        "\n",
        "**Observations:**\n",
        "- The dataset is small and imbalanced, with some classes represented by only one sample.\n",
        "- Reference texts vary in length and format, reflecting real-world diversity.\n",
        "- No duplicate entries or obvious data quality issues were found.\n",
        "- Text preprocessing (see `src/utils.py`) is used to standardize and clean reference strings before modeling.\n",
        "\n",
        "**Implications for Modeling:**\n",
        "- The limited and imbalanced data may affect model generalization and accuracy.\n",
        "- Stratified train-test splitting may not be possible for all classes; random splitting is used when necessary.\n",
        "- Additional data collection is recommended for improved performance and robustness."
      ]
    },
    {
      "cell_type": "markdown",
      "metadata": {
        "id": "zfOkdVAjnrGW"
      },
      "source": []
    },
    {
      "cell_type": "code",
      "execution_count": 2,
      "metadata": {
        "colab": {
          "base_uri": "https://localhost:8080/"
        },
        "id": "1UlkDDDTlWjA",
        "outputId": "c0349404-fab0-4d99-b924-c2d8618fca66"
      },
      "outputs": [
        {
          "output_type": "stream",
          "name": "stdout",
          "text": [
            "Mounted at /content/drive\n"
          ]
        }
      ],
      "source": [
        "from google.colab import drive\n",
        "drive.mount('/content/drive')"
      ]
    },
    {
      "cell_type": "markdown",
      "metadata": {
        "id": "Ez56vR9bC549"
      },
      "source": [
        "####Step 1: references.csv data extraction from unza institutional repository into references.csv\n",
        "\n"
      ]
    },
    {
      "cell_type": "code",
      "execution_count": 3,
      "metadata": {
        "colab": {
          "base_uri": "https://localhost:8080/"
        },
        "collapsed": true,
        "id": "_lRHhT8yDPN5",
        "outputId": "6ccf2273-11d5-4061-ff6c-6fd1ba875cba"
      },
      "outputs": [
        {
          "output_type": "stream",
          "name": "stdout",
          "text": [
            "Requirement already satisfied: requests in /usr/local/lib/python3.12/dist-packages (2.32.4)\n",
            "Requirement already satisfied: pandas in /usr/local/lib/python3.12/dist-packages (2.2.2)\n",
            "Collecting pymupdf\n",
            "  Downloading pymupdf-1.26.4-cp39-abi3-manylinux_2_28_x86_64.whl.metadata (3.4 kB)\n",
            "Requirement already satisfied: charset_normalizer<4,>=2 in /usr/local/lib/python3.12/dist-packages (from requests) (3.4.3)\n",
            "Requirement already satisfied: idna<4,>=2.5 in /usr/local/lib/python3.12/dist-packages (from requests) (3.10)\n",
            "Requirement already satisfied: urllib3<3,>=1.21.1 in /usr/local/lib/python3.12/dist-packages (from requests) (2.5.0)\n",
            "Requirement already satisfied: certifi>=2017.4.17 in /usr/local/lib/python3.12/dist-packages (from requests) (2025.8.3)\n",
            "Requirement already satisfied: numpy>=1.26.0 in /usr/local/lib/python3.12/dist-packages (from pandas) (2.0.2)\n",
            "Requirement already satisfied: python-dateutil>=2.8.2 in /usr/local/lib/python3.12/dist-packages (from pandas) (2.9.0.post0)\n",
            "Requirement already satisfied: pytz>=2020.1 in /usr/local/lib/python3.12/dist-packages (from pandas) (2025.2)\n",
            "Requirement already satisfied: tzdata>=2022.7 in /usr/local/lib/python3.12/dist-packages (from pandas) (2025.2)\n",
            "Requirement already satisfied: six>=1.5 in /usr/local/lib/python3.12/dist-packages (from python-dateutil>=2.8.2->pandas) (1.17.0)\n",
            "Downloading pymupdf-1.26.4-cp39-abi3-manylinux_2_28_x86_64.whl (24.1 MB)\n",
            "\u001b[2K   \u001b[90m━━━━━━━━━━━━━━━━━━━━━━━━━━━━━━━━━━━━━━━━\u001b[0m \u001b[32m24.1/24.1 MB\u001b[0m \u001b[31m82.1 MB/s\u001b[0m eta \u001b[36m0:00:00\u001b[0m\n",
            "\u001b[?25hInstalling collected packages: pymupdf\n",
            "Successfully installed pymupdf-1.26.4\n",
            "Collecting tools\n",
            "  Downloading tools-1.0.5-py3-none-any.whl.metadata (1.3 kB)\n",
            "Downloading tools-1.0.5-py3-none-any.whl (40 kB)\n",
            "\u001b[2K   \u001b[90m━━━━━━━━━━━━━━━━━━━━━━━━━━━━━━━━━━━━━━━━\u001b[0m \u001b[32m40.2/40.2 kB\u001b[0m \u001b[31m2.5 MB/s\u001b[0m eta \u001b[36m0:00:00\u001b[0m\n",
            "\u001b[?25hInstalling collected packages: tools\n",
            "Successfully installed tools-1.0.5\n",
            "Collecting pdfplumber\n",
            "  Downloading pdfplumber-0.11.7-py3-none-any.whl.metadata (42 kB)\n",
            "\u001b[2K     \u001b[90m━━━━━━━━━━━━━━━━━━━━━━━━━━━━━━━━━━━━━━━━\u001b[0m \u001b[32m42.8/42.8 kB\u001b[0m \u001b[31m1.9 MB/s\u001b[0m eta \u001b[36m0:00:00\u001b[0m\n",
            "\u001b[?25hCollecting pdfminer.six==20250506 (from pdfplumber)\n",
            "  Downloading pdfminer_six-20250506-py3-none-any.whl.metadata (4.2 kB)\n",
            "Requirement already satisfied: Pillow>=9.1 in /usr/local/lib/python3.12/dist-packages (from pdfplumber) (11.3.0)\n",
            "Collecting pypdfium2>=4.18.0 (from pdfplumber)\n",
            "  Downloading pypdfium2-4.30.0-py3-none-manylinux_2_17_x86_64.manylinux2014_x86_64.whl.metadata (48 kB)\n",
            "\u001b[2K     \u001b[90m━━━━━━━━━━━━━━━━━━━━━━━━━━━━━━━━━━━━━━━━\u001b[0m \u001b[32m48.5/48.5 kB\u001b[0m \u001b[31m3.6 MB/s\u001b[0m eta \u001b[36m0:00:00\u001b[0m\n",
            "\u001b[?25hRequirement already satisfied: charset-normalizer>=2.0.0 in /usr/local/lib/python3.12/dist-packages (from pdfminer.six==20250506->pdfplumber) (3.4.3)\n",
            "Requirement already satisfied: cryptography>=36.0.0 in /usr/local/lib/python3.12/dist-packages (from pdfminer.six==20250506->pdfplumber) (43.0.3)\n",
            "Requirement already satisfied: cffi>=1.12 in /usr/local/lib/python3.12/dist-packages (from cryptography>=36.0.0->pdfminer.six==20250506->pdfplumber) (2.0.0)\n",
            "Requirement already satisfied: pycparser in /usr/local/lib/python3.12/dist-packages (from cffi>=1.12->cryptography>=36.0.0->pdfminer.six==20250506->pdfplumber) (2.23)\n",
            "Downloading pdfplumber-0.11.7-py3-none-any.whl (60 kB)\n",
            "\u001b[2K   \u001b[90m━━━━━━━━━━━━━━━━━━━━━━━━━━━━━━━━━━━━━━━━\u001b[0m \u001b[32m60.0/60.0 kB\u001b[0m \u001b[31m4.4 MB/s\u001b[0m eta \u001b[36m0:00:00\u001b[0m\n",
            "\u001b[?25hDownloading pdfminer_six-20250506-py3-none-any.whl (5.6 MB)\n",
            "\u001b[2K   \u001b[90m━━━━━━━━━━━━━━━━━━━━━━━━━━━━━━━━━━━━━━━━\u001b[0m \u001b[32m5.6/5.6 MB\u001b[0m \u001b[31m60.4 MB/s\u001b[0m eta \u001b[36m0:00:00\u001b[0m\n",
            "\u001b[?25hDownloading pypdfium2-4.30.0-py3-none-manylinux_2_17_x86_64.manylinux2014_x86_64.whl (2.8 MB)\n",
            "\u001b[2K   \u001b[90m━━━━━━━━━━━━━━━━━━━━━━━━━━━━━━━━━━━━━━━━\u001b[0m \u001b[32m2.8/2.8 MB\u001b[0m \u001b[31m93.3 MB/s\u001b[0m eta \u001b[36m0:00:00\u001b[0m\n",
            "\u001b[?25hInstalling collected packages: pypdfium2, pdfminer.six, pdfplumber\n",
            "Successfully installed pdfminer.six-20250506 pdfplumber-0.11.7 pypdfium2-4.30.0\n",
            "Collecting pypdf\n",
            "  Downloading pypdf-6.1.0-py3-none-any.whl.metadata (7.1 kB)\n",
            "Downloading pypdf-6.1.0-py3-none-any.whl (322 kB)\n",
            "\u001b[2K   \u001b[90m━━━━━━━━━━━━━━━━━━━━━━━━━━━━━━━━━━━━━━━━\u001b[0m \u001b[32m322.5/322.5 kB\u001b[0m \u001b[31m6.7 MB/s\u001b[0m eta \u001b[36m0:00:00\u001b[0m\n",
            "\u001b[?25hInstalling collected packages: pypdf\n",
            "Successfully installed pypdf-6.1.0\n",
            "Requirement already satisfied: requests in /usr/local/lib/python3.12/dist-packages (2.32.4)\n",
            "Requirement already satisfied: charset_normalizer<4,>=2 in /usr/local/lib/python3.12/dist-packages (from requests) (3.4.3)\n",
            "Requirement already satisfied: idna<4,>=2.5 in /usr/local/lib/python3.12/dist-packages (from requests) (3.10)\n",
            "Requirement already satisfied: urllib3<3,>=1.21.1 in /usr/local/lib/python3.12/dist-packages (from requests) (2.5.0)\n",
            "Requirement already satisfied: certifi>=2017.4.17 in /usr/local/lib/python3.12/dist-packages (from requests) (2025.8.3)\n",
            "Requirement already satisfied: beautifulsoup4 in /usr/local/lib/python3.12/dist-packages (4.13.5)\n",
            "Requirement already satisfied: soupsieve>1.2 in /usr/local/lib/python3.12/dist-packages (from beautifulsoup4) (2.8)\n",
            "Requirement already satisfied: typing-extensions>=4.0.0 in /usr/local/lib/python3.12/dist-packages (from beautifulsoup4) (4.15.0)\n",
            "Requirement already satisfied: lxml in /usr/local/lib/python3.12/dist-packages (5.4.0)\n",
            "Requirement already satisfied: pdfplumber in /usr/local/lib/python3.12/dist-packages (0.11.7)\n",
            "Requirement already satisfied: pdfminer.six==20250506 in /usr/local/lib/python3.12/dist-packages (from pdfplumber) (20250506)\n",
            "Requirement already satisfied: Pillow>=9.1 in /usr/local/lib/python3.12/dist-packages (from pdfplumber) (11.3.0)\n",
            "Requirement already satisfied: pypdfium2>=4.18.0 in /usr/local/lib/python3.12/dist-packages (from pdfplumber) (4.30.0)\n",
            "Requirement already satisfied: charset-normalizer>=2.0.0 in /usr/local/lib/python3.12/dist-packages (from pdfminer.six==20250506->pdfplumber) (3.4.3)\n",
            "Requirement already satisfied: cryptography>=36.0.0 in /usr/local/lib/python3.12/dist-packages (from pdfminer.six==20250506->pdfplumber) (43.0.3)\n",
            "Requirement already satisfied: cffi>=1.12 in /usr/local/lib/python3.12/dist-packages (from cryptography>=36.0.0->pdfminer.six==20250506->pdfplumber) (2.0.0)\n",
            "Requirement already satisfied: pycparser in /usr/local/lib/python3.12/dist-packages (from cffi>=1.12->cryptography>=36.0.0->pdfminer.six==20250506->pdfplumber) (2.23)\n",
            "Requirement already satisfied: pypdf in /usr/local/lib/python3.12/dist-packages (6.1.0)\n",
            "Requirement already satisfied: PyMuPDF in /usr/local/lib/python3.12/dist-packages (1.26.4)\n",
            "Collecting PyPDF2\n",
            "  Downloading pypdf2-3.0.1-py3-none-any.whl.metadata (6.8 kB)\n",
            "Downloading pypdf2-3.0.1-py3-none-any.whl (232 kB)\n",
            "\u001b[2K   \u001b[90m━━━━━━━━━━━━━━━━━━━━━━━━━━━━━━━━━━━━━━━━\u001b[0m \u001b[32m232.6/232.6 kB\u001b[0m \u001b[31m5.5 MB/s\u001b[0m eta \u001b[36m0:00:00\u001b[0m\n",
            "\u001b[?25hInstalling collected packages: PyPDF2\n",
            "Successfully installed PyPDF2-3.0.1\n"
          ]
        }
      ],
      "source": [
        "!pip install requests pandas pymupdf\n",
        "!pip install tools\n",
        "!pip install pdfplumber    # Recommended\n",
        "!pip install pypdf\n",
        "!pip install requests\n",
        "!pip install beautifulsoup4\n",
        "!pip install lxml\n",
        "!pip install pdfplumber\n",
        "!pip install pypdf\n",
        "!pip install PyMuPDF\n",
        "!pip install PyPDF2\n"
      ]
    },
    {
      "cell_type": "code",
      "execution_count": null,
      "metadata": {
        "colab": {
          "base_uri": "https://localhost:8080/"
        },
        "id": "IKx_uIhAf7rY",
        "outputId": "40a67d49-9682-4cfb-bc3f-b9f03e33a58c"
      },
      "outputs": [
        {
          "name": "stdout",
          "output_type": "stream",
          "text": [
            "🔎 Scraping thesis\n"
          ]
        },
        {
          "name": "stderr",
          "output_type": "stream",
          "text": [
            "/tmp/ipython-input-3002736365.py:44: DeprecationWarning: The 'text' argument to find()-type methods is deprecated. Use 'string' instead.\n",
            "  match = soup.find(text=regex)\n"
          ]
        },
        {
          "name": "stdout",
          "output_type": "stream",
          "text": [
            "🔎 Scraping conference\n",
            "🔎 Scraping report\n",
            "🔎 Scraping journal\n",
            "✅ Saved 45 references with classification metadata to:\n",
            "/content/drive/MyDrive/misc-unza25-csc4792-project_team30/references_classification_metadata.csv\n"
          ]
        }
      ],
      "source": []
    },
    {
      "cell_type": "markdown",
      "metadata": {
        "id": "omMN2D49Ruht"
      },
      "source": [
        "####Step 2: Data  understanding and exploration and visualization\n",
        "\n",
        "\n"
      ]
    },
    {
      "cell_type": "code",
      "execution_count": 40,
      "metadata": {
        "colab": {
          "base_uri": "https://localhost:8080/",
          "height": 1000
        },
        "id": "Lu6bFzWLTXeV",
        "outputId": "e9bb3eb7-3f24-4b6d-dc6e-a8baa433ffb2"
      },
      "outputs": [
        {
          "output_type": "stream",
          "name": "stdout",
          "text": [
            "Shape: (2000, 12)\n",
            "Columns: ['_identifier', '_datestamp', '_setSpec', 'title', 'creator', 'subject', 'description', 'date', 'type', 'identifier', 'language', 'format']\n",
            "                         _identifier            _datestamp  \\\n",
            "0  oai:dspace.unza.zm:123456789/4153  2016-06-09T12:46:34Z   \n",
            "1  oai:dspace.unza.zm:123456789/3777  2016-06-09T10:16:03Z   \n",
            "2  oai:dspace.unza.zm:123456789/4729  2017-07-26T01:01:14Z   \n",
            "3  oai:dspace.unza.zm:123456789/3233  2016-06-09T13:19:00Z   \n",
            "4  oai:dspace.unza.zm:123456789/3314  2016-06-09T12:15:44Z   \n",
            "\n",
            "                                _setSpec  \\\n",
            "0    com_123456789_289=col_123456789_290   \n",
            "1      com_123456789_18=col_123456789_76   \n",
            "2      com_123456789_18=col_123456789_76   \n",
            "3      com_123456789_18=col_123456789_76   \n",
            "4  com_123456789_1093=col_123456789_1106   \n",
            "\n",
            "                                               title                  creator  \\\n",
            "0  Morphological characterisation of low and high...       Chinyundo, Anthony   \n",
            "1  Instruction based formative assessment in sele...           Mwale, Fred M.   \n",
            "2  An assessment of teachers' competences in care...       Banda, Christopher   \n",
            "3  The status of guidance and counselling provisi...  Makumba, Chivuna Edward   \n",
            "4                         Library Studies Exams 2008     University of Zambia   \n",
            "\n",
            "                                             subject  \\\n",
            "0   Helianthus Annuus. L.=Sun flower oil=Cooking oil   \n",
            "1  Educational tests and measurement=Formative As...   \n",
            "2  Counselling in Secondary Education-Solwezi, Za...   \n",
            "3  Educational Counselling-Mumbwa, Zambia=Guidanc...   \n",
            "4  Library and information studies=2008=Second Se...   \n",
            "\n",
            "                                         description  \\\n",
            "0  Morphological characterization was done on thr...   \n",
            "1  The purpose of the study was to evaluate the u...   \n",
            "2  M.ED=The purpose of the study was to assess th...   \n",
            "3  The purpose of the study was to investigate th...   \n",
            "4  Past Exams for the department of Library and i...   \n",
            "\n",
            "                                                date    type  \\\n",
            "0  2015-11-11T13:39:13Z=2015-11-11T13:39:13Z=2015...   Other   \n",
            "1  2015-04-13T07:36:13Z=2015-04-13T07:36:13Z=2015...  Thesis   \n",
            "2     2017-07-25T13:51:51Z=2017-07-25T13:51:51Z=2016  Thesis   \n",
            "3  2014-02-07T13:51:16Z=2014-02-07T13:51:16Z=2014...  Thesis   \n",
            "4  2014-02-27T13:48:16Z=2014-02-27T13:48:16Z=2014...   Other   \n",
            "\n",
            "                                          identifier language  \\\n",
            "0               http://hdl.handle.net/123456789/4153       en   \n",
            "1               http://hdl.handle.net/123456789/3777       en   \n",
            "2  http://dspace.unza.zm:8080/xmlui/handle/123456...       en   \n",
            "3               http://hdl.handle.net/123456789/3233       en   \n",
            "4               http://hdl.handle.net/123456789/3314       en   \n",
            "\n",
            "                                              format  \n",
            "0                                    application/pdf  \n",
            "1  application/pdf=application/pdf=application/pd...  \n",
            "2                                    application/pdf  \n",
            "3                                    application/pdf  \n",
            "4                                    application/pdf  \n",
            "\n",
            "Missing values per column:\n",
            "_identifier      0\n",
            "_datestamp       0\n",
            "_setSpec         0\n",
            "title           15\n",
            "creator         24\n",
            "subject         32\n",
            "description    221\n",
            "date            15\n",
            "type            26\n",
            "identifier      15\n",
            "language        25\n",
            "format          15\n",
            "dtype: int64\n"
          ]
        },
        {
          "output_type": "stream",
          "name": "stderr",
          "text": [
            "/tmp/ipython-input-1990274343.py:22: FutureWarning: \n",
            "\n",
            "Passing `palette` without assigning `hue` is deprecated and will be removed in v0.14.0. Assign the `x` variable to `hue` and set `legend=False` for the same effect.\n",
            "\n",
            "  sns.countplot(x='type', data=df, order=sorted(df['type'].dropna().unique()), palette='Set2')\n"
          ]
        },
        {
          "output_type": "display_data",
          "data": {
            "text/plain": [
              "<Figure size 800x400 with 1 Axes>"
            ],
            "image/png": "[encoded data removed]"
          },
          "metadata": {}
        },
        {
          "output_type": "display_data",
          "data": {
            "text/plain": [
              "<Figure size 800x500 with 1 Axes>"
            ],
            "image/png": "[encoded data removed]"
          },
          "metadata": {}
        },
        {
          "output_type": "stream",
          "name": "stdout",
          "text": [
            "\n",
            "Top 10 Most Frequent Words in References:\n",
            "zambia: 740\n",
            "lusaka: 339\n",
            "district: 336\n",
            "study: 323\n",
            "case: 320\n",
            "schools: 191\n",
            "selected: 166\n",
            "university: 161\n",
            "education: 148\n",
            "teaching: 147\n"
          ]
        },
        {
          "output_type": "display_data",
          "data": {
            "text/plain": [
              "<Figure size 1000x600 with 1 Axes>"
            ],
            "image/png": "[encoded data removed]"
          },
          "metadata": {}
        }
      ],
      "source": [
        "# Data Exploration and Visualization for Data Understanding\n",
        "import pandas as pd\n",
        "import matplotlib.pyplot as plt\n",
        "import seaborn as sns\n",
        "from collections import Counter\n",
        "\n",
        "# Load dataset directly from path\n",
        "df = pd.read_csv('/content/drive/MyDrive/misc-unza25-csc4792-project_team30/db-unza25-csc4792-datasets-dspace_unza_zm.csv', delimiter='|')\n",
        "\n",
        "# Show basic info\n",
        "print('Shape:', df.shape)\n",
        "print('Columns:', df.columns.tolist())\n",
        "print(df.head())\n",
        "\n",
        "# Check for missing values\n",
        "print('\\nMissing values per column:')\n",
        "print(df.isnull().sum())\n",
        "\n",
        "# Distribution of publication types\n",
        "if 'type' in df.columns:\n",
        "    plt.figure(figsize=(8,4))\n",
        "    sns.countplot(x='type', data=df, order=sorted(df['type'].dropna().unique()), palette='Set2')\n",
        "    plt.title('Distribution of Publication Types')\n",
        "    plt.xticks(rotation=30)\n",
        "    plt.tight_layout()\n",
        "    plt.show()\n",
        "\n",
        "# Reference text length distribution\n",
        "if 'title' in df.columns:\n",
        "    df['text_length'] = df['title'].astype(str).str.len()\n",
        "    plt.figure(figsize=(8,5))\n",
        "    plt.hist(df['text_length'], bins=20, edgecolor='black')\n",
        "    plt.title('Distribution of Reference Text Lengths')\n",
        "    plt.xlabel('Number of Characters')\n",
        "    plt.ylabel('Frequency')\n",
        "    plt.tight_layout()\n",
        "    plt.show()\n",
        "\n",
        "# Top words in reference text\n",
        "import re\n",
        "all_text = ' '.join(df['title'].dropna().astype(str))\n",
        "cleaned_text = re.sub(r'[^a-zA-Z\\s]', '', all_text).lower()\n",
        "tokens = cleaned_text.split()\n",
        "stopwords = set(['the','and','of','to','a','in','for','is','on','with','as','by','this','an','that','are','at','from','it','be','or','was'])\n",
        "tokens = [w for w in tokens if w not in stopwords and len(w) > 2]\n",
        "word_counts = Counter(tokens)\n",
        "top_words = word_counts.most_common(10)\n",
        "print('\\nTop 10 Most Frequent Words in References:')\n",
        "for word, freq in top_words:\n",
        "    print(f'{word}: {freq}')\n",
        "words, freqs = zip(*top_words)\n",
        "plt.figure(figsize=(10,6))\n",
        "plt.barh(list(words)[::-1], list(freqs)[::-1], color='skyblue', edgecolor='black')\n",
        "plt.title('Top 10 Most Frequent Words in References')\n",
        "plt.xlabel('Frequency')\n",
        "plt.ylabel('Word')\n",
        "plt.tight_layout()\n",
        "plt.show()"
      ]
    },
    {
      "cell_type": "markdown",
      "metadata": {
        "id": "fh0dbehUHYy0"
      },
      "source": [
        "## 3. Data Preparation\n",
        "\n",
        "In this step, we cleaned and transformed our raw extracted data to prepare it for modeling.\n",
        "\n",
        "### Data Cleaning\n",
        "- Removed rows with failed/empty PDF extractions.\n",
        "- Dropped duplicates and extremely short texts (<50 characters).\n",
        "- Normalized whitespace and casing.\n",
        "\n",
        "### Feature Engineering\n",
        "- Added text length and word count features to help analyze reference complexity.\n",
        "\n",
        "### Data Transformation\n",
        "- Preprocessed text (lowercase, punctuation removal).\n",
        "- Standardized `publication_type` categories based on the source URL (journal, thesis, conference, report, other).\n",
        "- Created a new `cleaned_text` column for training.\n"
      ]
    },
    {
      "cell_type": "code",
      "execution_count": null,
      "metadata": {
        "colab": {
          "base_uri": "https://localhost:8080/"
        },
        "id": "bPOijAmmrK6m",
        "outputId": "7dabbbd2-2d02-48c7-ed2b-10edddc7227b"
      },
      "outputs": [
        {
          "name": "stdout",
          "output_type": "stream",
          "text": [
            "Drive already mounted at /content/drive; to attempt to forcibly remount, call drive.mount(\"/content/drive\", force_remount=True).\n",
            "✅ Loaded 45 rows from /content/drive/MyDrive/misc-unza25-csc4792-project_team30/references_classification_metadata.csv\n",
            "Columns: ['title', 'publication_type', 'pdf_url']\n",
            "✅ Saved cleaned dataset to:\n",
            "/content/drive/MyDrive/misc-unza25-csc4792-project_team30/references_cleaned.csv\n",
            "Train shape: (36, 494)\n",
            "Validation shape: (9, 494)\n"
          ]
        }
      ],
      "source": [
        "# ==========================\n",
        "# Data Preparation — clean, split, vectorize, save\n",
        "# ==========================\n",
        "\n",
        "import os\n",
        "import pandas as pd\n",
        "import re, string\n",
        "from sklearn.model_selection import train_test_split\n",
        "from sklearn.feature_extraction.text import TfidfVectorizer\n",
        "\n",
        "# (Optional) Mount Google Drive if running in Colab\n",
        "try:\n",
        "    from google.colab import drive  # type: ignore\n",
        "    drive.mount('/content/drive')\n",
        "except Exception:\n",
        "    pass\n",
        "\n",
        "# --------------------------\n",
        "# Load from the exact saved path\n",
        "# --------------------------\n",
        "input_path = \"/content/drive/MyDrive/misc-unza25-csc4792-project_team30/references_classification_metadata.csv\"\n",
        "df = pd.read_csv(input_path)\n",
        "print(f\"✅ Loaded {len(df)} rows from {input_path}\")\n",
        "print(\"Columns:\", df.columns.tolist())\n",
        "\n",
        "# --------------------------\n",
        "# Ensure required columns\n",
        "# --------------------------\n",
        "required = {'title', 'publication_type'}\n",
        "missing = required - set(df.columns)\n",
        "if missing:\n",
        "    raise KeyError(\n",
        "        f\"❌ Missing required columns: {', '.join(sorted(missing))}. \"\n",
        "        f\"Found columns: {list(df.columns)}\"\n",
        "    )\n",
        "\n",
        "# Rename \"title\" -> \"reference_text\" for consistency\n",
        "df = df.rename(columns={'title': 'reference_text'})\n",
        "\n",
        "# --------------------------\n",
        "# Cleaning function\n",
        "# --------------------------\n",
        "def clean_reference(text: str) -> str:\n",
        "    if pd.isna(text):\n",
        "        return ''\n",
        "    t = str(text).lower()\n",
        "    t = re.sub(f\"[{re.escape(string.punctuation)}]\", \" \", t)\n",
        "    t = re.sub(r\"\\s+\", \" \", t).strip()\n",
        "    return t\n",
        "\n",
        "# Apply cleaning\n",
        "df['cleaned_text'] = df['reference_text'].astype(str).apply(clean_reference)\n",
        "\n",
        "# --------------------------\n",
        "# Save cleaned CSV (in same misc folder)\n",
        "# --------------------------\n",
        "output_path = \"/content/drive/MyDrive/misc-unza25-csc4792-project_team30/references_cleaned.csv\"\n",
        "os.makedirs(os.path.dirname(output_path), exist_ok=True)\n",
        "df.to_csv(output_path, index=False)\n",
        "print(f\"✅ Saved cleaned dataset to:\\n{output_path}\")\n",
        "\n",
        "# --------------------------\n",
        "# Features and labels\n",
        "# --------------------------\n",
        "X = df['cleaned_text'].values\n",
        "y = df['publication_type'].values\n",
        "\n",
        "# --------------------------\n",
        "# Stratify check\n",
        "# --------------------------\n",
        "value_counts = pd.Series(y).value_counts()\n",
        "can_stratify = (value_counts >= 2).all() and len(value_counts) > 1\n",
        "strat = y if can_stratify else None\n",
        "\n",
        "# --------------------------\n",
        "# Train-validation split\n",
        "# --------------------------\n",
        "X_train, X_val, y_train, y_val = train_test_split(\n",
        "    X, y, test_size=0.2, random_state=42, stratify=strat\n",
        ")\n",
        "\n",
        "# --------------------------\n",
        "# TF-IDF Vectorization\n",
        "# --------------------------\n",
        "vectorizer = TfidfVectorizer(\n",
        "    ngram_range=(1, 2),\n",
        "    max_features=10000,\n",
        "    min_df=1\n",
        ")\n",
        "X_train_tfidf = vectorizer.fit_transform(X_train)\n",
        "X_val_tfidf = vectorizer.transform(X_val)\n",
        "\n",
        "# Output shapes\n",
        "print(\"Train shape:\", X_train_tfidf.shape)\n",
        "print(\"Validation shape:\", X_val_tfidf.shape)"
      ]
    },
    {
      "cell_type": "code",
      "execution_count": null,
      "metadata": {
        "colab": {
          "base_uri": "https://localhost:8080/"
        },
        "id": "P5QUtktiJThm",
        "outputId": "4a728462-0453-49b0-871c-5b6fc2b85202"
      },
      "outputs": [
        {
          "name": "stdout",
          "output_type": "stream",
          "text": [
            "Drive already mounted at /content/drive; to attempt to forcibly remount, call drive.mount(\"/content/drive\", force_remount=True).\n",
            "Stratify used: True\n",
            "Class distribution:\n",
            " conference    25\n",
            "thesis        10\n",
            "journal        6\n",
            "report         4\n",
            "Train shape: (36, 494)\n",
            "Validation shape: (9, 494)\n"
          ]
        }
      ],
      "source": [
        "# Data Preparation — clean text, split, vectorize (strict)\n",
        "\n",
        "import os\n",
        "import pandas as pd\n",
        "import re, string\n",
        "from sklearn.model_selection import train_test_split\n",
        "from sklearn.feature_extraction.text import TfidfVectorizer\n",
        "\n",
        "# (Optional) Mount Google Drive if running in Colab\n",
        "try:\n",
        "    from google.colab import drive  # type: ignore\n",
        "    drive.mount('/content/drive')\n",
        "except Exception:\n",
        "    pass\n",
        "\n",
        "# Ensure df is loaded; if not, load from the correct path your scraper writes to\n",
        "if 'df' not in globals():\n",
        "    input_path = \"/content/drive/MyDrive/misc-unza25-csc4792-project_team30/references_classification_metadata.csv\"\n",
        "    if not os.path.exists(input_path):\n",
        "        raise FileNotFoundError(f\"CSV not found at: {input_path}. Make sure Drive is mounted and the scraper saved there.\")\n",
        "    df = pd.read_csv(input_path)\n",
        "    print(f\"✅ Loaded {len(df)} rows from {input_path}\")\n",
        "    print(\"Columns:\", df.columns.tolist())\n",
        "\n",
        "# Ensure required columns; rename title -> reference_text if needed\n",
        "if 'reference_text' not in df.columns and 'title' in df.columns:\n",
        "    df = df.rename(columns={'title': 'reference_text'})\n",
        "\n",
        "required = {'reference_text', 'publication_type'}\n",
        "missing = required - set(df.columns)\n",
        "if missing:\n",
        "    raise KeyError(\n",
        "        \"Data Preparation requires columns: reference_text, publication_type. Missing: \" +\n",
        "        \", \".join(sorted(missing)) + f\". Found: {list(df.columns)}\"\n",
        "    )\n",
        "\n",
        "def clean_reference(text: str) -> str:\n",
        "    if pd.isna(text):\n",
        "        return ''\n",
        "    t = str(text).lower()\n",
        "    t = re.sub(f'[{re.escape(string.punctuation)}]', ' ', t)\n",
        "    t = re.sub(r'\\s+', ' ', t).strip()\n",
        "    return t\n",
        "\n",
        "# Create cleaned text\n",
        "df['cleaned_text'] = df['reference_text'].astype(str).apply(clean_reference)\n",
        "X = df['cleaned_text'].values\n",
        "y = df['publication_type'].values\n",
        "\n",
        "# Stratify only if every class has at least 2 samples and there is >1 class\n",
        "value_counts = pd.Series(y).value_counts()\n",
        "can_stratify = (value_counts >= 2).all() and len(value_counts) > 1\n",
        "strat = y if can_stratify else None\n",
        "\n",
        "X_train, X_val, y_train, y_val = train_test_split(\n",
        "    X, y, test_size=0.2, random_state=42, stratify=strat\n",
        ")\n",
        "\n",
        "vectorizer = TfidfVectorizer(ngram_range=(1, 2), max_features=10000, min_df=1)\n",
        "X_train_tfidf = vectorizer.fit_transform(X_train)\n",
        "X_val_tfidf = vectorizer.transform(X_val)\n",
        "\n",
        "print(\"Stratify used:\", strat is not None)\n",
        "print(\"Class distribution:\\n\", value_counts.to_string())\n",
        "print(\"Train shape:\", X_train_tfidf.shape)\n",
        "print(\"Validation shape:\", X_val_tfidf.shape)"
      ]
    },
    {
      "cell_type": "code",
      "execution_count": null,
      "metadata": {
        "colab": {
          "base_uri": "https://localhost:8080/"
        },
        "id": "myOXRMipJdJP",
        "outputId": "e04e739f-126e-4a73-f050-daf8855183f3"
      },
      "outputs": [
        {
          "name": "stdout",
          "output_type": "stream",
          "text": [
            "✅ X_train shape: (36, 768), X_val shape: (9, 768)\n",
            "Text fields used: ['reference_text', 'pdf_url', 'cleaned_text']\n",
            "Numeric/boolean fields used: ['has_doi', 'has_url', 'has_isbn', 'has_volume_issue', 'has_proceedings']\n",
            "Class distribution:\n",
            " conference    25\n",
            "thesis        10\n",
            "journal        6\n",
            "report         4\n",
            "Stratify used: True\n"
          ]
        }
      ],
      "source": [
        "import pandas as pd\n",
        "import numpy as np\n",
        "import re, string\n",
        "from sklearn.model_selection import train_test_split\n",
        "from sklearn.feature_extraction.text import TfidfVectorizer\n",
        "from sklearn.preprocessing import StandardScaler\n",
        "from scipy.sparse import hstack, csr_matrix\n",
        "\n",
        "# -----------------------------\n",
        "# Detect all columns\n",
        "# -----------------------------\n",
        "all_columns = df.columns.tolist()\n",
        "\n",
        "# Identify textual columns (object dtype), exclude label; ensure 'reference_text' if present\n",
        "text_fields = [c for c in all_columns if c != 'publication_type' and df[c].dtype == 'object']\n",
        "if 'reference_text' in all_columns and 'reference_text' not in text_fields:\n",
        "    text_fields.insert(0, 'reference_text')\n",
        "# Fallback: if no text fields detected, default to 'reference_text' if available\n",
        "if not text_fields and 'reference_text' in all_columns:\n",
        "    text_fields = ['reference_text']\n",
        "\n",
        "# Identify numeric columns robustly\n",
        "numeric_fields = [c for c in all_columns if c not in text_fields and np.issubdtype(df[c].dtype, np.number)]\n",
        "if 'year' in all_columns and 'year' not in numeric_fields:\n",
        "    numeric_fields.append('year')\n",
        "\n",
        "# -----------------------------\n",
        "# Clean and normalize text fields\n",
        "# -----------------------------\n",
        "punct_class = re.escape(string.punctuation)\n",
        "def clean_text(text: str) -> str:\n",
        "    if pd.isna(text):\n",
        "        return ''\n",
        "    t = str(text).lower()\n",
        "    t = re.sub(f'[{punct_class}]', ' ', t)\n",
        "    t = re.sub(r'\\s+', ' ', t).strip()\n",
        "    return t\n",
        "\n",
        "for col in text_fields:\n",
        "    df[f'cleaned_{col}'] = df[col].apply(clean_text)\n",
        "\n",
        "# -----------------------------\n",
        "# Combine all text fields\n",
        "# -----------------------------\n",
        "clean_cols = [f'cleaned_{c}' for c in text_fields]\n",
        "df['combined_text'] = df[clean_cols].agg(' '.join, axis=1)\n",
        "\n",
        "# -----------------------------\n",
        "# Derive boolean features dynamically from text fields\n",
        "# -----------------------------\n",
        "def contains_pattern(s, pattern):\n",
        "    return int(bool(re.search(pattern, s)))\n",
        "\n",
        "df['has_doi'] = df['combined_text'].apply(lambda s: contains_pattern(s, r'doi\\s*:\\s*|10\\.\\d{4,9}/'))\n",
        "df['has_url'] = df['combined_text'].apply(lambda s: contains_pattern(s, r'http://|https://|www\\.'))\n",
        "df['has_isbn'] = df['combined_text'].apply(lambda s: contains_pattern(s, r'\\bisbn\\b'))\n",
        "df['has_volume_issue'] = df['combined_text'].apply(lambda s: contains_pattern(s, r'\\b(vol|volume|issue)\\b'))\n",
        "df['has_proceedings'] = df['combined_text'].apply(lambda s: contains_pattern(s, r'\\b(proceedings|conference|symposium|workshop)\\b'))\n",
        "\n",
        "numeric_fields += ['has_doi','has_url','has_isbn','has_volume_issue','has_proceedings']\n",
        "\n",
        "# -----------------------------\n",
        "# Train/Validation split (by index to keep alignment)\n",
        "# -----------------------------\n",
        "y = df['publication_type'].values\n",
        "X_text_series = df['combined_text']\n",
        "\n",
        "value_counts = pd.Series(y).value_counts()\n",
        "can_stratify = (value_counts >= 2).all() and len(value_counts) > 1\n",
        "strat = y if can_stratify else None\n",
        "\n",
        "idx = df.index.to_numpy()\n",
        "train_idx, val_idx = train_test_split(idx, test_size=0.2, random_state=42, stratify=strat)\n",
        "\n",
        "# -----------------------------\n",
        "# TF-IDF Vectorization\n",
        "# -----------------------------\n",
        "X_train_text = X_text_series.loc[train_idx].values\n",
        "X_val_text = X_text_series.loc[val_idx].values\n",
        "\n",
        "vectorizer = TfidfVectorizer(ngram_range=(1,2), max_features=10000, min_df=1)\n",
        "X_train_tfidf = vectorizer.fit_transform(X_train_text)\n",
        "X_val_tfidf = vectorizer.transform(X_val_text)\n",
        "\n",
        "# -----------------------------\n",
        "# Standardize numeric features (fit on train, transform val)\n",
        "# -----------------------------\n",
        "X_num = df[numeric_fields].copy().apply(pd.to_numeric, errors='coerce').fillna(0.0)\n",
        "scaler = StandardScaler()\n",
        "X_train_num_std = scaler.fit_transform(X_num.loc[train_idx])\n",
        "X_val_num_std = scaler.transform(X_num.loc[val_idx])\n",
        "\n",
        "# -----------------------------\n",
        "# Combine text and numeric features (sparse)\n",
        "# -----------------------------\n",
        "X_train_final = hstack([X_train_tfidf, csr_matrix(X_train_num_std)])\n",
        "X_val_final = hstack([X_val_tfidf, csr_matrix(X_val_num_std)])\n",
        "y_train = df.loc[train_idx, 'publication_type'].values\n",
        "y_val = df.loc[val_idx, 'publication_type'].values\n",
        "\n",
        "print(f\"✅ X_train shape: {X_train_final.shape}, X_val shape: {X_val_final.shape}\")\n",
        "print(f\"Text fields used: {text_fields}\")\n",
        "print(f\"Numeric/boolean fields used: {numeric_fields}\")\n",
        "print(\"Class distribution:\\n\", value_counts.to_string())\n",
        "print(\"Stratify used:\", strat is not None)"
      ]
    },
    {
      "cell_type": "markdown",
      "metadata": {
        "id": "Xgr93xSoJlbZ"
      },
      "source": [
        "# Step 3: Data Transformation"
      ]
    },
    {
      "cell_type": "code",
      "execution_count": null,
      "metadata": {
        "colab": {
          "base_uri": "https://localhost:8080/"
        },
        "id": "fFvCgx32JoV0",
        "outputId": "8a6aad5b-eca6-4ae0-875d-3df04c5f5911"
      },
      "outputs": [
        {
          "name": "stdout",
          "output_type": "stream",
          "text": [
            "✅ X_train shape: (35, 802), X_val shape: (9, 802)\n",
            "Text fields used: ['reference_text', 'pdf_url', 'cleaned_text', 'cleaned_reference_text', 'cleaned_pdf_url', 'cleaned_cleaned_text', 'combined_text']\n",
            "Numeric/boolean fields used: ['has_isbn', 'digit_ratio', 'year', 'has_volume_issue', 'word_len', 'has_proceedings', 'has_doi', 'char_len', 'has_url']\n"
          ]
        },
        {
          "name": "stderr",
          "output_type": "stream",
          "text": [
            "/tmp/ipython-input-1792624584.py:77: UserWarning: This pattern is interpreted as a regular expression, and has match groups. To actually get the groups, use str.extract.\n",
            "  df['has_volume_issue'] = df['combined_text'].str.contains(r\"\\b(vol|volume|issue)\\b\", regex=True).astype(int)\n",
            "/tmp/ipython-input-1792624584.py:78: UserWarning: This pattern is interpreted as a regular expression, and has match groups. To actually get the groups, use str.extract.\n",
            "  df['has_proceedings'] = df['combined_text'].str.contains(r\"\\b(proceedings|conference|symposium|workshop)\\b\", regex=True).astype(int)\n"
          ]
        },
        {
          "data": {
            "text/plain": [
              "{'initial_rows': 45,\n",
              " 'rows_after_required': 44,\n",
              " 'duplicates_removed': 1,\n",
              " 'final_rows': 44,\n",
              " 'class_balance': {'conference': 24, 'thesis': 10, 'journal': 6, 'report': 4},\n",
              " 'can_stratify': True,\n",
              " 'numeric_features': ['has_isbn',\n",
              "  'digit_ratio',\n",
              "  'year',\n",
              "  'has_volume_issue',\n",
              "  'word_len',\n",
              "  'has_proceedings',\n",
              "  'has_doi',\n",
              "  'char_len',\n",
              "  'has_url'],\n",
              " 'text_fields': ['reference_text',\n",
              "  'pdf_url',\n",
              "  'cleaned_text',\n",
              "  'cleaned_reference_text',\n",
              "  'cleaned_pdf_url',\n",
              "  'cleaned_cleaned_text',\n",
              "  'combined_text'],\n",
              " 'integration': {'merged': False, 'files': [], 'key': 'cleaned_text_norm'}}"
            ]
          },
          "execution_count": 25,
          "metadata": {},
          "output_type": "execute_result"
        }
      ],
      "source": [
        "import os\n",
        "import re, string\n",
        "import pandas as pd\n",
        "import numpy as np\n",
        "from sklearn.model_selection import train_test_split\n",
        "from sklearn.feature_extraction import text\n",
        "from sklearn.feature_extraction.text import TfidfVectorizer\n",
        "from sklearn.preprocessing import StandardScaler\n",
        "from scipy.sparse import hstack, csr_matrix\n",
        "\n",
        "# -----------------------------\n",
        "# Guard & Required Columns\n",
        "# -----------------------------\n",
        "if 'df' not in globals():\n",
        "    raise NameError(\"DataFrame 'df' is not defined. Load the CSV first.\")\n",
        "\n",
        "required = {'reference_text', 'publication_type'}\n",
        "missing = required - set(df.columns)\n",
        "if missing:\n",
        "    raise KeyError(\"Missing required columns: \" + \", \".join(sorted(missing)))\n",
        "\n",
        "# -----------------------------\n",
        "# 1) Basic cleaning & deduplication\n",
        "# -----------------------------\n",
        "pre_dp_rows = len(df)\n",
        "df = df.dropna(subset=required).copy()\n",
        "df = df[(df['reference_text'].str.len() > 0) & (df['publication_type'].str.len() > 0)]\n",
        "df['publication_type'] = df['publication_type'].str.lower()\n",
        "before_dups = len(df)\n",
        "df = df.drop_duplicates(subset=['reference_text', 'publication_type']).reset_index(drop=True)\n",
        "dropped_dups = before_dups - len(df)\n",
        "\n",
        "# -----------------------------\n",
        "# 2) Detect text & numeric fields dynamically\n",
        "# -----------------------------\n",
        "all_columns = df.columns.tolist()\n",
        "# Text fields (object dtype), exclude label and year; ensure reference_text included\n",
        "text_fields = [c for c in all_columns if c not in ['publication_type', 'year'] and df[c].dtype == 'object']\n",
        "if 'reference_text' in all_columns and 'reference_text' not in text_fields:\n",
        "    text_fields.insert(0, 'reference_text')\n",
        "if not text_fields and 'reference_text' in all_columns:\n",
        "    text_fields = ['reference_text']\n",
        "\n",
        "# Numeric fields (robust)\n",
        "numeric_fields = [c for c in all_columns if c not in text_fields and np.issubdtype(df[c].dtype, np.number)]\n",
        "if 'year' in all_columns and 'year' not in numeric_fields:\n",
        "    numeric_fields.append('year')\n",
        "\n",
        "# -----------------------------\n",
        "# 3) Clean text fields\n",
        "# -----------------------------\n",
        "punct_class = re.escape(string.punctuation)\n",
        "def clean_text(text_val: str) -> str:\n",
        "    if pd.isna(text_val):\n",
        "        return ''\n",
        "    t = str(text_val).lower()\n",
        "    t = re.sub(f'[{punct_class}]', ' ', t)\n",
        "    t = re.sub(r'\\s+', ' ', t).strip()\n",
        "    return t\n",
        "\n",
        "for col in text_fields:\n",
        "    df[f'cleaned_{col}'] = df[col].apply(clean_text)\n",
        "\n",
        "# Combine all text\n",
        "clean_cols = [f'cleaned_{c}' for c in text_fields]\n",
        "df['combined_text'] = df[clean_cols].agg(' '.join, axis=1)\n",
        "\n",
        "# -----------------------------\n",
        "# 4) Feature engineering (lengths, ratios, flags)\n",
        "# -----------------------------\n",
        "df['char_len'] = df['combined_text'].str.len()\n",
        "df['word_len'] = df['combined_text'].str.split().apply(len)\n",
        "df['digit_ratio'] = df['combined_text'].apply(lambda s: sum(ch.isdigit() for ch in s) / max(len(s), 1))\n",
        "df['has_url'] = df['combined_text'].str.contains(r\"http://|https://|www\\.\", regex=True).astype(int)\n",
        "df['has_isbn'] = df['combined_text'].str.contains(r\"\\bisbn\\b\", regex=True).astype(int)\n",
        "df['has_doi'] = df['combined_text'].str.contains(r\"doi\\s*:\\s*|10\\.\\d{4,9}/\", regex=True).astype(int)\n",
        "df['has_volume_issue'] = df['combined_text'].str.contains(r\"\\b(vol|volume|issue)\\b\", regex=True).astype(int)\n",
        "df['has_proceedings'] = df['combined_text'].str.contains(r\"\\b(proceedings|conference|symposium|workshop)\\b\", regex=True).astype(int)\n",
        "\n",
        "match_year = df['combined_text'].str.extract(r\"\\b(19\\d{2}|20\\d{2})\\b\", expand=False)\n",
        "df['year'] = pd.to_numeric(match_year, errors='coerce')\n",
        "\n",
        "# -----------------------------\n",
        "# 5) Optional integration with supplemental CSVs\n",
        "# -----------------------------\n",
        "integration_info = {'merged': False, 'files': [], 'key': 'cleaned_text_norm'}\n",
        "def norm_key(s: str) -> str:\n",
        "    return re.sub(r'\\s+', ' ', re.sub(f'[{punct_class}]', ' ', str(s).lower())).strip()\n",
        "\n",
        "df['cleaned_text_norm'] = df['combined_text'].apply(norm_key)\n",
        "df_merged = df.copy()\n",
        "\n",
        "try:\n",
        "    project_dir  # must be defined by caller to enable this integration\n",
        "    supplemental_files = ['supplement.csv', 'metadata.csv']\n",
        "    to_merge = []\n",
        "    for fname in supplemental_files:\n",
        "        fpath = os.path.join(project_dir, fname)\n",
        "        if os.path.exists(fpath):\n",
        "            sup = pd.read_csv(fpath)\n",
        "            keep_cols = [c for c in sup.columns if c not in ['reference_text', 'publication_type']]\n",
        "            if 'cleaned_text' in sup.columns and 'cleaned_text_norm' not in sup.columns:\n",
        "                sup['cleaned_text_norm'] = sup['cleaned_text'].apply(norm_key)\n",
        "            elif 'reference_text' in sup.columns and 'cleaned_text_norm' not in sup.columns:\n",
        "                sup['cleaned_text_norm'] = sup['reference_text'].apply(norm_key)\n",
        "            if 'cleaned_text_norm' in sup.columns:\n",
        "                to_merge.append(sup[['cleaned_text_norm'] + keep_cols])\n",
        "                integration_info['files'].append(fname)\n",
        "    for sup in to_merge:\n",
        "        df_merged = df_merged.merge(sup, on='cleaned_text_norm', how='left')\n",
        "    if to_merge:\n",
        "        integration_info['merged'] = True\n",
        "except Exception as e:\n",
        "    integration_info['error'] = str(e)\n",
        "\n",
        "# -----------------------------\n",
        "# 6) Finalize numeric feature list (after merges)\n",
        "# -----------------------------\n",
        "numeric_features = list({\n",
        "    *[c for c in df_merged.columns if c in numeric_fields],\n",
        "    'char_len', 'word_len', 'digit_ratio',\n",
        "    'has_url', 'has_isbn', 'has_doi', 'has_volume_issue', 'has_proceedings',\n",
        "    'year'\n",
        "})\n",
        "\n",
        "# -----------------------------\n",
        "# 7) Train/Validation split (by index for alignment)\n",
        "# -----------------------------\n",
        "y = df_merged['publication_type'].values\n",
        "X_text_series = df_merged['combined_text']\n",
        "\n",
        "value_counts = pd.Series(y).value_counts()\n",
        "can_stratify = (value_counts >= 2).all() and len(value_counts) > 1\n",
        "strat = y if can_stratify else None\n",
        "\n",
        "idx = df_merged.index.to_numpy()\n",
        "train_idx, val_idx = train_test_split(idx, test_size=0.2, random_state=42, stratify=strat)\n",
        "\n",
        "# -----------------------------\n",
        "# 8) TF-IDF vectorization\n",
        "# -----------------------------\n",
        "X_train_text = X_text_series.loc[train_idx].values\n",
        "X_val_text = X_text_series.loc[val_idx].values\n",
        "\n",
        "vectorizer = TfidfVectorizer(ngram_range=(1, 2), max_features=10000, min_df=1)\n",
        "X_train_tfidf = vectorizer.fit_transform(X_train_text)\n",
        "X_val_tfidf = vectorizer.transform(X_val_text)\n",
        "\n",
        "# -----------------------------\n",
        "# 9) Standardize numeric features (fit on train, transform val)\n",
        "# -----------------------------\n",
        "X_num_full = df_merged[numeric_features].apply(pd.to_numeric, errors='coerce').fillna(0.0)\n",
        "scaler = StandardScaler()\n",
        "X_train_num_std = scaler.fit_transform(X_num_full.loc[train_idx])\n",
        "X_val_num_std = scaler.transform(X_num_full.loc[val_idx])\n",
        "\n",
        "# -----------------------------\n",
        "# 10) Combine text + numeric features (sparse)\n",
        "# -----------------------------\n",
        "X_train_final = hstack([X_train_tfidf, csr_matrix(X_train_num_std)])\n",
        "X_val_final = hstack([X_val_tfidf, csr_matrix(X_val_num_std)])\n",
        "y_train = df_merged.loc[train_idx, 'publication_type'].values\n",
        "y_val = df_merged.loc[val_idx, 'publication_type'].values\n",
        "\n",
        "# -----------------------------\n",
        "# 11) Preprocessing report\n",
        "# -----------------------------\n",
        "preprocessing_report = {\n",
        "    'initial_rows': int(pre_dp_rows),\n",
        "    'rows_after_required': int(len(df)),\n",
        "    'duplicates_removed': int(dropped_dups),\n",
        "    'final_rows': int(len(df_merged)),\n",
        "    'class_balance': {str(k): int(v) for k, v in value_counts.to_dict().items()},\n",
        "    'can_stratify': bool(can_stratify),\n",
        "    'numeric_features': numeric_features,\n",
        "    'text_fields': text_fields,\n",
        "    'integration': integration_info,\n",
        "}\n",
        "\n",
        "print(f\"✅ X_train shape: {X_train_final.shape}, X_val shape: {X_val_final.shape}\")\n",
        "print(f\"Text fields used: {text_fields}\")\n",
        "print(f\"Numeric/boolean fields used: {numeric_features}\")\n",
        "preprocessing_report"
      ]
    },
    {
      "cell_type": "markdown",
      "metadata": {
        "id": "NJVWPkitJtR3"
      },
      "source": [
        "### Step 4: Data Transformation"
      ]
    },
    {
      "cell_type": "code",
      "execution_count": null,
      "metadata": {
        "colab": {
          "base_uri": "https://localhost:8080/",
          "height": 261
        },
        "id": "40jukRlZJv2z",
        "outputId": "d8f040ee-cf5b-42ad-d009-155efdd5c1e3"
      },
      "outputs": [
        {
          "name": "stdout",
          "output_type": "stream",
          "text": [
            "Distribution after mapping from pdf_url:\n",
            "publication_type_mapped\n",
            "other     41\n",
            "report     3\n",
            "Name: count, dtype: int64\n",
            "Saving under project folder: /content/drive/MyDrive/misc-unza25-csc4792-project_team30\n",
            "Saved cleaned and transformed references to: /content/drive/MyDrive/misc-unza25-csc4792-project_team30/data/references_cleaned.csv\n",
            "Verify: exists=True, size=241860 bytes\n",
            "\n",
            "Contents of data/ folder:\n",
            "  model_comparison.csv\n",
            "  model_evaluation_summary.csv\n",
            "  references_cleaned.csv\n"
          ]
        },
        {
          "data": {
            "application/vnd.google.colaboratory.intrinsic+json": {
              "type": "string"
            },
            "text/plain": [
              "'/content/drive/MyDrive/misc-unza25-csc4792-project_team30/data/references_cleaned.csv'"
            ]
          },
          "execution_count": 26,
          "metadata": {},
          "output_type": "execute_result"
        }
      ],
      "source": [
        "# 3b) Data Transformation — clean text then SAVE to project_dir/data/references_cleaned.csv\n",
        "import os, re\n",
        "import pandas as pd\n",
        "\n",
        "# -----------------------------\n",
        "# Guard: require df prepared earlier\n",
        "# -----------------------------\n",
        "if 'df' not in globals():\n",
        "    raise NameError(\"DataFrame 'df' is not defined. Run Data Understanding and Data Preparation first.\")\n",
        "\n",
        "# -----------------------------\n",
        "# 1) Basic, auditable clean (distinct from DP-cleaned_text)\n",
        "# -----------------------------\n",
        "def clean_text_basic(text: str) -> str:\n",
        "    text = str(text).lower()\n",
        "    text = re.sub(r\"[^a-z\\s]\", \" \", text)\n",
        "    text = re.sub(r\"\\s+\", \" \", text).strip()\n",
        "    return text\n",
        "\n",
        "# Apply to all textual fields if they exist\n",
        "text_fields = [c for c in df.columns if df[c].dtype == 'object' and c != 'publication_type']\n",
        "for col in text_fields:\n",
        "    df[f'cleaned_basic_{col}'] = df[col].apply(clean_text_basic)\n",
        "\n",
        "# -----------------------------\n",
        "# 2) Optional mapping from pdf_url if present\n",
        "# -----------------------------\n",
        "def map_pub_type(url: str) -> str:\n",
        "    url = str(url).lower()\n",
        "    if 'journal' in url: return 'journal'\n",
        "    if 'conference' in url: return 'conference'\n",
        "    if ('thesis' in url) or ('theses' in url): return 'thesis'\n",
        "    if ('report' in url) or ('technical-report' in url): return 'report'\n",
        "    return 'other'\n",
        "\n",
        "if 'pdf_url' in df.columns:\n",
        "    df['publication_type_mapped'] = df['pdf_url'].apply(map_pub_type)\n",
        "    print(\"Distribution after mapping from pdf_url:\")\n",
        "    print(df['publication_type_mapped'].value_counts())\n",
        "else:\n",
        "    print(\"No 'pdf_url' column present; skipping publication_type mapping.\")\n",
        "\n",
        "# -----------------------------\n",
        "# 3) Resolve Drive project folder STRICTLY → save only under that folder\n",
        "# -----------------------------\n",
        "save_root = None\n",
        "if 'project_dir' in globals() and isinstance(project_dir, str) and os.path.isdir(project_dir):\n",
        "    save_root = project_dir\n",
        "elif 'DATA_PATH' in globals() and DATA_PATH:\n",
        "    cand = os.path.dirname(DATA_PATH)\n",
        "    if os.path.isdir(cand):\n",
        "        save_root = cand\n",
        "# Fallbacks (Colab Drive first, then local workspace)\n",
        "if save_root is None:\n",
        "    for cand in [\n",
        "        \"/content/drive/MyDrive/misc-unza25-csc4792-project_team30\",\n",
        "        os.path.expanduser(\"~/Desktop/referene classifier\")\n",
        "    ]:\n",
        "        if os.path.isdir(cand):\n",
        "            save_root = cand\n",
        "            break\n",
        "\n",
        "if save_root is None:\n",
        "    raise RuntimeError(\n",
        "        \"Could not resolve the Drive project folder (project_dir/DATA_PATH). \"\n",
        "        \"Ensure the DU cell ran and Drive is mounted.\"\n",
        "    )\n",
        "\n",
        "print(\"Saving under project folder:\", os.path.abspath(save_root))\n",
        "\n",
        "# -----------------------------\n",
        "# 4) Save to data/references_cleaned.csv ONLY (deterministic)\n",
        "# -----------------------------\n",
        "out_dir = os.path.join(save_root, 'data')\n",
        "os.makedirs(out_dir, exist_ok=True)\n",
        "\n",
        "out_path = os.path.join(out_dir, 'references_cleaned.csv')\n",
        "df.to_csv(out_path, index=False)\n",
        "print(\"Saved cleaned and transformed references to:\", out_path)\n",
        "\n",
        "# -----------------------------\n",
        "# 5) Verify existence and size; list data/ contents\n",
        "# -----------------------------\n",
        "exists = os.path.exists(out_path)\n",
        "size = os.path.getsize(out_path) if exists else 0\n",
        "print(f\"Verify: exists={exists}, size={size} bytes\")\n",
        "\n",
        "try:\n",
        "    print(\"\\nContents of data/ folder:\")\n",
        "    for name in sorted(os.listdir(out_dir)):\n",
        "        print(\" \", name)\n",
        "except Exception as e:\n",
        "    print(\"Could not list data/ folder:\", e)\n",
        "\n",
        "# -----------------------------\n",
        "# 6) Return the single save path for convenience\n",
        "# -----------------------------\n",
        "out_path"
      ]
    },
    {
      "cell_type": "markdown",
      "metadata": {
        "id": "cRufyxFzxKGM"
      },
      "source": [
        "# MODELING\n"
      ]
    },
    {
      "cell_type": "code",
      "execution_count": 1,
      "metadata": {
        "colab": {
          "base_uri": "https://localhost:8080/"
        },
        "id": "P9UDl9WTijFK",
        "outputId": "bd95ffac-938f-45e9-c868-3ccf7dc091d4"
      },
      "outputs": [
        {
          "output_type": "stream",
          "name": "stdout",
          "text": [
            "sample_data\n"
          ]
        }
      ],
      "source": [
        "# Cell 1\n",
        "!ls\n"
      ]
    },
    {
      "cell_type": "code",
      "execution_count": 24,
      "metadata": {
        "id": "DjptcbwVhr2W"
      },
      "outputs": [],
      "source": [
        "# Cell 2: Load dataset\n",
        "import pandas as pd\n",
        "import matplotlib.pyplot as plt\n",
        "\n",
        "var_dataset_path = \"/content/drive/MyDrive/misc-unza25-csc4792-project_team30/db-unza25-csc4792-datasets-dspace_unza_zm.csv\"\n",
        "var_dataset = pd.read_csv(var_dataset_path, sep=\"|\")\n",
        "df = var_dataset.copy()\n"
      ]
    },
    {
      "cell_type": "code",
      "execution_count": 25,
      "metadata": {
        "colab": {
          "base_uri": "https://localhost:8080/"
        },
        "id": "Qsw000zVxOrb",
        "outputId": "9ae040a6-9c3d-4338-acff-6e20d1750dc0"
      },
      "outputs": [
        {
          "output_type": "stream",
          "name": "stderr",
          "text": [
            "[nltk_data] Downloading package stopwords to /root/nltk_data...\n",
            "[nltk_data]   Package stopwords is already up-to-date!\n",
            "[nltk_data] Downloading package punkt to /root/nltk_data...\n",
            "[nltk_data]   Package punkt is already up-to-date!\n",
            "[nltk_data] Downloading package punkt_tab to /root/nltk_data...\n",
            "[nltk_data]   Package punkt_tab is already up-to-date!\n",
            "[nltk_data] Downloading package wordnet to /root/nltk_data...\n",
            "[nltk_data]   Package wordnet is already up-to-date!\n"
          ]
        },
        {
          "output_type": "stream",
          "name": "stdout",
          "text": [
            "                                               title    type  \\\n",
            "0  Morphological characterisation of low and high...   Other   \n",
            "1  Instruction based formative assessment in sele...  Thesis   \n",
            "2  An assessment of teachers' competences in care...  Thesis   \n",
            "3  The status of guidance and counselling provisi...  Thesis   \n",
            "4                         Library Studies Exams 2008   Other   \n",
            "\n",
            "                                       cleaned_title  \n",
            "0  morphological characterisation low high oil su...  \n",
            "1  instruction based formative assessment selecte...  \n",
            "2  assessment teacher competence career guidance ...  \n",
            "3  status guidance counselling provision selected...  \n",
            "4                            library study exam 2008  \n"
          ]
        }
      ],
      "source": [
        "# Cell 3: Imports + preprocessing setup\n",
        "import string\n",
        "import nltk\n",
        "import seaborn as sns\n",
        "from nltk.corpus import stopwords\n",
        "from nltk.stem import WordNetLemmatizer\n",
        "from sklearn.model_selection import train_test_split\n",
        "from sklearn.feature_extraction.text import TfidfVectorizer\n",
        "from sklearn.linear_model import LogisticRegression\n",
        "from sklearn.ensemble import RandomForestClassifier\n",
        "from sklearn.svm import SVC\n",
        "from sklearn.metrics import accuracy_score, classification_report, confusion_matrix\n",
        "\n",
        "# Download NLTK resources\n",
        "nltk.download('stopwords')\n",
        "nltk.download('punkt')\n",
        "nltk.download('punkt_tab')   # fixes newer nltk error\n",
        "nltk.download('wordnet')\n",
        "\n",
        "# Initialize Lemmatizer and Stopwords\n",
        "lemmatizer = WordNetLemmatizer()\n",
        "stop_words = set(stopwords.words('english'))\n",
        "\n",
        "# Text cleaning function\n",
        "def clean_text(text):\n",
        "    if not isinstance(text, str):\n",
        "        return \"\"\n",
        "    text = text.lower()\n",
        "    text = text.translate(str.maketrans('', '', string.punctuation))\n",
        "    words = nltk.word_tokenize(text)\n",
        "    cleaned_text = [lemmatizer.lemmatize(word) for word in words if word not in stop_words]\n",
        "    return ' '.join(cleaned_text)\n",
        "\n",
        "# Apply cleaning\n",
        "df_clean = df[['title', 'type']].dropna()\n",
        "df_clean['cleaned_title'] = df_clean['title'].apply(clean_text)\n",
        "print(df_clean.head())\n"
      ]
    },
    {
      "cell_type": "code",
      "execution_count": 26,
      "metadata": {
        "colab": {
          "base_uri": "https://localhost:8080/"
        },
        "id": "df7_BkTN34TD",
        "outputId": "548e5da3-6819-4b9a-e712-fa52677c72f0"
      },
      "outputs": [
        {
          "output_type": "stream",
          "name": "stdout",
          "text": [
            "Class distribution:\n",
            " type\n",
            "Thesis               1410\n",
            "Other                 366\n",
            "Article               166\n",
            "Book                   12\n",
            "Technical Report        5\n",
            "Recording, oral         4\n",
            "Presentation            3\n",
            "Working Paper           3\n",
            "Book chapter            2\n",
            "Video                   1\n",
            "Preprint                1\n",
            "Plan or blueprint       1\n",
            "Name: count, dtype: int64\n",
            "⚠️ Some classes have < 2 samples → splitting without stratify.\n",
            "Training size: 1579\n",
            "Testing size: 395\n"
          ]
        }
      ],
      "source": [
        "# Cell 4: Train-test split (fixed)\n",
        "X = df_clean['cleaned_title']\n",
        "y = df_clean['type']\n",
        "\n",
        "# Check class distribution\n",
        "class_counts = y.value_counts()\n",
        "print(\"Class distribution:\\n\", class_counts)\n",
        "\n",
        "# If any class has fewer than 2 samples, don't use stratify\n",
        "if (class_counts < 2).any():\n",
        "    print(\"⚠️ Some classes have < 2 samples → splitting without stratify.\")\n",
        "    stratify_opt = None\n",
        "else:\n",
        "    stratify_opt = y\n",
        "\n",
        "X_train, X_test, y_train, y_test = train_test_split(\n",
        "    X, y, test_size=0.2, random_state=42, stratify=stratify_opt\n",
        ")\n",
        "\n",
        "print(\"Training size:\", X_train.shape[0])\n",
        "print(\"Testing size:\", X_test.shape[0])\n"
      ]
    },
    {
      "cell_type": "code",
      "execution_count": 27,
      "metadata": {
        "colab": {
          "base_uri": "https://localhost:8080/"
        },
        "id": "ON_1PfYPjV7c",
        "outputId": "6b6f1d50-47b4-44e6-a454-99a62bfdccff"
      },
      "outputs": [
        {
          "output_type": "stream",
          "name": "stdout",
          "text": [
            "TF-IDF train shape: (1579, 4086)\n",
            "TF-IDF test shape: (395, 4086)\n"
          ]
        }
      ],
      "source": [
        "# Cell 5: TF-IDF Vectorization\n",
        "tfidf = TfidfVectorizer(max_features=5000)\n",
        "X_train_tfidf = tfidf.fit_transform(X_train)\n",
        "X_test_tfidf = tfidf.transform(X_test)\n",
        "\n",
        "print(\"TF-IDF train shape:\", X_train_tfidf.shape)\n",
        "print(\"TF-IDF test shape:\", X_test_tfidf.shape)\n"
      ]
    },
    {
      "cell_type": "code",
      "execution_count": 28,
      "metadata": {
        "id": "5DBm1Y3QjdPs",
        "colab": {
          "base_uri": "https://localhost:8080/"
        },
        "outputId": "c84633df-9fdb-4682-f865-c1f322fdd9df"
      },
      "outputs": [
        {
          "output_type": "stream",
          "name": "stdout",
          "text": [
            "Logistic Regression Accuracy: 0.7848101265822784\n",
            "                 precision    recall  f1-score   support\n",
            "\n",
            "        Article       0.00      0.00      0.00        33\n",
            "           Book       0.00      0.00      0.00         2\n",
            "   Book chapter       0.00      0.00      0.00         1\n",
            "          Other       0.97      0.38      0.55        76\n",
            "   Presentation       0.00      0.00      0.00         1\n",
            "Recording, oral       0.00      0.00      0.00         1\n",
            "         Thesis       0.77      1.00      0.87       281\n",
            "\n",
            "       accuracy                           0.78       395\n",
            "      macro avg       0.25      0.20      0.20       395\n",
            "   weighted avg       0.73      0.78      0.72       395\n",
            "\n"
          ]
        },
        {
          "output_type": "stream",
          "name": "stderr",
          "text": [
            "/usr/local/lib/python3.12/dist-packages/sklearn/metrics/_classification.py:1565: UndefinedMetricWarning: Precision is ill-defined and being set to 0.0 in labels with no predicted samples. Use `zero_division` parameter to control this behavior.\n",
            "  _warn_prf(average, modifier, f\"{metric.capitalize()} is\", len(result))\n",
            "/usr/local/lib/python3.12/dist-packages/sklearn/metrics/_classification.py:1565: UndefinedMetricWarning: Precision is ill-defined and being set to 0.0 in labels with no predicted samples. Use `zero_division` parameter to control this behavior.\n",
            "  _warn_prf(average, modifier, f\"{metric.capitalize()} is\", len(result))\n",
            "/usr/local/lib/python3.12/dist-packages/sklearn/metrics/_classification.py:1565: UndefinedMetricWarning: Precision is ill-defined and being set to 0.0 in labels with no predicted samples. Use `zero_division` parameter to control this behavior.\n",
            "  _warn_prf(average, modifier, f\"{metric.capitalize()} is\", len(result))\n"
          ]
        }
      ],
      "source": [
        "# Cell 6: Logistic Regression model\n",
        "log_reg = LogisticRegression(max_iter=1000)\n",
        "log_reg.fit(X_train_tfidf, y_train)\n",
        "y_pred_log = log_reg.predict(X_test_tfidf)\n",
        "\n",
        "print(\"Logistic Regression Accuracy:\", accuracy_score(y_test, y_pred_log))\n",
        "print(classification_report(y_test, y_pred_log))\n"
      ]
    },
    {
      "cell_type": "code",
      "execution_count": 29,
      "metadata": {
        "colab": {
          "base_uri": "https://localhost:8080/"
        },
        "id": "f5Lj_javjlCg",
        "outputId": "f1a49b91-e721-4bcb-f9ba-4168c870b467"
      },
      "outputs": [
        {
          "output_type": "stream",
          "name": "stdout",
          "text": [
            "Random Forest Accuracy: 0.7924050632911392\n",
            "                 precision    recall  f1-score   support\n",
            "\n",
            "        Article       0.67      0.12      0.21        33\n",
            "           Book       0.00      0.00      0.00         2\n",
            "   Book chapter       0.00      0.00      0.00         1\n",
            "          Other       0.92      0.43      0.59        76\n",
            "   Presentation       0.00      0.00      0.00         1\n",
            "Recording, oral       1.00      1.00      1.00         1\n",
            "         Thesis       0.78      0.98      0.87       281\n",
            "          Video       0.00      0.00      0.00         0\n",
            "\n",
            "       accuracy                           0.79       395\n",
            "      macro avg       0.42      0.32      0.33       395\n",
            "   weighted avg       0.79      0.79      0.75       395\n",
            "\n"
          ]
        },
        {
          "output_type": "stream",
          "name": "stderr",
          "text": [
            "/usr/local/lib/python3.12/dist-packages/sklearn/metrics/_classification.py:1565: UndefinedMetricWarning: Precision is ill-defined and being set to 0.0 in labels with no predicted samples. Use `zero_division` parameter to control this behavior.\n",
            "  _warn_prf(average, modifier, f\"{metric.capitalize()} is\", len(result))\n",
            "/usr/local/lib/python3.12/dist-packages/sklearn/metrics/_classification.py:1565: UndefinedMetricWarning: Recall is ill-defined and being set to 0.0 in labels with no true samples. Use `zero_division` parameter to control this behavior.\n",
            "  _warn_prf(average, modifier, f\"{metric.capitalize()} is\", len(result))\n",
            "/usr/local/lib/python3.12/dist-packages/sklearn/metrics/_classification.py:1565: UndefinedMetricWarning: Precision is ill-defined and being set to 0.0 in labels with no predicted samples. Use `zero_division` parameter to control this behavior.\n",
            "  _warn_prf(average, modifier, f\"{metric.capitalize()} is\", len(result))\n",
            "/usr/local/lib/python3.12/dist-packages/sklearn/metrics/_classification.py:1565: UndefinedMetricWarning: Recall is ill-defined and being set to 0.0 in labels with no true samples. Use `zero_division` parameter to control this behavior.\n",
            "  _warn_prf(average, modifier, f\"{metric.capitalize()} is\", len(result))\n",
            "/usr/local/lib/python3.12/dist-packages/sklearn/metrics/_classification.py:1565: UndefinedMetricWarning: Precision is ill-defined and being set to 0.0 in labels with no predicted samples. Use `zero_division` parameter to control this behavior.\n",
            "  _warn_prf(average, modifier, f\"{metric.capitalize()} is\", len(result))\n",
            "/usr/local/lib/python3.12/dist-packages/sklearn/metrics/_classification.py:1565: UndefinedMetricWarning: Recall is ill-defined and being set to 0.0 in labels with no true samples. Use `zero_division` parameter to control this behavior.\n",
            "  _warn_prf(average, modifier, f\"{metric.capitalize()} is\", len(result))\n"
          ]
        }
      ],
      "source": [
        "# Cell 7: Random Forest model\n",
        "rf_clf = RandomForestClassifier(n_estimators=200, random_state=42)\n",
        "rf_clf.fit(X_train_tfidf, y_train)\n",
        "y_pred_rf = rf_clf.predict(X_test_tfidf)\n",
        "\n",
        "print(\"Random Forest Accuracy:\", accuracy_score(y_test, y_pred_rf))\n",
        "print(classification_report(y_test, y_pred_rf))\n"
      ]
    },
    {
      "cell_type": "code",
      "execution_count": 30,
      "metadata": {
        "colab": {
          "base_uri": "https://localhost:8080/"
        },
        "id": "Wa3knjcAjtFI",
        "outputId": "60f88ada-9a84-4d62-9251-2b0103d1c72c"
      },
      "outputs": [
        {
          "output_type": "stream",
          "name": "stdout",
          "text": [
            "SVM Accuracy: 0.789873417721519\n",
            "                 precision    recall  f1-score   support\n",
            "\n",
            "        Article       0.67      0.06      0.11        33\n",
            "           Book       0.00      0.00      0.00         2\n",
            "   Book chapter       0.00      0.00      0.00         1\n",
            "          Other       0.89      0.42      0.57        76\n",
            "   Presentation       0.00      0.00      0.00         1\n",
            "Recording, oral       1.00      1.00      1.00         1\n",
            "         Thesis       0.78      0.99      0.87       281\n",
            "\n",
            "       accuracy                           0.79       395\n",
            "      macro avg       0.48      0.35      0.36       395\n",
            "   weighted avg       0.78      0.79      0.74       395\n",
            "\n"
          ]
        },
        {
          "output_type": "stream",
          "name": "stderr",
          "text": [
            "/usr/local/lib/python3.12/dist-packages/sklearn/metrics/_classification.py:1565: UndefinedMetricWarning: Precision is ill-defined and being set to 0.0 in labels with no predicted samples. Use `zero_division` parameter to control this behavior.\n",
            "  _warn_prf(average, modifier, f\"{metric.capitalize()} is\", len(result))\n",
            "/usr/local/lib/python3.12/dist-packages/sklearn/metrics/_classification.py:1565: UndefinedMetricWarning: Precision is ill-defined and being set to 0.0 in labels with no predicted samples. Use `zero_division` parameter to control this behavior.\n",
            "  _warn_prf(average, modifier, f\"{metric.capitalize()} is\", len(result))\n",
            "/usr/local/lib/python3.12/dist-packages/sklearn/metrics/_classification.py:1565: UndefinedMetricWarning: Precision is ill-defined and being set to 0.0 in labels with no predicted samples. Use `zero_division` parameter to control this behavior.\n",
            "  _warn_prf(average, modifier, f\"{metric.capitalize()} is\", len(result))\n"
          ]
        }
      ],
      "source": [
        "# Cell 8: Support Vector Machine (SVM)\n",
        "svm_clf = SVC(kernel=\"linear\", probability=True, random_state=42)\n",
        "svm_clf.fit(X_train_tfidf, y_train)\n",
        "y_pred_svm = svm_clf.predict(X_test_tfidf)\n",
        "\n",
        "print(\"SVM Accuracy:\", accuracy_score(y_test, y_pred_svm))\n",
        "print(classification_report(y_test, y_pred_svm))\n"
      ]
    },
    {
      "cell_type": "code",
      "source": [
        "# ================================\n",
        "# Cell: Model Training - SVM (with calibration only if enough samples)\n",
        "# ================================\n",
        "from sklearn.calibration import CalibratedClassifierCV\n",
        "from collections import Counter\n",
        "\n",
        "svm = SVC(kernel=\"linear\", probability=True, random_state=42)\n",
        "\n",
        "# Check minimum samples per class for calibration\n",
        "class_counts = Counter(y_train)\n",
        "min_count = min(class_counts.values())\n",
        "desired_cv = 5\n",
        "if min_count >= desired_cv:\n",
        "    calibrated_svm = CalibratedClassifierCV(svm, cv=desired_cv)\n",
        "    calibrated_svm.fit(X_train_tfidf, y_train)\n",
        "    print(\"Calibrated SVM model trained successfully\")\n",
        "    y_pred_svm = calibrated_svm.predict(X_test_tfidf)\n",
        "else:\n",
        "    print(f\"Not enough samples per class for {desired_cv}-fold calibration. Using plain SVM.\")\n",
        "    svm.fit(X_train_tfidf, y_train)\n",
        "    print(\"SVM model trained successfully\")\n",
        "    y_pred_svm = svm.predict(X_test_tfidf)"
      ],
      "metadata": {
        "colab": {
          "base_uri": "https://localhost:8080/"
        },
        "id": "kMmRHf7UjYee",
        "outputId": "5ece7bfc-3a99-430d-8c83-91f8ca234565"
      },
      "execution_count": 35,
      "outputs": [
        {
          "output_type": "stream",
          "name": "stdout",
          "text": [
            "Not enough samples per class for 5-fold calibration. Using plain SVM.\n",
            "SVM model trained successfully\n"
          ]
        }
      ]
    },
    {
      "cell_type": "code",
      "source": [],
      "metadata": {
        "id": "I7rjHVQ-l2QK"
      },
      "execution_count": null,
      "outputs": []
    },
    {
      "cell_type": "code",
      "source": [
        "# Cell 11: Load saved model and test\n",
        "loaded_model = joblib.load(model_path)\n",
        "sample_text = [\"Climate change impact on Zambia agriculture\"]\n",
        "sample_tfidf = tfidf.transform([clean_text(sample_text[0])])\n",
        "prediction = loaded_model.predict(sample_tfidf)\n",
        "\n",
        "print(\"Sample prediction:\", prediction[0])\n"
      ],
      "metadata": {
        "colab": {
          "base_uri": "https://localhost:8080/"
        },
        "id": "wosdcSkQl1za",
        "outputId": "1670d618-babe-4f2b-d416-813156ba4845"
      },
      "execution_count": 36,
      "outputs": [
        {
          "output_type": "stream",
          "name": "stdout",
          "text": [
            "Sample prediction: Thesis\n"
          ]
        }
      ]
    },
    {
      "cell_type": "code",
      "execution_count": 37,
      "metadata": {
        "colab": {
          "base_uri": "https://localhost:8080/",
          "height": 665
        },
        "id": "ySPDmfcSkJpO",
        "outputId": "48c5ca98-f902-4822-dcb7-8a49b0b01b99"
      },
      "outputs": [
        {
          "output_type": "display_data",
          "data": {
            "text/plain": [
              "<Figure size 800x600 with 2 Axes>"
            ],
            "image/png": "[encoded data removed]"
          },
          "metadata": {}
        }
      ],
      "source": [
        "# Cell 9: Confusion Matrix Visualization (LogReg example)\n",
        "cm = confusion_matrix(y_test, y_pred_log)\n",
        "\n",
        "plt.figure(figsize=(8, 6))\n",
        "sns.heatmap(cm, annot=True, fmt=\"d\", cmap=\"Blues\",\n",
        "            xticklabels=log_reg.classes_,\n",
        "            yticklabels=log_reg.classes_)\n",
        "plt.xlabel(\"Predicted\")\n",
        "plt.ylabel(\"Actual\")\n",
        "plt.title(\"Confusion Matrix - Logistic Regression\")\n",
        "plt.show()\n"
      ]
    },
    {
      "cell_type": "code",
      "execution_count": 14,
      "metadata": {
        "colab": {
          "base_uri": "https://localhost:8080/"
        },
        "id": "P8ag5Z0wKWQP",
        "outputId": "26a51c4c-c45c-4aa4-9d94-db9ac9b47706"
      },
      "outputs": [
        {
          "output_type": "stream",
          "name": "stdout",
          "text": [
            "Sample prediction: Thesis\n"
          ]
        }
      ],
      "source": [
        "# Cell 11: Load saved model and test\n",
        "loaded_model = joblib.load(model_path)\n",
        "sample_text = [\"Climate change impact on Zambia agriculture\"]\n",
        "sample_tfidf = tfidf.transform([clean_text(sample_text[0])])\n",
        "prediction = loaded_model.predict(sample_tfidf)\n",
        "\n",
        "print(\"Sample prediction:\", prediction[0])\n"
      ]
    },
    {
      "cell_type": "code",
      "source": [
        "# 7. Deployment: Predict publication type from PDF URL\n",
        "import requests\n",
        "from io import BytesIO\n",
        "from PyPDF2 import PdfReader\n",
        "\n",
        "VECT_PATH = os.path.join(DRIVE_DIR, 'vectorizer.pkl')\n",
        "MODEL_PATH = os.path.join(DRIVE_DIR, 'best_model.pkl')\n",
        "assert os.path.exists(VECT_PATH), f'vectorizer.pkl not found in {DRIVE_DIR}. Run modeling cell first.'\n",
        "assert os.path.exists(MODEL_PATH), f'best_model.pkl not found in {DRIVE_DIR}. Run modeling cell first.'\n",
        "vectorizer = joblib.load(VECT_PATH)\n",
        "best_model = joblib.load(MODEL_PATH)\n",
        "\n",
        "def clean_text(text):\n",
        "    if not isinstance(text, str): return \"\"\n",
        "    text = text.lower()\n",
        "    text = text.translate(str.maketrans('', '', string.punctuation))\n",
        "    words = nltk.word_tokenize(text)\n",
        "    cleaned = [lemmatizer.lemmatize(w) for w in words if w not in stop_words]\n",
        "    return ' '.join(cleaned)\n",
        "\n",
        "def extract_text_from_pdf_url(url):\n",
        "    response = requests.get(url)\n",
        "    response.raise_for_status()\n",
        "    pdf_data = BytesIO(response.content)\n",
        "    reader = PdfReader(pdf_data)\n",
        "    text = \"\"\n",
        "    for page in reader.pages:\n",
        "        text += page.extract_text() or \"\"\n",
        "    return text.strip()\n",
        "\n",
        "demo_url = \"https://dspace.unza.zm/server/api/core/bitstreams/9296de42-3dfa-4261-9ad7-075c0523af06/content\"\n",
        "pdf_url = input('Enter PDF URL (or press Enter for demo): ').strip() or demo_url\n",
        "\n",
        "doc_text = extract_text_from_pdf_url(pdf_url)\n",
        "if not doc_text:\n",
        "    print('No text could be extracted from the PDF.')\n",
        "else:\n",
        "    cleaned = clean_text(doc_text)\n",
        "    X_input = vectorizer.transform([cleaned])\n",
        "    prediction = best_model.predict(X_input)[0]\n",
        "    print('\\n--- Deployment Result ---')\n",
        "    print(f'Predicted Document Type: {prediction}')"
      ],
      "metadata": {
        "colab": {
          "base_uri": "https://localhost:8080/"
        },
        "id": "kYbTReZRTB-5",
        "outputId": "40131b32-d8ab-4235-f681-1b9b83cf6dce"
      },
      "execution_count": 39,
      "outputs": [
        {
          "output_type": "stream",
          "name": "stdout",
          "text": [
            "Enter PDF URL (or press Enter for demo): https://dspace.unza.zm/server/api/core/bitstreams/9296de42-3dfa-4261-9ad7-075c0523af06/content\n",
            "\n",
            "--- Deployment Result ---\n",
            "Predicted Document Type: Thesis\n"
          ]
        }
      ]
    }
  ],
  "metadata": {
    "colab": {
      "provenance": [],
      "include_colab_link": true
    },
    "kernelspec": {
      "display_name": "Python 3",
      "name": "python3"
    },
    "language_info": {
      "name": "python"
    }
  },
  "nbformat": 4,
  "nbformat_minor": 0
}