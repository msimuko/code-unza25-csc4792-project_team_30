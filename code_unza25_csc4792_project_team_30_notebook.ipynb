{
  "nbformat": 4,
  "nbformat_minor": 0,
  "metadata": {
    "colab": {
      "provenance": [],
      "include_colab_link": true
    },
    "kernelspec": {
      "name": "python3",
      "display_name": "Python 3"
    },
    "language_info": {
      "name": "python"
    }
  },
  "cells": [
    {
      "cell_type": "markdown",
      "metadata": {
        "id": "view-in-github",
        "colab_type": "text"
      },
      "source": [
        "<a href=\"https://colab.research.google.com/github/msimuko/code-unza25-csc4792-project_team_30/blob/main/code_unza25_csc4792_project_team_30_notebook.ipynb\" target=\"_parent\"><img src=\"https://colab.research.google.com/assets/colab-badge.svg\" alt=\"Open In Colab\"/></a>"
      ]
    },
    {
      "cell_type": "code",
      "execution_count": null,
      "metadata": {
        "id": "1MXqjlYYyp6J"
      },
      "outputs": [],
      "source": []
    },
    {
      "cell_type": "markdown",
      "source": [
        "# Business understanding: Reference Classification Project\n",
        "\n",
        "## Overview\n",
        "This project develops an automated system to classify academic references by publication type using machine learning techniques. The system can distinguish between journals, books, theses, conference papers, and other publication formats, helping researchers and librarians organize academic literature more efficiently.\n",
        "\n",
        "# Business Understanding\n",
        "\n",
        "## Problem Statement  \n",
        "Managing and organizing academic references is a time-consuming process for students, researchers, and librarians. Manually categorizing references into types such as journal articles, books, theses, conference papers, reports, and web resources is error-prone and inconsistent, especially when dealing with large bibliographies. This lack of automation reduces productivity and creates difficulties in maintaining standardized reference databases at the University of Zambia.  \n",
        "\n",
        "---\n",
        "\n",
        "## Business Objectives  \n",
        "The project seeks to automate the classification of academic references into their correct publication types.  \n",
        "\n",
        "**Practical Success means:**  \n",
        "- Students and researchers spend less time categorizing references manually.  \n",
        "- Librarians can easily maintain structured institutional repositories.  \n",
        "- The system provides fast, accurate, and consistent classification regardless of reference style (APA, IEEE, etc.).  \n",
        "- A user-friendly interface (Streamlit app) is available for anyone to input a reference and receive an instant classification.  \n",
        "\n",
        "---\n",
        "\n",
        "## Data Mining Goals  \n",
        "To achieve the above objectives, the project will:  \n",
        "- Build a **classification model** that automatically predicts the type of reference (Journal, Book, Thesis, Conference, Report, Web) based on its textual structure.  \n",
        "- Apply **TF-IDF feature extraction** on textual data to transform references into numerical representations suitable for machine learning.  \n",
        "- Train and evaluate machine learning models (e.g., Naive Bayes, Logistic Regression, or SVM) to determine the best-performing classifier.  \n",
        "- Deploy the trained model in a **Streamlit web application** for real-time use.  \n",
        "\n",
        "---\n",
        "\n",
        "## Initial Project Success Criteria  \n",
        "- **Technical Success:**  \n",
        "  - The model should achieve at least **80% classification accuracy** on test data.  \n",
        "  - Classification reports (precision, recall, F1-score) must show balanced performance across all categories.  \n",
        "- **Business/Practical Success:**  \n",
        "  - The tool should classify new references **within 2 seconds** per input.  \n",
        "  - The Streamlit interface must be simple enough for **non-technical users** to operate without training.  \n",
        "  - At least **five reference types** must be reliably classified.  \n",
        "\n",
        "\n",
        "## Publication Types\n",
        "The model classifies references into the following categories:\n",
        "- **Journal Articles**: Peer-reviewed academic papers\n",
        "- **Books**: Monographs and edited volumes\n",
        "- **Thesis/Dissertations**: Graduate research works\n",
        "- **Conference Papers**: Proceedings and presentations\n",
        "- **Technical Reports / Reports**: Government and institutional publications\n",
        "- **Web Resources**: Online publications and documents\n",
        "\n",
        "> **Note:** The project and app support both \"Report\" and \"Technical Report\" as valid types.\n",
        "\n",
        "## Tools and Technologies\n",
        "- **Python 3.8+**: Primary programming language\n",
        "- **Pandas**: Data manipulation and analysis\n",
        "- **Scikit-learn**: Machine learning framework\n",
        "- **TF-IDF Vectorizer**: Text feature extraction\n",
        "- **Multinomial Naive Bayes**: Classification algorithm\n",
        "- **Jupyter Notebook**: Development and experimentation environment\n",
        "- **NumPy**: Numerical computations\n",
        "- **Matplotlib/Seaborn**: Data visualization (optional)\n",
        "\n",
        "## Project Structure\n",
        "```\n",
        "project-root/\n",
        "├── data/\n",
        "│   └── references.csv                  # Labeled training data\n",
        "├── notebooks/\n",
        "│   └── classification_model.ipynb     # Main ML pipeline\n",
        "├── src/\n",
        "│   └── utils.py                       # Text preprocessing functions\n",
        "├── report/\n",
        "│   └── draft.pdf                      # Technical documentation\n",
        "├── slides/\n",
        "│   └── presentation.pptx              # Project presentation\n",
        "└── README.md                          # This file\n",
        "```\n",
        "\n",
        "## Data Format\n",
        "The `references.csv` file should contain two columns:\n",
        "- `reference_text`: Full bibliographic reference as text\n",
        "- `publication_type`: Category label (journal, book, thesis, etc.)\n",
        "\n",
        "Example:\n",
        "```csv\n",
        "reference_text,publication_type\n",
        "\"Smith, J. (2023). Machine Learning in Academia. Journal of AI Research, 15(3), 45-67.\",journal\n",
        "\"Johnson, A. (2022). Deep Learning Fundamentals. MIT Press, Cambridge.\",book\n",
        "```\n",
        "\n",
        "## Installation and Setup\n",
        "1. **Clone or download** the project files\n",
        "2. **Install required packages**:\n",
        "   ```bash\n",
        "   pip install pandas scikit-learn jupyter numpy\n",
        "   ```\n",
        "3. **Prepare your data**: Place labeled references in `data/references.csv`\n",
        "4. **Launch Jupyter**:\n",
        "   ```bash\n",
        "   jupyter notebook notebooks/classification_model.ipynb\n",
        "   ```\n",
        "\n",
        "## Usage Instructions\n",
        "1. **Data Preparation**: Ensure your reference data is properly formatted in CSV\n",
        "2. **Text Cleaning**: The `utils.py` module handles preprocessing automatically\n",
        "3. **Model Training**: Execute all cells in the Jupyter notebook sequentially\n",
        "4. **Evaluation**: Review the classification report and confusion matrix\n",
        "5. **Prediction**: Use the trained model to classify new references\n",
        "\n",
        "## Model Performance\n",
        "The system uses TF-IDF (Term Frequency-Inverse Document Frequency) for feature extraction combined with Multinomial Naive Bayes for classification. Expected performance metrics:\n",
        "- **Accuracy**: 85-92% (depending on data quality)\n",
        "- **Precision**: High for well-represented classes\n",
        "- **Recall**: Varies by publication type complexity\n",
        "- **F1-Score**: Balanced performance across categories\n",
        "\n",
        "## Key Features\n",
        "- **Robust Text Preprocessing**: Handles various reference formats\n",
        "- **Feature Engineering**: TF-IDF with n-grams (1-2) for better context\n",
        "- **Scalable Pipeline**: Easy to retrain with new data\n",
        "- **Performance Analysis**: Comprehensive evaluation metrics\n",
        "- **Extensible Design**: Simple to add new publication types\n",
        "\n",
        "## Team Information\n",
        "**Course**: CSC 4792 - Machine Learning Applications  \n",
        "**Institution**: University of Zambia (UNZA)  \n",
        "**Team Size**: 5 Students  \n",
        "**Academic Year**: 2024/2025  \n",
        "\n",
        "## Development Workflow\n",
        "1. **Data Collection**: Gather and label reference examples\n",
        "2. **Preprocessing**: Clean and standardize text format\n",
        "3. **Feature Extraction**: Convert text to numerical features\n",
        "4. **Model Training**: Train classification algorithm\n",
        "5. **Evaluation**: Assess performance on test data\n",
        "6. **Optimization**: Fine-tune parameters and features\n",
        "7. **Documentation**: Report findings and methodology\n",
        "\n",
        "## Future Enhancements\n",
        "- **Deep Learning Models**: Experiment with neural networks (LSTM, BERT)\n",
        "- **Active Learning**: Iteratively improve with user feedback\n",
        "- **Web Interface**: Deploy as a web application\n",
        "- **Multi-language Support**: Handle references in multiple languages\n",
        "- **Citation Parsing**: Extract structured metadata from references\n",
        "\n",
        "## File Descriptions\n",
        "\n",
        "### `src/utils.py`\n",
        "Contains the `clean_reference()` function for text preprocessing:\n",
        "- Normalizes case and whitespace\n",
        "- Removes special characters\n",
        "- Standardizes punctuation\n",
        "- Prepares text for machine learning\n",
        "\n",
        "### `notebooks/classification_model.ipynb`\n",
        "Complete machine learning pipeline including:\n",
        "- Data loading and exploration\n",
        "- Text preprocessing and cleaning\n",
        "- Train/validation/test splits\n",
        "- Model training and optimization\n",
        "- Performance evaluation and analysis\n",
        "\n",
        "### `data/references.csv`\n",
        "Training dataset with labeled examples (to be populated with actual data)\n",
        "\n",
        "### `report/draft.pdf`\n",
        "Technical report documenting:\n",
        "- Problem statement and methodology\n",
        "- Data description and preprocessing steps\n",
        "- Model architecture and parameters\n",
        "- Results and performance analysis\n",
        "- Conclusions and recommendations\n",
        "\n",
        "### `slides/presentation.pptx`\n",
        "Final presentation covering:\n",
        "- Project objectives and scope\n",
        "- Technical approach and implementation\n",
        "- Results and key findings\n",
        "- Demonstration of working system\n",
        "\n",
        "## Contributing\n",
        "To contribute to this project:\n",
        "1. Follow the existing code structure and style\n",
        "2. Add comprehensive comments to new functions\n",
        "3. Update documentation for any changes\n",
        "4. Test thoroughly before committing changes\n",
        "\n",
        "## Troubleshooting\n",
        "**Common Issues:**\n",
        "- **Empty CSV**: Ensure `references.csv` has proper headers and data\n",
        "- **Import Errors**: Verify all required packages are installed\n",
        "- **Memory Issues**: Reduce `max_features` in TF-IDF for large datasets\n",
        "- **Low Accuracy**: Check data quality and class balance\n",
        "\n",
        "## Contact\n",
        "For questions or support regarding this project, please contact the development team through the course instructor or UNZA CSC department.\n",
        "\n",
        "---\n",
        "\n",
        "## Recent Changes\n",
        "\n",
        "### August 2025\n",
        "\n",
        "- **Added Streamlit App (`app.py`)**:  \n",
        "  Interactive web interface for data management, model training, and prediction.  \n",
        "  - View, add, and delete references in `data/references.csv`\n",
        "  - Train and evaluate the model (TF-IDF + MultinomialNB)\n",
        "  - Classify new references and view confidence scores\n",
        "  - Download or open the main Jupyter notebook if available\n",
        "\n",
        "- **Improved Model Training Robustness**:  \n",
        "  The app now checks for class balance before splitting data. If any class has fewer than 2 samples, it uses a random split and warns the user.\n",
        "\n",
        "- **Confusion Matrix Display**:  \n",
        "  The confusion matrix always includes all classes, even if some are missing from the test set.\n",
        "\n",
        "- **Documentation Updates**:  \n",
        "  - Added `doc/project_documentation.md` summarizing project structure and changes.\n",
        "  - Updated this README to reflect new features and usage.\n",
        "\n",
        "---\n",
        "\n",
        "*Last Updated: August 2025*  \n",
        "*CSC 4792 - University of Zambia*"
      ],
      "metadata": {
        "id": "h6uc-m5PoAdU"
      }
    },
    {
      "cell_type": "code",
      "source": [
        "from google.colab import drive\n",
        "drive.mount('/content/drive')"
      ],
      "metadata": {
        "colab": {
          "base_uri": "https://localhost:8080/"
        },
        "id": "sXPZhV3Mlfp0",
        "outputId": "352a7c8a-7736-4efb-aa23-d2a74987532a"
      },
      "execution_count": null,
      "outputs": [
        {
          "output_type": "stream",
          "name": "stdout",
          "text": [
            "Mounted at /content/drive\n"
          ]
        }
      ]
    },
    {
      "cell_type": "markdown",
      "source": [
        "## Data Understanding\n",
        "\n",
        "The dataset for this project is located in `data/references.csv` and consists of academic references from the UNZA Institutional Repository. Each entry includes:\n",
        "- `reference_text`: The full bibliographic reference as a string.\n",
        "- `publication_type`: The manually assigned category label (e.g., Journal Article, Book, Thesis, Conference Paper, Report, Web Resource).\n",
        "\n",
        "**Initial Data Exploration:**\n",
        "- The dataset contains 9 references, each labeled with one of six publication types.\n",
        "- All entries have both required columns and no missing values.\n",
        "- The class distribution is as follows:\n",
        "  - Journal Article: 1\n",
        "  - Book: 2\n",
        "  - Thesis: 2\n",
        "  - Conference Paper: 1\n",
        "  - Report: 2\n",
        "  - Web Resource: 1\n",
        "\n",
        "**Observations:**\n",
        "- The dataset is small and imbalanced, with some classes represented by only one sample.\n",
        "- Reference texts vary in length and format, reflecting real-world diversity.\n",
        "- No duplicate entries or obvious data quality issues were found.\n",
        "- Text preprocessing (see `src/utils.py`) is used to standardize and clean reference strings before modeling.\n",
        "\n",
        "**Implications for Modeling:**\n",
        "- The limited and imbalanced data may affect model generalization and accuracy.\n",
        "- Stratified train-test splitting may not be possible for all classes; random splitting is used when necessary.\n",
        "- Additional data collection is recommended for improved performance and robustness."
      ],
      "metadata": {
        "id": "m3GevLMizJ6m"
      }
    },
    {
      "cell_type": "markdown",
      "source": [],
      "metadata": {
        "id": "zfOkdVAjnrGW"
      }
    },
    {
      "cell_type": "code",
      "source": [
        "!ls /content\n"
      ],
      "metadata": {
        "id": "4z46qv3yon2l",
        "outputId": "01472994-a132-4417-be38-d9c900a0abe9",
        "colab": {
          "base_uri": "https://localhost:8080/"
        }
      },
      "execution_count": null,
      "outputs": [
        {
          "output_type": "stream",
          "name": "stdout",
          "text": [
            "drive  sample_data\n"
          ]
        }
      ]
    },
    {
      "cell_type": "markdown",
      "source": [
        "###Step 1: Access UNZA IR and list ETDs"
      ],
      "metadata": {
        "id": "FkxJWNZBk2cu"
      }
    },
    {
      "cell_type": "code",
      "source": [],
      "metadata": {
        "id": "rU5idWMJlL89"
      },
      "execution_count": null,
      "outputs": []
    },
    {
      "cell_type": "code",
      "source": [
        "from google.colab import drive\n",
        "drive.mount('/content/drive')"
      ],
      "metadata": {
        "colab": {
          "base_uri": "https://localhost:8080/"
        },
        "id": "1UlkDDDTlWjA",
        "outputId": "826a28a5-c8eb-47fb-ef02-c8a5950ee0c9"
      },
      "execution_count": null,
      "outputs": [
        {
          "output_type": "stream",
          "name": "stdout",
          "text": [
            "Mounted at /content/drive\n"
          ]
        }
      ]
    },
    {
      "cell_type": "code",
      "source": [],
      "metadata": {
        "id": "T_Fj8ttJAVMw"
      },
      "execution_count": null,
      "outputs": []
    },
    {
      "cell_type": "markdown",
      "source": [],
      "metadata": {
        "id": "8gywbAmxC1f0"
      }
    },
    {
      "cell_type": "markdown",
      "source": [
        "####Step 1: references.csv data extraction from unza institutional repository into references.csv\n",
        "\n"
      ],
      "metadata": {
        "id": "Ez56vR9bC549"
      }
    },
    {
      "cell_type": "code",
      "source": [
        "!pip install requests pandas pymupdf\n",
        "!pip install tools\n",
        "!pip install pdfplumber    # Recommended\n",
        "!pip install pypdf\n",
        "!pip install requests\n",
        "!pip install beautifulsoup4\n",
        "!pip install lxml\n",
        "!pip install pdfplumber\n",
        "!pip install pypdf\n",
        "!pip install PyMuPDF\n"
      ],
      "metadata": {
        "colab": {
          "base_uri": "https://localhost:8080/"
        },
        "id": "_lRHhT8yDPN5",
        "outputId": "1ac3237c-bd51-4572-c922-ccf761f431d2"
      },
      "execution_count": null,
      "outputs": [
        {
          "output_type": "stream",
          "name": "stdout",
          "text": [
            "Requirement already satisfied: requests in /usr/local/lib/python3.12/dist-packages (2.32.3)\n",
            "Requirement already satisfied: pandas in /usr/local/lib/python3.12/dist-packages (2.2.2)\n",
            "Requirement already satisfied: pymupdf in /usr/local/lib/python3.12/dist-packages (1.26.3)\n",
            "Requirement already satisfied: charset-normalizer<4,>=2 in /usr/local/lib/python3.12/dist-packages (from requests) (3.4.3)\n",
            "Requirement already satisfied: idna<4,>=2.5 in /usr/local/lib/python3.12/dist-packages (from requests) (3.10)\n",
            "Requirement already satisfied: urllib3<3,>=1.21.1 in /usr/local/lib/python3.12/dist-packages (from requests) (2.5.0)\n",
            "Requirement already satisfied: certifi>=2017.4.17 in /usr/local/lib/python3.12/dist-packages (from requests) (2025.8.3)\n",
            "Requirement already satisfied: numpy>=1.26.0 in /usr/local/lib/python3.12/dist-packages (from pandas) (2.0.2)\n",
            "Requirement already satisfied: python-dateutil>=2.8.2 in /usr/local/lib/python3.12/dist-packages (from pandas) (2.9.0.post0)\n",
            "Requirement already satisfied: pytz>=2020.1 in /usr/local/lib/python3.12/dist-packages (from pandas) (2025.2)\n",
            "Requirement already satisfied: tzdata>=2022.7 in /usr/local/lib/python3.12/dist-packages (from pandas) (2025.2)\n",
            "Requirement already satisfied: six>=1.5 in /usr/local/lib/python3.12/dist-packages (from python-dateutil>=2.8.2->pandas) (1.17.0)\n",
            "Requirement already satisfied: tools in /usr/local/lib/python3.12/dist-packages (1.0.4)\n",
            "Requirement already satisfied: pdfplumber in /usr/local/lib/python3.12/dist-packages (0.11.7)\n",
            "Requirement already satisfied: pdfminer.six==20250506 in /usr/local/lib/python3.12/dist-packages (from pdfplumber) (20250506)\n",
            "Requirement already satisfied: Pillow>=9.1 in /usr/local/lib/python3.12/dist-packages (from pdfplumber) (11.3.0)\n",
            "Requirement already satisfied: pypdfium2>=4.18.0 in /usr/local/lib/python3.12/dist-packages (from pdfplumber) (4.30.0)\n",
            "Requirement already satisfied: charset-normalizer>=2.0.0 in /usr/local/lib/python3.12/dist-packages (from pdfminer.six==20250506->pdfplumber) (3.4.3)\n",
            "Requirement already satisfied: cryptography>=36.0.0 in /usr/local/lib/python3.12/dist-packages (from pdfminer.six==20250506->pdfplumber) (43.0.3)\n",
            "Requirement already satisfied: cffi>=1.12 in /usr/local/lib/python3.12/dist-packages (from cryptography>=36.0.0->pdfminer.six==20250506->pdfplumber) (1.17.1)\n",
            "Requirement already satisfied: pycparser in /usr/local/lib/python3.12/dist-packages (from cffi>=1.12->cryptography>=36.0.0->pdfminer.six==20250506->pdfplumber) (2.22)\n",
            "Requirement already satisfied: pypdf in /usr/local/lib/python3.12/dist-packages (6.0.0)\n",
            "Requirement already satisfied: requests in /usr/local/lib/python3.12/dist-packages (2.32.3)\n",
            "Requirement already satisfied: charset-normalizer<4,>=2 in /usr/local/lib/python3.12/dist-packages (from requests) (3.4.3)\n",
            "Requirement already satisfied: idna<4,>=2.5 in /usr/local/lib/python3.12/dist-packages (from requests) (3.10)\n",
            "Requirement already satisfied: urllib3<3,>=1.21.1 in /usr/local/lib/python3.12/dist-packages (from requests) (2.5.0)\n",
            "Requirement already satisfied: certifi>=2017.4.17 in /usr/local/lib/python3.12/dist-packages (from requests) (2025.8.3)\n",
            "Requirement already satisfied: beautifulsoup4 in /usr/local/lib/python3.12/dist-packages (4.13.4)\n",
            "Requirement already satisfied: soupsieve>1.2 in /usr/local/lib/python3.12/dist-packages (from beautifulsoup4) (2.7)\n",
            "Requirement already satisfied: typing-extensions>=4.0.0 in /usr/local/lib/python3.12/dist-packages (from beautifulsoup4) (4.14.1)\n",
            "Requirement already satisfied: lxml in /usr/local/lib/python3.12/dist-packages (5.4.0)\n",
            "Requirement already satisfied: pdfplumber in /usr/local/lib/python3.12/dist-packages (0.11.7)\n",
            "Requirement already satisfied: pdfminer.six==20250506 in /usr/local/lib/python3.12/dist-packages (from pdfplumber) (20250506)\n",
            "Requirement already satisfied: Pillow>=9.1 in /usr/local/lib/python3.12/dist-packages (from pdfplumber) (11.3.0)\n",
            "Requirement already satisfied: pypdfium2>=4.18.0 in /usr/local/lib/python3.12/dist-packages (from pdfplumber) (4.30.0)\n",
            "Requirement already satisfied: charset-normalizer>=2.0.0 in /usr/local/lib/python3.12/dist-packages (from pdfminer.six==20250506->pdfplumber) (3.4.3)\n",
            "Requirement already satisfied: cryptography>=36.0.0 in /usr/local/lib/python3.12/dist-packages (from pdfminer.six==20250506->pdfplumber) (43.0.3)\n",
            "Requirement already satisfied: cffi>=1.12 in /usr/local/lib/python3.12/dist-packages (from cryptography>=36.0.0->pdfminer.six==20250506->pdfplumber) (1.17.1)\n",
            "Requirement already satisfied: pycparser in /usr/local/lib/python3.12/dist-packages (from cffi>=1.12->cryptography>=36.0.0->pdfminer.six==20250506->pdfplumber) (2.22)\n",
            "Requirement already satisfied: pypdf in /usr/local/lib/python3.12/dist-packages (6.0.0)\n",
            "Requirement already satisfied: PyMuPDF in /usr/local/lib/python3.12/dist-packages (1.26.3)\n"
          ]
        }
      ]
    },
    {
      "cell_type": "markdown",
      "source": [],
      "metadata": {
        "id": "DNIiPCptRnFH"
      }
    },
    {
      "cell_type": "code",
      "source": [
        "\n",
        "# =======================\n",
        "# Mount Google Drive\n",
        "# =======================\n",
        "from google.colab import drive\n",
        "drive.mount('/content/drive')\n",
        "\n",
        "# =======================\n",
        "# Install required packages\n",
        "# =======================\n",
        "!pip install requests beautifulsoup4 lxml pdfplumber pypdf PyMuPDF\n",
        "\n",
        "# =======================\n",
        "# Imports\n",
        "# =======================\n",
        "import requests\n",
        "import pandas as pd\n",
        "import time\n",
        "import io\n",
        "import os\n",
        "import hashlib\n",
        "from io import BytesIO\n",
        "from typing import Dict, List, Set\n",
        "from urllib.parse import urljoin, urlparse\n",
        "from bs4 import BeautifulSoup\n",
        "\n",
        "# =======================\n",
        "# PDF library detection\n",
        "# =======================\n",
        "PDF_LIBRARY = None\n",
        "try:\n",
        "    import pdfplumber\n",
        "    PDF_LIBRARY = \"pdfplumber\"\n",
        "    print(\"Using pdfplumber for PDF text extraction\")\n",
        "except ImportError:\n",
        "    pass\n",
        "\n",
        "if not PDF_LIBRARY:\n",
        "    try:\n",
        "        from pypdf import PdfReader\n",
        "        PDF_LIBRARY = \"pypdf\"\n",
        "        print(\"Using pypdf for PDF text extraction\")\n",
        "    except ImportError:\n",
        "        pass\n",
        "\n",
        "if not PDF_LIBRARY:\n",
        "    try:\n",
        "        import fitz\n",
        "        PDF_LIBRARY = \"pymupdf\"\n",
        "        print(\"Using PyMuPDF for PDF text extraction (fallback)\")\n",
        "    except ImportError:\n",
        "        raise ImportError(\"No PDF library found. Install pdfplumber, pypdf, or pymupdf\")\n",
        "\n",
        "HEADERS = {\"User-Agent\": \"Mozilla/5.0\"}\n",
        "\n",
        "# =======================\n",
        "# Helper functions\n",
        "# =======================\n",
        "def md5(f):\n",
        "    hash_md5 = hashlib.md5()\n",
        "    stream = BytesIO(f)\n",
        "    for chunk in iter(lambda: stream.read(4096), b\"\"):\n",
        "        hash_md5.update(chunk)\n",
        "    return hash_md5.hexdigest()\n",
        "\n",
        "def standardize_url(url):\n",
        "    if \"?\" in url:\n",
        "        url = url.split(\"?\")[0]\n",
        "    if \"#\" in url:\n",
        "        url = url.split(\"#\")[0]\n",
        "    return url\n",
        "\n",
        "def extract_text_from_pdf(pdf_bytes):\n",
        "    try:\n",
        "        if PDF_LIBRARY == \"pdfplumber\":\n",
        "            import pdfplumber\n",
        "            with pdfplumber.open(io.BytesIO(pdf_bytes)) as pdf:\n",
        "                return \"\\n\".join(page.extract_text() or \"\" for page in pdf.pages).strip() or \"No text found\"\n",
        "        elif PDF_LIBRARY == \"pypdf\":\n",
        "            from pypdf import PdfReader\n",
        "            reader = PdfReader(io.BytesIO(pdf_bytes))\n",
        "            return \"\\n\".join(page.extract_text() or \"\" for page in reader.pages).strip() or \"No text found\"\n",
        "        elif PDF_LIBRARY == \"pymupdf\":\n",
        "            import fitz\n",
        "            doc = fitz.open(stream=pdf_bytes, filetype=\"pdf\")\n",
        "            text = \"\".join(page.get_text() for page in doc)\n",
        "            doc.close()\n",
        "            return text.strip() or \"No text found\"\n",
        "    except Exception as e:\n",
        "        return \"Error extracting text\"\n",
        "\n",
        "# =======================\n",
        "# Spider class for two-level Datalab crawling\n",
        "# =======================\n",
        "class Spider:\n",
        "    def __init__(self, urls: List[str], required_prefix: str = \"https://datalab.unza.zm\"):\n",
        "        self.pending_urls = urls\n",
        "        self.visited_urls: Set[str] = set()\n",
        "        self.required_prefix = required_prefix\n",
        "        self.stored_at: Dict[str, bytes] = {}\n",
        "        self.skip_suffixes = [\".jpg\", \".png\", \".gif\", \".css\", \".csv\", \".xls\", \".log\", \".ps\", \".xmp\"]\n",
        "\n",
        "    def is_parsing_target(self, url: str) -> bool:\n",
        "        _, ext = os.path.splitext(url)\n",
        "        domain = urlparse(url).netloc\n",
        "        domain = \".\".join(domain.split(\".\")[-2:])\n",
        "        return (\n",
        "            url not in self.visited_urls\n",
        "            and url not in self.pending_urls\n",
        "            and url.startswith(self.required_prefix)\n",
        "            and not ext in self.skip_suffixes\n",
        "            and domain == \"datalab.unza.zm\"\n",
        "        )\n",
        "\n",
        "    def get_links(self, current_url, html_page):\n",
        "        soup = BeautifulSoup(html_page, \"lxml\")\n",
        "        for link in soup.find_all(\"a\"):\n",
        "            url = link.get(\"href\")\n",
        "            if not url:\n",
        "                continue\n",
        "            if not url.startswith(\"http\"):\n",
        "                url = urljoin(current_url, url)\n",
        "            url = standardize_url(url)\n",
        "\n",
        "            # If PDF, download\n",
        "            if url.lower().endswith(\".pdf\") and url not in self.stored_at:\n",
        "                try:\n",
        "                    r = requests.get(url, headers=HEADERS)\n",
        "                    if \"application/pdf\" in r.headers.get(\"content-type\", \"\"):\n",
        "                        self.stored_at[url] = r.content\n",
        "                        print(f\"Found PDF: {url}\")\n",
        "                except:\n",
        "                    pass\n",
        "            # Else queue HTML page\n",
        "            elif self.is_parsing_target(url):\n",
        "                self.pending_urls.append(url)\n",
        "\n",
        "    def crawl_page(self, url: str):\n",
        "        try:\n",
        "            response = requests.get(url, headers=HEADERS)\n",
        "        except Exception as exc:\n",
        "            print(f\"FAILED {url}: {exc}\")\n",
        "            return\n",
        "        if response.status_code == 200:\n",
        "            ct = response.headers.get(\"content-type\", \"\")\n",
        "            if \"text/html\" in ct:\n",
        "                self.get_links(url, response.text)\n",
        "            elif \"application/pdf\" in ct:\n",
        "                if url not in self.stored_at:\n",
        "                    self.stored_at[url] = response.content\n",
        "                    print(f\"Found PDF: {url}\")\n",
        "\n",
        "    def crawl_loop(self):\n",
        "        while self.pending_urls:\n",
        "            url = self.pending_urls.pop()\n",
        "            self.visited_urls.add(url)\n",
        "            self.crawl_page(url)\n",
        "            print(f\"Crawled: {url}\")\n",
        "\n",
        "# =======================\n",
        "# Start crawling Datalab\n",
        "# =======================\n",
        "start_urls = [\n",
        "    \"https://datalab.unza.zm/publications/conference-papers\",\n",
        "    \"https://datalab.unza.zm/publications/journal-articles\",\n",
        "    \"https://datalab.unza.zm/index.php/publications/technical-reports\",\n",
        "    \"https://datalab.unza.zm/publications/theses-and-dissertations\",\n",
        "]\n",
        "\n",
        "spider = Spider(start_urls)\n",
        "spider.crawl_loop()\n",
        "\n",
        "# =======================\n",
        "# Extract text from found PDFs\n",
        "# =======================\n",
        "results = []\n",
        "for i, (pdf_url, pdf_bytes) in enumerate(spider.stored_at.items(), 1):\n",
        "    print(f\"Processing {i}/{len(spider.stored_at)}: {pdf_url}\")\n",
        "    text = extract_text_from_pdf(pdf_bytes)\n",
        "    results.append({\n",
        "        \"PDF_URL\": pdf_url,\n",
        "        \"Extracted_Text\": text\n",
        "    })\n",
        "    time.sleep(1)\n",
        "# =======================\n",
        "# Save results to Drive\n",
        "# =======================\n",
        "df = pd.DataFrame(results)\n",
        "save_path = \"/content/drive/MyDrive/misc-unza25-csc4792-project_team30/references.csv\"\n",
        "df.to_csv(save_path, index=False)\n",
        "print(f\"Saved {len(df)} PDFs' text to {save_path}\")"
      ],
      "metadata": {
        "colab": {
          "base_uri": "https://localhost:8080/"
        },
        "id": "IKx_uIhAf7rY",
        "outputId": "cddce85f-7404-4466-95c2-0ea24256d40a"
      },
      "execution_count": null,
      "outputs": [
        {
          "output_type": "stream",
          "name": "stdout",
          "text": [
            "Drive already mounted at /content/drive; to attempt to forcibly remount, call drive.mount(\"/content/drive\", force_remount=True).\n",
            "Requirement already satisfied: requests in /usr/local/lib/python3.12/dist-packages (2.32.4)\n",
            "Requirement already satisfied: beautifulsoup4 in /usr/local/lib/python3.12/dist-packages (4.13.4)\n",
            "Requirement already satisfied: lxml in /usr/local/lib/python3.12/dist-packages (5.4.0)\n",
            "Collecting pdfplumber\n",
            "  Downloading pdfplumber-0.11.7-py3-none-any.whl.metadata (42 kB)\n",
            "\u001b[2K     \u001b[90m━━━━━━━━━━━━━━━━━━━━━━━━━━━━━━━━━━━━━━━━\u001b[0m \u001b[32m42.8/42.8 kB\u001b[0m \u001b[31m2.3 MB/s\u001b[0m eta \u001b[36m0:00:00\u001b[0m\n",
            "\u001b[?25hCollecting pypdf\n",
            "  Downloading pypdf-6.0.0-py3-none-any.whl.metadata (7.1 kB)\n",
            "Collecting PyMuPDF\n",
            "  Downloading pymupdf-1.26.4-cp39-abi3-manylinux_2_28_x86_64.whl.metadata (3.4 kB)\n",
            "Requirement already satisfied: charset_normalizer<4,>=2 in /usr/local/lib/python3.12/dist-packages (from requests) (3.4.3)\n",
            "Requirement already satisfied: idna<4,>=2.5 in /usr/local/lib/python3.12/dist-packages (from requests) (3.10)\n",
            "Requirement already satisfied: urllib3<3,>=1.21.1 in /usr/local/lib/python3.12/dist-packages (from requests) (2.5.0)\n",
            "Requirement already satisfied: certifi>=2017.4.17 in /usr/local/lib/python3.12/dist-packages (from requests) (2025.8.3)\n",
            "Requirement already satisfied: soupsieve>1.2 in /usr/local/lib/python3.12/dist-packages (from beautifulsoup4) (2.7)\n",
            "Requirement already satisfied: typing-extensions>=4.0.0 in /usr/local/lib/python3.12/dist-packages (from beautifulsoup4) (4.14.1)\n",
            "Collecting pdfminer.six==20250506 (from pdfplumber)\n",
            "  Downloading pdfminer_six-20250506-py3-none-any.whl.metadata (4.2 kB)\n",
            "Requirement already satisfied: Pillow>=9.1 in /usr/local/lib/python3.12/dist-packages (from pdfplumber) (11.3.0)\n",
            "Collecting pypdfium2>=4.18.0 (from pdfplumber)\n",
            "  Downloading pypdfium2-4.30.0-py3-none-manylinux_2_17_x86_64.manylinux2014_x86_64.whl.metadata (48 kB)\n",
            "\u001b[2K     \u001b[90m━━━━━━━━━━━━━━━━━━━━━━━━━━━━━━━━━━━━━━━━\u001b[0m \u001b[32m48.5/48.5 kB\u001b[0m \u001b[31m3.5 MB/s\u001b[0m eta \u001b[36m0:00:00\u001b[0m\n",
            "\u001b[?25hRequirement already satisfied: cryptography>=36.0.0 in /usr/local/lib/python3.12/dist-packages (from pdfminer.six==20250506->pdfplumber) (43.0.3)\n",
            "Requirement already satisfied: cffi>=1.12 in /usr/local/lib/python3.12/dist-packages (from cryptography>=36.0.0->pdfminer.six==20250506->pdfplumber) (1.17.1)\n",
            "Requirement already satisfied: pycparser in /usr/local/lib/python3.12/dist-packages (from cffi>=1.12->cryptography>=36.0.0->pdfminer.six==20250506->pdfplumber) (2.22)\n",
            "Downloading pdfplumber-0.11.7-py3-none-any.whl (60 kB)\n",
            "\u001b[2K   \u001b[90m━━━━━━━━━━━━━━━━━━━━━━━━━━━━━━━━━━━━━━━━\u001b[0m \u001b[32m60.0/60.0 kB\u001b[0m \u001b[31m4.8 MB/s\u001b[0m eta \u001b[36m0:00:00\u001b[0m\n",
            "\u001b[?25hDownloading pdfminer_six-20250506-py3-none-any.whl (5.6 MB)\n",
            "\u001b[2K   \u001b[90m━━━━━━━━━━━━━━━━━━━━━━━━━━━━━━━━━━━━━━━━\u001b[0m \u001b[32m5.6/5.6 MB\u001b[0m \u001b[31m67.7 MB/s\u001b[0m eta \u001b[36m0:00:00\u001b[0m\n",
            "\u001b[?25hDownloading pypdf-6.0.0-py3-none-any.whl (310 kB)\n",
            "\u001b[2K   \u001b[90m━━━━━━━━━━━━━━━━━━━━━━━━━━━━━━━━━━━━━━━━\u001b[0m \u001b[32m310.5/310.5 kB\u001b[0m \u001b[31m21.5 MB/s\u001b[0m eta \u001b[36m0:00:00\u001b[0m\n",
            "\u001b[?25hDownloading pymupdf-1.26.4-cp39-abi3-manylinux_2_28_x86_64.whl (24.1 MB)\n",
            "\u001b[2K   \u001b[90m━━━━━━━━━━━━━━━━━━━━━━━━━━━━━━━━━━━━━━━━\u001b[0m \u001b[32m24.1/24.1 MB\u001b[0m \u001b[31m82.1 MB/s\u001b[0m eta \u001b[36m0:00:00\u001b[0m\n",
            "\u001b[?25hDownloading pypdfium2-4.30.0-py3-none-manylinux_2_17_x86_64.manylinux2014_x86_64.whl (2.8 MB)\n",
            "\u001b[2K   \u001b[90m━━━━━━━━━━━━━━━━━━━━━━━━━━━━━━━━━━━━━━━━\u001b[0m \u001b[32m2.8/2.8 MB\u001b[0m \u001b[31m86.4 MB/s\u001b[0m eta \u001b[36m0:00:00\u001b[0m\n",
            "\u001b[?25hInstalling collected packages: pypdfium2, pypdf, PyMuPDF, pdfminer.six, pdfplumber\n",
            "Successfully installed PyMuPDF-1.26.4 pdfminer.six-20250506 pdfplumber-0.11.7 pypdf-6.0.0 pypdfium2-4.30.0\n",
            "Using pdfplumber for PDF text extraction\n",
            "Crawled: https://datalab.unza.zm/publications/theses-and-dissertations\n",
            "Crawled: https://datalab.unza.zm/index.php/publications/technical-reports\n",
            "Crawled: https://datalab.unza.zm/publications/journal-articles\n",
            "Crawled: https://datalab.unza.zm/publications/conference-papers\n",
            "Saved 0 PDFs' text to /content/drive/MyDrive/misc-unza25-csc4792-project_team30/references.csv\n"
          ]
        }
      ]
    },
    {
      "cell_type": "code",
      "source": [
        "# =======================\n",
        "# Mount Google Drive\n",
        "# =======================\n",
        "from google.colab import drive\n",
        "drive.mount('/content/drive')\n",
        "\n",
        "# =======================\n",
        "# Install required packages (no-ops if present)\n",
        "# =======================\n",
        "!pip install -q requests beautifulsoup4 lxml pdfplumber pypdf PyMuPDF\n",
        "\n",
        "# =======================\n",
        "# Imports\n",
        "# =======================\n",
        "import requests, pandas as pd, time, io, os, hashlib\n",
        "from typing import Dict, List, Set, Tuple\n",
        "from urllib.parse import urljoin, urlparse\n",
        "from bs4 import BeautifulSoup\n",
        "from datetime import datetime\n",
        "from requests.adapters import HTTPAdapter, Retry\n",
        "\n",
        "# =======================\n",
        "# HTTP session with retries\n",
        "# =======================\n",
        "session = requests.Session()\n",
        "retries = Retry(total=3, backoff_factor=0.5, status_forcelist=[429,500,502,503,504])\n",
        "session.mount(\"http://\", HTTPAdapter(max_retries=retries))\n",
        "session.mount(\"https://\", HTTPAdapter(max_retries=retries))\n",
        "HEADERS = {\"User-Agent\": \"Mozilla/5.0 (compatible; UNZA-RefCrawler/1.0)\"}\n",
        "\n",
        "# =======================\n",
        "# PDF library detection\n",
        "# =======================\n",
        "PDF_LIBRARY = None\n",
        "try:\n",
        "    import pdfplumber\n",
        "    PDF_LIBRARY = \"pdfplumber\"\n",
        "    print(\"Using pdfplumber for PDF text extraction\")\n",
        "except Exception:\n",
        "    try:\n",
        "        from pypdf import PdfReader\n",
        "        PDF_LIBRARY = \"pypdf\"\n",
        "        print(\"Using pypdf for PDF text extraction\")\n",
        "    except Exception:\n",
        "        try:\n",
        "            import fitz  # PyMuPDF\n",
        "            PDF_LIBRARY = \"pymupdf\"\n",
        "            print(\"Using PyMuPDF for PDF text extraction\")\n",
        "        except Exception:\n",
        "            raise ImportError(\"Install pdfplumber or pypdf or PyMuPDF\")\n",
        "\n",
        "# =======================\n",
        "# Helpers\n",
        "# =======================\n",
        "def md5(b: bytes) -> str:\n",
        "    return hashlib.md5(b).hexdigest()\n",
        "\n",
        "def extract_text_from_pdf(pdf_bytes: bytes) -> str:\n",
        "    try:\n",
        "        if PDF_LIBRARY == \"pdfplumber\":\n",
        "            with pdfplumber.open(io.BytesIO(pdf_bytes)) as pdf:\n",
        "                text = \"\\n\".join((p.extract_text() or \"\") for p in pdf.pages)\n",
        "            return text.strip() or \"No text found\"\n",
        "        elif PDF_LIBRARY == \"pypdf\":\n",
        "            from pypdf import PdfReader\n",
        "            reader = PdfReader(io.BytesIO(pdf_bytes))\n",
        "            text = \"\\n\".join((p.extract_text() or \"\") for p in reader.pages)\n",
        "            return text.strip() or \"No text found\"\n",
        "        else:\n",
        "            import fitz\n",
        "            doc = fitz.open(stream=pdf_bytes, filetype=\"pdf\")\n",
        "            text = \"\".join(page.get_text() for page in doc)\n",
        "            doc.close()\n",
        "            return text.strip() or \"No text found\"\n",
        "    except Exception as e:\n",
        "        return f\"Error extracting text: {e}\"\n",
        "\n",
        "def looks_like_pdf_url(href: str) -> bool:\n",
        "    href_l = href.lower()\n",
        "    return (\".pdf\" in urlparse(href_l).path) or (\".pdf\" in href_l)\n",
        "\n",
        "def is_pdf_response(resp: requests.Response, content: bytes) -> bool:\n",
        "    ctype = resp.headers.get(\"content-type\",\"\").lower()\n",
        "    return (\"pdf\" in ctype) or content.startswith(b\"%PDF-\")\n",
        "\n",
        "# =======================\n",
        "# Spider\n",
        "# =======================\n",
        "class Spider:\n",
        "    def __init__(self, start_urls: List[str], allowed_host: str = \"datalab.unza.zm\", max_depth: int = 2, max_pdfs: int = 50):\n",
        "        self.queue: List[Tuple[str,int]] = [(u,0) for u in start_urls]\n",
        "        self.queued: Set[str] = set(start_urls)\n",
        "        self.visited: Set[str] = set()\n",
        "        self.allowed_host = allowed_host.lower()\n",
        "        self.max_depth = max_depth\n",
        "        self.skip_exts = {\".jpg\",\".jpeg\",\".png\",\".gif\",\".css\",\".csv\",\".xls\",\".xlsx\",\".log\",\".ps\",\".xmp\",\".svg\",\".zip\",\".rar\",\".7z\",\".tar\",\".gz\"}\n",
        "        self.pdfs: Dict[str, bytes] = {}\n",
        "        self.max_pdfs = max_pdfs\n",
        "        self.pdf_count = 0\n",
        "\n",
        "    def same_site(self, url: str) -> bool:\n",
        "        host = urlparse(url).netloc.lower()\n",
        "        return host == self.allowed_host or host.endswith(\".\" + self.allowed_host)\n",
        "\n",
        "    def should_follow_html(self, url: str) -> bool:\n",
        "        path = urlparse(url).path\n",
        "        ext = os.path.splitext(path)[1].lower()\n",
        "        return (ext == \"\" or ext == \"/\" or ext not in self.skip_exts) and self.same_site(url)\n",
        "\n",
        "    def enqueue(self, url: str, depth: int):\n",
        "        if url not in self.queued and url not in self.visited:\n",
        "            self.queue.append((url, depth))\n",
        "            self.queued.add(url)\n",
        "\n",
        "    def fetch(self, url: str) -> requests.Response | None:\n",
        "        try:\n",
        "            return session.get(url, headers=HEADERS, timeout=20, allow_redirects=True, verify=False)\n",
        "        except Exception as e:\n",
        "            print(f\"FAILED {url}: {e}\")\n",
        "            return None\n",
        "\n",
        "    def handle_html(self, base_url: str, html: str, depth: int):\n",
        "        soup = BeautifulSoup(html, \"lxml\")\n",
        "        for a in soup.find_all(\"a\", href=True):\n",
        "            if self.pdf_count >= self.max_pdfs:\n",
        "                return\n",
        "            abs_url = urljoin(base_url, a[\"href\"])\n",
        "\n",
        "            # PDFs\n",
        "            if looks_like_pdf_url(abs_url):\n",
        "                if abs_url in self.pdfs:\n",
        "                    continue\n",
        "                resp = self.fetch(abs_url)\n",
        "                if not resp:\n",
        "                    continue\n",
        "                content = resp.content or b\"\"\n",
        "                if is_pdf_response(resp, content):\n",
        "                    self.pdfs[abs_url] = content\n",
        "                    self.pdf_count += 1\n",
        "                    print(f\"📄 Found PDF ({self.pdf_count}/{self.max_pdfs}): {abs_url}\")\n",
        "                    if self.pdf_count >= self.max_pdfs:\n",
        "                        return\n",
        "                continue\n",
        "\n",
        "            # HTML pages\n",
        "            if depth < self.max_depth and self.should_follow_html(abs_url):\n",
        "                self.enqueue(abs_url, depth+1)\n",
        "\n",
        "        next_link = soup.find(\"a\", rel=lambda v: v and \"next\" in v.lower())\n",
        "        if next_link and next_link.get(\"href\") and depth < self.max_depth:\n",
        "            self.enqueue(urljoin(base_url, next_link[\"href\"]), depth+1)\n",
        "\n",
        "    def crawl(self):\n",
        "        while self.queue and self.pdf_count < self.max_pdfs:\n",
        "            url, depth = self.queue.pop()\n",
        "            if url in self.visited:\n",
        "                continue\n",
        "            self.visited.add(url)\n",
        "            resp = self.fetch(url)\n",
        "            if not resp:\n",
        "                continue\n",
        "            ctype = resp.headers.get(\"content-type\",\"\").lower()\n",
        "            if \"text/html\" in ctype:\n",
        "                self.handle_html(url, resp.text, depth)\n",
        "            elif \"pdf\" in ctype or (resp.content or b\"\").startswith(b\"%PDF-\"):\n",
        "                if url not in self.pdfs and self.pdf_count < self.max_pdfs:\n",
        "                    self.pdfs[url] = resp.content\n",
        "                    self.pdf_count += 1\n",
        "                    print(f\"📄 Found PDF ({self.pdf_count}/{self.max_pdfs}): {url}\")\n",
        "            print(f\"Crawled (depth {depth}): {url}\")\n",
        "            time.sleep(0.7)\n",
        "\n",
        "# =======================\n",
        "# Run crawl\n",
        "# =======================\n",
        "start_urls = [\n",
        "    \"https://datalab.unza.zm/publications/conference-papers\",\n",
        "    \"https://datalab.unza.zm/publications/journal-articles\",\n",
        "    \"https://datalab.unza.zm/index.php/publications/technical-reports\",\n",
        "    \"https://datalab.unza.zm/publications/theses-and-dissertations\",\n",
        "]\n",
        "\n",
        "spider = Spider(start_urls, allowed_host=\"datalab.unza.zm\", max_depth=2, max_pdfs=50)\n",
        "spider.crawl()\n",
        "\n",
        "# =======================\n",
        "# Save PDFs + CSV (Data Selection + Preprocessing + Transformation)\n",
        "# =======================\n",
        "save_pdf_dir = \"/content/drive/MyDrive/misc-unza25-csc4792-project_team30/pdfs\"\n",
        "os.makedirs(save_pdf_dir, exist_ok=True)\n",
        "\n",
        "rows = []\n",
        "for i, (pdf_url, pdf_bytes) in enumerate(spider.pdfs.items(), 1):\n",
        "    print(f\"Processing {i}/{len(spider.pdfs)}: {pdf_url}\")\n",
        "    text = extract_text_from_pdf(pdf_bytes)\n",
        "    meta = {\n",
        "        \"PDF_URL\": pdf_url,\n",
        "        \"File_Size\": len(pdf_bytes),\n",
        "        \"MD5\": md5(pdf_bytes),\n",
        "        \"Timestamp\": datetime.now().isoformat(),\n",
        "        \"Extracted_Text\": text,\n",
        "    }\n",
        "    rows.append(meta)\n",
        "    pdf_path = os.path.join(save_pdf_dir, f\"{meta['MD5']}.pdf\")\n",
        "    if not os.path.exists(pdf_path):\n",
        "        with open(pdf_path, \"wb\") as f:\n",
        "            f.write(pdf_bytes)\n",
        "\n",
        "df = pd.DataFrame(rows)\n",
        "csv_path = \"/content/drive/MyDrive/misc-unza25-csc4792-project_team30/references.csv\"\n",
        "df.to_csv(csv_path, index=False)\n",
        "print(f\" Saved {len(df)} PDFs and metadata to {csv_path}\")\n",
        "\n",
        "# =======================\n",
        "# Extended Data Preparation (Derivation, Integration, Dataset Description)\n",
        "# =======================\n",
        "\n",
        "# --- Data Derivation ---\n",
        "df[\"Num_Words\"] = df[\"Extracted_Text\"].apply(lambda t: len(str(t).split()))\n",
        "df[\"Num_Chars\"] = df[\"Extracted_Text\"].apply(lambda t: len(str(t)))\n",
        "df[\"Domain\"] = df[\"PDF_URL\"].apply(lambda u: urlparse(u).netloc)\n",
        "df[\"File_Name\"] = df[\"PDF_URL\"].apply(lambda u: os.path.basename(urlparse(u).path))\n",
        "\n",
        "# --- Data Integration / Merging ---\n",
        "# Example: merge with external metadata (simulated here)\n",
        "extra_meta = pd.DataFrame([\n",
        "    {\"Domain\": \"datalab.unza.zm\", \"Source_Type\": \"UNZA Datalab\"}\n",
        "])\n",
        "df = df.merge(extra_meta, on=\"Domain\", how=\"left\")\n",
        "\n",
        "# --- Dataset Description ---\n",
        "print(\"\\n Dataset Description:\")\n",
        "print(df.describe(include=\"all\", datetime_is_numeric=True).transpose())\n",
        "\n",
        "# Save enriched dataset\n",
        "enriched_csv_path = \"/content/drive/MyDrive/misc-unza25-csc4792-project_team30/references_enriched.csv\"\n",
        "df.to_csv(enriched_csv_path, index=False)\n",
        "print(f\" Enriched dataset saved to {enriched_csv_path}\")\n"
      ],
      "metadata": {
        "colab": {
          "base_uri": "https://localhost:8080/"
        },
        "outputId": "4777ab14-b24d-4177-a1b5-ebe794877a75",
        "id": "8wKhE9LcFdAY"
      },
      "execution_count": null,
      "outputs": [
        {
          "output_type": "stream",
          "name": "stdout",
          "text": [
            "Mounted at /content/drive\n",
            "\u001b[2K     \u001b[90m━━━━━━━━━━━━━━━━━━━━━━━━━━━━━━━━━━━━━━━━\u001b[0m \u001b[32m42.8/42.8 kB\u001b[0m \u001b[31m1.8 MB/s\u001b[0m eta \u001b[36m0:00:00\u001b[0m\n",
            "\u001b[2K     \u001b[90m━━━━━━━━━━━━━━━━━━━━━━━━━━━━━━━━━━━━━━━━\u001b[0m \u001b[32m48.5/48.5 kB\u001b[0m \u001b[31m3.1 MB/s\u001b[0m eta \u001b[36m0:00:00\u001b[0m\n",
            "\u001b[2K   \u001b[90m━━━━━━━━━━━━━━━━━━━━━━━━━━━━━━━━━━━━━━━━\u001b[0m \u001b[32m60.0/60.0 kB\u001b[0m \u001b[31m3.7 MB/s\u001b[0m eta \u001b[36m0:00:00\u001b[0m\n",
            "\u001b[2K   \u001b[90m━━━━━━━━━━━━━━━━━━━━━━━━━━━━━━━━━━━━━━━━\u001b[0m \u001b[32m5.6/5.6 MB\u001b[0m \u001b[31m58.1 MB/s\u001b[0m eta \u001b[36m0:00:00\u001b[0m\n",
            "\u001b[2K   \u001b[90m━━━━━━━━━━━━━━━━━━━━━━━━━━━━━━━━━━━━━━━━\u001b[0m \u001b[32m310.5/310.5 kB\u001b[0m \u001b[31m17.4 MB/s\u001b[0m eta \u001b[36m0:00:00\u001b[0m\n",
            "\u001b[2K   \u001b[90m━━━━━━━━━━━━━━━━━━━━━━━━━━━━━━━━━━━━━━━━\u001b[0m \u001b[32m24.1/24.1 MB\u001b[0m \u001b[31m72.0 MB/s\u001b[0m eta \u001b[36m0:00:00\u001b[0m\n",
            "\u001b[2K   \u001b[90m━━━━━━━━━━━━━━━━━━━━━━━━━━━━━━━━━━━━━━━━\u001b[0m \u001b[32m2.8/2.8 MB\u001b[0m \u001b[31m59.4 MB/s\u001b[0m eta \u001b[36m0:00:00\u001b[0m\n",
            "\u001b[?25hUsing pdfplumber for PDF text extraction\n"
          ]
        },
        {
          "output_type": "stream",
          "name": "stderr",
          "text": [
            "/usr/local/lib/python3.12/dist-packages/urllib3/connectionpool.py:1097: InsecureRequestWarning: Unverified HTTPS request is being made to host 'datalab.unza.zm'. Adding certificate verification is strongly advised. See: https://urllib3.readthedocs.io/en/latest/advanced-usage.html#tls-warnings\n",
            "  warnings.warn(\n"
          ]
        },
        {
          "output_type": "stream",
          "name": "stdout",
          "text": [
            "Crawled (depth 0): https://datalab.unza.zm/publications/theses-and-dissertations\n"
          ]
        },
        {
          "output_type": "stream",
          "name": "stderr",
          "text": [
            "/usr/local/lib/python3.12/dist-packages/urllib3/connectionpool.py:1097: InsecureRequestWarning: Unverified HTTPS request is being made to host 'datalab.unza.zm'. Adding certificate verification is strongly advised. See: https://urllib3.readthedocs.io/en/latest/advanced-usage.html#tls-warnings\n",
            "  warnings.warn(\n"
          ]
        },
        {
          "output_type": "stream",
          "name": "stdout",
          "text": [
            "Crawled (depth 1): https://datalab.unza.zm/people\n"
          ]
        },
        {
          "output_type": "stream",
          "name": "stderr",
          "text": [
            "/usr/local/lib/python3.12/dist-packages/urllib3/connectionpool.py:1097: InsecureRequestWarning: Unverified HTTPS request is being made to host 'datalab.unza.zm'. Adding certificate verification is strongly advised. See: https://urllib3.readthedocs.io/en/latest/advanced-usage.html#tls-warnings\n",
            "  warnings.warn(\n"
          ]
        },
        {
          "output_type": "stream",
          "name": "stdout",
          "text": [
            "Crawled (depth 2): https://datalab.unza.zm/people/monicanakazwe\n"
          ]
        },
        {
          "output_type": "stream",
          "name": "stderr",
          "text": [
            "/usr/local/lib/python3.12/dist-packages/urllib3/connectionpool.py:1097: InsecureRequestWarning: Unverified HTTPS request is being made to host 'datalab.unza.zm'. Adding certificate verification is strongly advised. See: https://urllib3.readthedocs.io/en/latest/advanced-usage.html#tls-warnings\n",
            "  warnings.warn(\n"
          ]
        },
        {
          "output_type": "stream",
          "name": "stdout",
          "text": [
            "Crawled (depth 2): https://datalab.unza.zm/people/noreenmwelwa\n"
          ]
        },
        {
          "output_type": "stream",
          "name": "stderr",
          "text": [
            "/usr/local/lib/python3.12/dist-packages/urllib3/connectionpool.py:1097: InsecureRequestWarning: Unverified HTTPS request is being made to host 'datalab.unza.zm'. Adding certificate verification is strongly advised. See: https://urllib3.readthedocs.io/en/latest/advanced-usage.html#tls-warnings\n",
            "  warnings.warn(\n"
          ]
        },
        {
          "output_type": "stream",
          "name": "stdout",
          "text": [
            "Crawled (depth 2): https://datalab.unza.zm/people/chishamwansa\n"
          ]
        },
        {
          "output_type": "stream",
          "name": "stderr",
          "text": [
            "/usr/local/lib/python3.12/dist-packages/urllib3/connectionpool.py:1097: InsecureRequestWarning: Unverified HTTPS request is being made to host 'datalab.unza.zm'. Adding certificate verification is strongly advised. See: https://urllib3.readthedocs.io/en/latest/advanced-usage.html#tls-warnings\n",
            "  warnings.warn(\n"
          ]
        },
        {
          "output_type": "stream",
          "name": "stdout",
          "text": [
            "Crawled (depth 2): https://datalab.unza.zm/people/lwiindimudimba\n"
          ]
        },
        {
          "output_type": "stream",
          "name": "stderr",
          "text": [
            "/usr/local/lib/python3.12/dist-packages/urllib3/connectionpool.py:1097: InsecureRequestWarning: Unverified HTTPS request is being made to host 'datalab.unza.zm'. Adding certificate verification is strongly advised. See: https://urllib3.readthedocs.io/en/latest/advanced-usage.html#tls-warnings\n",
            "  warnings.warn(\n"
          ]
        },
        {
          "output_type": "stream",
          "name": "stdout",
          "text": [
            "Crawled (depth 2): https://datalab.unza.zm/people/treasurechisakula\n"
          ]
        },
        {
          "output_type": "stream",
          "name": "stderr",
          "text": [
            "/usr/local/lib/python3.12/dist-packages/urllib3/connectionpool.py:1097: InsecureRequestWarning: Unverified HTTPS request is being made to host 'datalab.unza.zm'. Adding certificate verification is strongly advised. See: https://urllib3.readthedocs.io/en/latest/advanced-usage.html#tls-warnings\n",
            "  warnings.warn(\n"
          ]
        },
        {
          "output_type": "stream",
          "name": "stdout",
          "text": [
            "Crawled (depth 2): https://datalab.unza.zm/people/doramayaka\n"
          ]
        },
        {
          "output_type": "stream",
          "name": "stderr",
          "text": [
            "/usr/local/lib/python3.12/dist-packages/urllib3/connectionpool.py:1097: InsecureRequestWarning: Unverified HTTPS request is being made to host 'datalab.unza.zm'. Adding certificate verification is strongly advised. See: https://urllib3.readthedocs.io/en/latest/advanced-usage.html#tls-warnings\n",
            "  warnings.warn(\n"
          ]
        },
        {
          "output_type": "stream",
          "name": "stdout",
          "text": [
            "Crawled (depth 2): https://datalab.unza.zm/people/norahndebele\n"
          ]
        },
        {
          "output_type": "stream",
          "name": "stderr",
          "text": [
            "/usr/local/lib/python3.12/dist-packages/urllib3/connectionpool.py:1097: InsecureRequestWarning: Unverified HTTPS request is being made to host 'datalab.unza.zm'. Adding certificate verification is strongly advised. See: https://urllib3.readthedocs.io/en/latest/advanced-usage.html#tls-warnings\n",
            "  warnings.warn(\n"
          ]
        },
        {
          "output_type": "stream",
          "name": "stdout",
          "text": [
            "Crawled (depth 2): https://datalab.unza.zm/people/freebornlubasi\n"
          ]
        },
        {
          "output_type": "stream",
          "name": "stderr",
          "text": [
            "/usr/local/lib/python3.12/dist-packages/urllib3/connectionpool.py:1097: InsecureRequestWarning: Unverified HTTPS request is being made to host 'datalab.unza.zm'. Adding certificate verification is strongly advised. See: https://urllib3.readthedocs.io/en/latest/advanced-usage.html#tls-warnings\n",
            "  warnings.warn(\n"
          ]
        },
        {
          "output_type": "stream",
          "name": "stdout",
          "text": [
            "Crawled (depth 2): https://datalab.unza.zm/people/nozyenjimwale\n"
          ]
        },
        {
          "output_type": "stream",
          "name": "stderr",
          "text": [
            "/usr/local/lib/python3.12/dist-packages/urllib3/connectionpool.py:1097: InsecureRequestWarning: Unverified HTTPS request is being made to host 'datalab.unza.zm'. Adding certificate verification is strongly advised. See: https://urllib3.readthedocs.io/en/latest/advanced-usage.html#tls-warnings\n",
            "  warnings.warn(\n"
          ]
        },
        {
          "output_type": "stream",
          "name": "stdout",
          "text": [
            "Crawled (depth 2): https://datalab.unza.zm/people/nandisikazindu\n"
          ]
        },
        {
          "output_type": "stream",
          "name": "stderr",
          "text": [
            "/usr/local/lib/python3.12/dist-packages/urllib3/connectionpool.py:1097: InsecureRequestWarning: Unverified HTTPS request is being made to host 'datalab.unza.zm'. Adding certificate verification is strongly advised. See: https://urllib3.readthedocs.io/en/latest/advanced-usage.html#tls-warnings\n",
            "  warnings.warn(\n"
          ]
        },
        {
          "output_type": "stream",
          "name": "stdout",
          "text": [
            "Crawled (depth 2): https://datalab.unza.zm/people/moongahabukali\n"
          ]
        },
        {
          "output_type": "stream",
          "name": "stderr",
          "text": [
            "/usr/local/lib/python3.12/dist-packages/urllib3/connectionpool.py:1097: InsecureRequestWarning: Unverified HTTPS request is being made to host 'datalab.unza.zm'. Adding certificate verification is strongly advised. See: https://urllib3.readthedocs.io/en/latest/advanced-usage.html#tls-warnings\n",
            "  warnings.warn(\n"
          ]
        },
        {
          "output_type": "stream",
          "name": "stdout",
          "text": [
            "Crawled (depth 2): https://datalab.unza.zm/people/mathewsmwewa\n"
          ]
        },
        {
          "output_type": "stream",
          "name": "stderr",
          "text": [
            "/usr/local/lib/python3.12/dist-packages/urllib3/connectionpool.py:1097: InsecureRequestWarning: Unverified HTTPS request is being made to host 'datalab.unza.zm'. Adding certificate verification is strongly advised. See: https://urllib3.readthedocs.io/en/latest/advanced-usage.html#tls-warnings\n",
            "  warnings.warn(\n"
          ]
        },
        {
          "output_type": "stream",
          "name": "stdout",
          "text": [
            "Crawled (depth 2): https://datalab.unza.zm/people/mathewsmbewe\n"
          ]
        },
        {
          "output_type": "stream",
          "name": "stderr",
          "text": [
            "/usr/local/lib/python3.12/dist-packages/urllib3/connectionpool.py:1097: InsecureRequestWarning: Unverified HTTPS request is being made to host 'datalab.unza.zm'. Adding certificate verification is strongly advised. See: https://urllib3.readthedocs.io/en/latest/advanced-usage.html#tls-warnings\n",
            "  warnings.warn(\n"
          ]
        },
        {
          "output_type": "stream",
          "name": "stdout",
          "text": [
            "Crawled (depth 2): https://datalab.unza.zm/people/daisynawila\n"
          ]
        },
        {
          "output_type": "stream",
          "name": "stderr",
          "text": [
            "/usr/local/lib/python3.12/dist-packages/urllib3/connectionpool.py:1097: InsecureRequestWarning: Unverified HTTPS request is being made to host 'datalab.unza.zm'. Adding certificate verification is strongly advised. See: https://urllib3.readthedocs.io/en/latest/advanced-usage.html#tls-warnings\n",
            "  warnings.warn(\n"
          ]
        },
        {
          "output_type": "stream",
          "name": "stdout",
          "text": [
            "Crawled (depth 2): https://datalab.unza.zm/people/philomenamwanza\n"
          ]
        },
        {
          "output_type": "stream",
          "name": "stderr",
          "text": [
            "/usr/local/lib/python3.12/dist-packages/urllib3/connectionpool.py:1097: InsecureRequestWarning: Unverified HTTPS request is being made to host 'datalab.unza.zm'. Adding certificate verification is strongly advised. See: https://urllib3.readthedocs.io/en/latest/advanced-usage.html#tls-warnings\n",
            "  warnings.warn(\n"
          ]
        },
        {
          "output_type": "stream",
          "name": "stdout",
          "text": [
            "Crawled (depth 2): https://datalab.unza.zm/people/andrewmawila\n"
          ]
        },
        {
          "output_type": "stream",
          "name": "stderr",
          "text": [
            "/usr/local/lib/python3.12/dist-packages/urllib3/connectionpool.py:1097: InsecureRequestWarning: Unverified HTTPS request is being made to host 'datalab.unza.zm'. Adding certificate verification is strongly advised. See: https://urllib3.readthedocs.io/en/latest/advanced-usage.html#tls-warnings\n",
            "  warnings.warn(\n"
          ]
        },
        {
          "output_type": "stream",
          "name": "stdout",
          "text": [
            "Crawled (depth 2): https://datalab.unza.zm/people/ericliswaniso\n"
          ]
        },
        {
          "output_type": "stream",
          "name": "stderr",
          "text": [
            "/usr/local/lib/python3.12/dist-packages/urllib3/connectionpool.py:1097: InsecureRequestWarning: Unverified HTTPS request is being made to host 'datalab.unza.zm'. Adding certificate verification is strongly advised. See: https://urllib3.readthedocs.io/en/latest/advanced-usage.html#tls-warnings\n",
            "  warnings.warn(\n"
          ]
        },
        {
          "output_type": "stream",
          "name": "stdout",
          "text": [
            "Crawled (depth 2): https://datalab.unza.zm/people/berthachipangila\n"
          ]
        },
        {
          "output_type": "stream",
          "name": "stderr",
          "text": [
            "/usr/local/lib/python3.12/dist-packages/urllib3/connectionpool.py:1097: InsecureRequestWarning: Unverified HTTPS request is being made to host 'datalab.unza.zm'. Adding certificate verification is strongly advised. See: https://urllib3.readthedocs.io/en/latest/advanced-usage.html#tls-warnings\n",
            "  warnings.warn(\n"
          ]
        },
        {
          "output_type": "stream",
          "name": "stdout",
          "text": [
            "Crawled (depth 2): https://datalab.unza.zm/people/mwenyakayula\n"
          ]
        },
        {
          "output_type": "stream",
          "name": "stderr",
          "text": [
            "/usr/local/lib/python3.12/dist-packages/urllib3/connectionpool.py:1097: InsecureRequestWarning: Unverified HTTPS request is being made to host 'datalab.unza.zm'. Adding certificate verification is strongly advised. See: https://urllib3.readthedocs.io/en/latest/advanced-usage.html#tls-warnings\n",
            "  warnings.warn(\n"
          ]
        },
        {
          "output_type": "stream",
          "name": "stdout",
          "text": [
            "Crawled (depth 2): https://datalab.unza.zm/people/mirriamkamanga\n"
          ]
        },
        {
          "output_type": "stream",
          "name": "stderr",
          "text": [
            "/usr/local/lib/python3.12/dist-packages/urllib3/connectionpool.py:1097: InsecureRequestWarning: Unverified HTTPS request is being made to host 'datalab.unza.zm'. Adding certificate verification is strongly advised. See: https://urllib3.readthedocs.io/en/latest/advanced-usage.html#tls-warnings\n",
            "  warnings.warn(\n"
          ]
        },
        {
          "output_type": "stream",
          "name": "stdout",
          "text": [
            "Crawled (depth 2): https://datalab.unza.zm/people/elizabethchirwa\n"
          ]
        },
        {
          "output_type": "stream",
          "name": "stderr",
          "text": [
            "/usr/local/lib/python3.12/dist-packages/urllib3/connectionpool.py:1097: InsecureRequestWarning: Unverified HTTPS request is being made to host 'datalab.unza.zm'. Adding certificate verification is strongly advised. See: https://urllib3.readthedocs.io/en/latest/advanced-usage.html#tls-warnings\n",
            "  warnings.warn(\n"
          ]
        },
        {
          "output_type": "stream",
          "name": "stdout",
          "text": [
            "Crawled (depth 2): https://datalab.unza.zm/people/mulengachanda\n"
          ]
        },
        {
          "output_type": "stream",
          "name": "stderr",
          "text": [
            "/usr/local/lib/python3.12/dist-packages/urllib3/connectionpool.py:1097: InsecureRequestWarning: Unverified HTTPS request is being made to host 'datalab.unza.zm'. Adding certificate verification is strongly advised. See: https://urllib3.readthedocs.io/en/latest/advanced-usage.html#tls-warnings\n",
            "  warnings.warn(\n"
          ]
        },
        {
          "output_type": "stream",
          "name": "stdout",
          "text": [
            "Crawled (depth 2): https://datalab.unza.zm/people/jeffersonndhlovu\n"
          ]
        },
        {
          "output_type": "stream",
          "name": "stderr",
          "text": [
            "/usr/local/lib/python3.12/dist-packages/urllib3/connectionpool.py:1097: InsecureRequestWarning: Unverified HTTPS request is being made to host 'datalab.unza.zm'. Adding certificate verification is strongly advised. See: https://urllib3.readthedocs.io/en/latest/advanced-usage.html#tls-warnings\n",
            "  warnings.warn(\n"
          ]
        },
        {
          "output_type": "stream",
          "name": "stdout",
          "text": [
            "Crawled (depth 2): https://datalab.unza.zm/people/mwangalanzila\n"
          ]
        },
        {
          "output_type": "stream",
          "name": "stderr",
          "text": [
            "/usr/local/lib/python3.12/dist-packages/urllib3/connectionpool.py:1097: InsecureRequestWarning: Unverified HTTPS request is being made to host 'datalab.unza.zm'. Adding certificate verification is strongly advised. See: https://urllib3.readthedocs.io/en/latest/advanced-usage.html#tls-warnings\n",
            "  warnings.warn(\n"
          ]
        },
        {
          "output_type": "stream",
          "name": "stdout",
          "text": [
            "Crawled (depth 2): https://datalab.unza.zm/people/mutunechaibela\n"
          ]
        },
        {
          "output_type": "stream",
          "name": "stderr",
          "text": [
            "/usr/local/lib/python3.12/dist-packages/urllib3/connectionpool.py:1097: InsecureRequestWarning: Unverified HTTPS request is being made to host 'datalab.unza.zm'. Adding certificate verification is strongly advised. See: https://urllib3.readthedocs.io/en/latest/advanced-usage.html#tls-warnings\n",
            "  warnings.warn(\n"
          ]
        },
        {
          "output_type": "stream",
          "name": "stdout",
          "text": [
            "Crawled (depth 2): https://datalab.unza.zm/people/inutulubinda\n"
          ]
        },
        {
          "output_type": "stream",
          "name": "stderr",
          "text": [
            "/usr/local/lib/python3.12/dist-packages/urllib3/connectionpool.py:1097: InsecureRequestWarning: Unverified HTTPS request is being made to host 'datalab.unza.zm'. Adding certificate verification is strongly advised. See: https://urllib3.readthedocs.io/en/latest/advanced-usage.html#tls-warnings\n",
            "  warnings.warn(\n"
          ]
        },
        {
          "output_type": "stream",
          "name": "stdout",
          "text": [
            "Crawled (depth 2): https://datalab.unza.zm/people/chengomapoma\n"
          ]
        },
        {
          "output_type": "stream",
          "name": "stderr",
          "text": [
            "/usr/local/lib/python3.12/dist-packages/urllib3/connectionpool.py:1097: InsecureRequestWarning: Unverified HTTPS request is being made to host 'datalab.unza.zm'. Adding certificate verification is strongly advised. See: https://urllib3.readthedocs.io/en/latest/advanced-usage.html#tls-warnings\n",
            "  warnings.warn(\n"
          ]
        },
        {
          "output_type": "stream",
          "name": "stdout",
          "text": [
            "Crawled (depth 2): https://datalab.unza.zm/people/macmillanmamamba\n"
          ]
        },
        {
          "output_type": "stream",
          "name": "stderr",
          "text": [
            "/usr/local/lib/python3.12/dist-packages/urllib3/connectionpool.py:1097: InsecureRequestWarning: Unverified HTTPS request is being made to host 'datalab.unza.zm'. Adding certificate verification is strongly advised. See: https://urllib3.readthedocs.io/en/latest/advanced-usage.html#tls-warnings\n",
            "  warnings.warn(\n"
          ]
        },
        {
          "output_type": "stream",
          "name": "stdout",
          "text": [
            "Crawled (depth 2): https://datalab.unza.zm/people/dannysiabbaba\n"
          ]
        },
        {
          "output_type": "stream",
          "name": "stderr",
          "text": [
            "/usr/local/lib/python3.12/dist-packages/urllib3/connectionpool.py:1097: InsecureRequestWarning: Unverified HTTPS request is being made to host 'datalab.unza.zm'. Adding certificate verification is strongly advised. See: https://urllib3.readthedocs.io/en/latest/advanced-usage.html#tls-warnings\n",
            "  warnings.warn(\n"
          ]
        },
        {
          "output_type": "stream",
          "name": "stdout",
          "text": [
            "Crawled (depth 2): https://datalab.unza.zm/people/matthewslungu\n"
          ]
        },
        {
          "output_type": "stream",
          "name": "stderr",
          "text": [
            "/usr/local/lib/python3.12/dist-packages/urllib3/connectionpool.py:1097: InsecureRequestWarning: Unverified HTTPS request is being made to host 'datalab.unza.zm'. Adding certificate verification is strongly advised. See: https://urllib3.readthedocs.io/en/latest/advanced-usage.html#tls-warnings\n",
            "  warnings.warn(\n"
          ]
        },
        {
          "output_type": "stream",
          "name": "stdout",
          "text": [
            "Crawled (depth 2): https://datalab.unza.zm/people/davidpungwa\n"
          ]
        },
        {
          "output_type": "stream",
          "name": "stderr",
          "text": [
            "/usr/local/lib/python3.12/dist-packages/urllib3/connectionpool.py:1097: InsecureRequestWarning: Unverified HTTPS request is being made to host 'datalab.unza.zm'. Adding certificate verification is strongly advised. See: https://urllib3.readthedocs.io/en/latest/advanced-usage.html#tls-warnings\n",
            "  warnings.warn(\n"
          ]
        },
        {
          "output_type": "stream",
          "name": "stdout",
          "text": [
            "Crawled (depth 2): https://datalab.unza.zm/people/sharonkangwa\n"
          ]
        },
        {
          "output_type": "stream",
          "name": "stderr",
          "text": [
            "/usr/local/lib/python3.12/dist-packages/urllib3/connectionpool.py:1097: InsecureRequestWarning: Unverified HTTPS request is being made to host 'datalab.unza.zm'. Adding certificate verification is strongly advised. See: https://urllib3.readthedocs.io/en/latest/advanced-usage.html#tls-warnings\n",
            "  warnings.warn(\n"
          ]
        },
        {
          "output_type": "stream",
          "name": "stdout",
          "text": [
            "Crawled (depth 2): https://datalab.unza.zm/people/ivychisha\n"
          ]
        },
        {
          "output_type": "stream",
          "name": "stderr",
          "text": [
            "/usr/local/lib/python3.12/dist-packages/urllib3/connectionpool.py:1097: InsecureRequestWarning: Unverified HTTPS request is being made to host 'datalab.unza.zm'. Adding certificate verification is strongly advised. See: https://urllib3.readthedocs.io/en/latest/advanced-usage.html#tls-warnings\n",
            "  warnings.warn(\n"
          ]
        },
        {
          "output_type": "stream",
          "name": "stdout",
          "text": [
            "Crawled (depth 2): https://datalab.unza.zm/people/victormwelwa\n"
          ]
        },
        {
          "output_type": "stream",
          "name": "stderr",
          "text": [
            "/usr/local/lib/python3.12/dist-packages/urllib3/connectionpool.py:1097: InsecureRequestWarning: Unverified HTTPS request is being made to host 'datalab.unza.zm'. Adding certificate verification is strongly advised. See: https://urllib3.readthedocs.io/en/latest/advanced-usage.html#tls-warnings\n",
            "  warnings.warn(\n"
          ]
        },
        {
          "output_type": "stream",
          "name": "stdout",
          "text": [
            "Crawled (depth 2): https://datalab.unza.zm/people/roycemwanza\n"
          ]
        },
        {
          "output_type": "stream",
          "name": "stderr",
          "text": [
            "/usr/local/lib/python3.12/dist-packages/urllib3/connectionpool.py:1097: InsecureRequestWarning: Unverified HTTPS request is being made to host 'datalab.unza.zm'. Adding certificate verification is strongly advised. See: https://urllib3.readthedocs.io/en/latest/advanced-usage.html#tls-warnings\n",
            "  warnings.warn(\n"
          ]
        },
        {
          "output_type": "stream",
          "name": "stdout",
          "text": [
            "Crawled (depth 2): https://datalab.unza.zm/people/lewisntembeni\n"
          ]
        },
        {
          "output_type": "stream",
          "name": "stderr",
          "text": [
            "/usr/local/lib/python3.12/dist-packages/urllib3/connectionpool.py:1097: InsecureRequestWarning: Unverified HTTPS request is being made to host 'datalab.unza.zm'. Adding certificate verification is strongly advised. See: https://urllib3.readthedocs.io/en/latest/advanced-usage.html#tls-warnings\n",
            "  warnings.warn(\n"
          ]
        },
        {
          "output_type": "stream",
          "name": "stdout",
          "text": [
            "Crawled (depth 2): https://datalab.unza.zm/people/bydonsimukoko\n"
          ]
        },
        {
          "output_type": "stream",
          "name": "stderr",
          "text": [
            "/usr/local/lib/python3.12/dist-packages/urllib3/connectionpool.py:1097: InsecureRequestWarning: Unverified HTTPS request is being made to host 'datalab.unza.zm'. Adding certificate verification is strongly advised. See: https://urllib3.readthedocs.io/en/latest/advanced-usage.html#tls-warnings\n",
            "  warnings.warn(\n"
          ]
        },
        {
          "output_type": "stream",
          "name": "stdout",
          "text": [
            "Crawled (depth 2): https://datalab.unza.zm/people/emmanuelkuyela\n"
          ]
        },
        {
          "output_type": "stream",
          "name": "stderr",
          "text": [
            "/usr/local/lib/python3.12/dist-packages/urllib3/connectionpool.py:1097: InsecureRequestWarning: Unverified HTTPS request is being made to host 'datalab.unza.zm'. Adding certificate verification is strongly advised. See: https://urllib3.readthedocs.io/en/latest/advanced-usage.html#tls-warnings\n",
            "  warnings.warn(\n"
          ]
        },
        {
          "output_type": "stream",
          "name": "stdout",
          "text": [
            "Crawled (depth 2): https://datalab.unza.zm/people/wilkinssikazwe\n"
          ]
        },
        {
          "output_type": "stream",
          "name": "stderr",
          "text": [
            "/usr/local/lib/python3.12/dist-packages/urllib3/connectionpool.py:1097: InsecureRequestWarning: Unverified HTTPS request is being made to host 'datalab.unza.zm'. Adding certificate verification is strongly advised. See: https://urllib3.readthedocs.io/en/latest/advanced-usage.html#tls-warnings\n",
            "  warnings.warn(\n"
          ]
        },
        {
          "output_type": "stream",
          "name": "stdout",
          "text": [
            "Crawled (depth 2): https://datalab.unza.zm/people/richardmufuzi\n"
          ]
        },
        {
          "output_type": "stream",
          "name": "stderr",
          "text": [
            "/usr/local/lib/python3.12/dist-packages/urllib3/connectionpool.py:1097: InsecureRequestWarning: Unverified HTTPS request is being made to host 'datalab.unza.zm'. Adding certificate verification is strongly advised. See: https://urllib3.readthedocs.io/en/latest/advanced-usage.html#tls-warnings\n",
            "  warnings.warn(\n"
          ]
        },
        {
          "output_type": "stream",
          "name": "stdout",
          "text": [
            "Crawled (depth 2): https://datalab.unza.zm/people/johnmwanza\n"
          ]
        },
        {
          "output_type": "stream",
          "name": "stderr",
          "text": [
            "/usr/local/lib/python3.12/dist-packages/urllib3/connectionpool.py:1097: InsecureRequestWarning: Unverified HTTPS request is being made to host 'datalab.unza.zm'. Adding certificate verification is strongly advised. See: https://urllib3.readthedocs.io/en/latest/advanced-usage.html#tls-warnings\n",
            "  warnings.warn(\n"
          ]
        },
        {
          "output_type": "stream",
          "name": "stdout",
          "text": [
            "Crawled (depth 2): https://datalab.unza.zm/people/rectornjobvu\n"
          ]
        },
        {
          "output_type": "stream",
          "name": "stderr",
          "text": [
            "/usr/local/lib/python3.12/dist-packages/urllib3/connectionpool.py:1097: InsecureRequestWarning: Unverified HTTPS request is being made to host 'datalab.unza.zm'. Adding certificate verification is strongly advised. See: https://urllib3.readthedocs.io/en/latest/advanced-usage.html#tls-warnings\n",
            "  warnings.warn(\n"
          ]
        },
        {
          "output_type": "stream",
          "name": "stdout",
          "text": [
            "Crawled (depth 2): https://datalab.unza.zm/people/hazelbowa\n"
          ]
        },
        {
          "output_type": "stream",
          "name": "stderr",
          "text": [
            "/usr/local/lib/python3.12/dist-packages/urllib3/connectionpool.py:1097: InsecureRequestWarning: Unverified HTTPS request is being made to host 'datalab.unza.zm'. Adding certificate verification is strongly advised. See: https://urllib3.readthedocs.io/en/latest/advanced-usage.html#tls-warnings\n",
            "  warnings.warn(\n"
          ]
        },
        {
          "output_type": "stream",
          "name": "stdout",
          "text": [
            "Crawled (depth 2): https://datalab.unza.zm/people/lindamwanza\n"
          ]
        },
        {
          "output_type": "stream",
          "name": "stderr",
          "text": [
            "/usr/local/lib/python3.12/dist-packages/urllib3/connectionpool.py:1097: InsecureRequestWarning: Unverified HTTPS request is being made to host 'datalab.unza.zm'. Adding certificate verification is strongly advised. See: https://urllib3.readthedocs.io/en/latest/advanced-usage.html#tls-warnings\n",
            "  warnings.warn(\n"
          ]
        },
        {
          "output_type": "stream",
          "name": "stdout",
          "text": [
            "Crawled (depth 2): https://datalab.unza.zm/people/blessedmakungu\n"
          ]
        },
        {
          "output_type": "stream",
          "name": "stderr",
          "text": [
            "/usr/local/lib/python3.12/dist-packages/urllib3/connectionpool.py:1097: InsecureRequestWarning: Unverified HTTPS request is being made to host 'datalab.unza.zm'. Adding certificate verification is strongly advised. See: https://urllib3.readthedocs.io/en/latest/advanced-usage.html#tls-warnings\n",
            "  warnings.warn(\n"
          ]
        },
        {
          "output_type": "stream",
          "name": "stdout",
          "text": [
            "Crawled (depth 2): https://datalab.unza.zm/people/brightonmwaba\n"
          ]
        },
        {
          "output_type": "stream",
          "name": "stderr",
          "text": [
            "/usr/local/lib/python3.12/dist-packages/urllib3/connectionpool.py:1097: InsecureRequestWarning: Unverified HTTPS request is being made to host 'datalab.unza.zm'. Adding certificate verification is strongly advised. See: https://urllib3.readthedocs.io/en/latest/advanced-usage.html#tls-warnings\n",
            "  warnings.warn(\n"
          ]
        },
        {
          "output_type": "stream",
          "name": "stdout",
          "text": [
            "Crawled (depth 2): https://datalab.unza.zm/people/prudencebule\n"
          ]
        },
        {
          "output_type": "stream",
          "name": "stderr",
          "text": [
            "/usr/local/lib/python3.12/dist-packages/urllib3/connectionpool.py:1097: InsecureRequestWarning: Unverified HTTPS request is being made to host 'datalab.unza.zm'. Adding certificate verification is strongly advised. See: https://urllib3.readthedocs.io/en/latest/advanced-usage.html#tls-warnings\n",
            "  warnings.warn(\n"
          ]
        },
        {
          "output_type": "stream",
          "name": "stdout",
          "text": [
            "Crawled (depth 2): https://datalab.unza.zm/people/prudencemwendaluta\n"
          ]
        },
        {
          "output_type": "stream",
          "name": "stderr",
          "text": [
            "/usr/local/lib/python3.12/dist-packages/urllib3/connectionpool.py:1097: InsecureRequestWarning: Unverified HTTPS request is being made to host 'datalab.unza.zm'. Adding certificate verification is strongly advised. See: https://urllib3.readthedocs.io/en/latest/advanced-usage.html#tls-warnings\n",
            "  warnings.warn(\n"
          ]
        },
        {
          "output_type": "stream",
          "name": "stdout",
          "text": [
            "Crawled (depth 2): https://datalab.unza.zm/people/nkolemulenga\n"
          ]
        },
        {
          "output_type": "stream",
          "name": "stderr",
          "text": [
            "/usr/local/lib/python3.12/dist-packages/urllib3/connectionpool.py:1097: InsecureRequestWarning: Unverified HTTPS request is being made to host 'datalab.unza.zm'. Adding certificate verification is strongly advised. See: https://urllib3.readthedocs.io/en/latest/advanced-usage.html#tls-warnings\n",
            "  warnings.warn(\n"
          ]
        },
        {
          "output_type": "stream",
          "name": "stdout",
          "text": [
            "Crawled (depth 2): https://datalab.unza.zm/people/geoffreyngoma\n"
          ]
        },
        {
          "output_type": "stream",
          "name": "stderr",
          "text": [
            "/usr/local/lib/python3.12/dist-packages/urllib3/connectionpool.py:1097: InsecureRequestWarning: Unverified HTTPS request is being made to host 'datalab.unza.zm'. Adding certificate verification is strongly advised. See: https://urllib3.readthedocs.io/en/latest/advanced-usage.html#tls-warnings\n",
            "  warnings.warn(\n"
          ]
        },
        {
          "output_type": "stream",
          "name": "stdout",
          "text": [
            "Crawled (depth 2): https://datalab.unza.zm/people/towelakalikeka\n"
          ]
        },
        {
          "output_type": "stream",
          "name": "stderr",
          "text": [
            "/usr/local/lib/python3.12/dist-packages/urllib3/connectionpool.py:1097: InsecureRequestWarning: Unverified HTTPS request is being made to host 'datalab.unza.zm'. Adding certificate verification is strongly advised. See: https://urllib3.readthedocs.io/en/latest/advanced-usage.html#tls-warnings\n",
            "  warnings.warn(\n"
          ]
        },
        {
          "output_type": "stream",
          "name": "stdout",
          "text": [
            "Crawled (depth 2): https://datalab.unza.zm/people/maindachuulu\n"
          ]
        },
        {
          "output_type": "stream",
          "name": "stderr",
          "text": [
            "/usr/local/lib/python3.12/dist-packages/urllib3/connectionpool.py:1097: InsecureRequestWarning: Unverified HTTPS request is being made to host 'datalab.unza.zm'. Adding certificate verification is strongly advised. See: https://urllib3.readthedocs.io/en/latest/advanced-usage.html#tls-warnings\n",
            "  warnings.warn(\n"
          ]
        },
        {
          "output_type": "stream",
          "name": "stdout",
          "text": [
            "Crawled (depth 2): https://datalab.unza.zm/people/memoryphiri\n"
          ]
        },
        {
          "output_type": "stream",
          "name": "stderr",
          "text": [
            "/usr/local/lib/python3.12/dist-packages/urllib3/connectionpool.py:1097: InsecureRequestWarning: Unverified HTTPS request is being made to host 'datalab.unza.zm'. Adding certificate verification is strongly advised. See: https://urllib3.readthedocs.io/en/latest/advanced-usage.html#tls-warnings\n",
            "  warnings.warn(\n"
          ]
        },
        {
          "output_type": "stream",
          "name": "stdout",
          "text": [
            "Crawled (depth 2): https://datalab.unza.zm/people/kamfwachileshe\n"
          ]
        },
        {
          "output_type": "stream",
          "name": "stderr",
          "text": [
            "/usr/local/lib/python3.12/dist-packages/urllib3/connectionpool.py:1097: InsecureRequestWarning: Unverified HTTPS request is being made to host 'datalab.unza.zm'. Adding certificate verification is strongly advised. See: https://urllib3.readthedocs.io/en/latest/advanced-usage.html#tls-warnings\n",
            "  warnings.warn(\n"
          ]
        },
        {
          "output_type": "stream",
          "name": "stdout",
          "text": [
            "Crawled (depth 2): https://datalab.unza.zm/people/chandachilufya\n"
          ]
        },
        {
          "output_type": "stream",
          "name": "stderr",
          "text": [
            "/usr/local/lib/python3.12/dist-packages/urllib3/connectionpool.py:1097: InsecureRequestWarning: Unverified HTTPS request is being made to host 'datalab.unza.zm'. Adding certificate verification is strongly advised. See: https://urllib3.readthedocs.io/en/latest/advanced-usage.html#tls-warnings\n",
            "  warnings.warn(\n"
          ]
        },
        {
          "output_type": "stream",
          "name": "stdout",
          "text": [
            "Crawled (depth 2): https://datalab.unza.zm/people/emmanuelphiri\n"
          ]
        },
        {
          "output_type": "stream",
          "name": "stderr",
          "text": [
            "/usr/local/lib/python3.12/dist-packages/urllib3/connectionpool.py:1097: InsecureRequestWarning: Unverified HTTPS request is being made to host 'datalab.unza.zm'. Adding certificate verification is strongly advised. See: https://urllib3.readthedocs.io/en/latest/advanced-usage.html#tls-warnings\n",
            "  warnings.warn(\n"
          ]
        },
        {
          "output_type": "stream",
          "name": "stdout",
          "text": [
            "Crawled (depth 2): https://datalab.unza.zm/people/castridahnachibinga\n"
          ]
        },
        {
          "output_type": "stream",
          "name": "stderr",
          "text": [
            "/usr/local/lib/python3.12/dist-packages/urllib3/connectionpool.py:1097: InsecureRequestWarning: Unverified HTTPS request is being made to host 'datalab.unza.zm'. Adding certificate verification is strongly advised. See: https://urllib3.readthedocs.io/en/latest/advanced-usage.html#tls-warnings\n",
            "  warnings.warn(\n"
          ]
        },
        {
          "output_type": "stream",
          "name": "stdout",
          "text": [
            "Crawled (depth 2): https://datalab.unza.zm/people/ernestsinyangwe\n"
          ]
        },
        {
          "output_type": "stream",
          "name": "stderr",
          "text": [
            "/usr/local/lib/python3.12/dist-packages/urllib3/connectionpool.py:1097: InsecureRequestWarning: Unverified HTTPS request is being made to host 'datalab.unza.zm'. Adding certificate verification is strongly advised. See: https://urllib3.readthedocs.io/en/latest/advanced-usage.html#tls-warnings\n",
            "  warnings.warn(\n"
          ]
        },
        {
          "output_type": "stream",
          "name": "stdout",
          "text": [
            "Crawled (depth 2): https://datalab.unza.zm/people/chabunamwila\n"
          ]
        },
        {
          "output_type": "stream",
          "name": "stderr",
          "text": [
            "/usr/local/lib/python3.12/dist-packages/urllib3/connectionpool.py:1097: InsecureRequestWarning: Unverified HTTPS request is being made to host 'datalab.unza.zm'. Adding certificate verification is strongly advised. See: https://urllib3.readthedocs.io/en/latest/advanced-usage.html#tls-warnings\n",
            "  warnings.warn(\n"
          ]
        },
        {
          "output_type": "stream",
          "name": "stdout",
          "text": [
            "Crawled (depth 2): https://datalab.unza.zm/people/austinmonde\n"
          ]
        },
        {
          "output_type": "stream",
          "name": "stderr",
          "text": [
            "/usr/local/lib/python3.12/dist-packages/urllib3/connectionpool.py:1097: InsecureRequestWarning: Unverified HTTPS request is being made to host 'datalab.unza.zm'. Adding certificate verification is strongly advised. See: https://urllib3.readthedocs.io/en/latest/advanced-usage.html#tls-warnings\n",
            "  warnings.warn(\n"
          ]
        },
        {
          "output_type": "stream",
          "name": "stdout",
          "text": [
            "Crawled (depth 2): https://datalab.unza.zm/people/petertembo\n"
          ]
        },
        {
          "output_type": "stream",
          "name": "stderr",
          "text": [
            "/usr/local/lib/python3.12/dist-packages/urllib3/connectionpool.py:1097: InsecureRequestWarning: Unverified HTTPS request is being made to host 'datalab.unza.zm'. Adding certificate verification is strongly advised. See: https://urllib3.readthedocs.io/en/latest/advanced-usage.html#tls-warnings\n",
            "  warnings.warn(\n"
          ]
        },
        {
          "output_type": "stream",
          "name": "stdout",
          "text": [
            "Crawled (depth 2): https://datalab.unza.zm/people/martinkambunji\n"
          ]
        },
        {
          "output_type": "stream",
          "name": "stderr",
          "text": [
            "/usr/local/lib/python3.12/dist-packages/urllib3/connectionpool.py:1097: InsecureRequestWarning: Unverified HTTPS request is being made to host 'datalab.unza.zm'. Adding certificate verification is strongly advised. See: https://urllib3.readthedocs.io/en/latest/advanced-usage.html#tls-warnings\n",
            "  warnings.warn(\n"
          ]
        },
        {
          "output_type": "stream",
          "name": "stdout",
          "text": [
            "Crawled (depth 2): https://datalab.unza.zm/people/patrickmwila\n"
          ]
        },
        {
          "output_type": "stream",
          "name": "stderr",
          "text": [
            "/usr/local/lib/python3.12/dist-packages/urllib3/connectionpool.py:1097: InsecureRequestWarning: Unverified HTTPS request is being made to host 'datalab.unza.zm'. Adding certificate verification is strongly advised. See: https://urllib3.readthedocs.io/en/latest/advanced-usage.html#tls-warnings\n",
            "  warnings.warn(\n"
          ]
        },
        {
          "output_type": "stream",
          "name": "stdout",
          "text": [
            "Crawled (depth 2): https://datalab.unza.zm/people/joemwape\n"
          ]
        },
        {
          "output_type": "stream",
          "name": "stderr",
          "text": [
            "/usr/local/lib/python3.12/dist-packages/urllib3/connectionpool.py:1097: InsecureRequestWarning: Unverified HTTPS request is being made to host 'datalab.unza.zm'. Adding certificate verification is strongly advised. See: https://urllib3.readthedocs.io/en/latest/advanced-usage.html#tls-warnings\n",
            "  warnings.warn(\n"
          ]
        },
        {
          "output_type": "stream",
          "name": "stdout",
          "text": [
            "Crawled (depth 2): https://datalab.unza.zm/people/lweendomuzyamba\n"
          ]
        },
        {
          "output_type": "stream",
          "name": "stderr",
          "text": [
            "/usr/local/lib/python3.12/dist-packages/urllib3/connectionpool.py:1097: InsecureRequestWarning: Unverified HTTPS request is being made to host 'datalab.unza.zm'. Adding certificate verification is strongly advised. See: https://urllib3.readthedocs.io/en/latest/advanced-usage.html#tls-warnings\n",
            "  warnings.warn(\n"
          ]
        },
        {
          "output_type": "stream",
          "name": "stdout",
          "text": [
            "Crawled (depth 2): https://datalab.unza.zm/people/chandachisanga\n"
          ]
        },
        {
          "output_type": "stream",
          "name": "stderr",
          "text": [
            "/usr/local/lib/python3.12/dist-packages/urllib3/connectionpool.py:1097: InsecureRequestWarning: Unverified HTTPS request is being made to host 'datalab.unza.zm'. Adding certificate verification is strongly advised. See: https://urllib3.readthedocs.io/en/latest/advanced-usage.html#tls-warnings\n",
            "  warnings.warn(\n"
          ]
        },
        {
          "output_type": "stream",
          "name": "stdout",
          "text": [
            "Crawled (depth 2): https://datalab.unza.zm/people/christabelchalwe\n"
          ]
        },
        {
          "output_type": "stream",
          "name": "stderr",
          "text": [
            "/usr/local/lib/python3.12/dist-packages/urllib3/connectionpool.py:1097: InsecureRequestWarning: Unverified HTTPS request is being made to host 'datalab.unza.zm'. Adding certificate verification is strongly advised. See: https://urllib3.readthedocs.io/en/latest/advanced-usage.html#tls-warnings\n",
            "  warnings.warn(\n"
          ]
        },
        {
          "output_type": "stream",
          "name": "stdout",
          "text": [
            "Crawled (depth 2): https://datalab.unza.zm/people/setwellmuleya\n"
          ]
        },
        {
          "output_type": "stream",
          "name": "stderr",
          "text": [
            "/usr/local/lib/python3.12/dist-packages/urllib3/connectionpool.py:1097: InsecureRequestWarning: Unverified HTTPS request is being made to host 'datalab.unza.zm'. Adding certificate verification is strongly advised. See: https://urllib3.readthedocs.io/en/latest/advanced-usage.html#tls-warnings\n",
            "  warnings.warn(\n"
          ]
        },
        {
          "output_type": "stream",
          "name": "stdout",
          "text": [
            "Crawled (depth 2): https://datalab.unza.zm/people/lwimeshansonga\n"
          ]
        },
        {
          "output_type": "stream",
          "name": "stderr",
          "text": [
            "/usr/local/lib/python3.12/dist-packages/urllib3/connectionpool.py:1097: InsecureRequestWarning: Unverified HTTPS request is being made to host 'datalab.unza.zm'. Adding certificate verification is strongly advised. See: https://urllib3.readthedocs.io/en/latest/advanced-usage.html#tls-warnings\n",
            "  warnings.warn(\n"
          ]
        },
        {
          "output_type": "stream",
          "name": "stdout",
          "text": [
            "Crawled (depth 2): https://datalab.unza.zm/people/albertinahmooka\n"
          ]
        },
        {
          "output_type": "stream",
          "name": "stderr",
          "text": [
            "/usr/local/lib/python3.12/dist-packages/urllib3/connectionpool.py:1097: InsecureRequestWarning: Unverified HTTPS request is being made to host 'datalab.unza.zm'. Adding certificate verification is strongly advised. See: https://urllib3.readthedocs.io/en/latest/advanced-usage.html#tls-warnings\n",
            "  warnings.warn(\n"
          ]
        },
        {
          "output_type": "stream",
          "name": "stdout",
          "text": [
            "Crawled (depth 2): https://datalab.unza.zm/people/peterdaka\n"
          ]
        },
        {
          "output_type": "stream",
          "name": "stderr",
          "text": [
            "/usr/local/lib/python3.12/dist-packages/urllib3/connectionpool.py:1097: InsecureRequestWarning: Unverified HTTPS request is being made to host 'datalab.unza.zm'. Adding certificate verification is strongly advised. See: https://urllib3.readthedocs.io/en/latest/advanced-usage.html#tls-warnings\n",
            "  warnings.warn(\n"
          ]
        },
        {
          "output_type": "stream",
          "name": "stdout",
          "text": [
            "Crawled (depth 2): https://datalab.unza.zm/people/lloydhangoma\n"
          ]
        },
        {
          "output_type": "stream",
          "name": "stderr",
          "text": [
            "/usr/local/lib/python3.12/dist-packages/urllib3/connectionpool.py:1097: InsecureRequestWarning: Unverified HTTPS request is being made to host 'datalab.unza.zm'. Adding certificate verification is strongly advised. See: https://urllib3.readthedocs.io/en/latest/advanced-usage.html#tls-warnings\n",
            "  warnings.warn(\n"
          ]
        },
        {
          "output_type": "stream",
          "name": "stdout",
          "text": [
            "Crawled (depth 2): https://datalab.unza.zm/people/davidtembo\n"
          ]
        },
        {
          "output_type": "stream",
          "name": "stderr",
          "text": [
            "/usr/local/lib/python3.12/dist-packages/urllib3/connectionpool.py:1097: InsecureRequestWarning: Unverified HTTPS request is being made to host 'datalab.unza.zm'. Adding certificate verification is strongly advised. See: https://urllib3.readthedocs.io/en/latest/advanced-usage.html#tls-warnings\n",
            "  warnings.warn(\n"
          ]
        },
        {
          "output_type": "stream",
          "name": "stdout",
          "text": [
            "Crawled (depth 2): https://datalab.unza.zm/people/giftmuwele\n"
          ]
        },
        {
          "output_type": "stream",
          "name": "stderr",
          "text": [
            "/usr/local/lib/python3.12/dist-packages/urllib3/connectionpool.py:1097: InsecureRequestWarning: Unverified HTTPS request is being made to host 'datalab.unza.zm'. Adding certificate verification is strongly advised. See: https://urllib3.readthedocs.io/en/latest/advanced-usage.html#tls-warnings\n",
            "  warnings.warn(\n"
          ]
        },
        {
          "output_type": "stream",
          "name": "stdout",
          "text": [
            "Crawled (depth 2): https://datalab.unza.zm/people/kangwamukuka\n"
          ]
        },
        {
          "output_type": "stream",
          "name": "stderr",
          "text": [
            "/usr/local/lib/python3.12/dist-packages/urllib3/connectionpool.py:1097: InsecureRequestWarning: Unverified HTTPS request is being made to host 'datalab.unza.zm'. Adding certificate verification is strongly advised. See: https://urllib3.readthedocs.io/en/latest/advanced-usage.html#tls-warnings\n",
            "  warnings.warn(\n"
          ]
        },
        {
          "output_type": "stream",
          "name": "stdout",
          "text": [
            "Crawled (depth 2): https://datalab.unza.zm/people/alicephiri\n"
          ]
        },
        {
          "output_type": "stream",
          "name": "stderr",
          "text": [
            "/usr/local/lib/python3.12/dist-packages/urllib3/connectionpool.py:1097: InsecureRequestWarning: Unverified HTTPS request is being made to host 'datalab.unza.zm'. Adding certificate verification is strongly advised. See: https://urllib3.readthedocs.io/en/latest/advanced-usage.html#tls-warnings\n",
            "  warnings.warn(\n"
          ]
        },
        {
          "output_type": "stream",
          "name": "stdout",
          "text": [
            "Crawled (depth 2): https://datalab.unza.zm/people/chiyembekezokondwanidaka\n"
          ]
        },
        {
          "output_type": "stream",
          "name": "stderr",
          "text": [
            "/usr/local/lib/python3.12/dist-packages/urllib3/connectionpool.py:1097: InsecureRequestWarning: Unverified HTTPS request is being made to host 'datalab.unza.zm'. Adding certificate verification is strongly advised. See: https://urllib3.readthedocs.io/en/latest/advanced-usage.html#tls-warnings\n",
            "  warnings.warn(\n"
          ]
        },
        {
          "output_type": "stream",
          "name": "stdout",
          "text": [
            "Crawled (depth 2): https://datalab.unza.zm/people/thofaimtonga\n"
          ]
        },
        {
          "output_type": "stream",
          "name": "stderr",
          "text": [
            "/usr/local/lib/python3.12/dist-packages/urllib3/connectionpool.py:1097: InsecureRequestWarning: Unverified HTTPS request is being made to host 'datalab.unza.zm'. Adding certificate verification is strongly advised. See: https://urllib3.readthedocs.io/en/latest/advanced-usage.html#tls-warnings\n",
            "  warnings.warn(\n"
          ]
        },
        {
          "output_type": "stream",
          "name": "stdout",
          "text": [
            "Crawled (depth 2): https://datalab.unza.zm/people/marvislungu\n"
          ]
        },
        {
          "output_type": "stream",
          "name": "stderr",
          "text": [
            "/usr/local/lib/python3.12/dist-packages/urllib3/connectionpool.py:1097: InsecureRequestWarning: Unverified HTTPS request is being made to host 'datalab.unza.zm'. Adding certificate verification is strongly advised. See: https://urllib3.readthedocs.io/en/latest/advanced-usage.html#tls-warnings\n",
            "  warnings.warn(\n"
          ]
        },
        {
          "output_type": "stream",
          "name": "stdout",
          "text": [
            "Crawled (depth 2): https://datalab.unza.zm/people/amosmapili\n"
          ]
        },
        {
          "output_type": "stream",
          "name": "stderr",
          "text": [
            "/usr/local/lib/python3.12/dist-packages/urllib3/connectionpool.py:1097: InsecureRequestWarning: Unverified HTTPS request is being made to host 'datalab.unza.zm'. Adding certificate verification is strongly advised. See: https://urllib3.readthedocs.io/en/latest/advanced-usage.html#tls-warnings\n",
            "  warnings.warn(\n"
          ]
        },
        {
          "output_type": "stream",
          "name": "stdout",
          "text": [
            "Crawled (depth 2): https://datalab.unza.zm/people/mulengakatongo\n"
          ]
        },
        {
          "output_type": "stream",
          "name": "stderr",
          "text": [
            "/usr/local/lib/python3.12/dist-packages/urllib3/connectionpool.py:1097: InsecureRequestWarning: Unverified HTTPS request is being made to host 'datalab.unza.zm'. Adding certificate verification is strongly advised. See: https://urllib3.readthedocs.io/en/latest/advanced-usage.html#tls-warnings\n",
            "  warnings.warn(\n"
          ]
        },
        {
          "output_type": "stream",
          "name": "stdout",
          "text": [
            "Crawled (depth 2): https://datalab.unza.zm/people/festusmwape\n"
          ]
        },
        {
          "output_type": "stream",
          "name": "stderr",
          "text": [
            "/usr/local/lib/python3.12/dist-packages/urllib3/connectionpool.py:1097: InsecureRequestWarning: Unverified HTTPS request is being made to host 'datalab.unza.zm'. Adding certificate verification is strongly advised. See: https://urllib3.readthedocs.io/en/latest/advanced-usage.html#tls-warnings\n",
            "  warnings.warn(\n"
          ]
        },
        {
          "output_type": "stream",
          "name": "stdout",
          "text": [
            "Crawled (depth 2): https://datalab.unza.zm/people/kadeyokuyela\n"
          ]
        },
        {
          "output_type": "stream",
          "name": "stderr",
          "text": [
            "/usr/local/lib/python3.12/dist-packages/urllib3/connectionpool.py:1097: InsecureRequestWarning: Unverified HTTPS request is being made to host 'datalab.unza.zm'. Adding certificate verification is strongly advised. See: https://urllib3.readthedocs.io/en/latest/advanced-usage.html#tls-warnings\n",
            "  warnings.warn(\n"
          ]
        },
        {
          "output_type": "stream",
          "name": "stdout",
          "text": [
            "Crawled (depth 2): https://datalab.unza.zm/people/robertmsendo\n"
          ]
        },
        {
          "output_type": "stream",
          "name": "stderr",
          "text": [
            "/usr/local/lib/python3.12/dist-packages/urllib3/connectionpool.py:1097: InsecureRequestWarning: Unverified HTTPS request is being made to host 'datalab.unza.zm'. Adding certificate verification is strongly advised. See: https://urllib3.readthedocs.io/en/latest/advanced-usage.html#tls-warnings\n",
            "  warnings.warn(\n"
          ]
        },
        {
          "output_type": "stream",
          "name": "stdout",
          "text": [
            "Crawled (depth 2): https://datalab.unza.zm/people/angelabanda\n"
          ]
        },
        {
          "output_type": "stream",
          "name": "stderr",
          "text": [
            "/usr/local/lib/python3.12/dist-packages/urllib3/connectionpool.py:1097: InsecureRequestWarning: Unverified HTTPS request is being made to host 'datalab.unza.zm'. Adding certificate verification is strongly advised. See: https://urllib3.readthedocs.io/en/latest/advanced-usage.html#tls-warnings\n",
            "  warnings.warn(\n"
          ]
        },
        {
          "output_type": "stream",
          "name": "stdout",
          "text": [
            "Crawled (depth 2): https://datalab.unza.zm/people/dokowetembo\n"
          ]
        },
        {
          "output_type": "stream",
          "name": "stderr",
          "text": [
            "/usr/local/lib/python3.12/dist-packages/urllib3/connectionpool.py:1097: InsecureRequestWarning: Unverified HTTPS request is being made to host 'datalab.unza.zm'. Adding certificate verification is strongly advised. See: https://urllib3.readthedocs.io/en/latest/advanced-usage.html#tls-warnings\n",
            "  warnings.warn(\n"
          ]
        },
        {
          "output_type": "stream",
          "name": "stdout",
          "text": [
            "Crawled (depth 2): https://datalab.unza.zm/people/violetchama\n"
          ]
        },
        {
          "output_type": "stream",
          "name": "stderr",
          "text": [
            "/usr/local/lib/python3.12/dist-packages/urllib3/connectionpool.py:1097: InsecureRequestWarning: Unverified HTTPS request is being made to host 'datalab.unza.zm'. Adding certificate verification is strongly advised. See: https://urllib3.readthedocs.io/en/latest/advanced-usage.html#tls-warnings\n",
            "  warnings.warn(\n"
          ]
        },
        {
          "output_type": "stream",
          "name": "stdout",
          "text": [
            "Crawled (depth 2): https://datalab.unza.zm/people/matildahmuchinga\n"
          ]
        },
        {
          "output_type": "stream",
          "name": "stderr",
          "text": [
            "/usr/local/lib/python3.12/dist-packages/urllib3/connectionpool.py:1097: InsecureRequestWarning: Unverified HTTPS request is being made to host 'datalab.unza.zm'. Adding certificate verification is strongly advised. See: https://urllib3.readthedocs.io/en/latest/advanced-usage.html#tls-warnings\n",
            "  warnings.warn(\n"
          ]
        },
        {
          "output_type": "stream",
          "name": "stdout",
          "text": [
            "Crawled (depth 2): https://datalab.unza.zm/people/ceciliakasonde\n"
          ]
        },
        {
          "output_type": "stream",
          "name": "stderr",
          "text": [
            "/usr/local/lib/python3.12/dist-packages/urllib3/connectionpool.py:1097: InsecureRequestWarning: Unverified HTTPS request is being made to host 'datalab.unza.zm'. Adding certificate verification is strongly advised. See: https://urllib3.readthedocs.io/en/latest/advanced-usage.html#tls-warnings\n",
            "  warnings.warn(\n"
          ]
        },
        {
          "output_type": "stream",
          "name": "stdout",
          "text": [
            "Crawled (depth 2): https://datalab.unza.zm/people/adrianchisale\n"
          ]
        },
        {
          "output_type": "stream",
          "name": "stderr",
          "text": [
            "/usr/local/lib/python3.12/dist-packages/urllib3/connectionpool.py:1097: InsecureRequestWarning: Unverified HTTPS request is being made to host 'datalab.unza.zm'. Adding certificate verification is strongly advised. See: https://urllib3.readthedocs.io/en/latest/advanced-usage.html#tls-warnings\n",
            "  warnings.warn(\n"
          ]
        },
        {
          "output_type": "stream",
          "name": "stdout",
          "text": [
            "Crawled (depth 2): https://datalab.unza.zm/people/henrymwanza\n"
          ]
        },
        {
          "output_type": "stream",
          "name": "stderr",
          "text": [
            "/usr/local/lib/python3.12/dist-packages/urllib3/connectionpool.py:1097: InsecureRequestWarning: Unverified HTTPS request is being made to host 'datalab.unza.zm'. Adding certificate verification is strongly advised. See: https://urllib3.readthedocs.io/en/latest/advanced-usage.html#tls-warnings\n",
            "  warnings.warn(\n"
          ]
        },
        {
          "output_type": "stream",
          "name": "stdout",
          "text": [
            "Crawled (depth 2): https://datalab.unza.zm/people/martinmusonda\n"
          ]
        },
        {
          "output_type": "stream",
          "name": "stderr",
          "text": [
            "/usr/local/lib/python3.12/dist-packages/urllib3/connectionpool.py:1097: InsecureRequestWarning: Unverified HTTPS request is being made to host 'datalab.unza.zm'. Adding certificate verification is strongly advised. See: https://urllib3.readthedocs.io/en/latest/advanced-usage.html#tls-warnings\n",
            "  warnings.warn(\n"
          ]
        },
        {
          "output_type": "stream",
          "name": "stdout",
          "text": [
            "Crawled (depth 2): https://datalab.unza.zm/people/annettemulenga\n"
          ]
        },
        {
          "output_type": "stream",
          "name": "stderr",
          "text": [
            "/usr/local/lib/python3.12/dist-packages/urllib3/connectionpool.py:1097: InsecureRequestWarning: Unverified HTTPS request is being made to host 'datalab.unza.zm'. Adding certificate verification is strongly advised. See: https://urllib3.readthedocs.io/en/latest/advanced-usage.html#tls-warnings\n",
            "  warnings.warn(\n"
          ]
        },
        {
          "output_type": "stream",
          "name": "stdout",
          "text": [
            "Crawled (depth 2): https://datalab.unza.zm/people/elijahchileshe\n"
          ]
        },
        {
          "output_type": "stream",
          "name": "stderr",
          "text": [
            "/usr/local/lib/python3.12/dist-packages/urllib3/connectionpool.py:1097: InsecureRequestWarning: Unverified HTTPS request is being made to host 'datalab.unza.zm'. Adding certificate verification is strongly advised. See: https://urllib3.readthedocs.io/en/latest/advanced-usage.html#tls-warnings\n",
            "  warnings.warn(\n"
          ]
        },
        {
          "output_type": "stream",
          "name": "stdout",
          "text": [
            "Crawled (depth 2): https://datalab.unza.zm/people/malaizyomuzumala\n"
          ]
        },
        {
          "output_type": "stream",
          "name": "stderr",
          "text": [
            "/usr/local/lib/python3.12/dist-packages/urllib3/connectionpool.py:1097: InsecureRequestWarning: Unverified HTTPS request is being made to host 'datalab.unza.zm'. Adding certificate verification is strongly advised. See: https://urllib3.readthedocs.io/en/latest/advanced-usage.html#tls-warnings\n",
            "  warnings.warn(\n"
          ]
        },
        {
          "output_type": "stream",
          "name": "stdout",
          "text": [
            "Crawled (depth 2): https://datalab.unza.zm/people/angelanyirenda\n"
          ]
        },
        {
          "output_type": "stream",
          "name": "stderr",
          "text": [
            "/usr/local/lib/python3.12/dist-packages/urllib3/connectionpool.py:1097: InsecureRequestWarning: Unverified HTTPS request is being made to host 'datalab.unza.zm'. Adding certificate verification is strongly advised. See: https://urllib3.readthedocs.io/en/latest/advanced-usage.html#tls-warnings\n",
            "  warnings.warn(\n"
          ]
        },
        {
          "output_type": "stream",
          "name": "stdout",
          "text": [
            "Crawled (depth 2): https://datalab.unza.zm/people/henrysimunguzye\n"
          ]
        },
        {
          "output_type": "stream",
          "name": "stderr",
          "text": [
            "/usr/local/lib/python3.12/dist-packages/urllib3/connectionpool.py:1097: InsecureRequestWarning: Unverified HTTPS request is being made to host 'datalab.unza.zm'. Adding certificate verification is strongly advised. See: https://urllib3.readthedocs.io/en/latest/advanced-usage.html#tls-warnings\n",
            "  warnings.warn(\n"
          ]
        },
        {
          "output_type": "stream",
          "name": "stdout",
          "text": [
            "Crawled (depth 2): https://datalab.unza.zm/people/chisomosingogo\n"
          ]
        },
        {
          "output_type": "stream",
          "name": "stderr",
          "text": [
            "/usr/local/lib/python3.12/dist-packages/urllib3/connectionpool.py:1097: InsecureRequestWarning: Unverified HTTPS request is being made to host 'datalab.unza.zm'. Adding certificate verification is strongly advised. See: https://urllib3.readthedocs.io/en/latest/advanced-usage.html#tls-warnings\n",
            "  warnings.warn(\n"
          ]
        },
        {
          "output_type": "stream",
          "name": "stdout",
          "text": [
            "Crawled (depth 2): https://datalab.unza.zm/people/petrosndumba\n"
          ]
        },
        {
          "output_type": "stream",
          "name": "stderr",
          "text": [
            "/usr/local/lib/python3.12/dist-packages/urllib3/connectionpool.py:1097: InsecureRequestWarning: Unverified HTTPS request is being made to host 'datalab.unza.zm'. Adding certificate verification is strongly advised. See: https://urllib3.readthedocs.io/en/latest/advanced-usage.html#tls-warnings\n",
            "  warnings.warn(\n"
          ]
        },
        {
          "output_type": "stream",
          "name": "stdout",
          "text": [
            "Crawled (depth 2): https://datalab.unza.zm/people/ennetysiwila\n"
          ]
        },
        {
          "output_type": "stream",
          "name": "stderr",
          "text": [
            "/usr/local/lib/python3.12/dist-packages/urllib3/connectionpool.py:1097: InsecureRequestWarning: Unverified HTTPS request is being made to host 'datalab.unza.zm'. Adding certificate verification is strongly advised. See: https://urllib3.readthedocs.io/en/latest/advanced-usage.html#tls-warnings\n",
            "  warnings.warn(\n"
          ]
        },
        {
          "output_type": "stream",
          "name": "stdout",
          "text": [
            "Crawled (depth 2): https://datalab.unza.zm/people/frazernyambe\n"
          ]
        },
        {
          "output_type": "stream",
          "name": "stderr",
          "text": [
            "/usr/local/lib/python3.12/dist-packages/urllib3/connectionpool.py:1097: InsecureRequestWarning: Unverified HTTPS request is being made to host 'datalab.unza.zm'. Adding certificate verification is strongly advised. See: https://urllib3.readthedocs.io/en/latest/advanced-usage.html#tls-warnings\n",
            "  warnings.warn(\n"
          ]
        },
        {
          "output_type": "stream",
          "name": "stdout",
          "text": [
            "Crawled (depth 2): https://datalab.unza.zm/people/harrisshikapande\n"
          ]
        },
        {
          "output_type": "stream",
          "name": "stderr",
          "text": [
            "/usr/local/lib/python3.12/dist-packages/urllib3/connectionpool.py:1097: InsecureRequestWarning: Unverified HTTPS request is being made to host 'datalab.unza.zm'. Adding certificate verification is strongly advised. See: https://urllib3.readthedocs.io/en/latest/advanced-usage.html#tls-warnings\n",
            "  warnings.warn(\n"
          ]
        },
        {
          "output_type": "stream",
          "name": "stdout",
          "text": [
            "Crawled (depth 2): https://datalab.unza.zm/people/mubangachibesa\n"
          ]
        },
        {
          "output_type": "stream",
          "name": "stderr",
          "text": [
            "/usr/local/lib/python3.12/dist-packages/urllib3/connectionpool.py:1097: InsecureRequestWarning: Unverified HTTPS request is being made to host 'datalab.unza.zm'. Adding certificate verification is strongly advised. See: https://urllib3.readthedocs.io/en/latest/advanced-usage.html#tls-warnings\n",
            "  warnings.warn(\n"
          ]
        },
        {
          "output_type": "stream",
          "name": "stdout",
          "text": [
            "Crawled (depth 2): https://datalab.unza.zm/people/peterchibuta\n"
          ]
        },
        {
          "output_type": "stream",
          "name": "stderr",
          "text": [
            "/usr/local/lib/python3.12/dist-packages/urllib3/connectionpool.py:1097: InsecureRequestWarning: Unverified HTTPS request is being made to host 'datalab.unza.zm'. Adding certificate verification is strongly advised. See: https://urllib3.readthedocs.io/en/latest/advanced-usage.html#tls-warnings\n",
            "  warnings.warn(\n"
          ]
        },
        {
          "output_type": "stream",
          "name": "stdout",
          "text": [
            "Crawled (depth 2): https://datalab.unza.zm/people/ernestzulu\n"
          ]
        },
        {
          "output_type": "stream",
          "name": "stderr",
          "text": [
            "/usr/local/lib/python3.12/dist-packages/urllib3/connectionpool.py:1097: InsecureRequestWarning: Unverified HTTPS request is being made to host 'datalab.unza.zm'. Adding certificate verification is strongly advised. See: https://urllib3.readthedocs.io/en/latest/advanced-usage.html#tls-warnings\n",
            "  warnings.warn(\n"
          ]
        },
        {
          "output_type": "stream",
          "name": "stdout",
          "text": [
            "Crawled (depth 2): https://datalab.unza.zm/people/lightonphiri\n"
          ]
        },
        {
          "output_type": "stream",
          "name": "stderr",
          "text": [
            "/usr/local/lib/python3.12/dist-packages/urllib3/connectionpool.py:1097: InsecureRequestWarning: Unverified HTTPS request is being made to host 'datalab.unza.zm'. Adding certificate verification is strongly advised. See: https://urllib3.readthedocs.io/en/latest/advanced-usage.html#tls-warnings\n",
            "  warnings.warn(\n"
          ]
        },
        {
          "output_type": "stream",
          "name": "stdout",
          "text": [
            "Crawled (depth 2): https://datalab.unza.zm/people/rabsonmbewe\n"
          ]
        },
        {
          "output_type": "stream",
          "name": "stderr",
          "text": [
            "/usr/local/lib/python3.12/dist-packages/urllib3/connectionpool.py:1097: InsecureRequestWarning: Unverified HTTPS request is being made to host 'datalab.unza.zm'. Adding certificate verification is strongly advised. See: https://urllib3.readthedocs.io/en/latest/advanced-usage.html#tls-warnings\n",
            "  warnings.warn(\n"
          ]
        },
        {
          "output_type": "stream",
          "name": "stdout",
          "text": [
            "Crawled (depth 2): https://datalab.unza.zm/contact\n"
          ]
        },
        {
          "output_type": "stream",
          "name": "stderr",
          "text": [
            "/usr/local/lib/python3.12/dist-packages/urllib3/connectionpool.py:1097: InsecureRequestWarning: Unverified HTTPS request is being made to host 'datalab.unza.zm'. Adding certificate verification is strongly advised. See: https://urllib3.readthedocs.io/en/latest/advanced-usage.html#tls-warnings\n",
            "  warnings.warn(\n"
          ]
        },
        {
          "output_type": "stream",
          "name": "stdout",
          "text": [
            "Crawled (depth 2): https://datalab.unza.zm/people/past-members\n"
          ]
        },
        {
          "output_type": "stream",
          "name": "stderr",
          "text": [
            "/usr/local/lib/python3.12/dist-packages/urllib3/connectionpool.py:1097: InsecureRequestWarning: Unverified HTTPS request is being made to host 'datalab.unza.zm'. Adding certificate verification is strongly advised. See: https://urllib3.readthedocs.io/en/latest/advanced-usage.html#tls-warnings\n",
            "  warnings.warn(\n"
          ]
        },
        {
          "output_type": "stream",
          "name": "stdout",
          "text": [
            "Crawled (depth 2): https://datalab.unza.zm/people/current-members\n"
          ]
        },
        {
          "output_type": "stream",
          "name": "stderr",
          "text": [
            "/usr/local/lib/python3.12/dist-packages/urllib3/connectionpool.py:1097: InsecureRequestWarning: Unverified HTTPS request is being made to host 'datalab.unza.zm'. Adding certificate verification is strongly advised. See: https://urllib3.readthedocs.io/en/latest/advanced-usage.html#tls-warnings\n",
            "  warnings.warn(\n"
          ]
        },
        {
          "output_type": "stream",
          "name": "stdout",
          "text": [
            "Crawled (depth 2): https://datalab.unza.zm/services\n"
          ]
        },
        {
          "output_type": "stream",
          "name": "stderr",
          "text": [
            "/usr/local/lib/python3.12/dist-packages/urllib3/connectionpool.py:1097: InsecureRequestWarning: Unverified HTTPS request is being made to host 'datalab.unza.zm'. Adding certificate verification is strongly advised. See: https://urllib3.readthedocs.io/en/latest/advanced-usage.html#tls-warnings\n",
            "  warnings.warn(\n",
            "/usr/local/lib/python3.12/dist-packages/urllib3/connectionpool.py:1097: InsecureRequestWarning: Unverified HTTPS request is being made to host 'www.rda.org.zm'. Adding certificate verification is strongly advised. See: https://urllib3.readthedocs.io/en/latest/advanced-usage.html#tls-warnings\n",
            "  warnings.warn(\n"
          ]
        },
        {
          "output_type": "stream",
          "name": "stdout",
          "text": [
            "📄 Found PDF (1/50): https://www.rda.org.zm/wp-content/uploads/2023/09/THE-ROAD-TRAFFIC-ACT-2002.pdf\n",
            "Crawled (depth 2): https://datalab.unza.zm/projects/road-safety-in-zambia\n"
          ]
        },
        {
          "output_type": "stream",
          "name": "stderr",
          "text": [
            "/usr/local/lib/python3.12/dist-packages/urllib3/connectionpool.py:1097: InsecureRequestWarning: Unverified HTTPS request is being made to host 'datalab.unza.zm'. Adding certificate verification is strongly advised. See: https://urllib3.readthedocs.io/en/latest/advanced-usage.html#tls-warnings\n",
            "  warnings.warn(\n",
            "/usr/local/lib/python3.12/dist-packages/urllib3/connectionpool.py:1097: InsecureRequestWarning: Unverified HTTPS request is being made to host 'www.parliament.gov.zm'. Adding certificate verification is strongly advised. See: https://urllib3.readthedocs.io/en/latest/advanced-usage.html#tls-warnings\n",
            "  warnings.warn(\n"
          ]
        },
        {
          "output_type": "stream",
          "name": "stdout",
          "text": [
            "📄 Found PDF (2/50): https://www.parliament.gov.zm/sites/default/files/documents/pages/Strategic%20Plan%202022-2026.pdf\n",
            "Crawled (depth 2): https://datalab.unza.zm/projects/legal-and-legislative-documents\n"
          ]
        },
        {
          "output_type": "stream",
          "name": "stderr",
          "text": [
            "/usr/local/lib/python3.12/dist-packages/urllib3/connectionpool.py:1097: InsecureRequestWarning: Unverified HTTPS request is being made to host 'datalab.unza.zm'. Adding certificate verification is strongly advised. See: https://urllib3.readthedocs.io/en/latest/advanced-usage.html#tls-warnings\n",
            "  warnings.warn(\n"
          ]
        },
        {
          "output_type": "stream",
          "name": "stdout",
          "text": [
            "Crawled (depth 2): https://datalab.unza.zm/projects/wikipedia-in-the-global-south\n"
          ]
        },
        {
          "output_type": "stream",
          "name": "stderr",
          "text": [
            "/usr/local/lib/python3.12/dist-packages/urllib3/connectionpool.py:1097: InsecureRequestWarning: Unverified HTTPS request is being made to host 'datalab.unza.zm'. Adding certificate verification is strongly advised. See: https://urllib3.readthedocs.io/en/latest/advanced-usage.html#tls-warnings\n",
            "  warnings.warn(\n"
          ]
        },
        {
          "output_type": "stream",
          "name": "stdout",
          "text": [
            "Crawled (depth 2): https://datalab.unza.zm/projects/educational-data-mining\n"
          ]
        },
        {
          "output_type": "stream",
          "name": "stderr",
          "text": [
            "/usr/local/lib/python3.12/dist-packages/urllib3/connectionpool.py:1097: InsecureRequestWarning: Unverified HTTPS request is being made to host 'datalab.unza.zm'. Adding certificate verification is strongly advised. See: https://urllib3.readthedocs.io/en/latest/advanced-usage.html#tls-warnings\n",
            "  warnings.warn(\n"
          ]
        },
        {
          "output_type": "stream",
          "name": "stdout",
          "text": [
            "Crawled (depth 2): https://datalab.unza.zm/projects/zambia-national-etd-portal\n"
          ]
        },
        {
          "output_type": "stream",
          "name": "stderr",
          "text": [
            "/usr/local/lib/python3.12/dist-packages/urllib3/connectionpool.py:1097: InsecureRequestWarning: Unverified HTTPS request is being made to host 'datalab.unza.zm'. Adding certificate verification is strongly advised. See: https://urllib3.readthedocs.io/en/latest/advanced-usage.html#tls-warnings\n",
            "  warnings.warn(\n"
          ]
        },
        {
          "output_type": "stream",
          "name": "stdout",
          "text": [
            "Crawled (depth 2): https://datalab.unza.zm/projects/enterprise-medical-imaging\n"
          ]
        },
        {
          "output_type": "stream",
          "name": "stderr",
          "text": [
            "/usr/local/lib/python3.12/dist-packages/urllib3/connectionpool.py:1097: InsecureRequestWarning: Unverified HTTPS request is being made to host 'datalab.unza.zm'. Adding certificate verification is strongly advised. See: https://urllib3.readthedocs.io/en/latest/advanced-usage.html#tls-warnings\n",
            "  warnings.warn(\n"
          ]
        },
        {
          "output_type": "stream",
          "name": "stdout",
          "text": [
            "Crawled (depth 2): https://datalab.unza.zm/publications/technical-reports\n"
          ]
        },
        {
          "output_type": "stream",
          "name": "stderr",
          "text": [
            "/usr/local/lib/python3.12/dist-packages/urllib3/connectionpool.py:1097: InsecureRequestWarning: Unverified HTTPS request is being made to host 'datalab.unza.zm'. Adding certificate verification is strongly advised. See: https://urllib3.readthedocs.io/en/latest/advanced-usage.html#tls-warnings\n",
            "  warnings.warn(\n"
          ]
        },
        {
          "output_type": "stream",
          "name": "stdout",
          "text": [
            "Crawled (depth 2): https://datalab.unza.zm/publications/capstone-project-reports\n"
          ]
        },
        {
          "output_type": "stream",
          "name": "stderr",
          "text": [
            "/usr/local/lib/python3.12/dist-packages/urllib3/connectionpool.py:1097: InsecureRequestWarning: Unverified HTTPS request is being made to host 'datalab.unza.zm'. Adding certificate verification is strongly advised. See: https://urllib3.readthedocs.io/en/latest/advanced-usage.html#tls-warnings\n",
            "  warnings.warn(\n"
          ]
        },
        {
          "output_type": "stream",
          "name": "stdout",
          "text": [
            "Crawled (depth 2): https://datalab.unza.zm/publications/books\n"
          ]
        },
        {
          "output_type": "stream",
          "name": "stderr",
          "text": [
            "/usr/local/lib/python3.12/dist-packages/urllib3/connectionpool.py:1097: InsecureRequestWarning: Unverified HTTPS request is being made to host 'datalab.unza.zm'. Adding certificate verification is strongly advised. See: https://urllib3.readthedocs.io/en/latest/advanced-usage.html#tls-warnings\n",
            "  warnings.warn(\n"
          ]
        },
        {
          "output_type": "stream",
          "name": "stdout",
          "text": [
            "Crawled (depth 2): https://datalab.unza.zm/research/technology-enhanced-learning\n"
          ]
        },
        {
          "output_type": "stream",
          "name": "stderr",
          "text": [
            "/usr/local/lib/python3.12/dist-packages/urllib3/connectionpool.py:1097: InsecureRequestWarning: Unverified HTTPS request is being made to host 'datalab.unza.zm'. Adding certificate verification is strongly advised. See: https://urllib3.readthedocs.io/en/latest/advanced-usage.html#tls-warnings\n",
            "  warnings.warn(\n"
          ]
        },
        {
          "output_type": "stream",
          "name": "stdout",
          "text": [
            "Crawled (depth 2): https://datalab.unza.zm/research/digital-libraries\n"
          ]
        },
        {
          "output_type": "stream",
          "name": "stderr",
          "text": [
            "/usr/local/lib/python3.12/dist-packages/urllib3/connectionpool.py:1097: InsecureRequestWarning: Unverified HTTPS request is being made to host 'datalab.unza.zm'. Adding certificate verification is strongly advised. See: https://urllib3.readthedocs.io/en/latest/advanced-usage.html#tls-warnings\n",
            "  warnings.warn(\n"
          ]
        },
        {
          "output_type": "stream",
          "name": "stdout",
          "text": [
            "Crawled (depth 2): https://datalab.unza.zm/research/data-mining\n"
          ]
        },
        {
          "output_type": "stream",
          "name": "stderr",
          "text": [
            "/usr/local/lib/python3.12/dist-packages/urllib3/connectionpool.py:1097: InsecureRequestWarning: Unverified HTTPS request is being made to host 'datalab.unza.zm'. Adding certificate verification is strongly advised. See: https://urllib3.readthedocs.io/en/latest/advanced-usage.html#tls-warnings\n",
            "  warnings.warn(\n"
          ]
        },
        {
          "output_type": "stream",
          "name": "stdout",
          "text": [
            "Crawled (depth 2): https://datalab.unza.zm/people#main-content\n"
          ]
        },
        {
          "output_type": "stream",
          "name": "stderr",
          "text": [
            "/usr/local/lib/python3.12/dist-packages/urllib3/connectionpool.py:1097: InsecureRequestWarning: Unverified HTTPS request is being made to host 'datalab.unza.zm'. Adding certificate verification is strongly advised. See: https://urllib3.readthedocs.io/en/latest/advanced-usage.html#tls-warnings\n",
            "  warnings.warn(\n"
          ]
        },
        {
          "output_type": "stream",
          "name": "stdout",
          "text": [
            "Crawled (depth 1): https://datalab.unza.zm/projects\n"
          ]
        },
        {
          "output_type": "stream",
          "name": "stderr",
          "text": [
            "/usr/local/lib/python3.12/dist-packages/urllib3/connectionpool.py:1097: InsecureRequestWarning: Unverified HTTPS request is being made to host 'datalab.unza.zm'. Adding certificate verification is strongly advised. See: https://urllib3.readthedocs.io/en/latest/advanced-usage.html#tls-warnings\n",
            "  warnings.warn(\n",
            "/usr/local/lib/python3.12/dist-packages/urllib3/connectionpool.py:1097: InsecureRequestWarning: Unverified HTTPS request is being made to host 'datalab.unza.zm'. Adding certificate verification is strongly advised. See: https://urllib3.readthedocs.io/en/latest/advanced-usage.html#tls-warnings\n",
            "  warnings.warn(\n"
          ]
        },
        {
          "output_type": "stream",
          "name": "stdout",
          "text": [
            "📄 Found PDF (3/50): https://datalab.unza.zm/sites/default/files/2022-06/papers-ijmso21-ir_reclassification.pdf\n",
            "Crawled (depth 2): https://datalab.unza.zm/publications/20\n"
          ]
        },
        {
          "output_type": "stream",
          "name": "stderr",
          "text": [
            "/usr/local/lib/python3.12/dist-packages/urllib3/connectionpool.py:1097: InsecureRequestWarning: Unverified HTTPS request is being made to host 'datalab.unza.zm'. Adding certificate verification is strongly advised. See: https://urllib3.readthedocs.io/en/latest/advanced-usage.html#tls-warnings\n",
            "  warnings.warn(\n",
            "/usr/local/lib/python3.12/dist-packages/urllib3/connectionpool.py:1097: InsecureRequestWarning: Unverified HTTPS request is being made to host 'datalab.unza.zm'. Adding certificate verification is strongly advised. See: https://urllib3.readthedocs.io/en/latest/advanced-usage.html#tls-warnings\n",
            "  warnings.warn(\n"
          ]
        },
        {
          "output_type": "stream",
          "name": "stdout",
          "text": [
            "📄 Found PDF (4/50): https://datalab.unza.zm/sites/default/files/2022-05/papers-jcdl21-ir_controlled_vocabularies.pdf\n",
            "Crawled (depth 2): https://datalab.unza.zm/publications/28\n"
          ]
        },
        {
          "output_type": "stream",
          "name": "stderr",
          "text": [
            "/usr/local/lib/python3.12/dist-packages/urllib3/connectionpool.py:1097: InsecureRequestWarning: Unverified HTTPS request is being made to host 'datalab.unza.zm'. Adding certificate verification is strongly advised. See: https://urllib3.readthedocs.io/en/latest/advanced-usage.html#tls-warnings\n",
            "  warnings.warn(\n",
            "/usr/local/lib/python3.12/dist-packages/urllib3/connectionpool.py:1097: InsecureRequestWarning: Unverified HTTPS request is being made to host 'datalab.unza.zm'. Adding certificate verification is strongly advised. See: https://urllib3.readthedocs.io/en/latest/advanced-usage.html#tls-warnings\n",
            "  warnings.warn(\n"
          ]
        },
        {
          "output_type": "stream",
          "name": "stdout",
          "text": [
            "📄 Found PDF (5/50): https://datalab.unza.zm/sites/default/files/2023-08/paper-etd22-etdms_compliance.pdf\n",
            "Crawled (depth 2): https://datalab.unza.zm/bibcite/reference/42\n"
          ]
        },
        {
          "output_type": "stream",
          "name": "stderr",
          "text": [
            "/usr/local/lib/python3.12/dist-packages/urllib3/connectionpool.py:1097: InsecureRequestWarning: Unverified HTTPS request is being made to host 'datalab.unza.zm'. Adding certificate verification is strongly advised. See: https://urllib3.readthedocs.io/en/latest/advanced-usage.html#tls-warnings\n",
            "  warnings.warn(\n",
            "/usr/local/lib/python3.12/dist-packages/urllib3/connectionpool.py:1097: InsecureRequestWarning: Unverified HTTPS request is being made to host 'datalab.unza.zm'. Adding certificate verification is strongly advised. See: https://urllib3.readthedocs.io/en/latest/advanced-usage.html#tls-warnings\n",
            "  warnings.warn(\n"
          ]
        },
        {
          "output_type": "stream",
          "name": "stdout",
          "text": [
            "📄 Found PDF (6/50): https://datalab.unza.zm/sites/default/files/2023-12/paper-etd23-assessing_and_promoting_metadata_quality_using_policies.pdf\n",
            "Crawled (depth 2): https://datalab.unza.zm/bibcite/reference/47\n"
          ]
        },
        {
          "output_type": "stream",
          "name": "stderr",
          "text": [
            "/usr/local/lib/python3.12/dist-packages/urllib3/connectionpool.py:1097: InsecureRequestWarning: Unverified HTTPS request is being made to host 'datalab.unza.zm'. Adding certificate verification is strongly advised. See: https://urllib3.readthedocs.io/en/latest/advanced-usage.html#tls-warnings\n",
            "  warnings.warn(\n",
            "/usr/local/lib/python3.12/dist-packages/urllib3/connectionpool.py:1097: InsecureRequestWarning: Unverified HTTPS request is being made to host 'datalab.unza.zm'. Adding certificate verification is strongly advised. See: https://urllib3.readthedocs.io/en/latest/advanced-usage.html#tls-warnings\n",
            "  warnings.warn(\n"
          ]
        },
        {
          "output_type": "stream",
          "name": "stdout",
          "text": [
            "📄 Found PDF (7/50): https://datalab.unza.zm/sites/default/files/2023-12/paper-etd23-towards_metadata_completeness_for_improved_discoverability.pdf\n",
            "Crawled (depth 2): https://datalab.unza.zm/bibcite/reference/46\n"
          ]
        },
        {
          "output_type": "stream",
          "name": "stderr",
          "text": [
            "/usr/local/lib/python3.12/dist-packages/urllib3/connectionpool.py:1097: InsecureRequestWarning: Unverified HTTPS request is being made to host 'datalab.unza.zm'. Adding certificate verification is strongly advised. See: https://urllib3.readthedocs.io/en/latest/advanced-usage.html#tls-warnings\n",
            "  warnings.warn(\n"
          ]
        },
        {
          "output_type": "stream",
          "name": "stdout",
          "text": [
            "Crawled (depth 2): https://datalab.unza.zm/projects?page=1\n"
          ]
        },
        {
          "output_type": "stream",
          "name": "stderr",
          "text": [
            "/usr/local/lib/python3.12/dist-packages/urllib3/connectionpool.py:1097: InsecureRequestWarning: Unverified HTTPS request is being made to host 'datalab.unza.zm'. Adding certificate verification is strongly advised. See: https://urllib3.readthedocs.io/en/latest/advanced-usage.html#tls-warnings\n",
            "  warnings.warn(\n"
          ]
        },
        {
          "output_type": "stream",
          "name": "stdout",
          "text": [
            "Crawled (depth 2): https://datalab.unza.zm/projects?page=0\n"
          ]
        },
        {
          "output_type": "stream",
          "name": "stderr",
          "text": [
            "/usr/local/lib/python3.12/dist-packages/urllib3/connectionpool.py:1097: InsecureRequestWarning: Unverified HTTPS request is being made to host 'datalab.unza.zm'. Adding certificate verification is strongly advised. See: https://urllib3.readthedocs.io/en/latest/advanced-usage.html#tls-warnings\n",
            "  warnings.warn(\n"
          ]
        },
        {
          "output_type": "stream",
          "name": "stdout",
          "text": [
            "📄 Found PDF (8/50): http://41.63.1.14/sites/default/files/2022-05/paper-ista22-emi_opportunities_and_challenges.pdf\n",
            "Crawled (depth 2): https://datalab.unza.zm/bibcite/reference/37\n"
          ]
        },
        {
          "output_type": "stream",
          "name": "stderr",
          "text": [
            "/usr/local/lib/python3.12/dist-packages/urllib3/connectionpool.py:1097: InsecureRequestWarning: Unverified HTTPS request is being made to host 'datalab.unza.zm'. Adding certificate verification is strongly advised. See: https://urllib3.readthedocs.io/en/latest/advanced-usage.html#tls-warnings\n",
            "  warnings.warn(\n",
            "/usr/local/lib/python3.12/dist-packages/urllib3/connectionpool.py:1097: InsecureRequestWarning: Unverified HTTPS request is being made to host 'datalab.unza.zm'. Adding certificate verification is strongly advised. See: https://urllib3.readthedocs.io/en/latest/advanced-usage.html#tls-warnings\n",
            "  warnings.warn(\n"
          ]
        },
        {
          "output_type": "stream",
          "name": "stdout",
          "text": [
            "📄 Found PDF (9/50): https://datalab.unza.zm/sites/default/files/2023-12/reports-unza23-ict4014-monde_mwila_namwila_tembo_2.pdf\n",
            "Crawled (depth 2): https://datalab.unza.zm/publications/50\n"
          ]
        },
        {
          "output_type": "stream",
          "name": "stderr",
          "text": [
            "/usr/local/lib/python3.12/dist-packages/urllib3/connectionpool.py:1097: InsecureRequestWarning: Unverified HTTPS request is being made to host 'datalab.unza.zm'. Adding certificate verification is strongly advised. See: https://urllib3.readthedocs.io/en/latest/advanced-usage.html#tls-warnings\n",
            "  warnings.warn(\n",
            "/usr/local/lib/python3.12/dist-packages/urllib3/connectionpool.py:1097: InsecureRequestWarning: Unverified HTTPS request is being made to host 'datalab.unza.zm'. Adding certificate verification is strongly advised. See: https://urllib3.readthedocs.io/en/latest/advanced-usage.html#tls-warnings\n",
            "  warnings.warn(\n"
          ]
        },
        {
          "output_type": "stream",
          "name": "stdout",
          "text": [
            "📄 Found PDF (10/50): https://datalab.unza.zm/sites/default/files/2023-12/paper-icict23-software_tools_for_supporting_automatic_image_interpretation.pdf\n",
            "Crawled (depth 2): https://datalab.unza.zm/bibcite/reference/49\n"
          ]
        },
        {
          "output_type": "stream",
          "name": "stderr",
          "text": [
            "/usr/local/lib/python3.12/dist-packages/urllib3/connectionpool.py:1097: InsecureRequestWarning: Unverified HTTPS request is being made to host 'datalab.unza.zm'. Adding certificate verification is strongly advised. See: https://urllib3.readthedocs.io/en/latest/advanced-usage.html#tls-warnings\n",
            "  warnings.warn(\n",
            "/usr/local/lib/python3.12/dist-packages/urllib3/connectionpool.py:1097: InsecureRequestWarning: Unverified HTTPS request is being made to host 'datalab.unza.zm'. Adding certificate verification is strongly advised. See: https://urllib3.readthedocs.io/en/latest/advanced-usage.html#tls-warnings\n",
            "  warnings.warn(\n"
          ]
        },
        {
          "output_type": "stream",
          "name": "stdout",
          "text": [
            "📄 Found PDF (11/50): https://datalab.unza.zm/sites/default/files/2023-12/paper-icict23-large_scale_image_analysis.pdf\n",
            "Crawled (depth 2): https://datalab.unza.zm/bibcite/reference/48\n"
          ]
        },
        {
          "output_type": "stream",
          "name": "stderr",
          "text": [
            "/usr/local/lib/python3.12/dist-packages/urllib3/connectionpool.py:1097: InsecureRequestWarning: Unverified HTTPS request is being made to host 'datalab.unza.zm'. Adding certificate verification is strongly advised. See: https://urllib3.readthedocs.io/en/latest/advanced-usage.html#tls-warnings\n",
            "  warnings.warn(\n",
            "/usr/local/lib/python3.12/dist-packages/urllib3/connectionpool.py:1097: InsecureRequestWarning: Unverified HTTPS request is being made to host 'datalab.unza.zm'. Adding certificate verification is strongly advised. See: https://urllib3.readthedocs.io/en/latest/advanced-usage.html#tls-warnings\n",
            "  warnings.warn(\n"
          ]
        },
        {
          "output_type": "stream",
          "name": "stdout",
          "text": [
            "📄 Found PDF (12/50): https://datalab.unza.zm/sites/default/files/2023-12/papers-mtsr23-radiology_report_terminologies.pdf\n",
            "Crawled (depth 2): https://datalab.unza.zm/bibcite/reference/43\n"
          ]
        },
        {
          "output_type": "stream",
          "name": "stderr",
          "text": [
            "/usr/local/lib/python3.12/dist-packages/urllib3/connectionpool.py:1097: InsecureRequestWarning: Unverified HTTPS request is being made to host 'datalab.unza.zm'. Adding certificate verification is strongly advised. See: https://urllib3.readthedocs.io/en/latest/advanced-usage.html#tls-warnings\n",
            "  warnings.warn(\n"
          ]
        },
        {
          "output_type": "stream",
          "name": "stdout",
          "text": [
            "Crawled (depth 2): https://datalab.unza.zm/projects#main-content\n"
          ]
        },
        {
          "output_type": "stream",
          "name": "stderr",
          "text": [
            "/usr/local/lib/python3.12/dist-packages/urllib3/connectionpool.py:1097: InsecureRequestWarning: Unverified HTTPS request is being made to host 'datalab.unza.zm'. Adding certificate verification is strongly advised. See: https://urllib3.readthedocs.io/en/latest/advanced-usage.html#tls-warnings\n",
            "  warnings.warn(\n"
          ]
        },
        {
          "output_type": "stream",
          "name": "stdout",
          "text": [
            "Crawled (depth 1): https://datalab.unza.zm/research\n"
          ]
        },
        {
          "output_type": "stream",
          "name": "stderr",
          "text": [
            "/usr/local/lib/python3.12/dist-packages/urllib3/connectionpool.py:1097: InsecureRequestWarning: Unverified HTTPS request is being made to host 'datalab.unza.zm'. Adding certificate verification is strongly advised. See: https://urllib3.readthedocs.io/en/latest/advanced-usage.html#tls-warnings\n",
            "  warnings.warn(\n"
          ]
        },
        {
          "output_type": "stream",
          "name": "stdout",
          "text": [
            "Crawled (depth 2): https://datalab.unza.zm/index.php/people/prudencemwendaluta\n"
          ]
        },
        {
          "output_type": "stream",
          "name": "stderr",
          "text": [
            "/usr/local/lib/python3.12/dist-packages/urllib3/connectionpool.py:1097: InsecureRequestWarning: Unverified HTTPS request is being made to host 'datalab.unza.zm'. Adding certificate verification is strongly advised. See: https://urllib3.readthedocs.io/en/latest/advanced-usage.html#tls-warnings\n",
            "  warnings.warn(\n"
          ]
        },
        {
          "output_type": "stream",
          "name": "stdout",
          "text": [
            "Crawled (depth 2): https://datalab.unza.zm/index.php/people/hazelbowa\n"
          ]
        },
        {
          "output_type": "stream",
          "name": "stderr",
          "text": [
            "/usr/local/lib/python3.12/dist-packages/urllib3/connectionpool.py:1097: InsecureRequestWarning: Unverified HTTPS request is being made to host 'datalab.unza.zm'. Adding certificate verification is strongly advised. See: https://urllib3.readthedocs.io/en/latest/advanced-usage.html#tls-warnings\n",
            "  warnings.warn(\n"
          ]
        },
        {
          "output_type": "stream",
          "name": "stdout",
          "text": [
            "Crawled (depth 2): https://datalab.unza.zm/index.php/people/jeffersonndhlovu\n"
          ]
        },
        {
          "output_type": "stream",
          "name": "stderr",
          "text": [
            "/usr/local/lib/python3.12/dist-packages/urllib3/connectionpool.py:1097: InsecureRequestWarning: Unverified HTTPS request is being made to host 'datalab.unza.zm'. Adding certificate verification is strongly advised. See: https://urllib3.readthedocs.io/en/latest/advanced-usage.html#tls-warnings\n",
            "  warnings.warn(\n"
          ]
        },
        {
          "output_type": "stream",
          "name": "stdout",
          "text": [
            "Crawled (depth 2): https://datalab.unza.zm/index.php/people/mwangalanzila\n"
          ]
        },
        {
          "output_type": "stream",
          "name": "stderr",
          "text": [
            "/usr/local/lib/python3.12/dist-packages/urllib3/connectionpool.py:1097: InsecureRequestWarning: Unverified HTTPS request is being made to host 'datalab.unza.zm'. Adding certificate verification is strongly advised. See: https://urllib3.readthedocs.io/en/latest/advanced-usage.html#tls-warnings\n",
            "  warnings.warn(\n"
          ]
        },
        {
          "output_type": "stream",
          "name": "stdout",
          "text": [
            "Crawled (depth 2): https://datalab.unza.zm/index.php/people/inutulubinda\n"
          ]
        },
        {
          "output_type": "stream",
          "name": "stderr",
          "text": [
            "/usr/local/lib/python3.12/dist-packages/urllib3/connectionpool.py:1097: InsecureRequestWarning: Unverified HTTPS request is being made to host 'datalab.unza.zm'. Adding certificate verification is strongly advised. See: https://urllib3.readthedocs.io/en/latest/advanced-usage.html#tls-warnings\n",
            "  warnings.warn(\n"
          ]
        },
        {
          "output_type": "stream",
          "name": "stdout",
          "text": [
            "Crawled (depth 2): https://datalab.unza.zm/index.php/people/chengomapoma\n"
          ]
        },
        {
          "output_type": "stream",
          "name": "stderr",
          "text": [
            "/usr/local/lib/python3.12/dist-packages/urllib3/connectionpool.py:1097: InsecureRequestWarning: Unverified HTTPS request is being made to host 'datalab.unza.zm'. Adding certificate verification is strongly advised. See: https://urllib3.readthedocs.io/en/latest/advanced-usage.html#tls-warnings\n",
            "  warnings.warn(\n"
          ]
        },
        {
          "output_type": "stream",
          "name": "stdout",
          "text": [
            "Crawled (depth 2): https://datalab.unza.zm/index.php/people/macmillanmamamba\n"
          ]
        },
        {
          "output_type": "stream",
          "name": "stderr",
          "text": [
            "/usr/local/lib/python3.12/dist-packages/urllib3/connectionpool.py:1097: InsecureRequestWarning: Unverified HTTPS request is being made to host 'datalab.unza.zm'. Adding certificate verification is strongly advised. See: https://urllib3.readthedocs.io/en/latest/advanced-usage.html#tls-warnings\n",
            "  warnings.warn(\n"
          ]
        },
        {
          "output_type": "stream",
          "name": "stdout",
          "text": [
            "Crawled (depth 2): https://datalab.unza.zm/index.php/people/matthewslungu\n"
          ]
        },
        {
          "output_type": "stream",
          "name": "stderr",
          "text": [
            "/usr/local/lib/python3.12/dist-packages/urllib3/connectionpool.py:1097: InsecureRequestWarning: Unverified HTTPS request is being made to host 'datalab.unza.zm'. Adding certificate verification is strongly advised. See: https://urllib3.readthedocs.io/en/latest/advanced-usage.html#tls-warnings\n",
            "  warnings.warn(\n"
          ]
        },
        {
          "output_type": "stream",
          "name": "stdout",
          "text": [
            "Crawled (depth 2): https://datalab.unza.zm/index.php/people/monicanakazwe\n"
          ]
        },
        {
          "output_type": "stream",
          "name": "stderr",
          "text": [
            "/usr/local/lib/python3.12/dist-packages/urllib3/connectionpool.py:1097: InsecureRequestWarning: Unverified HTTPS request is being made to host 'datalab.unza.zm'. Adding certificate verification is strongly advised. See: https://urllib3.readthedocs.io/en/latest/advanced-usage.html#tls-warnings\n",
            "  warnings.warn(\n"
          ]
        },
        {
          "output_type": "stream",
          "name": "stdout",
          "text": [
            "Crawled (depth 2): https://datalab.unza.zm/index.php/people/noreenmwelwa\n"
          ]
        },
        {
          "output_type": "stream",
          "name": "stderr",
          "text": [
            "/usr/local/lib/python3.12/dist-packages/urllib3/connectionpool.py:1097: InsecureRequestWarning: Unverified HTTPS request is being made to host 'datalab.unza.zm'. Adding certificate verification is strongly advised. See: https://urllib3.readthedocs.io/en/latest/advanced-usage.html#tls-warnings\n",
            "  warnings.warn(\n"
          ]
        },
        {
          "output_type": "stream",
          "name": "stdout",
          "text": [
            "Crawled (depth 2): https://datalab.unza.zm/index.php/people/chishamwansa\n"
          ]
        },
        {
          "output_type": "stream",
          "name": "stderr",
          "text": [
            "/usr/local/lib/python3.12/dist-packages/urllib3/connectionpool.py:1097: InsecureRequestWarning: Unverified HTTPS request is being made to host 'datalab.unza.zm'. Adding certificate verification is strongly advised. See: https://urllib3.readthedocs.io/en/latest/advanced-usage.html#tls-warnings\n",
            "  warnings.warn(\n"
          ]
        },
        {
          "output_type": "stream",
          "name": "stdout",
          "text": [
            "Crawled (depth 2): https://datalab.unza.zm/index.php/people/lwiindimudimba\n"
          ]
        },
        {
          "output_type": "stream",
          "name": "stderr",
          "text": [
            "/usr/local/lib/python3.12/dist-packages/urllib3/connectionpool.py:1097: InsecureRequestWarning: Unverified HTTPS request is being made to host 'datalab.unza.zm'. Adding certificate verification is strongly advised. See: https://urllib3.readthedocs.io/en/latest/advanced-usage.html#tls-warnings\n",
            "  warnings.warn(\n"
          ]
        },
        {
          "output_type": "stream",
          "name": "stdout",
          "text": [
            "Crawled (depth 2): https://datalab.unza.zm/index.php/people/treasurechisakula\n"
          ]
        },
        {
          "output_type": "stream",
          "name": "stderr",
          "text": [
            "/usr/local/lib/python3.12/dist-packages/urllib3/connectionpool.py:1097: InsecureRequestWarning: Unverified HTTPS request is being made to host 'datalab.unza.zm'. Adding certificate verification is strongly advised. See: https://urllib3.readthedocs.io/en/latest/advanced-usage.html#tls-warnings\n",
            "  warnings.warn(\n"
          ]
        },
        {
          "output_type": "stream",
          "name": "stdout",
          "text": [
            "Crawled (depth 2): https://datalab.unza.zm/index.php/people/mwenyakayula\n"
          ]
        },
        {
          "output_type": "stream",
          "name": "stderr",
          "text": [
            "/usr/local/lib/python3.12/dist-packages/urllib3/connectionpool.py:1097: InsecureRequestWarning: Unverified HTTPS request is being made to host 'datalab.unza.zm'. Adding certificate verification is strongly advised. See: https://urllib3.readthedocs.io/en/latest/advanced-usage.html#tls-warnings\n",
            "  warnings.warn(\n"
          ]
        },
        {
          "output_type": "stream",
          "name": "stdout",
          "text": [
            "Crawled (depth 2): https://datalab.unza.zm/index.php/people/mirriamkamanga\n"
          ]
        },
        {
          "output_type": "stream",
          "name": "stderr",
          "text": [
            "/usr/local/lib/python3.12/dist-packages/urllib3/connectionpool.py:1097: InsecureRequestWarning: Unverified HTTPS request is being made to host 'datalab.unza.zm'. Adding certificate verification is strongly advised. See: https://urllib3.readthedocs.io/en/latest/advanced-usage.html#tls-warnings\n",
            "  warnings.warn(\n"
          ]
        },
        {
          "output_type": "stream",
          "name": "stdout",
          "text": [
            "Crawled (depth 2): https://datalab.unza.zm/index.php/people/elizabethchirwa\n"
          ]
        },
        {
          "output_type": "stream",
          "name": "stderr",
          "text": [
            "/usr/local/lib/python3.12/dist-packages/urllib3/connectionpool.py:1097: InsecureRequestWarning: Unverified HTTPS request is being made to host 'datalab.unza.zm'. Adding certificate verification is strongly advised. See: https://urllib3.readthedocs.io/en/latest/advanced-usage.html#tls-warnings\n",
            "  warnings.warn(\n"
          ]
        },
        {
          "output_type": "stream",
          "name": "stdout",
          "text": [
            "Crawled (depth 2): https://datalab.unza.zm/index.php/people/mulengachanda\n"
          ]
        },
        {
          "output_type": "stream",
          "name": "stderr",
          "text": [
            "/usr/local/lib/python3.12/dist-packages/urllib3/connectionpool.py:1097: InsecureRequestWarning: Unverified HTTPS request is being made to host 'datalab.unza.zm'. Adding certificate verification is strongly advised. See: https://urllib3.readthedocs.io/en/latest/advanced-usage.html#tls-warnings\n",
            "  warnings.warn(\n"
          ]
        },
        {
          "output_type": "stream",
          "name": "stdout",
          "text": [
            "Crawled (depth 2): https://datalab.unza.zm/index.php/people/kadeyokuyela\n"
          ]
        },
        {
          "output_type": "stream",
          "name": "stderr",
          "text": [
            "/usr/local/lib/python3.12/dist-packages/urllib3/connectionpool.py:1097: InsecureRequestWarning: Unverified HTTPS request is being made to host 'datalab.unza.zm'. Adding certificate verification is strongly advised. See: https://urllib3.readthedocs.io/en/latest/advanced-usage.html#tls-warnings\n",
            "  warnings.warn(\n"
          ]
        },
        {
          "output_type": "stream",
          "name": "stdout",
          "text": [
            "Crawled (depth 2): https://datalab.unza.zm/index.php/people/ennetysiwila\n"
          ]
        },
        {
          "output_type": "stream",
          "name": "stderr",
          "text": [
            "/usr/local/lib/python3.12/dist-packages/urllib3/connectionpool.py:1097: InsecureRequestWarning: Unverified HTTPS request is being made to host 'datalab.unza.zm'. Adding certificate verification is strongly advised. See: https://urllib3.readthedocs.io/en/latest/advanced-usage.html#tls-warnings\n",
            "  warnings.warn(\n"
          ]
        },
        {
          "output_type": "stream",
          "name": "stdout",
          "text": [
            "Crawled (depth 2): https://datalab.unza.zm/index.php/people/chiyembekezokondwanidaka\n"
          ]
        },
        {
          "output_type": "stream",
          "name": "stderr",
          "text": [
            "/usr/local/lib/python3.12/dist-packages/urllib3/connectionpool.py:1097: InsecureRequestWarning: Unverified HTTPS request is being made to host 'datalab.unza.zm'. Adding certificate verification is strongly advised. See: https://urllib3.readthedocs.io/en/latest/advanced-usage.html#tls-warnings\n",
            "  warnings.warn(\n"
          ]
        },
        {
          "output_type": "stream",
          "name": "stdout",
          "text": [
            "Crawled (depth 2): https://datalab.unza.zm/index.php/people/amosmapili\n"
          ]
        },
        {
          "output_type": "stream",
          "name": "stderr",
          "text": [
            "/usr/local/lib/python3.12/dist-packages/urllib3/connectionpool.py:1097: InsecureRequestWarning: Unverified HTTPS request is being made to host 'datalab.unza.zm'. Adding certificate verification is strongly advised. See: https://urllib3.readthedocs.io/en/latest/advanced-usage.html#tls-warnings\n",
            "  warnings.warn(\n"
          ]
        },
        {
          "output_type": "stream",
          "name": "stdout",
          "text": [
            "Crawled (depth 2): https://datalab.unza.zm/index.php/people/maindachuulu\n"
          ]
        },
        {
          "output_type": "stream",
          "name": "stderr",
          "text": [
            "/usr/local/lib/python3.12/dist-packages/urllib3/connectionpool.py:1097: InsecureRequestWarning: Unverified HTTPS request is being made to host 'datalab.unza.zm'. Adding certificate verification is strongly advised. See: https://urllib3.readthedocs.io/en/latest/advanced-usage.html#tls-warnings\n",
            "  warnings.warn(\n"
          ]
        },
        {
          "output_type": "stream",
          "name": "stdout",
          "text": [
            "Crawled (depth 2): https://datalab.unza.zm/index.php/people/memoryphiri\n"
          ]
        },
        {
          "output_type": "stream",
          "name": "stderr",
          "text": [
            "/usr/local/lib/python3.12/dist-packages/urllib3/connectionpool.py:1097: InsecureRequestWarning: Unverified HTTPS request is being made to host 'datalab.unza.zm'. Adding certificate verification is strongly advised. See: https://urllib3.readthedocs.io/en/latest/advanced-usage.html#tls-warnings\n",
            "  warnings.warn(\n"
          ]
        },
        {
          "output_type": "stream",
          "name": "stdout",
          "text": [
            "Crawled (depth 2): https://datalab.unza.zm/index.php/people/kamfwachileshe\n"
          ]
        },
        {
          "output_type": "stream",
          "name": "stderr",
          "text": [
            "/usr/local/lib/python3.12/dist-packages/urllib3/connectionpool.py:1097: InsecureRequestWarning: Unverified HTTPS request is being made to host 'datalab.unza.zm'. Adding certificate verification is strongly advised. See: https://urllib3.readthedocs.io/en/latest/advanced-usage.html#tls-warnings\n",
            "  warnings.warn(\n"
          ]
        },
        {
          "output_type": "stream",
          "name": "stdout",
          "text": [
            "Crawled (depth 2): https://datalab.unza.zm/index.php/people/chandachilufya\n"
          ]
        },
        {
          "output_type": "stream",
          "name": "stderr",
          "text": [
            "/usr/local/lib/python3.12/dist-packages/urllib3/connectionpool.py:1097: InsecureRequestWarning: Unverified HTTPS request is being made to host 'datalab.unza.zm'. Adding certificate verification is strongly advised. See: https://urllib3.readthedocs.io/en/latest/advanced-usage.html#tls-warnings\n",
            "  warnings.warn(\n"
          ]
        },
        {
          "output_type": "stream",
          "name": "stdout",
          "text": [
            "Crawled (depth 2): https://datalab.unza.zm/index.php/people/prudencebule\n"
          ]
        },
        {
          "output_type": "stream",
          "name": "stderr",
          "text": [
            "/usr/local/lib/python3.12/dist-packages/urllib3/connectionpool.py:1097: InsecureRequestWarning: Unverified HTTPS request is being made to host 'datalab.unza.zm'. Adding certificate verification is strongly advised. See: https://urllib3.readthedocs.io/en/latest/advanced-usage.html#tls-warnings\n",
            "  warnings.warn(\n"
          ]
        },
        {
          "output_type": "stream",
          "name": "stdout",
          "text": [
            "Crawled (depth 2): https://datalab.unza.zm/index.php/people/emmanuelkuyela\n"
          ]
        },
        {
          "output_type": "stream",
          "name": "stderr",
          "text": [
            "/usr/local/lib/python3.12/dist-packages/urllib3/connectionpool.py:1097: InsecureRequestWarning: Unverified HTTPS request is being made to host 'datalab.unza.zm'. Adding certificate verification is strongly advised. See: https://urllib3.readthedocs.io/en/latest/advanced-usage.html#tls-warnings\n",
            "  warnings.warn(\n"
          ]
        },
        {
          "output_type": "stream",
          "name": "stdout",
          "text": [
            "Crawled (depth 2): https://datalab.unza.zm/index.php/people/lindamwanza\n"
          ]
        },
        {
          "output_type": "stream",
          "name": "stderr",
          "text": [
            "/usr/local/lib/python3.12/dist-packages/urllib3/connectionpool.py:1097: InsecureRequestWarning: Unverified HTTPS request is being made to host 'datalab.unza.zm'. Adding certificate verification is strongly advised. See: https://urllib3.readthedocs.io/en/latest/advanced-usage.html#tls-warnings\n",
            "  warnings.warn(\n"
          ]
        },
        {
          "output_type": "stream",
          "name": "stdout",
          "text": [
            "Crawled (depth 2): https://datalab.unza.zm/index.php/people/blessedmakungu\n"
          ]
        },
        {
          "output_type": "stream",
          "name": "stderr",
          "text": [
            "/usr/local/lib/python3.12/dist-packages/urllib3/connectionpool.py:1097: InsecureRequestWarning: Unverified HTTPS request is being made to host 'datalab.unza.zm'. Adding certificate verification is strongly advised. See: https://urllib3.readthedocs.io/en/latest/advanced-usage.html#tls-warnings\n",
            "  warnings.warn(\n"
          ]
        },
        {
          "output_type": "stream",
          "name": "stdout",
          "text": [
            "Crawled (depth 2): https://datalab.unza.zm/index.php/people/henrymwanza\n"
          ]
        },
        {
          "output_type": "stream",
          "name": "stderr",
          "text": [
            "/usr/local/lib/python3.12/dist-packages/urllib3/connectionpool.py:1097: InsecureRequestWarning: Unverified HTTPS request is being made to host 'datalab.unza.zm'. Adding certificate verification is strongly advised. See: https://urllib3.readthedocs.io/en/latest/advanced-usage.html#tls-warnings\n",
            "  warnings.warn(\n"
          ]
        },
        {
          "output_type": "stream",
          "name": "stdout",
          "text": [
            "Crawled (depth 2): https://datalab.unza.zm/index.php/people/angelabanda\n"
          ]
        },
        {
          "output_type": "stream",
          "name": "stderr",
          "text": [
            "/usr/local/lib/python3.12/dist-packages/urllib3/connectionpool.py:1097: InsecureRequestWarning: Unverified HTTPS request is being made to host 'datalab.unza.zm'. Adding certificate verification is strongly advised. See: https://urllib3.readthedocs.io/en/latest/advanced-usage.html#tls-warnings\n",
            "  warnings.warn(\n"
          ]
        },
        {
          "output_type": "stream",
          "name": "stdout",
          "text": [
            "Crawled (depth 2): https://datalab.unza.zm/index.php/people/ceciliakasonde\n"
          ]
        },
        {
          "output_type": "stream",
          "name": "stderr",
          "text": [
            "/usr/local/lib/python3.12/dist-packages/urllib3/connectionpool.py:1097: InsecureRequestWarning: Unverified HTTPS request is being made to host 'datalab.unza.zm'. Adding certificate verification is strongly advised. See: https://urllib3.readthedocs.io/en/latest/advanced-usage.html#tls-warnings\n",
            "  warnings.warn(\n"
          ]
        },
        {
          "output_type": "stream",
          "name": "stdout",
          "text": [
            "Crawled (depth 2): https://datalab.unza.zm/index.php/people/daisynawila\n"
          ]
        },
        {
          "output_type": "stream",
          "name": "stderr",
          "text": [
            "/usr/local/lib/python3.12/dist-packages/urllib3/connectionpool.py:1097: InsecureRequestWarning: Unverified HTTPS request is being made to host 'datalab.unza.zm'. Adding certificate verification is strongly advised. See: https://urllib3.readthedocs.io/en/latest/advanced-usage.html#tls-warnings\n",
            "  warnings.warn(\n"
          ]
        },
        {
          "output_type": "stream",
          "name": "stdout",
          "text": [
            "Crawled (depth 2): https://datalab.unza.zm/index.php/people/philomenamwanza\n"
          ]
        },
        {
          "output_type": "stream",
          "name": "stderr",
          "text": [
            "/usr/local/lib/python3.12/dist-packages/urllib3/connectionpool.py:1097: InsecureRequestWarning: Unverified HTTPS request is being made to host 'datalab.unza.zm'. Adding certificate verification is strongly advised. See: https://urllib3.readthedocs.io/en/latest/advanced-usage.html#tls-warnings\n",
            "  warnings.warn(\n"
          ]
        },
        {
          "output_type": "stream",
          "name": "stdout",
          "text": [
            "Crawled (depth 2): https://datalab.unza.zm/index.php/people/andrewmawila\n"
          ]
        },
        {
          "output_type": "stream",
          "name": "stderr",
          "text": [
            "/usr/local/lib/python3.12/dist-packages/urllib3/connectionpool.py:1097: InsecureRequestWarning: Unverified HTTPS request is being made to host 'datalab.unza.zm'. Adding certificate verification is strongly advised. See: https://urllib3.readthedocs.io/en/latest/advanced-usage.html#tls-warnings\n",
            "  warnings.warn(\n"
          ]
        },
        {
          "output_type": "stream",
          "name": "stdout",
          "text": [
            "Crawled (depth 2): https://datalab.unza.zm/index.php/people/ericliswaniso\n"
          ]
        },
        {
          "output_type": "stream",
          "name": "stderr",
          "text": [
            "/usr/local/lib/python3.12/dist-packages/urllib3/connectionpool.py:1097: InsecureRequestWarning: Unverified HTTPS request is being made to host 'datalab.unza.zm'. Adding certificate verification is strongly advised. See: https://urllib3.readthedocs.io/en/latest/advanced-usage.html#tls-warnings\n",
            "  warnings.warn(\n"
          ]
        },
        {
          "output_type": "stream",
          "name": "stdout",
          "text": [
            "Crawled (depth 2): https://datalab.unza.zm/index.php/people/berthachipangila\n"
          ]
        },
        {
          "output_type": "stream",
          "name": "stderr",
          "text": [
            "/usr/local/lib/python3.12/dist-packages/urllib3/connectionpool.py:1097: InsecureRequestWarning: Unverified HTTPS request is being made to host 'datalab.unza.zm'. Adding certificate verification is strongly advised. See: https://urllib3.readthedocs.io/en/latest/advanced-usage.html#tls-warnings\n",
            "  warnings.warn(\n"
          ]
        },
        {
          "output_type": "stream",
          "name": "stdout",
          "text": [
            "Crawled (depth 2): https://datalab.unza.zm/index.php/people/nozyenjimwale\n"
          ]
        },
        {
          "output_type": "stream",
          "name": "stderr",
          "text": [
            "/usr/local/lib/python3.12/dist-packages/urllib3/connectionpool.py:1097: InsecureRequestWarning: Unverified HTTPS request is being made to host 'datalab.unza.zm'. Adding certificate verification is strongly advised. See: https://urllib3.readthedocs.io/en/latest/advanced-usage.html#tls-warnings\n",
            "  warnings.warn(\n"
          ]
        },
        {
          "output_type": "stream",
          "name": "stdout",
          "text": [
            "Crawled (depth 2): https://datalab.unza.zm/index.php/people/nandisikazindu\n"
          ]
        },
        {
          "output_type": "stream",
          "name": "stderr",
          "text": [
            "/usr/local/lib/python3.12/dist-packages/urllib3/connectionpool.py:1097: InsecureRequestWarning: Unverified HTTPS request is being made to host 'datalab.unza.zm'. Adding certificate verification is strongly advised. See: https://urllib3.readthedocs.io/en/latest/advanced-usage.html#tls-warnings\n",
            "  warnings.warn(\n"
          ]
        },
        {
          "output_type": "stream",
          "name": "stdout",
          "text": [
            "Crawled (depth 2): https://datalab.unza.zm/index.php/people/moongahabukali\n"
          ]
        },
        {
          "output_type": "stream",
          "name": "stderr",
          "text": [
            "/usr/local/lib/python3.12/dist-packages/urllib3/connectionpool.py:1097: InsecureRequestWarning: Unverified HTTPS request is being made to host 'datalab.unza.zm'. Adding certificate verification is strongly advised. See: https://urllib3.readthedocs.io/en/latest/advanced-usage.html#tls-warnings\n",
            "  warnings.warn(\n"
          ]
        },
        {
          "output_type": "stream",
          "name": "stdout",
          "text": [
            "Crawled (depth 2): https://datalab.unza.zm/index.php/people/mathewsmwewa\n"
          ]
        },
        {
          "output_type": "stream",
          "name": "stderr",
          "text": [
            "/usr/local/lib/python3.12/dist-packages/urllib3/connectionpool.py:1097: InsecureRequestWarning: Unverified HTTPS request is being made to host 'datalab.unza.zm'. Adding certificate verification is strongly advised. See: https://urllib3.readthedocs.io/en/latest/advanced-usage.html#tls-warnings\n",
            "  warnings.warn(\n"
          ]
        },
        {
          "output_type": "stream",
          "name": "stdout",
          "text": [
            "Crawled (depth 2): https://datalab.unza.zm/index.php/people/mathewsmbewe\n"
          ]
        },
        {
          "output_type": "stream",
          "name": "stderr",
          "text": [
            "/usr/local/lib/python3.12/dist-packages/urllib3/connectionpool.py:1097: InsecureRequestWarning: Unverified HTTPS request is being made to host 'datalab.unza.zm'. Adding certificate verification is strongly advised. See: https://urllib3.readthedocs.io/en/latest/advanced-usage.html#tls-warnings\n",
            "  warnings.warn(\n"
          ]
        },
        {
          "output_type": "stream",
          "name": "stdout",
          "text": [
            "Crawled (depth 2): https://datalab.unza.zm/index.php/people/sharonkangwa\n"
          ]
        },
        {
          "output_type": "stream",
          "name": "stderr",
          "text": [
            "/usr/local/lib/python3.12/dist-packages/urllib3/connectionpool.py:1097: InsecureRequestWarning: Unverified HTTPS request is being made to host 'datalab.unza.zm'. Adding certificate verification is strongly advised. See: https://urllib3.readthedocs.io/en/latest/advanced-usage.html#tls-warnings\n",
            "  warnings.warn(\n"
          ]
        },
        {
          "output_type": "stream",
          "name": "stdout",
          "text": [
            "Crawled (depth 2): https://datalab.unza.zm/index.php/people/victormwelwa\n"
          ]
        },
        {
          "output_type": "stream",
          "name": "stderr",
          "text": [
            "/usr/local/lib/python3.12/dist-packages/urllib3/connectionpool.py:1097: InsecureRequestWarning: Unverified HTTPS request is being made to host 'datalab.unza.zm'. Adding certificate verification is strongly advised. See: https://urllib3.readthedocs.io/en/latest/advanced-usage.html#tls-warnings\n",
            "  warnings.warn(\n"
          ]
        },
        {
          "output_type": "stream",
          "name": "stdout",
          "text": [
            "Crawled (depth 2): https://datalab.unza.zm/index.php/people/chisomosingogo\n"
          ]
        },
        {
          "output_type": "stream",
          "name": "stderr",
          "text": [
            "/usr/local/lib/python3.12/dist-packages/urllib3/connectionpool.py:1097: InsecureRequestWarning: Unverified HTTPS request is being made to host 'datalab.unza.zm'. Adding certificate verification is strongly advised. See: https://urllib3.readthedocs.io/en/latest/advanced-usage.html#tls-warnings\n",
            "  warnings.warn(\n"
          ]
        },
        {
          "output_type": "stream",
          "name": "stdout",
          "text": [
            "Crawled (depth 2): https://datalab.unza.zm/index.php/people/setwellmuleya\n"
          ]
        },
        {
          "output_type": "stream",
          "name": "stderr",
          "text": [
            "/usr/local/lib/python3.12/dist-packages/urllib3/connectionpool.py:1097: InsecureRequestWarning: Unverified HTTPS request is being made to host 'datalab.unza.zm'. Adding certificate verification is strongly advised. See: https://urllib3.readthedocs.io/en/latest/advanced-usage.html#tls-warnings\n",
            "  warnings.warn(\n"
          ]
        },
        {
          "output_type": "stream",
          "name": "stdout",
          "text": [
            "Crawled (depth 2): https://datalab.unza.zm/index.php/people/lwimeshansonga\n"
          ]
        },
        {
          "output_type": "stream",
          "name": "stderr",
          "text": [
            "/usr/local/lib/python3.12/dist-packages/urllib3/connectionpool.py:1097: InsecureRequestWarning: Unverified HTTPS request is being made to host 'datalab.unza.zm'. Adding certificate verification is strongly advised. See: https://urllib3.readthedocs.io/en/latest/advanced-usage.html#tls-warnings\n",
            "  warnings.warn(\n"
          ]
        },
        {
          "output_type": "stream",
          "name": "stdout",
          "text": [
            "Crawled (depth 2): https://datalab.unza.zm/index.php/people/harrisshikapande\n"
          ]
        },
        {
          "output_type": "stream",
          "name": "stderr",
          "text": [
            "/usr/local/lib/python3.12/dist-packages/urllib3/connectionpool.py:1097: InsecureRequestWarning: Unverified HTTPS request is being made to host 'datalab.unza.zm'. Adding certificate verification is strongly advised. See: https://urllib3.readthedocs.io/en/latest/advanced-usage.html#tls-warnings\n",
            "  warnings.warn(\n"
          ]
        },
        {
          "output_type": "stream",
          "name": "stdout",
          "text": [
            "Crawled (depth 2): https://datalab.unza.zm/index.php/people/davidtembo\n"
          ]
        },
        {
          "output_type": "stream",
          "name": "stderr",
          "text": [
            "/usr/local/lib/python3.12/dist-packages/urllib3/connectionpool.py:1097: InsecureRequestWarning: Unverified HTTPS request is being made to host 'datalab.unza.zm'. Adding certificate verification is strongly advised. See: https://urllib3.readthedocs.io/en/latest/advanced-usage.html#tls-warnings\n",
            "  warnings.warn(\n"
          ]
        },
        {
          "output_type": "stream",
          "name": "stdout",
          "text": [
            "Crawled (depth 2): https://datalab.unza.zm/index.php/people/mubangachibesa\n"
          ]
        },
        {
          "output_type": "stream",
          "name": "stderr",
          "text": [
            "/usr/local/lib/python3.12/dist-packages/urllib3/connectionpool.py:1097: InsecureRequestWarning: Unverified HTTPS request is being made to host 'datalab.unza.zm'. Adding certificate verification is strongly advised. See: https://urllib3.readthedocs.io/en/latest/advanced-usage.html#tls-warnings\n",
            "  warnings.warn(\n"
          ]
        },
        {
          "output_type": "stream",
          "name": "stdout",
          "text": [
            "Crawled (depth 2): https://datalab.unza.zm/index.php/people/giftmuwele\n"
          ]
        },
        {
          "output_type": "stream",
          "name": "stderr",
          "text": [
            "/usr/local/lib/python3.12/dist-packages/urllib3/connectionpool.py:1097: InsecureRequestWarning: Unverified HTTPS request is being made to host 'datalab.unza.zm'. Adding certificate verification is strongly advised. See: https://urllib3.readthedocs.io/en/latest/advanced-usage.html#tls-warnings\n",
            "  warnings.warn(\n"
          ]
        },
        {
          "output_type": "stream",
          "name": "stdout",
          "text": [
            "Crawled (depth 2): https://datalab.unza.zm/index.php/people/emmanuelphiri\n"
          ]
        },
        {
          "output_type": "stream",
          "name": "stderr",
          "text": [
            "/usr/local/lib/python3.12/dist-packages/urllib3/connectionpool.py:1097: InsecureRequestWarning: Unverified HTTPS request is being made to host 'datalab.unza.zm'. Adding certificate verification is strongly advised. See: https://urllib3.readthedocs.io/en/latest/advanced-usage.html#tls-warnings\n",
            "  warnings.warn(\n"
          ]
        },
        {
          "output_type": "stream",
          "name": "stdout",
          "text": [
            "Crawled (depth 2): https://datalab.unza.zm/index.php/people/castridahnachibinga\n"
          ]
        },
        {
          "output_type": "stream",
          "name": "stderr",
          "text": [
            "/usr/local/lib/python3.12/dist-packages/urllib3/connectionpool.py:1097: InsecureRequestWarning: Unverified HTTPS request is being made to host 'datalab.unza.zm'. Adding certificate verification is strongly advised. See: https://urllib3.readthedocs.io/en/latest/advanced-usage.html#tls-warnings\n",
            "  warnings.warn(\n"
          ]
        },
        {
          "output_type": "stream",
          "name": "stdout",
          "text": [
            "Crawled (depth 2): https://datalab.unza.zm/index.php/people/ernestsinyangwe\n"
          ]
        },
        {
          "output_type": "stream",
          "name": "stderr",
          "text": [
            "/usr/local/lib/python3.12/dist-packages/urllib3/connectionpool.py:1097: InsecureRequestWarning: Unverified HTTPS request is being made to host 'datalab.unza.zm'. Adding certificate verification is strongly advised. See: https://urllib3.readthedocs.io/en/latest/advanced-usage.html#tls-warnings\n",
            "  warnings.warn(\n"
          ]
        },
        {
          "output_type": "stream",
          "name": "stdout",
          "text": [
            "Crawled (depth 2): https://datalab.unza.zm/index.php/people/martinkambunji\n"
          ]
        },
        {
          "output_type": "stream",
          "name": "stderr",
          "text": [
            "/usr/local/lib/python3.12/dist-packages/urllib3/connectionpool.py:1097: InsecureRequestWarning: Unverified HTTPS request is being made to host 'datalab.unza.zm'. Adding certificate verification is strongly advised. See: https://urllib3.readthedocs.io/en/latest/advanced-usage.html#tls-warnings\n",
            "  warnings.warn(\n"
          ]
        },
        {
          "output_type": "stream",
          "name": "stdout",
          "text": [
            "Crawled (depth 2): https://datalab.unza.zm/index.php/people/joemwape\n"
          ]
        },
        {
          "output_type": "stream",
          "name": "stderr",
          "text": [
            "/usr/local/lib/python3.12/dist-packages/urllib3/connectionpool.py:1097: InsecureRequestWarning: Unverified HTTPS request is being made to host 'datalab.unza.zm'. Adding certificate verification is strongly advised. See: https://urllib3.readthedocs.io/en/latest/advanced-usage.html#tls-warnings\n",
            "  warnings.warn(\n"
          ]
        },
        {
          "output_type": "stream",
          "name": "stdout",
          "text": [
            "Crawled (depth 2): https://datalab.unza.zm/index.php/people/lweendomuzyamba\n"
          ]
        },
        {
          "output_type": "stream",
          "name": "stderr",
          "text": [
            "/usr/local/lib/python3.12/dist-packages/urllib3/connectionpool.py:1097: InsecureRequestWarning: Unverified HTTPS request is being made to host 'datalab.unza.zm'. Adding certificate verification is strongly advised. See: https://urllib3.readthedocs.io/en/latest/advanced-usage.html#tls-warnings\n",
            "  warnings.warn(\n"
          ]
        },
        {
          "output_type": "stream",
          "name": "stdout",
          "text": [
            "Crawled (depth 2): https://datalab.unza.zm/index.php/people/chandachisanga\n"
          ]
        },
        {
          "output_type": "stream",
          "name": "stderr",
          "text": [
            "/usr/local/lib/python3.12/dist-packages/urllib3/connectionpool.py:1097: InsecureRequestWarning: Unverified HTTPS request is being made to host 'datalab.unza.zm'. Adding certificate verification is strongly advised. See: https://urllib3.readthedocs.io/en/latest/advanced-usage.html#tls-warnings\n",
            "  warnings.warn(\n"
          ]
        },
        {
          "output_type": "stream",
          "name": "stdout",
          "text": [
            "Crawled (depth 2): https://datalab.unza.zm/index.php/people/christabelchalwe\n"
          ]
        },
        {
          "output_type": "stream",
          "name": "stderr",
          "text": [
            "/usr/local/lib/python3.12/dist-packages/urllib3/connectionpool.py:1097: InsecureRequestWarning: Unverified HTTPS request is being made to host 'datalab.unza.zm'. Adding certificate verification is strongly advised. See: https://urllib3.readthedocs.io/en/latest/advanced-usage.html#tls-warnings\n",
            "  warnings.warn(\n"
          ]
        },
        {
          "output_type": "stream",
          "name": "stdout",
          "text": [
            "Crawled (depth 2): https://datalab.unza.zm/index.php/people/martinmusonda\n"
          ]
        },
        {
          "output_type": "stream",
          "name": "stderr",
          "text": [
            "/usr/local/lib/python3.12/dist-packages/urllib3/connectionpool.py:1097: InsecureRequestWarning: Unverified HTTPS request is being made to host 'datalab.unza.zm'. Adding certificate verification is strongly advised. See: https://urllib3.readthedocs.io/en/latest/advanced-usage.html#tls-warnings\n",
            "  warnings.warn(\n"
          ]
        },
        {
          "output_type": "stream",
          "name": "stdout",
          "text": [
            "Crawled (depth 2): https://datalab.unza.zm/index.php/people/annettemulenga\n"
          ]
        },
        {
          "output_type": "stream",
          "name": "stderr",
          "text": [
            "/usr/local/lib/python3.12/dist-packages/urllib3/connectionpool.py:1097: InsecureRequestWarning: Unverified HTTPS request is being made to host 'datalab.unza.zm'. Adding certificate verification is strongly advised. See: https://urllib3.readthedocs.io/en/latest/advanced-usage.html#tls-warnings\n",
            "  warnings.warn(\n"
          ]
        },
        {
          "output_type": "stream",
          "name": "stdout",
          "text": [
            "Crawled (depth 2): https://datalab.unza.zm/index.php/people/bydonsimukoko\n"
          ]
        },
        {
          "output_type": "stream",
          "name": "stderr",
          "text": [
            "/usr/local/lib/python3.12/dist-packages/urllib3/connectionpool.py:1097: InsecureRequestWarning: Unverified HTTPS request is being made to host 'datalab.unza.zm'. Adding certificate verification is strongly advised. See: https://urllib3.readthedocs.io/en/latest/advanced-usage.html#tls-warnings\n",
            "  warnings.warn(\n"
          ]
        },
        {
          "output_type": "stream",
          "name": "stdout",
          "text": [
            "Crawled (depth 2): https://datalab.unza.zm/index.php/people/nkolemulenga\n"
          ]
        },
        {
          "output_type": "stream",
          "name": "stderr",
          "text": [
            "/usr/local/lib/python3.12/dist-packages/urllib3/connectionpool.py:1097: InsecureRequestWarning: Unverified HTTPS request is being made to host 'datalab.unza.zm'. Adding certificate verification is strongly advised. See: https://urllib3.readthedocs.io/en/latest/advanced-usage.html#tls-warnings\n",
            "  warnings.warn(\n"
          ]
        },
        {
          "output_type": "stream",
          "name": "stdout",
          "text": [
            "Crawled (depth 2): https://datalab.unza.zm/index.php/people/geoffreyngoma\n"
          ]
        },
        {
          "output_type": "stream",
          "name": "stderr",
          "text": [
            "/usr/local/lib/python3.12/dist-packages/urllib3/connectionpool.py:1097: InsecureRequestWarning: Unverified HTTPS request is being made to host 'datalab.unza.zm'. Adding certificate verification is strongly advised. See: https://urllib3.readthedocs.io/en/latest/advanced-usage.html#tls-warnings\n",
            "  warnings.warn(\n"
          ]
        },
        {
          "output_type": "stream",
          "name": "stdout",
          "text": [
            "Crawled (depth 2): https://datalab.unza.zm/index.php/people/ernestzulu\n"
          ]
        },
        {
          "output_type": "stream",
          "name": "stderr",
          "text": [
            "/usr/local/lib/python3.12/dist-packages/urllib3/connectionpool.py:1097: InsecureRequestWarning: Unverified HTTPS request is being made to host 'datalab.unza.zm'. Adding certificate verification is strongly advised. See: https://urllib3.readthedocs.io/en/latest/advanced-usage.html#tls-warnings\n",
            "  warnings.warn(\n"
          ]
        },
        {
          "output_type": "stream",
          "name": "stdout",
          "text": [
            "Crawled (depth 2): https://datalab.unza.zm/index.php/people/richardmufuzi\n"
          ]
        },
        {
          "output_type": "stream",
          "name": "stderr",
          "text": [
            "/usr/local/lib/python3.12/dist-packages/urllib3/connectionpool.py:1097: InsecureRequestWarning: Unverified HTTPS request is being made to host 'datalab.unza.zm'. Adding certificate verification is strongly advised. See: https://urllib3.readthedocs.io/en/latest/advanced-usage.html#tls-warnings\n",
            "  warnings.warn(\n"
          ]
        },
        {
          "output_type": "stream",
          "name": "stdout",
          "text": [
            "Crawled (depth 2): https://datalab.unza.zm/index.php/people/frazernyambe\n"
          ]
        },
        {
          "output_type": "stream",
          "name": "stderr",
          "text": [
            "/usr/local/lib/python3.12/dist-packages/urllib3/connectionpool.py:1097: InsecureRequestWarning: Unverified HTTPS request is being made to host 'datalab.unza.zm'. Adding certificate verification is strongly advised. See: https://urllib3.readthedocs.io/en/latest/advanced-usage.html#tls-warnings\n",
            "  warnings.warn(\n"
          ]
        },
        {
          "output_type": "stream",
          "name": "stdout",
          "text": [
            "Crawled (depth 2): https://datalab.unza.zm/index.php/people/mutunechaibela\n"
          ]
        },
        {
          "output_type": "stream",
          "name": "stderr",
          "text": [
            "/usr/local/lib/python3.12/dist-packages/urllib3/connectionpool.py:1097: InsecureRequestWarning: Unverified HTTPS request is being made to host 'datalab.unza.zm'. Adding certificate verification is strongly advised. See: https://urllib3.readthedocs.io/en/latest/advanced-usage.html#tls-warnings\n",
            "  warnings.warn(\n"
          ]
        },
        {
          "output_type": "stream",
          "name": "stdout",
          "text": [
            "Crawled (depth 2): https://datalab.unza.zm/index.php/people/dannysiabbaba\n"
          ]
        },
        {
          "output_type": "stream",
          "name": "stderr",
          "text": [
            "/usr/local/lib/python3.12/dist-packages/urllib3/connectionpool.py:1097: InsecureRequestWarning: Unverified HTTPS request is being made to host 'datalab.unza.zm'. Adding certificate verification is strongly advised. See: https://urllib3.readthedocs.io/en/latest/advanced-usage.html#tls-warnings\n",
            "  warnings.warn(\n"
          ]
        },
        {
          "output_type": "stream",
          "name": "stdout",
          "text": [
            "Crawled (depth 2): https://datalab.unza.zm/index.php/people/davidpungwa\n"
          ]
        },
        {
          "output_type": "stream",
          "name": "stderr",
          "text": [
            "/usr/local/lib/python3.12/dist-packages/urllib3/connectionpool.py:1097: InsecureRequestWarning: Unverified HTTPS request is being made to host 'datalab.unza.zm'. Adding certificate verification is strongly advised. See: https://urllib3.readthedocs.io/en/latest/advanced-usage.html#tls-warnings\n",
            "  warnings.warn(\n"
          ]
        },
        {
          "output_type": "stream",
          "name": "stdout",
          "text": [
            "Crawled (depth 2): https://datalab.unza.zm/index.php/people/ivychisha\n"
          ]
        },
        {
          "output_type": "stream",
          "name": "stderr",
          "text": [
            "/usr/local/lib/python3.12/dist-packages/urllib3/connectionpool.py:1097: InsecureRequestWarning: Unverified HTTPS request is being made to host 'datalab.unza.zm'. Adding certificate verification is strongly advised. See: https://urllib3.readthedocs.io/en/latest/advanced-usage.html#tls-warnings\n",
            "  warnings.warn(\n"
          ]
        },
        {
          "output_type": "stream",
          "name": "stdout",
          "text": [
            "Crawled (depth 2): https://datalab.unza.zm/index.php/people/adrianchisale\n"
          ]
        },
        {
          "output_type": "stream",
          "name": "stderr",
          "text": [
            "/usr/local/lib/python3.12/dist-packages/urllib3/connectionpool.py:1097: InsecureRequestWarning: Unverified HTTPS request is being made to host 'datalab.unza.zm'. Adding certificate verification is strongly advised. See: https://urllib3.readthedocs.io/en/latest/advanced-usage.html#tls-warnings\n",
            "  warnings.warn(\n"
          ]
        },
        {
          "output_type": "stream",
          "name": "stdout",
          "text": [
            "Crawled (depth 2): https://datalab.unza.zm/index.php/people/robertmsendo\n"
          ]
        },
        {
          "output_type": "stream",
          "name": "stderr",
          "text": [
            "/usr/local/lib/python3.12/dist-packages/urllib3/connectionpool.py:1097: InsecureRequestWarning: Unverified HTTPS request is being made to host 'datalab.unza.zm'. Adding certificate verification is strongly advised. See: https://urllib3.readthedocs.io/en/latest/advanced-usage.html#tls-warnings\n",
            "  warnings.warn(\n"
          ]
        },
        {
          "output_type": "stream",
          "name": "stdout",
          "text": [
            "Crawled (depth 2): https://datalab.unza.zm/research#main-content\n"
          ]
        },
        {
          "output_type": "stream",
          "name": "stderr",
          "text": [
            "/usr/local/lib/python3.12/dist-packages/urllib3/connectionpool.py:1097: InsecureRequestWarning: Unverified HTTPS request is being made to host 'datalab.unza.zm'. Adding certificate verification is strongly advised. See: https://urllib3.readthedocs.io/en/latest/advanced-usage.html#tls-warnings\n",
            "  warnings.warn(\n"
          ]
        },
        {
          "output_type": "stream",
          "name": "stdout",
          "text": [
            "📄 Found PDF (13/50): http://41.63.1.14/sites/default/files/2022-06/etds-uct13-simple_digital_libraries.pdf\n",
            "Crawled (depth 1): https://datalab.unza.zm/index.php/publications/13\n"
          ]
        },
        {
          "output_type": "stream",
          "name": "stderr",
          "text": [
            "/usr/local/lib/python3.12/dist-packages/urllib3/connectionpool.py:1097: InsecureRequestWarning: Unverified HTTPS request is being made to host 'datalab.unza.zm'. Adding certificate verification is strongly advised. See: https://urllib3.readthedocs.io/en/latest/advanced-usage.html#tls-warnings\n",
            "  warnings.warn(\n"
          ]
        },
        {
          "output_type": "stream",
          "name": "stdout",
          "text": [
            "Crawled (depth 2): https://datalab.unza.zm/index.php/bibcite/export/bibtex/bibcite_reference/13\n"
          ]
        },
        {
          "output_type": "stream",
          "name": "stderr",
          "text": [
            "/usr/local/lib/python3.12/dist-packages/urllib3/connectionpool.py:1097: InsecureRequestWarning: Unverified HTTPS request is being made to host 'datalab.unza.zm'. Adding certificate verification is strongly advised. See: https://urllib3.readthedocs.io/en/latest/advanced-usage.html#tls-warnings\n",
            "  warnings.warn(\n"
          ]
        },
        {
          "output_type": "stream",
          "name": "stdout",
          "text": [
            "Crawled (depth 2): https://datalab.unza.zm/index.php/bibcite/keyword/7\n"
          ]
        },
        {
          "output_type": "stream",
          "name": "stderr",
          "text": [
            "/usr/local/lib/python3.12/dist-packages/urllib3/connectionpool.py:1097: InsecureRequestWarning: Unverified HTTPS request is being made to host 'datalab.unza.zm'. Adding certificate verification is strongly advised. See: https://urllib3.readthedocs.io/en/latest/advanced-usage.html#tls-warnings\n",
            "  warnings.warn(\n"
          ]
        },
        {
          "output_type": "stream",
          "name": "stdout",
          "text": [
            "Crawled (depth 2): https://datalab.unza.zm/index.php/bibcite/keyword/27\n"
          ]
        },
        {
          "output_type": "stream",
          "name": "stderr",
          "text": [
            "/usr/local/lib/python3.12/dist-packages/urllib3/connectionpool.py:1097: InsecureRequestWarning: Unverified HTTPS request is being made to host 'datalab.unza.zm'. Adding certificate verification is strongly advised. See: https://urllib3.readthedocs.io/en/latest/advanced-usage.html#tls-warnings\n",
            "  warnings.warn(\n"
          ]
        },
        {
          "output_type": "stream",
          "name": "stdout",
          "text": [
            "Crawled (depth 2): https://datalab.unza.zm/index.php/bibcite/keyword/18\n"
          ]
        },
        {
          "output_type": "stream",
          "name": "stderr",
          "text": [
            "/usr/local/lib/python3.12/dist-packages/urllib3/connectionpool.py:1097: InsecureRequestWarning: Unverified HTTPS request is being made to host 'datalab.unza.zm'. Adding certificate verification is strongly advised. See: https://urllib3.readthedocs.io/en/latest/advanced-usage.html#tls-warnings\n",
            "  warnings.warn(\n"
          ]
        },
        {
          "output_type": "stream",
          "name": "stdout",
          "text": [
            "Crawled (depth 2): https://datalab.unza.zm/index.php/bibcite/contributor/2\n"
          ]
        },
        {
          "output_type": "stream",
          "name": "stderr",
          "text": [
            "/usr/local/lib/python3.12/dist-packages/urllib3/connectionpool.py:1097: InsecureRequestWarning: Unverified HTTPS request is being made to host 'datalab.unza.zm'. Adding certificate verification is strongly advised. See: https://urllib3.readthedocs.io/en/latest/advanced-usage.html#tls-warnings\n",
            "  warnings.warn(\n"
          ]
        },
        {
          "output_type": "stream",
          "name": "stdout",
          "text": [
            "Crawled (depth 2): https://datalab.unza.zm/index.php/publications/13#main-content\n"
          ]
        },
        {
          "output_type": "stream",
          "name": "stderr",
          "text": [
            "/usr/local/lib/python3.12/dist-packages/urllib3/connectionpool.py:1097: InsecureRequestWarning: Unverified HTTPS request is being made to host 'datalab.unza.zm'. Adding certificate verification is strongly advised. See: https://urllib3.readthedocs.io/en/latest/advanced-usage.html#tls-warnings\n",
            "  warnings.warn(\n",
            "/usr/local/lib/python3.12/dist-packages/urllib3/connectionpool.py:1097: InsecureRequestWarning: Unverified HTTPS request is being made to host 'datalab.unza.zm'. Adding certificate verification is strongly advised. See: https://urllib3.readthedocs.io/en/latest/advanced-usage.html#tls-warnings\n",
            "  warnings.warn(\n"
          ]
        },
        {
          "output_type": "stream",
          "name": "stdout",
          "text": [
            "📄 Found PDF (14/50): https://datalab.unza.zm/sites/default/files/2022-06/etds-uct18-streamlined_orchestration_0.pdf\n",
            "Crawled (depth 1): https://datalab.unza.zm/index.php/publications/5\n"
          ]
        },
        {
          "output_type": "stream",
          "name": "stderr",
          "text": [
            "/usr/local/lib/python3.12/dist-packages/urllib3/connectionpool.py:1097: InsecureRequestWarning: Unverified HTTPS request is being made to host 'datalab.unza.zm'. Adding certificate verification is strongly advised. See: https://urllib3.readthedocs.io/en/latest/advanced-usage.html#tls-warnings\n",
            "  warnings.warn(\n"
          ]
        },
        {
          "output_type": "stream",
          "name": "stdout",
          "text": [
            "Crawled (depth 2): https://datalab.unza.zm/index.php/bibcite/export/bibtex/bibcite_reference/5\n"
          ]
        },
        {
          "output_type": "stream",
          "name": "stderr",
          "text": [
            "/usr/local/lib/python3.12/dist-packages/urllib3/connectionpool.py:1097: InsecureRequestWarning: Unverified HTTPS request is being made to host 'datalab.unza.zm'. Adding certificate verification is strongly advised. See: https://urllib3.readthedocs.io/en/latest/advanced-usage.html#tls-warnings\n",
            "  warnings.warn(\n"
          ]
        },
        {
          "output_type": "stream",
          "name": "stdout",
          "text": [
            "Crawled (depth 2): https://datalab.unza.zm/index.php/bibcite/keyword/26\n"
          ]
        },
        {
          "output_type": "stream",
          "name": "stderr",
          "text": [
            "/usr/local/lib/python3.12/dist-packages/urllib3/connectionpool.py:1097: InsecureRequestWarning: Unverified HTTPS request is being made to host 'datalab.unza.zm'. Adding certificate verification is strongly advised. See: https://urllib3.readthedocs.io/en/latest/advanced-usage.html#tls-warnings\n",
            "  warnings.warn(\n"
          ]
        },
        {
          "output_type": "stream",
          "name": "stdout",
          "text": [
            "Crawled (depth 2): https://datalab.unza.zm/index.php/bibcite/keyword/25\n"
          ]
        },
        {
          "output_type": "stream",
          "name": "stderr",
          "text": [
            "/usr/local/lib/python3.12/dist-packages/urllib3/connectionpool.py:1097: InsecureRequestWarning: Unverified HTTPS request is being made to host 'datalab.unza.zm'. Adding certificate verification is strongly advised. See: https://urllib3.readthedocs.io/en/latest/advanced-usage.html#tls-warnings\n",
            "  warnings.warn(\n"
          ]
        },
        {
          "output_type": "stream",
          "name": "stdout",
          "text": [
            "Crawled (depth 2): https://datalab.unza.zm/index.php/publications/5#main-content\n"
          ]
        },
        {
          "output_type": "stream",
          "name": "stderr",
          "text": [
            "/usr/local/lib/python3.12/dist-packages/urllib3/connectionpool.py:1097: InsecureRequestWarning: Unverified HTTPS request is being made to host 'datalab.unza.zm'. Adding certificate verification is strongly advised. See: https://urllib3.readthedocs.io/en/latest/advanced-usage.html#tls-warnings\n",
            "  warnings.warn(\n",
            "/usr/local/lib/python3.12/dist-packages/urllib3/connectionpool.py:1097: InsecureRequestWarning: Unverified HTTPS request is being made to host 'datalab.unza.zm'. Adding certificate verification is strongly advised. See: https://urllib3.readthedocs.io/en/latest/advanced-usage.html#tls-warnings\n",
            "  warnings.warn(\n"
          ]
        },
        {
          "output_type": "stream",
          "name": "stdout",
          "text": [
            "📄 Found PDF (15/50): https://datalab.unza.zm/sites/default/files/2024-06/etds-datalab24-msc-dissertation-robert_m%27sendo.pdf\n",
            "Crawled (depth 1): https://datalab.unza.zm/index.php/publications/61\n"
          ]
        },
        {
          "output_type": "stream",
          "name": "stderr",
          "text": [
            "/usr/local/lib/python3.12/dist-packages/urllib3/connectionpool.py:1097: InsecureRequestWarning: Unverified HTTPS request is being made to host 'datalab.unza.zm'. Adding certificate verification is strongly advised. See: https://urllib3.readthedocs.io/en/latest/advanced-usage.html#tls-warnings\n",
            "  warnings.warn(\n"
          ]
        },
        {
          "output_type": "stream",
          "name": "stdout",
          "text": [
            "Crawled (depth 2): https://datalab.unza.zm/index.php/bibcite/export/bibtex/bibcite_reference/61\n"
          ]
        },
        {
          "output_type": "stream",
          "name": "stderr",
          "text": [
            "/usr/local/lib/python3.12/dist-packages/urllib3/connectionpool.py:1097: InsecureRequestWarning: Unverified HTTPS request is being made to host 'datalab.unza.zm'. Adding certificate verification is strongly advised. See: https://urllib3.readthedocs.io/en/latest/advanced-usage.html#tls-warnings\n",
            "  warnings.warn(\n"
          ]
        },
        {
          "output_type": "stream",
          "name": "stdout",
          "text": [
            "Crawled (depth 2): https://datalab.unza.zm/index.php/bibcite/contributor/77\n"
          ]
        },
        {
          "output_type": "stream",
          "name": "stderr",
          "text": [
            "/usr/local/lib/python3.12/dist-packages/urllib3/connectionpool.py:1097: InsecureRequestWarning: Unverified HTTPS request is being made to host 'datalab.unza.zm'. Adding certificate verification is strongly advised. See: https://urllib3.readthedocs.io/en/latest/advanced-usage.html#tls-warnings\n",
            "  warnings.warn(\n"
          ]
        },
        {
          "output_type": "stream",
          "name": "stdout",
          "text": [
            "Crawled (depth 2): https://datalab.unza.zm/index.php/publications/61#main-content\n"
          ]
        },
        {
          "output_type": "stream",
          "name": "stderr",
          "text": [
            "/usr/local/lib/python3.12/dist-packages/urllib3/connectionpool.py:1097: InsecureRequestWarning: Unverified HTTPS request is being made to host 'datalab.unza.zm'. Adding certificate verification is strongly advised. See: https://urllib3.readthedocs.io/en/latest/advanced-usage.html#tls-warnings\n",
            "  warnings.warn(\n",
            "/usr/local/lib/python3.12/dist-packages/urllib3/connectionpool.py:1097: InsecureRequestWarning: Unverified HTTPS request is being made to host 'datalab.unza.zm'. Adding certificate verification is strongly advised. See: https://urllib3.readthedocs.io/en/latest/advanced-usage.html#tls-warnings\n",
            "  warnings.warn(\n"
          ]
        },
        {
          "output_type": "stream",
          "name": "stdout",
          "text": [
            "📄 Found PDF (16/50): https://datalab.unza.zm/sites/default/files/2022-05/etds-unza22-kuyela-interactive_tablets.pdf\n",
            "Crawled (depth 1): https://datalab.unza.zm/index.php/publications/38\n"
          ]
        },
        {
          "output_type": "stream",
          "name": "stderr",
          "text": [
            "/usr/local/lib/python3.12/dist-packages/urllib3/connectionpool.py:1097: InsecureRequestWarning: Unverified HTTPS request is being made to host 'datalab.unza.zm'. Adding certificate verification is strongly advised. See: https://urllib3.readthedocs.io/en/latest/advanced-usage.html#tls-warnings\n",
            "  warnings.warn(\n"
          ]
        },
        {
          "output_type": "stream",
          "name": "stdout",
          "text": [
            "Crawled (depth 2): https://datalab.unza.zm/index.php/bibcite/export/bibtex/bibcite_reference/38\n"
          ]
        },
        {
          "output_type": "stream",
          "name": "stderr",
          "text": [
            "/usr/local/lib/python3.12/dist-packages/urllib3/connectionpool.py:1097: InsecureRequestWarning: Unverified HTTPS request is being made to host 'datalab.unza.zm'. Adding certificate verification is strongly advised. See: https://urllib3.readthedocs.io/en/latest/advanced-usage.html#tls-warnings\n",
            "  warnings.warn(\n"
          ]
        },
        {
          "output_type": "stream",
          "name": "stdout",
          "text": [
            "Crawled (depth 2): https://datalab.unza.zm/index.php/bibcite/contributor/72\n"
          ]
        },
        {
          "output_type": "stream",
          "name": "stderr",
          "text": [
            "/usr/local/lib/python3.12/dist-packages/urllib3/connectionpool.py:1097: InsecureRequestWarning: Unverified HTTPS request is being made to host 'datalab.unza.zm'. Adding certificate verification is strongly advised. See: https://urllib3.readthedocs.io/en/latest/advanced-usage.html#tls-warnings\n",
            "  warnings.warn(\n"
          ]
        },
        {
          "output_type": "stream",
          "name": "stdout",
          "text": [
            "Crawled (depth 2): https://datalab.unza.zm/index.php/publications/38#main-content\n"
          ]
        },
        {
          "output_type": "stream",
          "name": "stderr",
          "text": [
            "/usr/local/lib/python3.12/dist-packages/urllib3/connectionpool.py:1097: InsecureRequestWarning: Unverified HTTPS request is being made to host 'datalab.unza.zm'. Adding certificate verification is strongly advised. See: https://urllib3.readthedocs.io/en/latest/advanced-usage.html#tls-warnings\n",
            "  warnings.warn(\n",
            "/usr/local/lib/python3.12/dist-packages/urllib3/connectionpool.py:1097: InsecureRequestWarning: Unverified HTTPS request is being made to host 'datalab.unza.zm'. Adding certificate verification is strongly advised. See: https://urllib3.readthedocs.io/en/latest/advanced-usage.html#tls-warnings\n",
            "  warnings.warn(\n"
          ]
        },
        {
          "output_type": "stream",
          "name": "stdout",
          "text": [
            "📄 Found PDF (17/50): https://datalab.unza.zm/sites/default/files/2024-06/etds-datalab24-pdip-dissertation-elijah_chileshe.pdf\n",
            "Crawled (depth 1): https://datalab.unza.zm/index.php/publications/66\n"
          ]
        },
        {
          "output_type": "stream",
          "name": "stderr",
          "text": [
            "/usr/local/lib/python3.12/dist-packages/urllib3/connectionpool.py:1097: InsecureRequestWarning: Unverified HTTPS request is being made to host 'datalab.unza.zm'. Adding certificate verification is strongly advised. See: https://urllib3.readthedocs.io/en/latest/advanced-usage.html#tls-warnings\n",
            "  warnings.warn(\n"
          ]
        },
        {
          "output_type": "stream",
          "name": "stdout",
          "text": [
            "Crawled (depth 2): https://datalab.unza.zm/bibcite/export/bibtex/bibcite_reference/66\n"
          ]
        },
        {
          "output_type": "stream",
          "name": "stderr",
          "text": [
            "/usr/local/lib/python3.12/dist-packages/urllib3/connectionpool.py:1097: InsecureRequestWarning: Unverified HTTPS request is being made to host 'datalab.unza.zm'. Adding certificate verification is strongly advised. See: https://urllib3.readthedocs.io/en/latest/advanced-usage.html#tls-warnings\n",
            "  warnings.warn(\n"
          ]
        },
        {
          "output_type": "stream",
          "name": "stdout",
          "text": [
            "Crawled (depth 2): https://datalab.unza.zm/bibcite/contributor/48\n"
          ]
        },
        {
          "output_type": "stream",
          "name": "stderr",
          "text": [
            "/usr/local/lib/python3.12/dist-packages/urllib3/connectionpool.py:1097: InsecureRequestWarning: Unverified HTTPS request is being made to host 'datalab.unza.zm'. Adding certificate verification is strongly advised. See: https://urllib3.readthedocs.io/en/latest/advanced-usage.html#tls-warnings\n",
            "  warnings.warn(\n"
          ]
        },
        {
          "output_type": "stream",
          "name": "stdout",
          "text": [
            "Crawled (depth 2): https://datalab.unza.zm/index.php/publications/66#main-content\n"
          ]
        },
        {
          "output_type": "stream",
          "name": "stderr",
          "text": [
            "/usr/local/lib/python3.12/dist-packages/urllib3/connectionpool.py:1097: InsecureRequestWarning: Unverified HTTPS request is being made to host 'datalab.unza.zm'. Adding certificate verification is strongly advised. See: https://urllib3.readthedocs.io/en/latest/advanced-usage.html#tls-warnings\n",
            "  warnings.warn(\n",
            "/usr/local/lib/python3.12/dist-packages/urllib3/connectionpool.py:1097: InsecureRequestWarning: Unverified HTTPS request is being made to host 'datalab.unza.zm'. Adding certificate verification is strongly advised. See: https://urllib3.readthedocs.io/en/latest/advanced-usage.html#tls-warnings\n",
            "  warnings.warn(\n"
          ]
        },
        {
          "output_type": "stream",
          "name": "stdout",
          "text": [
            "📄 Found PDF (18/50): https://datalab.unza.zm/sites/default/files/2024-06/etds-datalab24-pdip-dissertation-andrew_shawa.pdf\n",
            "Crawled (depth 1): https://datalab.unza.zm/index.php/publications/65\n"
          ]
        },
        {
          "output_type": "stream",
          "name": "stderr",
          "text": [
            "/usr/local/lib/python3.12/dist-packages/urllib3/connectionpool.py:1097: InsecureRequestWarning: Unverified HTTPS request is being made to host 'datalab.unza.zm'. Adding certificate verification is strongly advised. See: https://urllib3.readthedocs.io/en/latest/advanced-usage.html#tls-warnings\n",
            "  warnings.warn(\n"
          ]
        },
        {
          "output_type": "stream",
          "name": "stdout",
          "text": [
            "Crawled (depth 2): https://datalab.unza.zm/bibcite/export/bibtex/bibcite_reference/65\n"
          ]
        },
        {
          "output_type": "stream",
          "name": "stderr",
          "text": [
            "/usr/local/lib/python3.12/dist-packages/urllib3/connectionpool.py:1097: InsecureRequestWarning: Unverified HTTPS request is being made to host 'datalab.unza.zm'. Adding certificate verification is strongly advised. See: https://urllib3.readthedocs.io/en/latest/advanced-usage.html#tls-warnings\n",
            "  warnings.warn(\n"
          ]
        },
        {
          "output_type": "stream",
          "name": "stdout",
          "text": [
            "Crawled (depth 2): https://datalab.unza.zm/bibcite/contributor/107\n"
          ]
        },
        {
          "output_type": "stream",
          "name": "stderr",
          "text": [
            "/usr/local/lib/python3.12/dist-packages/urllib3/connectionpool.py:1097: InsecureRequestWarning: Unverified HTTPS request is being made to host 'datalab.unza.zm'. Adding certificate verification is strongly advised. See: https://urllib3.readthedocs.io/en/latest/advanced-usage.html#tls-warnings\n",
            "  warnings.warn(\n"
          ]
        },
        {
          "output_type": "stream",
          "name": "stdout",
          "text": [
            "Crawled (depth 2): https://datalab.unza.zm/index.php/publications/65#main-content\n"
          ]
        },
        {
          "output_type": "stream",
          "name": "stderr",
          "text": [
            "/usr/local/lib/python3.12/dist-packages/urllib3/connectionpool.py:1097: InsecureRequestWarning: Unverified HTTPS request is being made to host 'datalab.unza.zm'. Adding certificate verification is strongly advised. See: https://urllib3.readthedocs.io/en/latest/advanced-usage.html#tls-warnings\n",
            "  warnings.warn(\n"
          ]
        },
        {
          "output_type": "stream",
          "name": "stdout",
          "text": [
            "Crawled (depth 1): https://datalab.unza.zm/index.php/publications/59\n"
          ]
        },
        {
          "output_type": "stream",
          "name": "stderr",
          "text": [
            "/usr/local/lib/python3.12/dist-packages/urllib3/connectionpool.py:1097: InsecureRequestWarning: Unverified HTTPS request is being made to host 'datalab.unza.zm'. Adding certificate verification is strongly advised. See: https://urllib3.readthedocs.io/en/latest/advanced-usage.html#tls-warnings\n",
            "  warnings.warn(\n"
          ]
        },
        {
          "output_type": "stream",
          "name": "stdout",
          "text": [
            "Crawled (depth 2): https://datalab.unza.zm/index.php/bibcite/export/bibtex/bibcite_reference/59\n"
          ]
        },
        {
          "output_type": "stream",
          "name": "stderr",
          "text": [
            "/usr/local/lib/python3.12/dist-packages/urllib3/connectionpool.py:1097: InsecureRequestWarning: Unverified HTTPS request is being made to host 'datalab.unza.zm'. Adding certificate verification is strongly advised. See: https://urllib3.readthedocs.io/en/latest/advanced-usage.html#tls-warnings\n",
            "  warnings.warn(\n"
          ]
        },
        {
          "output_type": "stream",
          "name": "stdout",
          "text": [
            "Crawled (depth 2): https://datalab.unza.zm/index.php/bibcite/contributor/80\n"
          ]
        },
        {
          "output_type": "stream",
          "name": "stderr",
          "text": [
            "/usr/local/lib/python3.12/dist-packages/urllib3/connectionpool.py:1097: InsecureRequestWarning: Unverified HTTPS request is being made to host 'datalab.unza.zm'. Adding certificate verification is strongly advised. See: https://urllib3.readthedocs.io/en/latest/advanced-usage.html#tls-warnings\n",
            "  warnings.warn(\n"
          ]
        },
        {
          "output_type": "stream",
          "name": "stdout",
          "text": [
            "Crawled (depth 2): https://datalab.unza.zm/index.php/publications/59#main-content\n"
          ]
        },
        {
          "output_type": "stream",
          "name": "stderr",
          "text": [
            "/usr/local/lib/python3.12/dist-packages/urllib3/connectionpool.py:1097: InsecureRequestWarning: Unverified HTTPS request is being made to host 'datalab.unza.zm'. Adding certificate verification is strongly advised. See: https://urllib3.readthedocs.io/en/latest/advanced-usage.html#tls-warnings\n",
            "  warnings.warn(\n",
            "/usr/local/lib/python3.12/dist-packages/urllib3/connectionpool.py:1097: InsecureRequestWarning: Unverified HTTPS request is being made to host 'datalab.unza.zm'. Adding certificate verification is strongly advised. See: https://urllib3.readthedocs.io/en/latest/advanced-usage.html#tls-warnings\n",
            "  warnings.warn(\n"
          ]
        },
        {
          "output_type": "stream",
          "name": "stdout",
          "text": [
            "📄 Found PDF (19/50): https://datalab.unza.zm/sites/default/files/2024-06/etds-datalab24-mlis-dissertation-adrian_chisale.pdf\n",
            "Crawled (depth 1): https://datalab.unza.zm/index.php/publications/58\n"
          ]
        },
        {
          "output_type": "stream",
          "name": "stderr",
          "text": [
            "/usr/local/lib/python3.12/dist-packages/urllib3/connectionpool.py:1097: InsecureRequestWarning: Unverified HTTPS request is being made to host 'datalab.unza.zm'. Adding certificate verification is strongly advised. See: https://urllib3.readthedocs.io/en/latest/advanced-usage.html#tls-warnings\n",
            "  warnings.warn(\n"
          ]
        },
        {
          "output_type": "stream",
          "name": "stdout",
          "text": [
            "Crawled (depth 2): https://datalab.unza.zm/index.php/bibcite/export/bibtex/bibcite_reference/58\n"
          ]
        },
        {
          "output_type": "stream",
          "name": "stderr",
          "text": [
            "/usr/local/lib/python3.12/dist-packages/urllib3/connectionpool.py:1097: InsecureRequestWarning: Unverified HTTPS request is being made to host 'datalab.unza.zm'. Adding certificate verification is strongly advised. See: https://urllib3.readthedocs.io/en/latest/advanced-usage.html#tls-warnings\n",
            "  warnings.warn(\n"
          ]
        },
        {
          "output_type": "stream",
          "name": "stdout",
          "text": [
            "Crawled (depth 2): https://datalab.unza.zm/index.php/bibcite/contributor/156\n"
          ]
        },
        {
          "output_type": "stream",
          "name": "stderr",
          "text": [
            "/usr/local/lib/python3.12/dist-packages/urllib3/connectionpool.py:1097: InsecureRequestWarning: Unverified HTTPS request is being made to host 'datalab.unza.zm'. Adding certificate verification is strongly advised. See: https://urllib3.readthedocs.io/en/latest/advanced-usage.html#tls-warnings\n",
            "  warnings.warn(\n"
          ]
        },
        {
          "output_type": "stream",
          "name": "stdout",
          "text": [
            "Crawled (depth 2): https://datalab.unza.zm/index.php/bibcite/contributor/81\n"
          ]
        },
        {
          "output_type": "stream",
          "name": "stderr",
          "text": [
            "/usr/local/lib/python3.12/dist-packages/urllib3/connectionpool.py:1097: InsecureRequestWarning: Unverified HTTPS request is being made to host 'datalab.unza.zm'. Adding certificate verification is strongly advised. See: https://urllib3.readthedocs.io/en/latest/advanced-usage.html#tls-warnings\n",
            "  warnings.warn(\n"
          ]
        },
        {
          "output_type": "stream",
          "name": "stdout",
          "text": [
            "Crawled (depth 2): https://datalab.unza.zm/index.php/publications/58#main-content\n"
          ]
        },
        {
          "output_type": "stream",
          "name": "stderr",
          "text": [
            "/usr/local/lib/python3.12/dist-packages/urllib3/connectionpool.py:1097: InsecureRequestWarning: Unverified HTTPS request is being made to host 'datalab.unza.zm'. Adding certificate verification is strongly advised. See: https://urllib3.readthedocs.io/en/latest/advanced-usage.html#tls-warnings\n",
            "  warnings.warn(\n",
            "/usr/local/lib/python3.12/dist-packages/urllib3/connectionpool.py:1097: InsecureRequestWarning: Unverified HTTPS request is being made to host 'datalab.unza.zm'. Adding certificate verification is strongly advised. See: https://urllib3.readthedocs.io/en/latest/advanced-usage.html#tls-warnings\n",
            "  warnings.warn(\n"
          ]
        },
        {
          "output_type": "stream",
          "name": "stdout",
          "text": [
            "📄 Found PDF (20/50): https://datalab.unza.zm/sites/default/files/2024-06/etds-datalab24-mlis-dissertation-matildah_muchinga_0.pdf\n",
            "Crawled (depth 1): https://datalab.unza.zm/index.php/publications/64\n"
          ]
        },
        {
          "output_type": "stream",
          "name": "stderr",
          "text": [
            "/usr/local/lib/python3.12/dist-packages/urllib3/connectionpool.py:1097: InsecureRequestWarning: Unverified HTTPS request is being made to host 'datalab.unza.zm'. Adding certificate verification is strongly advised. See: https://urllib3.readthedocs.io/en/latest/advanced-usage.html#tls-warnings\n",
            "  warnings.warn(\n"
          ]
        },
        {
          "output_type": "stream",
          "name": "stdout",
          "text": [
            "Crawled (depth 2): https://datalab.unza.zm/index.php/bibcite/export/bibtex/bibcite_reference/64\n"
          ]
        },
        {
          "output_type": "stream",
          "name": "stderr",
          "text": [
            "/usr/local/lib/python3.12/dist-packages/urllib3/connectionpool.py:1097: InsecureRequestWarning: Unverified HTTPS request is being made to host 'datalab.unza.zm'. Adding certificate verification is strongly advised. See: https://urllib3.readthedocs.io/en/latest/advanced-usage.html#tls-warnings\n",
            "  warnings.warn(\n"
          ]
        },
        {
          "output_type": "stream",
          "name": "stdout",
          "text": [
            "Crawled (depth 2): https://datalab.unza.zm/index.php/bibcite/contributor/132\n"
          ]
        },
        {
          "output_type": "stream",
          "name": "stderr",
          "text": [
            "/usr/local/lib/python3.12/dist-packages/urllib3/connectionpool.py:1097: InsecureRequestWarning: Unverified HTTPS request is being made to host 'datalab.unza.zm'. Adding certificate verification is strongly advised. See: https://urllib3.readthedocs.io/en/latest/advanced-usage.html#tls-warnings\n",
            "  warnings.warn(\n"
          ]
        },
        {
          "output_type": "stream",
          "name": "stdout",
          "text": [
            "Crawled (depth 2): https://datalab.unza.zm/index.php/publications/64#main-content\n"
          ]
        },
        {
          "output_type": "stream",
          "name": "stderr",
          "text": [
            "/usr/local/lib/python3.12/dist-packages/urllib3/connectionpool.py:1097: InsecureRequestWarning: Unverified HTTPS request is being made to host 'datalab.unza.zm'. Adding certificate verification is strongly advised. See: https://urllib3.readthedocs.io/en/latest/advanced-usage.html#tls-warnings\n",
            "  warnings.warn(\n",
            "/usr/local/lib/python3.12/dist-packages/urllib3/connectionpool.py:1097: InsecureRequestWarning: Unverified HTTPS request is being made to host 'datalab.unza.zm'. Adding certificate verification is strongly advised. See: https://urllib3.readthedocs.io/en/latest/advanced-usage.html#tls-warnings\n",
            "  warnings.warn(\n"
          ]
        },
        {
          "output_type": "stream",
          "name": "stdout",
          "text": [
            "📄 Found PDF (21/50): https://datalab.unza.zm/sites/default/files/2024-06/etds-datalab24-mlis-dissertation-dokowe_tembo_0.pdf\n",
            "Crawled (depth 1): https://datalab.unza.zm/index.php/publications/60\n"
          ]
        },
        {
          "output_type": "stream",
          "name": "stderr",
          "text": [
            "/usr/local/lib/python3.12/dist-packages/urllib3/connectionpool.py:1097: InsecureRequestWarning: Unverified HTTPS request is being made to host 'datalab.unza.zm'. Adding certificate verification is strongly advised. See: https://urllib3.readthedocs.io/en/latest/advanced-usage.html#tls-warnings\n",
            "  warnings.warn(\n"
          ]
        },
        {
          "output_type": "stream",
          "name": "stdout",
          "text": [
            "Crawled (depth 2): https://datalab.unza.zm/bibcite/export/bibtex/bibcite_reference/60\n"
          ]
        },
        {
          "output_type": "stream",
          "name": "stderr",
          "text": [
            "/usr/local/lib/python3.12/dist-packages/urllib3/connectionpool.py:1097: InsecureRequestWarning: Unverified HTTPS request is being made to host 'datalab.unza.zm'. Adding certificate verification is strongly advised. See: https://urllib3.readthedocs.io/en/latest/advanced-usage.html#tls-warnings\n",
            "  warnings.warn(\n"
          ]
        },
        {
          "output_type": "stream",
          "name": "stdout",
          "text": [
            "Crawled (depth 2): https://datalab.unza.zm/bibcite/contributor/129\n"
          ]
        },
        {
          "output_type": "stream",
          "name": "stderr",
          "text": [
            "/usr/local/lib/python3.12/dist-packages/urllib3/connectionpool.py:1097: InsecureRequestWarning: Unverified HTTPS request is being made to host 'datalab.unza.zm'. Adding certificate verification is strongly advised. See: https://urllib3.readthedocs.io/en/latest/advanced-usage.html#tls-warnings\n",
            "  warnings.warn(\n"
          ]
        },
        {
          "output_type": "stream",
          "name": "stdout",
          "text": [
            "Crawled (depth 2): https://datalab.unza.zm/index.php/publications/60#main-content\n"
          ]
        },
        {
          "output_type": "stream",
          "name": "stderr",
          "text": [
            "/usr/local/lib/python3.12/dist-packages/urllib3/connectionpool.py:1097: InsecureRequestWarning: Unverified HTTPS request is being made to host 'datalab.unza.zm'. Adding certificate verification is strongly advised. See: https://urllib3.readthedocs.io/en/latest/advanced-usage.html#tls-warnings\n",
            "  warnings.warn(\n"
          ]
        },
        {
          "output_type": "stream",
          "name": "stdout",
          "text": [
            "Crawled (depth 1): https://datalab.unza.zm/publications\n"
          ]
        },
        {
          "output_type": "stream",
          "name": "stderr",
          "text": [
            "/usr/local/lib/python3.12/dist-packages/urllib3/connectionpool.py:1097: InsecureRequestWarning: Unverified HTTPS request is being made to host 'datalab.unza.zm'. Adding certificate verification is strongly advised. See: https://urllib3.readthedocs.io/en/latest/advanced-usage.html#tls-warnings\n",
            "  warnings.warn(\n"
          ]
        },
        {
          "output_type": "stream",
          "name": "stdout",
          "text": [
            "Crawled (depth 2): https://datalab.unza.zm/publications?page=6\n"
          ]
        },
        {
          "output_type": "stream",
          "name": "stderr",
          "text": [
            "/usr/local/lib/python3.12/dist-packages/urllib3/connectionpool.py:1097: InsecureRequestWarning: Unverified HTTPS request is being made to host 'datalab.unza.zm'. Adding certificate verification is strongly advised. See: https://urllib3.readthedocs.io/en/latest/advanced-usage.html#tls-warnings\n",
            "  warnings.warn(\n"
          ]
        },
        {
          "output_type": "stream",
          "name": "stdout",
          "text": [
            "Crawled (depth 2): https://datalab.unza.zm/publications?page=5\n"
          ]
        },
        {
          "output_type": "stream",
          "name": "stderr",
          "text": [
            "/usr/local/lib/python3.12/dist-packages/urllib3/connectionpool.py:1097: InsecureRequestWarning: Unverified HTTPS request is being made to host 'datalab.unza.zm'. Adding certificate verification is strongly advised. See: https://urllib3.readthedocs.io/en/latest/advanced-usage.html#tls-warnings\n",
            "  warnings.warn(\n"
          ]
        },
        {
          "output_type": "stream",
          "name": "stdout",
          "text": [
            "Crawled (depth 2): https://datalab.unza.zm/publications?page=4\n"
          ]
        },
        {
          "output_type": "stream",
          "name": "stderr",
          "text": [
            "/usr/local/lib/python3.12/dist-packages/urllib3/connectionpool.py:1097: InsecureRequestWarning: Unverified HTTPS request is being made to host 'datalab.unza.zm'. Adding certificate verification is strongly advised. See: https://urllib3.readthedocs.io/en/latest/advanced-usage.html#tls-warnings\n",
            "  warnings.warn(\n"
          ]
        },
        {
          "output_type": "stream",
          "name": "stdout",
          "text": [
            "Crawled (depth 2): https://datalab.unza.zm/publications?page=3\n"
          ]
        },
        {
          "output_type": "stream",
          "name": "stderr",
          "text": [
            "/usr/local/lib/python3.12/dist-packages/urllib3/connectionpool.py:1097: InsecureRequestWarning: Unverified HTTPS request is being made to host 'datalab.unza.zm'. Adding certificate verification is strongly advised. See: https://urllib3.readthedocs.io/en/latest/advanced-usage.html#tls-warnings\n",
            "  warnings.warn(\n"
          ]
        },
        {
          "output_type": "stream",
          "name": "stdout",
          "text": [
            "Crawled (depth 2): https://datalab.unza.zm/publications?page=2\n"
          ]
        },
        {
          "output_type": "stream",
          "name": "stderr",
          "text": [
            "/usr/local/lib/python3.12/dist-packages/urllib3/connectionpool.py:1097: InsecureRequestWarning: Unverified HTTPS request is being made to host 'datalab.unza.zm'. Adding certificate verification is strongly advised. See: https://urllib3.readthedocs.io/en/latest/advanced-usage.html#tls-warnings\n",
            "  warnings.warn(\n"
          ]
        },
        {
          "output_type": "stream",
          "name": "stdout",
          "text": [
            "Crawled (depth 2): https://datalab.unza.zm/publications?page=1\n"
          ]
        },
        {
          "output_type": "stream",
          "name": "stderr",
          "text": [
            "/usr/local/lib/python3.12/dist-packages/urllib3/connectionpool.py:1097: InsecureRequestWarning: Unverified HTTPS request is being made to host 'datalab.unza.zm'. Adding certificate verification is strongly advised. See: https://urllib3.readthedocs.io/en/latest/advanced-usage.html#tls-warnings\n",
            "  warnings.warn(\n"
          ]
        },
        {
          "output_type": "stream",
          "name": "stdout",
          "text": [
            "Crawled (depth 2): https://datalab.unza.zm/publications?page=0\n"
          ]
        },
        {
          "output_type": "stream",
          "name": "stderr",
          "text": [
            "/usr/local/lib/python3.12/dist-packages/urllib3/connectionpool.py:1097: InsecureRequestWarning: Unverified HTTPS request is being made to host 'datalab.unza.zm'. Adding certificate verification is strongly advised. See: https://urllib3.readthedocs.io/en/latest/advanced-usage.html#tls-warnings\n",
            "  warnings.warn(\n",
            "/usr/local/lib/python3.12/dist-packages/urllib3/connectionpool.py:1097: InsecureRequestWarning: Unverified HTTPS request is being made to host 'datalab.unza.zm'. Adding certificate verification is strongly advised. See: https://urllib3.readthedocs.io/en/latest/advanced-usage.html#tls-warnings\n",
            "  warnings.warn(\n"
          ]
        },
        {
          "output_type": "stream",
          "name": "stdout",
          "text": [
            "📄 Found PDF (22/50): https://datalab.unza.zm/sites/default/files/2024-06/paper-saicsit24-wikimotivate_facebook_plugin.pdf\n",
            "Crawled (depth 2): https://datalab.unza.zm/index.php/bibcite/reference/63\n"
          ]
        },
        {
          "output_type": "stream",
          "name": "stderr",
          "text": [
            "/usr/local/lib/python3.12/dist-packages/urllib3/connectionpool.py:1097: InsecureRequestWarning: Unverified HTTPS request is being made to host 'datalab.unza.zm'. Adding certificate verification is strongly advised. See: https://urllib3.readthedocs.io/en/latest/advanced-usage.html#tls-warnings\n",
            "  warnings.warn(\n",
            "/usr/local/lib/python3.12/dist-packages/urllib3/connectionpool.py:1097: InsecureRequestWarning: Unverified HTTPS request is being made to host 'datalab.unza.zm'. Adding certificate verification is strongly advised. See: https://urllib3.readthedocs.io/en/latest/advanced-usage.html#tls-warnings\n",
            "  warnings.warn(\n"
          ]
        },
        {
          "output_type": "stream",
          "name": "stdout",
          "text": [
            "📄 Found PDF (23/50): https://datalab.unza.zm/sites/default/files/2024-06/paper-emiz24-pacs_prototype_usefulness_evaluation.pdf\n",
            "Crawled (depth 2): https://datalab.unza.zm/index.php/bibcite/reference/62\n"
          ]
        },
        {
          "output_type": "stream",
          "name": "stderr",
          "text": [
            "/usr/local/lib/python3.12/dist-packages/urllib3/connectionpool.py:1097: InsecureRequestWarning: Unverified HTTPS request is being made to host 'datalab.unza.zm'. Adding certificate verification is strongly advised. See: https://urllib3.readthedocs.io/en/latest/advanced-usage.html#tls-warnings\n",
            "  warnings.warn(\n"
          ]
        },
        {
          "output_type": "stream",
          "name": "stdout",
          "text": [
            "📄 Found PDF (24/50): http://41.63.1.14/sites/default/files/2025-04/reports-unza24-ict4014-daka_hangoma_tembo_shikapande.pdf\n",
            "Crawled (depth 2): https://datalab.unza.zm/index.php/publications/69\n"
          ]
        },
        {
          "output_type": "stream",
          "name": "stderr",
          "text": [
            "/usr/local/lib/python3.12/dist-packages/urllib3/connectionpool.py:1097: InsecureRequestWarning: Unverified HTTPS request is being made to host 'datalab.unza.zm'. Adding certificate verification is strongly advised. See: https://urllib3.readthedocs.io/en/latest/advanced-usage.html#tls-warnings\n",
            "  warnings.warn(\n",
            "/usr/local/lib/python3.12/dist-packages/urllib3/connectionpool.py:1097: InsecureRequestWarning: Unverified HTTPS request is being made to host 'datalab.unza.zm'. Adding certificate verification is strongly advised. See: https://urllib3.readthedocs.io/en/latest/advanced-usage.html#tls-warnings\n",
            "  warnings.warn(\n"
          ]
        },
        {
          "output_type": "stream",
          "name": "stdout",
          "text": [
            "📄 Found PDF (25/50): https://datalab.unza.zm/sites/default/files/2025-04/paper-saicsit24-wikimotivate_facebook_plugin.pdf\n",
            "Crawled (depth 2): https://datalab.unza.zm/index.php/bibcite/reference/68\n"
          ]
        },
        {
          "output_type": "stream",
          "name": "stderr",
          "text": [
            "/usr/local/lib/python3.12/dist-packages/urllib3/connectionpool.py:1097: InsecureRequestWarning: Unverified HTTPS request is being made to host 'datalab.unza.zm'. Adding certificate verification is strongly advised. See: https://urllib3.readthedocs.io/en/latest/advanced-usage.html#tls-warnings\n",
            "  warnings.warn(\n"
          ]
        },
        {
          "output_type": "stream",
          "name": "stdout",
          "text": [
            "Crawled (depth 2): https://datalab.unza.zm/index.php/publications/70\n"
          ]
        },
        {
          "output_type": "stream",
          "name": "stderr",
          "text": [
            "/usr/local/lib/python3.12/dist-packages/urllib3/connectionpool.py:1097: InsecureRequestWarning: Unverified HTTPS request is being made to host 'datalab.unza.zm'. Adding certificate verification is strongly advised. See: https://urllib3.readthedocs.io/en/latest/advanced-usage.html#tls-warnings\n",
            "  warnings.warn(\n",
            "/usr/local/lib/python3.12/dist-packages/urllib3/connectionpool.py:1097: InsecureRequestWarning: Unverified HTTPS request is being made to host 'datalab.unza.zm'. Adding certificate verification is strongly advised. See: https://urllib3.readthedocs.io/en/latest/advanced-usage.html#tls-warnings\n",
            "  warnings.warn(\n"
          ]
        },
        {
          "output_type": "stream",
          "name": "stdout",
          "text": [
            "📄 Found PDF (26/50): https://datalab.unza.zm/sites/default/files/2025-04/paper-emiz24-medical_image_interpretation_evaluation.pdf\n",
            "Crawled (depth 2): https://datalab.unza.zm/index.php/bibcite/reference/67\n"
          ]
        },
        {
          "output_type": "stream",
          "name": "stderr",
          "text": [
            "/usr/local/lib/python3.12/dist-packages/urllib3/connectionpool.py:1097: InsecureRequestWarning: Unverified HTTPS request is being made to host 'datalab.unza.zm'. Adding certificate verification is strongly advised. See: https://urllib3.readthedocs.io/en/latest/advanced-usage.html#tls-warnings\n",
            "  warnings.warn(\n"
          ]
        },
        {
          "output_type": "stream",
          "name": "stdout",
          "text": [
            "Crawled (depth 2): https://datalab.unza.zm/index.php/publications/71\n"
          ]
        },
        {
          "output_type": "stream",
          "name": "stderr",
          "text": [
            "/usr/local/lib/python3.12/dist-packages/urllib3/connectionpool.py:1097: InsecureRequestWarning: Unverified HTTPS request is being made to host 'datalab.unza.zm'. Adding certificate verification is strongly advised. See: https://urllib3.readthedocs.io/en/latest/advanced-usage.html#tls-warnings\n",
            "  warnings.warn(\n"
          ]
        },
        {
          "output_type": "stream",
          "name": "stdout",
          "text": [
            "Crawled (depth 2): https://datalab.unza.zm/publications#main-content\n"
          ]
        },
        {
          "output_type": "stream",
          "name": "stderr",
          "text": [
            "/usr/local/lib/python3.12/dist-packages/urllib3/connectionpool.py:1097: InsecureRequestWarning: Unverified HTTPS request is being made to host 'datalab.unza.zm'. Adding certificate verification is strongly advised. See: https://urllib3.readthedocs.io/en/latest/advanced-usage.html#tls-warnings\n",
            "  warnings.warn(\n"
          ]
        },
        {
          "output_type": "stream",
          "name": "stdout",
          "text": [
            "Crawled (depth 1): https://datalab.unza.zm/\n"
          ]
        },
        {
          "output_type": "stream",
          "name": "stderr",
          "text": [
            "/usr/local/lib/python3.12/dist-packages/urllib3/connectionpool.py:1097: InsecureRequestWarning: Unverified HTTPS request is being made to host 'datalab.unza.zm'. Adding certificate verification is strongly advised. See: https://urllib3.readthedocs.io/en/latest/advanced-usage.html#tls-warnings\n",
            "  warnings.warn(\n"
          ]
        },
        {
          "output_type": "stream",
          "name": "stdout",
          "text": [
            "Crawled (depth 2): https://datalab.unza.zm/?page=7\n"
          ]
        },
        {
          "output_type": "stream",
          "name": "stderr",
          "text": [
            "/usr/local/lib/python3.12/dist-packages/urllib3/connectionpool.py:1097: InsecureRequestWarning: Unverified HTTPS request is being made to host 'datalab.unza.zm'. Adding certificate verification is strongly advised. See: https://urllib3.readthedocs.io/en/latest/advanced-usage.html#tls-warnings\n",
            "  warnings.warn(\n"
          ]
        },
        {
          "output_type": "stream",
          "name": "stdout",
          "text": [
            "Crawled (depth 2): https://datalab.unza.zm/?page=6\n"
          ]
        },
        {
          "output_type": "stream",
          "name": "stderr",
          "text": [
            "/usr/local/lib/python3.12/dist-packages/urllib3/connectionpool.py:1097: InsecureRequestWarning: Unverified HTTPS request is being made to host 'datalab.unza.zm'. Adding certificate verification is strongly advised. See: https://urllib3.readthedocs.io/en/latest/advanced-usage.html#tls-warnings\n",
            "  warnings.warn(\n"
          ]
        },
        {
          "output_type": "stream",
          "name": "stdout",
          "text": [
            "Crawled (depth 2): https://datalab.unza.zm/?page=5\n"
          ]
        },
        {
          "output_type": "stream",
          "name": "stderr",
          "text": [
            "/usr/local/lib/python3.12/dist-packages/urllib3/connectionpool.py:1097: InsecureRequestWarning: Unverified HTTPS request is being made to host 'datalab.unza.zm'. Adding certificate verification is strongly advised. See: https://urllib3.readthedocs.io/en/latest/advanced-usage.html#tls-warnings\n",
            "  warnings.warn(\n"
          ]
        },
        {
          "output_type": "stream",
          "name": "stdout",
          "text": [
            "Crawled (depth 2): https://datalab.unza.zm/?page=4\n"
          ]
        },
        {
          "output_type": "stream",
          "name": "stderr",
          "text": [
            "/usr/local/lib/python3.12/dist-packages/urllib3/connectionpool.py:1097: InsecureRequestWarning: Unverified HTTPS request is being made to host 'datalab.unza.zm'. Adding certificate verification is strongly advised. See: https://urllib3.readthedocs.io/en/latest/advanced-usage.html#tls-warnings\n",
            "  warnings.warn(\n"
          ]
        },
        {
          "output_type": "stream",
          "name": "stdout",
          "text": [
            "Crawled (depth 2): https://datalab.unza.zm/?page=3\n"
          ]
        },
        {
          "output_type": "stream",
          "name": "stderr",
          "text": [
            "/usr/local/lib/python3.12/dist-packages/urllib3/connectionpool.py:1097: InsecureRequestWarning: Unverified HTTPS request is being made to host 'datalab.unza.zm'. Adding certificate verification is strongly advised. See: https://urllib3.readthedocs.io/en/latest/advanced-usage.html#tls-warnings\n",
            "  warnings.warn(\n"
          ]
        },
        {
          "output_type": "stream",
          "name": "stdout",
          "text": [
            "Crawled (depth 2): https://datalab.unza.zm/?page=2\n"
          ]
        },
        {
          "output_type": "stream",
          "name": "stderr",
          "text": [
            "/usr/local/lib/python3.12/dist-packages/urllib3/connectionpool.py:1097: InsecureRequestWarning: Unverified HTTPS request is being made to host 'datalab.unza.zm'. Adding certificate verification is strongly advised. See: https://urllib3.readthedocs.io/en/latest/advanced-usage.html#tls-warnings\n",
            "  warnings.warn(\n"
          ]
        },
        {
          "output_type": "stream",
          "name": "stdout",
          "text": [
            "Crawled (depth 2): https://datalab.unza.zm/?page=1\n"
          ]
        },
        {
          "output_type": "stream",
          "name": "stderr",
          "text": [
            "/usr/local/lib/python3.12/dist-packages/urllib3/connectionpool.py:1097: InsecureRequestWarning: Unverified HTTPS request is being made to host 'datalab.unza.zm'. Adding certificate verification is strongly advised. See: https://urllib3.readthedocs.io/en/latest/advanced-usage.html#tls-warnings\n",
            "  warnings.warn(\n"
          ]
        },
        {
          "output_type": "stream",
          "name": "stdout",
          "text": [
            "Crawled (depth 2): https://datalab.unza.zm/?page=0\n"
          ]
        },
        {
          "output_type": "stream",
          "name": "stderr",
          "text": [
            "/usr/local/lib/python3.12/dist-packages/urllib3/connectionpool.py:1097: InsecureRequestWarning: Unverified HTTPS request is being made to host 'datalab.unza.zm'. Adding certificate verification is strongly advised. See: https://urllib3.readthedocs.io/en/latest/advanced-usage.html#tls-warnings\n",
            "  warnings.warn(\n"
          ]
        },
        {
          "output_type": "stream",
          "name": "stdout",
          "text": [
            "Crawled (depth 2): https://datalab.unza.zm/articles/andrew-shawa-delivers-insightful-talk-intelligent-dicom-viewers-academicindustry\n"
          ]
        },
        {
          "output_type": "stream",
          "name": "stderr",
          "text": [
            "/usr/local/lib/python3.12/dist-packages/urllib3/connectionpool.py:1097: InsecureRequestWarning: Unverified HTTPS request is being made to host 'datalab.unza.zm'. Adding certificate verification is strongly advised. See: https://urllib3.readthedocs.io/en/latest/advanced-usage.html#tls-warnings\n",
            "  warnings.warn(\n"
          ]
        },
        {
          "output_type": "stream",
          "name": "stdout",
          "text": [
            "Crawled (depth 2): https://datalab.unza.zm/articles/user-centered-design-and-implementation-useful-picture-archiving-and-communication-systems\n"
          ]
        },
        {
          "output_type": "stream",
          "name": "stderr",
          "text": [
            "/usr/local/lib/python3.12/dist-packages/urllib3/connectionpool.py:1097: InsecureRequestWarning: Unverified HTTPS request is being made to host 'datalab.unza.zm'. Adding certificate verification is strongly advised. See: https://urllib3.readthedocs.io/en/latest/advanced-usage.html#tls-warnings\n",
            "  warnings.warn(\n"
          ]
        },
        {
          "output_type": "stream",
          "name": "stdout",
          "text": [
            "Crawled (depth 2): https://datalab.unza.zm/articles/emiz-team-participating-data-science-africa-2024-workshop-and-summer-school-0\n"
          ]
        },
        {
          "output_type": "stream",
          "name": "stderr",
          "text": [
            "/usr/local/lib/python3.12/dist-packages/urllib3/connectionpool.py:1097: InsecureRequestWarning: Unverified HTTPS request is being made to host 'datalab.unza.zm'. Adding certificate verification is strongly advised. See: https://urllib3.readthedocs.io/en/latest/advanced-usage.html#tls-warnings\n",
            "  warnings.warn(\n"
          ]
        },
        {
          "output_type": "stream",
          "name": "stdout",
          "text": [
            "Crawled (depth 2): https://datalab.unza.zm/articles/our-research-wikipedia-content-contribution-zambia-featured-wikimedia-research-showcase\n"
          ]
        },
        {
          "output_type": "stream",
          "name": "stderr",
          "text": [
            "/usr/local/lib/python3.12/dist-packages/urllib3/connectionpool.py:1097: InsecureRequestWarning: Unverified HTTPS request is being made to host 'datalab.unza.zm'. Adding certificate verification is strongly advised. See: https://urllib3.readthedocs.io/en/latest/advanced-usage.html#tls-warnings\n",
            "  warnings.warn(\n"
          ]
        },
        {
          "output_type": "stream",
          "name": "stdout",
          "text": [
            "Crawled (depth 2): https://datalab.unza.zm/articles/new-postgraduate-students-joining-datalab-research-group-2025\n"
          ]
        },
        {
          "output_type": "stream",
          "name": "stderr",
          "text": [
            "/usr/local/lib/python3.12/dist-packages/urllib3/connectionpool.py:1097: InsecureRequestWarning: Unverified HTTPS request is being made to host 'datalab.unza.zm'. Adding certificate verification is strongly advised. See: https://urllib3.readthedocs.io/en/latest/advanced-usage.html#tls-warnings\n",
            "  warnings.warn(\n"
          ]
        },
        {
          "output_type": "stream",
          "name": "stdout",
          "text": [
            "Crawled (depth 2): https://datalab.unza.zm/publications/70\n"
          ]
        },
        {
          "output_type": "stream",
          "name": "stderr",
          "text": [
            "/usr/local/lib/python3.12/dist-packages/urllib3/connectionpool.py:1097: InsecureRequestWarning: Unverified HTTPS request is being made to host 'datalab.unza.zm'. Adding certificate verification is strongly advised. See: https://urllib3.readthedocs.io/en/latest/advanced-usage.html#tls-warnings\n",
            "  warnings.warn(\n"
          ]
        },
        {
          "output_type": "stream",
          "name": "stdout",
          "text": [
            "Crawled (depth 2): https://datalab.unza.zm/bibcite/reference/68\n"
          ]
        },
        {
          "output_type": "stream",
          "name": "stderr",
          "text": [
            "/usr/local/lib/python3.12/dist-packages/urllib3/connectionpool.py:1097: InsecureRequestWarning: Unverified HTTPS request is being made to host 'datalab.unza.zm'. Adding certificate verification is strongly advised. See: https://urllib3.readthedocs.io/en/latest/advanced-usage.html#tls-warnings\n",
            "  warnings.warn(\n"
          ]
        },
        {
          "output_type": "stream",
          "name": "stdout",
          "text": [
            "Crawled (depth 2): https://datalab.unza.zm/publications/71\n"
          ]
        },
        {
          "output_type": "stream",
          "name": "stderr",
          "text": [
            "/usr/local/lib/python3.12/dist-packages/urllib3/connectionpool.py:1097: InsecureRequestWarning: Unverified HTTPS request is being made to host 'datalab.unza.zm'. Adding certificate verification is strongly advised. See: https://urllib3.readthedocs.io/en/latest/advanced-usage.html#tls-warnings\n",
            "  warnings.warn(\n"
          ]
        },
        {
          "output_type": "stream",
          "name": "stdout",
          "text": [
            "Crawled (depth 2): https://datalab.unza.zm/#main-content\n"
          ]
        },
        {
          "output_type": "stream",
          "name": "stderr",
          "text": [
            "/usr/local/lib/python3.12/dist-packages/urllib3/connectionpool.py:1097: InsecureRequestWarning: Unverified HTTPS request is being made to host 'datalab.unza.zm'. Adding certificate verification is strongly advised. See: https://urllib3.readthedocs.io/en/latest/advanced-usage.html#tls-warnings\n",
            "  warnings.warn(\n"
          ]
        },
        {
          "output_type": "stream",
          "name": "stdout",
          "text": [
            "Crawled (depth 1): https://datalab.unza.zm/index.php/contact\n"
          ]
        },
        {
          "output_type": "stream",
          "name": "stderr",
          "text": [
            "/usr/local/lib/python3.12/dist-packages/urllib3/connectionpool.py:1097: InsecureRequestWarning: Unverified HTTPS request is being made to host 'datalab.unza.zm'. Adding certificate verification is strongly advised. See: https://urllib3.readthedocs.io/en/latest/advanced-usage.html#tls-warnings\n",
            "  warnings.warn(\n"
          ]
        },
        {
          "output_type": "stream",
          "name": "stdout",
          "text": [
            "Crawled (depth 2): https://datalab.unza.zm/index.php/contact#main-content\n"
          ]
        },
        {
          "output_type": "stream",
          "name": "stderr",
          "text": [
            "/usr/local/lib/python3.12/dist-packages/urllib3/connectionpool.py:1097: InsecureRequestWarning: Unverified HTTPS request is being made to host 'datalab.unza.zm'. Adding certificate verification is strongly advised. See: https://urllib3.readthedocs.io/en/latest/advanced-usage.html#tls-warnings\n",
            "  warnings.warn(\n"
          ]
        },
        {
          "output_type": "stream",
          "name": "stdout",
          "text": [
            "Crawled (depth 1): https://datalab.unza.zm/index.php/people/past-members\n"
          ]
        },
        {
          "output_type": "stream",
          "name": "stderr",
          "text": [
            "/usr/local/lib/python3.12/dist-packages/urllib3/connectionpool.py:1097: InsecureRequestWarning: Unverified HTTPS request is being made to host 'datalab.unza.zm'. Adding certificate verification is strongly advised. See: https://urllib3.readthedocs.io/en/latest/advanced-usage.html#tls-warnings\n",
            "  warnings.warn(\n"
          ]
        },
        {
          "output_type": "stream",
          "name": "stdout",
          "text": [
            "Crawled (depth 2): https://datalab.unza.zm/index.php/people/past-members#main-content\n"
          ]
        },
        {
          "output_type": "stream",
          "name": "stderr",
          "text": [
            "/usr/local/lib/python3.12/dist-packages/urllib3/connectionpool.py:1097: InsecureRequestWarning: Unverified HTTPS request is being made to host 'datalab.unza.zm'. Adding certificate verification is strongly advised. See: https://urllib3.readthedocs.io/en/latest/advanced-usage.html#tls-warnings\n",
            "  warnings.warn(\n"
          ]
        },
        {
          "output_type": "stream",
          "name": "stdout",
          "text": [
            "Crawled (depth 1): https://datalab.unza.zm/index.php/people/current-members\n"
          ]
        },
        {
          "output_type": "stream",
          "name": "stderr",
          "text": [
            "/usr/local/lib/python3.12/dist-packages/urllib3/connectionpool.py:1097: InsecureRequestWarning: Unverified HTTPS request is being made to host 'datalab.unza.zm'. Adding certificate verification is strongly advised. See: https://urllib3.readthedocs.io/en/latest/advanced-usage.html#tls-warnings\n",
            "  warnings.warn(\n"
          ]
        },
        {
          "output_type": "stream",
          "name": "stdout",
          "text": [
            "Crawled (depth 2): https://datalab.unza.zm/index.php/people/current-members#main-content\n"
          ]
        },
        {
          "output_type": "stream",
          "name": "stderr",
          "text": [
            "/usr/local/lib/python3.12/dist-packages/urllib3/connectionpool.py:1097: InsecureRequestWarning: Unverified HTTPS request is being made to host 'datalab.unza.zm'. Adding certificate verification is strongly advised. See: https://urllib3.readthedocs.io/en/latest/advanced-usage.html#tls-warnings\n",
            "  warnings.warn(\n"
          ]
        },
        {
          "output_type": "stream",
          "name": "stdout",
          "text": [
            "Crawled (depth 1): https://datalab.unza.zm/index.php/people\n"
          ]
        },
        {
          "output_type": "stream",
          "name": "stderr",
          "text": [
            "/usr/local/lib/python3.12/dist-packages/urllib3/connectionpool.py:1097: InsecureRequestWarning: Unverified HTTPS request is being made to host 'datalab.unza.zm'. Adding certificate verification is strongly advised. See: https://urllib3.readthedocs.io/en/latest/advanced-usage.html#tls-warnings\n",
            "  warnings.warn(\n"
          ]
        },
        {
          "output_type": "stream",
          "name": "stdout",
          "text": [
            "Crawled (depth 2): https://datalab.unza.zm/index.php/people#main-content\n"
          ]
        },
        {
          "output_type": "stream",
          "name": "stderr",
          "text": [
            "/usr/local/lib/python3.12/dist-packages/urllib3/connectionpool.py:1097: InsecureRequestWarning: Unverified HTTPS request is being made to host 'datalab.unza.zm'. Adding certificate verification is strongly advised. See: https://urllib3.readthedocs.io/en/latest/advanced-usage.html#tls-warnings\n",
            "  warnings.warn(\n"
          ]
        },
        {
          "output_type": "stream",
          "name": "stdout",
          "text": [
            "Crawled (depth 1): https://datalab.unza.zm/index.php/services\n"
          ]
        },
        {
          "output_type": "stream",
          "name": "stderr",
          "text": [
            "/usr/local/lib/python3.12/dist-packages/urllib3/connectionpool.py:1097: InsecureRequestWarning: Unverified HTTPS request is being made to host 'datalab.unza.zm'. Adding certificate verification is strongly advised. See: https://urllib3.readthedocs.io/en/latest/advanced-usage.html#tls-warnings\n",
            "  warnings.warn(\n",
            "/usr/local/lib/python3.12/dist-packages/urllib3/connectionpool.py:1097: InsecureRequestWarning: Unverified HTTPS request is being made to host 'datalab.unza.zm'. Adding certificate verification is strongly advised. See: https://urllib3.readthedocs.io/en/latest/advanced-usage.html#tls-warnings\n",
            "  warnings.warn(\n"
          ]
        },
        {
          "output_type": "stream",
          "name": "stdout",
          "text": [
            "Crawled (depth 2): https://datalab.unza.zm/index.php/services#main-content\n"
          ]
        },
        {
          "output_type": "stream",
          "name": "stderr",
          "text": [
            "/usr/local/lib/python3.12/dist-packages/urllib3/connectionpool.py:1097: InsecureRequestWarning: Unverified HTTPS request is being made to host 'datalab.unza.zm'. Adding certificate verification is strongly advised. See: https://urllib3.readthedocs.io/en/latest/advanced-usage.html#tls-warnings\n",
            "  warnings.warn(\n"
          ]
        },
        {
          "output_type": "stream",
          "name": "stdout",
          "text": [
            "Crawled (depth 1): https://datalab.unza.zm/index.php/projects/road-safety-in-zambia\n"
          ]
        },
        {
          "output_type": "stream",
          "name": "stderr",
          "text": [
            "/usr/local/lib/python3.12/dist-packages/urllib3/connectionpool.py:1097: InsecureRequestWarning: Unverified HTTPS request is being made to host 'datalab.unza.zm'. Adding certificate verification is strongly advised. See: https://urllib3.readthedocs.io/en/latest/advanced-usage.html#tls-warnings\n",
            "  warnings.warn(\n"
          ]
        },
        {
          "output_type": "stream",
          "name": "stdout",
          "text": [
            "Crawled (depth 2): https://datalab.unza.zm/publications/69\n"
          ]
        },
        {
          "output_type": "stream",
          "name": "stderr",
          "text": [
            "/usr/local/lib/python3.12/dist-packages/urllib3/connectionpool.py:1097: InsecureRequestWarning: Unverified HTTPS request is being made to host 'datalab.unza.zm'. Adding certificate verification is strongly advised. See: https://urllib3.readthedocs.io/en/latest/advanced-usage.html#tls-warnings\n",
            "  warnings.warn(\n"
          ]
        },
        {
          "output_type": "stream",
          "name": "stdout",
          "text": [
            "Crawled (depth 2): https://datalab.unza.zm/index.php/projects/road-safety-in-zambia#main-content\n"
          ]
        },
        {
          "output_type": "stream",
          "name": "stderr",
          "text": [
            "/usr/local/lib/python3.12/dist-packages/urllib3/connectionpool.py:1097: InsecureRequestWarning: Unverified HTTPS request is being made to host 'datalab.unza.zm'. Adding certificate verification is strongly advised. See: https://urllib3.readthedocs.io/en/latest/advanced-usage.html#tls-warnings\n",
            "  warnings.warn(\n"
          ]
        },
        {
          "output_type": "stream",
          "name": "stdout",
          "text": [
            "Crawled (depth 1): https://datalab.unza.zm/index.php/projects/legal-and-legislative-documents\n"
          ]
        },
        {
          "output_type": "stream",
          "name": "stderr",
          "text": [
            "/usr/local/lib/python3.12/dist-packages/urllib3/connectionpool.py:1097: InsecureRequestWarning: Unverified HTTPS request is being made to host 'datalab.unza.zm'. Adding certificate verification is strongly advised. See: https://urllib3.readthedocs.io/en/latest/advanced-usage.html#tls-warnings\n",
            "  warnings.warn(\n",
            "/usr/local/lib/python3.12/dist-packages/urllib3/connectionpool.py:1097: InsecureRequestWarning: Unverified HTTPS request is being made to host 'datalab.unza.zm'. Adding certificate verification is strongly advised. See: https://urllib3.readthedocs.io/en/latest/advanced-usage.html#tls-warnings\n",
            "  warnings.warn(\n"
          ]
        },
        {
          "output_type": "stream",
          "name": "stdout",
          "text": [
            "📄 Found PDF (27/50): https://datalab.unza.zm/sites/default/files/2023-12/reports-unza23-ict4014-kambunji_phiri_nachibinga_sinyangwe.pdf\n",
            "Crawled (depth 2): https://datalab.unza.zm/index.php/publications/55\n"
          ]
        },
        {
          "output_type": "stream",
          "name": "stderr",
          "text": [
            "/usr/local/lib/python3.12/dist-packages/urllib3/connectionpool.py:1097: InsecureRequestWarning: Unverified HTTPS request is being made to host 'datalab.unza.zm'. Adding certificate verification is strongly advised. See: https://urllib3.readthedocs.io/en/latest/advanced-usage.html#tls-warnings\n",
            "  warnings.warn(\n"
          ]
        },
        {
          "output_type": "stream",
          "name": "stdout",
          "text": [
            "Crawled (depth 2): https://datalab.unza.zm/index.php/people/lightonphiri\n"
          ]
        },
        {
          "output_type": "stream",
          "name": "stderr",
          "text": [
            "/usr/local/lib/python3.12/dist-packages/urllib3/connectionpool.py:1097: InsecureRequestWarning: Unverified HTTPS request is being made to host 'datalab.unza.zm'. Adding certificate verification is strongly advised. See: https://urllib3.readthedocs.io/en/latest/advanced-usage.html#tls-warnings\n",
            "  warnings.warn(\n"
          ]
        },
        {
          "output_type": "stream",
          "name": "stdout",
          "text": [
            "Crawled (depth 2): https://datalab.unza.zm/index.php/projects/legal-and-legislative-documents#main-content\n"
          ]
        },
        {
          "output_type": "stream",
          "name": "stderr",
          "text": [
            "/usr/local/lib/python3.12/dist-packages/urllib3/connectionpool.py:1097: InsecureRequestWarning: Unverified HTTPS request is being made to host 'datalab.unza.zm'. Adding certificate verification is strongly advised. See: https://urllib3.readthedocs.io/en/latest/advanced-usage.html#tls-warnings\n",
            "  warnings.warn(\n"
          ]
        },
        {
          "output_type": "stream",
          "name": "stdout",
          "text": [
            "Crawled (depth 1): https://datalab.unza.zm/index.php/projects/wikipedia-in-the-global-south\n"
          ]
        },
        {
          "output_type": "stream",
          "name": "stderr",
          "text": [
            "/usr/local/lib/python3.12/dist-packages/urllib3/connectionpool.py:1097: InsecureRequestWarning: Unverified HTTPS request is being made to host 'datalab.unza.zm'. Adding certificate verification is strongly advised. See: https://urllib3.readthedocs.io/en/latest/advanced-usage.html#tls-warnings\n",
            "  warnings.warn(\n",
            "/usr/local/lib/python3.12/dist-packages/urllib3/connectionpool.py:1097: InsecureRequestWarning: Unverified HTTPS request is being made to host 'datalab.unza.zm'. Adding certificate verification is strongly advised. See: https://urllib3.readthedocs.io/en/latest/advanced-usage.html#tls-warnings\n",
            "  warnings.warn(\n"
          ]
        },
        {
          "output_type": "stream",
          "name": "stdout",
          "text": [
            "📄 Found PDF (28/50): https://datalab.unza.zm/sites/default/files/2023-12/reports-unza23-ict4014-chalwe_chanda_muzyamba_mwape.pdf\n",
            "Crawled (depth 2): https://datalab.unza.zm/publications/45\n"
          ]
        },
        {
          "output_type": "stream",
          "name": "stderr",
          "text": [
            "/usr/local/lib/python3.12/dist-packages/urllib3/connectionpool.py:1097: InsecureRequestWarning: Unverified HTTPS request is being made to host 'datalab.unza.zm'. Adding certificate verification is strongly advised. See: https://urllib3.readthedocs.io/en/latest/advanced-usage.html#tls-warnings\n",
            "  warnings.warn(\n"
          ]
        },
        {
          "output_type": "stream",
          "name": "stdout",
          "text": [
            "Crawled (depth 2): https://datalab.unza.zm/index.php/projects/wikipedia-in-the-global-south#main-content\n"
          ]
        },
        {
          "output_type": "stream",
          "name": "stderr",
          "text": [
            "/usr/local/lib/python3.12/dist-packages/urllib3/connectionpool.py:1097: InsecureRequestWarning: Unverified HTTPS request is being made to host 'datalab.unza.zm'. Adding certificate verification is strongly advised. See: https://urllib3.readthedocs.io/en/latest/advanced-usage.html#tls-warnings\n",
            "  warnings.warn(\n"
          ]
        },
        {
          "output_type": "stream",
          "name": "stdout",
          "text": [
            "Crawled (depth 1): https://datalab.unza.zm/index.php/projects/educational-data-mining\n"
          ]
        },
        {
          "output_type": "stream",
          "name": "stderr",
          "text": [
            "/usr/local/lib/python3.12/dist-packages/urllib3/connectionpool.py:1097: InsecureRequestWarning: Unverified HTTPS request is being made to host 'datalab.unza.zm'. Adding certificate verification is strongly advised. See: https://urllib3.readthedocs.io/en/latest/advanced-usage.html#tls-warnings\n",
            "  warnings.warn(\n",
            "/usr/local/lib/python3.12/dist-packages/urllib3/connectionpool.py:1097: InsecureRequestWarning: Unverified HTTPS request is being made to host 'datalab.unza.zm'. Adding certificate verification is strongly advised. See: https://urllib3.readthedocs.io/en/latest/advanced-usage.html#tls-warnings\n",
            "  warnings.warn(\n"
          ]
        },
        {
          "output_type": "stream",
          "name": "stdout",
          "text": [
            "📄 Found PDF (29/50): https://datalab.unza.zm/sites/default/files/2022-06/reports-unza18-lis4014-chisakula_mudimba_mwansa_mwelwa_nakazwe.pdf\n",
            "Crawled (depth 2): https://datalab.unza.zm/publications/22\n"
          ]
        },
        {
          "output_type": "stream",
          "name": "stderr",
          "text": [
            "/usr/local/lib/python3.12/dist-packages/urllib3/connectionpool.py:1097: InsecureRequestWarning: Unverified HTTPS request is being made to host 'datalab.unza.zm'. Adding certificate verification is strongly advised. See: https://urllib3.readthedocs.io/en/latest/advanced-usage.html#tls-warnings\n",
            "  warnings.warn(\n",
            "/usr/local/lib/python3.12/dist-packages/urllib3/connectionpool.py:1097: InsecureRequestWarning: Unverified HTTPS request is being made to host 'datalab.unza.zm'. Adding certificate verification is strongly advised. See: https://urllib3.readthedocs.io/en/latest/advanced-usage.html#tls-warnings\n",
            "  warnings.warn(\n"
          ]
        },
        {
          "output_type": "stream",
          "name": "stdout",
          "text": [
            "📄 Found PDF (30/50): https://datalab.unza.zm/sites/default/files/2022-06/reports-unza21-ict4014-chaibela_chisha_pungwa_siabbaba_simukoko.pdf\n",
            "Crawled (depth 2): https://datalab.unza.zm/publications/31\n"
          ]
        },
        {
          "output_type": "stream",
          "name": "stderr",
          "text": [
            "/usr/local/lib/python3.12/dist-packages/urllib3/connectionpool.py:1097: InsecureRequestWarning: Unverified HTTPS request is being made to host 'datalab.unza.zm'. Adding certificate verification is strongly advised. See: https://urllib3.readthedocs.io/en/latest/advanced-usage.html#tls-warnings\n",
            "  warnings.warn(\n"
          ]
        },
        {
          "output_type": "stream",
          "name": "stdout",
          "text": [
            "Crawled (depth 2): https://datalab.unza.zm/index.php/projects/educational-data-mining#main-content\n"
          ]
        },
        {
          "output_type": "stream",
          "name": "stderr",
          "text": [
            "/usr/local/lib/python3.12/dist-packages/urllib3/connectionpool.py:1097: InsecureRequestWarning: Unverified HTTPS request is being made to host 'datalab.unza.zm'. Adding certificate verification is strongly advised. See: https://urllib3.readthedocs.io/en/latest/advanced-usage.html#tls-warnings\n",
            "  warnings.warn(\n"
          ]
        },
        {
          "output_type": "stream",
          "name": "stdout",
          "text": [
            "Crawled (depth 1): https://datalab.unza.zm/index.php/projects/zambia-national-etd-portal\n"
          ]
        },
        {
          "output_type": "stream",
          "name": "stderr",
          "text": [
            "/usr/local/lib/python3.12/dist-packages/urllib3/connectionpool.py:1097: InsecureRequestWarning: Unverified HTTPS request is being made to host 'datalab.unza.zm'. Adding certificate verification is strongly advised. See: https://urllib3.readthedocs.io/en/latest/advanced-usage.html#tls-warnings\n",
            "  warnings.warn(\n"
          ]
        },
        {
          "output_type": "stream",
          "name": "stdout",
          "text": [
            "Crawled (depth 2): https://datalab.unza.zm/index.php/projects/zambia-national-etd-portal?page=1\n"
          ]
        },
        {
          "output_type": "stream",
          "name": "stderr",
          "text": [
            "/usr/local/lib/python3.12/dist-packages/urllib3/connectionpool.py:1097: InsecureRequestWarning: Unverified HTTPS request is being made to host 'datalab.unza.zm'. Adding certificate verification is strongly advised. See: https://urllib3.readthedocs.io/en/latest/advanced-usage.html#tls-warnings\n",
            "  warnings.warn(\n"
          ]
        },
        {
          "output_type": "stream",
          "name": "stdout",
          "text": [
            "Crawled (depth 2): https://datalab.unza.zm/index.php/projects/zambia-national-etd-portal?page=0\n"
          ]
        },
        {
          "output_type": "stream",
          "name": "stderr",
          "text": [
            "/usr/local/lib/python3.12/dist-packages/urllib3/connectionpool.py:1097: InsecureRequestWarning: Unverified HTTPS request is being made to host 'datalab.unza.zm'. Adding certificate verification is strongly advised. See: https://urllib3.readthedocs.io/en/latest/advanced-usage.html#tls-warnings\n",
            "  warnings.warn(\n"
          ]
        },
        {
          "output_type": "stream",
          "name": "stdout",
          "text": [
            "Crawled (depth 2): https://datalab.unza.zm/index.php/publications/20\n"
          ]
        },
        {
          "output_type": "stream",
          "name": "stderr",
          "text": [
            "/usr/local/lib/python3.12/dist-packages/urllib3/connectionpool.py:1097: InsecureRequestWarning: Unverified HTTPS request is being made to host 'datalab.unza.zm'. Adding certificate verification is strongly advised. See: https://urllib3.readthedocs.io/en/latest/advanced-usage.html#tls-warnings\n",
            "  warnings.warn(\n"
          ]
        },
        {
          "output_type": "stream",
          "name": "stdout",
          "text": [
            "Crawled (depth 2): https://datalab.unza.zm/index.php/publications/28\n"
          ]
        },
        {
          "output_type": "stream",
          "name": "stderr",
          "text": [
            "/usr/local/lib/python3.12/dist-packages/urllib3/connectionpool.py:1097: InsecureRequestWarning: Unverified HTTPS request is being made to host 'datalab.unza.zm'. Adding certificate verification is strongly advised. See: https://urllib3.readthedocs.io/en/latest/advanced-usage.html#tls-warnings\n",
            "  warnings.warn(\n"
          ]
        },
        {
          "output_type": "stream",
          "name": "stdout",
          "text": [
            "Crawled (depth 2): https://datalab.unza.zm/index.php/bibcite/reference/42\n"
          ]
        },
        {
          "output_type": "stream",
          "name": "stderr",
          "text": [
            "/usr/local/lib/python3.12/dist-packages/urllib3/connectionpool.py:1097: InsecureRequestWarning: Unverified HTTPS request is being made to host 'datalab.unza.zm'. Adding certificate verification is strongly advised. See: https://urllib3.readthedocs.io/en/latest/advanced-usage.html#tls-warnings\n",
            "  warnings.warn(\n"
          ]
        },
        {
          "output_type": "stream",
          "name": "stdout",
          "text": [
            "Crawled (depth 2): https://datalab.unza.zm/index.php/bibcite/reference/47\n"
          ]
        },
        {
          "output_type": "stream",
          "name": "stderr",
          "text": [
            "/usr/local/lib/python3.12/dist-packages/urllib3/connectionpool.py:1097: InsecureRequestWarning: Unverified HTTPS request is being made to host 'datalab.unza.zm'. Adding certificate verification is strongly advised. See: https://urllib3.readthedocs.io/en/latest/advanced-usage.html#tls-warnings\n",
            "  warnings.warn(\n"
          ]
        },
        {
          "output_type": "stream",
          "name": "stdout",
          "text": [
            "Crawled (depth 2): https://datalab.unza.zm/index.php/bibcite/reference/46\n"
          ]
        },
        {
          "output_type": "stream",
          "name": "stderr",
          "text": [
            "/usr/local/lib/python3.12/dist-packages/urllib3/connectionpool.py:1097: InsecureRequestWarning: Unverified HTTPS request is being made to host 'datalab.unza.zm'. Adding certificate verification is strongly advised. See: https://urllib3.readthedocs.io/en/latest/advanced-usage.html#tls-warnings\n",
            "  warnings.warn(\n"
          ]
        },
        {
          "output_type": "stream",
          "name": "stdout",
          "text": [
            "Crawled (depth 2): https://datalab.unza.zm/index.php/projects/zambia-national-etd-portal#main-content\n"
          ]
        },
        {
          "output_type": "stream",
          "name": "stderr",
          "text": [
            "/usr/local/lib/python3.12/dist-packages/urllib3/connectionpool.py:1097: InsecureRequestWarning: Unverified HTTPS request is being made to host 'datalab.unza.zm'. Adding certificate verification is strongly advised. See: https://urllib3.readthedocs.io/en/latest/advanced-usage.html#tls-warnings\n",
            "  warnings.warn(\n"
          ]
        },
        {
          "output_type": "stream",
          "name": "stdout",
          "text": [
            "Crawled (depth 1): https://datalab.unza.zm/index.php/projects/enterprise-medical-imaging\n"
          ]
        },
        {
          "output_type": "stream",
          "name": "stderr",
          "text": [
            "/usr/local/lib/python3.12/dist-packages/urllib3/connectionpool.py:1097: InsecureRequestWarning: Unverified HTTPS request is being made to host 'datalab.unza.zm'. Adding certificate verification is strongly advised. See: https://urllib3.readthedocs.io/en/latest/advanced-usage.html#tls-warnings\n",
            "  warnings.warn(\n"
          ]
        },
        {
          "output_type": "stream",
          "name": "stdout",
          "text": [
            "Crawled (depth 2): https://datalab.unza.zm/index.php/projects/enterprise-medical-imaging?page=1\n"
          ]
        },
        {
          "output_type": "stream",
          "name": "stderr",
          "text": [
            "/usr/local/lib/python3.12/dist-packages/urllib3/connectionpool.py:1097: InsecureRequestWarning: Unverified HTTPS request is being made to host 'datalab.unza.zm'. Adding certificate verification is strongly advised. See: https://urllib3.readthedocs.io/en/latest/advanced-usage.html#tls-warnings\n",
            "  warnings.warn(\n"
          ]
        },
        {
          "output_type": "stream",
          "name": "stdout",
          "text": [
            "Crawled (depth 2): https://datalab.unza.zm/index.php/projects/enterprise-medical-imaging?page=0\n"
          ]
        },
        {
          "output_type": "stream",
          "name": "stderr",
          "text": [
            "/usr/local/lib/python3.12/dist-packages/urllib3/connectionpool.py:1097: InsecureRequestWarning: Unverified HTTPS request is being made to host 'datalab.unza.zm'. Adding certificate verification is strongly advised. See: https://urllib3.readthedocs.io/en/latest/advanced-usage.html#tls-warnings\n",
            "  warnings.warn(\n"
          ]
        },
        {
          "output_type": "stream",
          "name": "stdout",
          "text": [
            "Crawled (depth 2): https://datalab.unza.zm/index.php/projects/enterprise-medical-imaging#main-content\n"
          ]
        },
        {
          "output_type": "stream",
          "name": "stderr",
          "text": [
            "/usr/local/lib/python3.12/dist-packages/urllib3/connectionpool.py:1097: InsecureRequestWarning: Unverified HTTPS request is being made to host 'datalab.unza.zm'. Adding certificate verification is strongly advised. See: https://urllib3.readthedocs.io/en/latest/advanced-usage.html#tls-warnings\n",
            "  warnings.warn(\n"
          ]
        },
        {
          "output_type": "stream",
          "name": "stdout",
          "text": [
            "Crawled (depth 1): https://datalab.unza.zm/index.php/projects\n"
          ]
        },
        {
          "output_type": "stream",
          "name": "stderr",
          "text": [
            "/usr/local/lib/python3.12/dist-packages/urllib3/connectionpool.py:1097: InsecureRequestWarning: Unverified HTTPS request is being made to host 'datalab.unza.zm'. Adding certificate verification is strongly advised. See: https://urllib3.readthedocs.io/en/latest/advanced-usage.html#tls-warnings\n",
            "  warnings.warn(\n"
          ]
        },
        {
          "output_type": "stream",
          "name": "stdout",
          "text": [
            "Crawled (depth 2): https://datalab.unza.zm/index.php/projects?page=1\n"
          ]
        },
        {
          "output_type": "stream",
          "name": "stderr",
          "text": [
            "/usr/local/lib/python3.12/dist-packages/urllib3/connectionpool.py:1097: InsecureRequestWarning: Unverified HTTPS request is being made to host 'datalab.unza.zm'. Adding certificate verification is strongly advised. See: https://urllib3.readthedocs.io/en/latest/advanced-usage.html#tls-warnings\n",
            "  warnings.warn(\n"
          ]
        },
        {
          "output_type": "stream",
          "name": "stdout",
          "text": [
            "Crawled (depth 2): https://datalab.unza.zm/index.php/projects?page=0\n"
          ]
        },
        {
          "output_type": "stream",
          "name": "stderr",
          "text": [
            "/usr/local/lib/python3.12/dist-packages/urllib3/connectionpool.py:1097: InsecureRequestWarning: Unverified HTTPS request is being made to host 'datalab.unza.zm'. Adding certificate verification is strongly advised. See: https://urllib3.readthedocs.io/en/latest/advanced-usage.html#tls-warnings\n",
            "  warnings.warn(\n"
          ]
        },
        {
          "output_type": "stream",
          "name": "stdout",
          "text": [
            "Crawled (depth 2): https://datalab.unza.zm/index.php/projects#main-content\n"
          ]
        },
        {
          "output_type": "stream",
          "name": "stderr",
          "text": [
            "/usr/local/lib/python3.12/dist-packages/urllib3/connectionpool.py:1097: InsecureRequestWarning: Unverified HTTPS request is being made to host 'datalab.unza.zm'. Adding certificate verification is strongly advised. See: https://urllib3.readthedocs.io/en/latest/advanced-usage.html#tls-warnings\n",
            "  warnings.warn(\n"
          ]
        },
        {
          "output_type": "stream",
          "name": "stdout",
          "text": [
            "Crawled (depth 1): https://datalab.unza.zm/index.php/publications/theses-and-dissertations\n"
          ]
        },
        {
          "output_type": "stream",
          "name": "stderr",
          "text": [
            "/usr/local/lib/python3.12/dist-packages/urllib3/connectionpool.py:1097: InsecureRequestWarning: Unverified HTTPS request is being made to host 'datalab.unza.zm'. Adding certificate verification is strongly advised. See: https://urllib3.readthedocs.io/en/latest/advanced-usage.html#tls-warnings\n",
            "  warnings.warn(\n"
          ]
        },
        {
          "output_type": "stream",
          "name": "stdout",
          "text": [
            "Crawled (depth 2): https://datalab.unza.zm/index.php/publications/theses-and-dissertations#main-content\n"
          ]
        },
        {
          "output_type": "stream",
          "name": "stderr",
          "text": [
            "/usr/local/lib/python3.12/dist-packages/urllib3/connectionpool.py:1097: InsecureRequestWarning: Unverified HTTPS request is being made to host 'datalab.unza.zm'. Adding certificate verification is strongly advised. See: https://urllib3.readthedocs.io/en/latest/advanced-usage.html#tls-warnings\n",
            "  warnings.warn(\n"
          ]
        },
        {
          "output_type": "stream",
          "name": "stdout",
          "text": [
            "Crawled (depth 1): https://datalab.unza.zm/index.php/publications/journal-articles\n"
          ]
        },
        {
          "output_type": "stream",
          "name": "stderr",
          "text": [
            "/usr/local/lib/python3.12/dist-packages/urllib3/connectionpool.py:1097: InsecureRequestWarning: Unverified HTTPS request is being made to host 'datalab.unza.zm'. Adding certificate verification is strongly advised. See: https://urllib3.readthedocs.io/en/latest/advanced-usage.html#tls-warnings\n",
            "  warnings.warn(\n"
          ]
        },
        {
          "output_type": "stream",
          "name": "stdout",
          "text": [
            "Crawled (depth 2): https://datalab.unza.zm/publications/10\n"
          ]
        },
        {
          "output_type": "stream",
          "name": "stderr",
          "text": [
            "/usr/local/lib/python3.12/dist-packages/urllib3/connectionpool.py:1097: InsecureRequestWarning: Unverified HTTPS request is being made to host 'datalab.unza.zm'. Adding certificate verification is strongly advised. See: https://urllib3.readthedocs.io/en/latest/advanced-usage.html#tls-warnings\n",
            "  warnings.warn(\n"
          ]
        },
        {
          "output_type": "stream",
          "name": "stdout",
          "text": [
            "📄 Found PDF (31/50): http://41.63.1.14/sites/default/files/2022-05/papers-etd19-multifaceted_approach.pdf\n",
            "Crawled (depth 2): https://datalab.unza.zm/publications/8\n"
          ]
        },
        {
          "output_type": "stream",
          "name": "stderr",
          "text": [
            "/usr/local/lib/python3.12/dist-packages/urllib3/connectionpool.py:1097: InsecureRequestWarning: Unverified HTTPS request is being made to host 'datalab.unza.zm'. Adding certificate verification is strongly advised. See: https://urllib3.readthedocs.io/en/latest/advanced-usage.html#tls-warnings\n",
            "  warnings.warn(\n"
          ]
        },
        {
          "output_type": "stream",
          "name": "stdout",
          "text": [
            "Crawled (depth 2): https://datalab.unza.zm/publications/41\n"
          ]
        },
        {
          "output_type": "stream",
          "name": "stderr",
          "text": [
            "/usr/local/lib/python3.12/dist-packages/urllib3/connectionpool.py:1097: InsecureRequestWarning: Unverified HTTPS request is being made to host 'datalab.unza.zm'. Adding certificate verification is strongly advised. See: https://urllib3.readthedocs.io/en/latest/advanced-usage.html#tls-warnings\n",
            "  warnings.warn(\n"
          ]
        },
        {
          "output_type": "stream",
          "name": "stdout",
          "text": [
            "Crawled (depth 2): https://datalab.unza.zm/index.php/publications/journal-articles#main-content\n"
          ]
        },
        {
          "output_type": "stream",
          "name": "stderr",
          "text": [
            "/usr/local/lib/python3.12/dist-packages/urllib3/connectionpool.py:1097: InsecureRequestWarning: Unverified HTTPS request is being made to host 'datalab.unza.zm'. Adding certificate verification is strongly advised. See: https://urllib3.readthedocs.io/en/latest/advanced-usage.html#tls-warnings\n",
            "  warnings.warn(\n"
          ]
        },
        {
          "output_type": "stream",
          "name": "stdout",
          "text": [
            "Crawled (depth 1): https://datalab.unza.zm/index.php/publications/conference-papers\n"
          ]
        },
        {
          "output_type": "stream",
          "name": "stderr",
          "text": [
            "/usr/local/lib/python3.12/dist-packages/urllib3/connectionpool.py:1097: InsecureRequestWarning: Unverified HTTPS request is being made to host 'datalab.unza.zm'. Adding certificate verification is strongly advised. See: https://urllib3.readthedocs.io/en/latest/advanced-usage.html#tls-warnings\n",
            "  warnings.warn(\n"
          ]
        },
        {
          "output_type": "stream",
          "name": "stdout",
          "text": [
            "Crawled (depth 2): https://datalab.unza.zm/index.php/publications/conference-papers?page=2\n"
          ]
        },
        {
          "output_type": "stream",
          "name": "stderr",
          "text": [
            "/usr/local/lib/python3.12/dist-packages/urllib3/connectionpool.py:1097: InsecureRequestWarning: Unverified HTTPS request is being made to host 'datalab.unza.zm'. Adding certificate verification is strongly advised. See: https://urllib3.readthedocs.io/en/latest/advanced-usage.html#tls-warnings\n",
            "  warnings.warn(\n"
          ]
        },
        {
          "output_type": "stream",
          "name": "stdout",
          "text": [
            "Crawled (depth 2): https://datalab.unza.zm/index.php/publications/conference-papers?page=1\n"
          ]
        },
        {
          "output_type": "stream",
          "name": "stderr",
          "text": [
            "/usr/local/lib/python3.12/dist-packages/urllib3/connectionpool.py:1097: InsecureRequestWarning: Unverified HTTPS request is being made to host 'datalab.unza.zm'. Adding certificate verification is strongly advised. See: https://urllib3.readthedocs.io/en/latest/advanced-usage.html#tls-warnings\n",
            "  warnings.warn(\n"
          ]
        },
        {
          "output_type": "stream",
          "name": "stdout",
          "text": [
            "Crawled (depth 2): https://datalab.unza.zm/index.php/publications/conference-papers?page=0\n"
          ]
        },
        {
          "output_type": "stream",
          "name": "stderr",
          "text": [
            "/usr/local/lib/python3.12/dist-packages/urllib3/connectionpool.py:1097: InsecureRequestWarning: Unverified HTTPS request is being made to host 'datalab.unza.zm'. Adding certificate verification is strongly advised. See: https://urllib3.readthedocs.io/en/latest/advanced-usage.html#tls-warnings\n",
            "  warnings.warn(\n"
          ]
        },
        {
          "output_type": "stream",
          "name": "stdout",
          "text": [
            "Crawled (depth 2): https://datalab.unza.zm/index.php/bibcite/reference/48\n"
          ]
        },
        {
          "output_type": "stream",
          "name": "stderr",
          "text": [
            "/usr/local/lib/python3.12/dist-packages/urllib3/connectionpool.py:1097: InsecureRequestWarning: Unverified HTTPS request is being made to host 'datalab.unza.zm'. Adding certificate verification is strongly advised. See: https://urllib3.readthedocs.io/en/latest/advanced-usage.html#tls-warnings\n",
            "  warnings.warn(\n"
          ]
        },
        {
          "output_type": "stream",
          "name": "stdout",
          "text": [
            "Crawled (depth 2): https://datalab.unza.zm/index.php/bibcite/reference/43\n"
          ]
        },
        {
          "output_type": "stream",
          "name": "stderr",
          "text": [
            "/usr/local/lib/python3.12/dist-packages/urllib3/connectionpool.py:1097: InsecureRequestWarning: Unverified HTTPS request is being made to host 'datalab.unza.zm'. Adding certificate verification is strongly advised. See: https://urllib3.readthedocs.io/en/latest/advanced-usage.html#tls-warnings\n",
            "  warnings.warn(\n"
          ]
        },
        {
          "output_type": "stream",
          "name": "stdout",
          "text": [
            "Crawled (depth 2): https://datalab.unza.zm/index.php/bibcite/reference/49\n"
          ]
        },
        {
          "output_type": "stream",
          "name": "stderr",
          "text": [
            "/usr/local/lib/python3.12/dist-packages/urllib3/connectionpool.py:1097: InsecureRequestWarning: Unverified HTTPS request is being made to host 'datalab.unza.zm'. Adding certificate verification is strongly advised. See: https://urllib3.readthedocs.io/en/latest/advanced-usage.html#tls-warnings\n",
            "  warnings.warn(\n",
            "/usr/local/lib/python3.12/dist-packages/urllib3/connectionpool.py:1097: InsecureRequestWarning: Unverified HTTPS request is being made to host 'datalab.unza.zm'. Adding certificate verification is strongly advised. See: https://urllib3.readthedocs.io/en/latest/advanced-usage.html#tls-warnings\n",
            "  warnings.warn(\n"
          ]
        },
        {
          "output_type": "stream",
          "name": "stdout",
          "text": [
            "📄 Found PDF (32/50): https://datalab.unza.zm/sites/default/files/2023-12/paper-africhi23-portal_usability_evaluation.pdf\n",
            "Crawled (depth 2): https://datalab.unza.zm/index.php/bibcite/reference/57\n"
          ]
        },
        {
          "output_type": "stream",
          "name": "stderr",
          "text": [
            "/usr/local/lib/python3.12/dist-packages/urllib3/connectionpool.py:1097: InsecureRequestWarning: Unverified HTTPS request is being made to host 'datalab.unza.zm'. Adding certificate verification is strongly advised. See: https://urllib3.readthedocs.io/en/latest/advanced-usage.html#tls-warnings\n",
            "  warnings.warn(\n"
          ]
        },
        {
          "output_type": "stream",
          "name": "stdout",
          "text": [
            "Crawled (depth 2): https://datalab.unza.zm/index.php/publications/conference-papers#main-content\n"
          ]
        },
        {
          "output_type": "stream",
          "name": "stderr",
          "text": [
            "/usr/local/lib/python3.12/dist-packages/urllib3/connectionpool.py:1097: InsecureRequestWarning: Unverified HTTPS request is being made to host 'datalab.unza.zm'. Adding certificate verification is strongly advised. See: https://urllib3.readthedocs.io/en/latest/advanced-usage.html#tls-warnings\n",
            "  warnings.warn(\n"
          ]
        },
        {
          "output_type": "stream",
          "name": "stdout",
          "text": [
            "Crawled (depth 1): https://datalab.unza.zm/index.php/publications/capstone-project-reports\n"
          ]
        },
        {
          "output_type": "stream",
          "name": "stderr",
          "text": [
            "/usr/local/lib/python3.12/dist-packages/urllib3/connectionpool.py:1097: InsecureRequestWarning: Unverified HTTPS request is being made to host 'datalab.unza.zm'. Adding certificate verification is strongly advised. See: https://urllib3.readthedocs.io/en/latest/advanced-usage.html#tls-warnings\n",
            "  warnings.warn(\n"
          ]
        },
        {
          "output_type": "stream",
          "name": "stdout",
          "text": [
            "Crawled (depth 2): https://datalab.unza.zm/index.php/publications/capstone-project-reports?page=1\n"
          ]
        },
        {
          "output_type": "stream",
          "name": "stderr",
          "text": [
            "/usr/local/lib/python3.12/dist-packages/urllib3/connectionpool.py:1097: InsecureRequestWarning: Unverified HTTPS request is being made to host 'datalab.unza.zm'. Adding certificate verification is strongly advised. See: https://urllib3.readthedocs.io/en/latest/advanced-usage.html#tls-warnings\n",
            "  warnings.warn(\n"
          ]
        },
        {
          "output_type": "stream",
          "name": "stdout",
          "text": [
            "Crawled (depth 2): https://datalab.unza.zm/index.php/publications/capstone-project-reports?page=0\n"
          ]
        },
        {
          "output_type": "stream",
          "name": "stderr",
          "text": [
            "/usr/local/lib/python3.12/dist-packages/urllib3/connectionpool.py:1097: InsecureRequestWarning: Unverified HTTPS request is being made to host 'datalab.unza.zm'. Adding certificate verification is strongly advised. See: https://urllib3.readthedocs.io/en/latest/advanced-usage.html#tls-warnings\n",
            "  warnings.warn(\n",
            "/usr/local/lib/python3.12/dist-packages/urllib3/connectionpool.py:1097: InsecureRequestWarning: Unverified HTTPS request is being made to host 'datalab.unza.zm'. Adding certificate verification is strongly advised. See: https://urllib3.readthedocs.io/en/latest/advanced-usage.html#tls-warnings\n",
            "  warnings.warn(\n"
          ]
        },
        {
          "output_type": "stream",
          "name": "stdout",
          "text": [
            "📄 Found PDF (33/50): https://datalab.unza.zm/sites/default/files/2023-12/reports-unza22-ict4014-bowa_mwendaluta_kalikeka_njobvu.pdf\n",
            "Crawled (depth 2): https://datalab.unza.zm/publications/54\n"
          ]
        },
        {
          "output_type": "stream",
          "name": "stderr",
          "text": [
            "/usr/local/lib/python3.12/dist-packages/urllib3/connectionpool.py:1097: InsecureRequestWarning: Unverified HTTPS request is being made to host 'datalab.unza.zm'. Adding certificate verification is strongly advised. See: https://urllib3.readthedocs.io/en/latest/advanced-usage.html#tls-warnings\n",
            "  warnings.warn(\n",
            "/usr/local/lib/python3.12/dist-packages/urllib3/connectionpool.py:1097: InsecureRequestWarning: Unverified HTTPS request is being made to host 'datalab.unza.zm'. Adding certificate verification is strongly advised. See: https://urllib3.readthedocs.io/en/latest/advanced-usage.html#tls-warnings\n",
            "  warnings.warn(\n"
          ]
        },
        {
          "output_type": "stream",
          "name": "stdout",
          "text": [
            "📄 Found PDF (34/50): https://datalab.unza.zm/sites/default/files/2023-12/reports-unza22-ict4014-bule_kuyela_makungu_mwanza.pdf\n",
            "Crawled (depth 2): https://datalab.unza.zm/publications/53\n"
          ]
        },
        {
          "output_type": "stream",
          "name": "stderr",
          "text": [
            "/usr/local/lib/python3.12/dist-packages/urllib3/connectionpool.py:1097: InsecureRequestWarning: Unverified HTTPS request is being made to host 'datalab.unza.zm'. Adding certificate verification is strongly advised. See: https://urllib3.readthedocs.io/en/latest/advanced-usage.html#tls-warnings\n",
            "  warnings.warn(\n",
            "/usr/local/lib/python3.12/dist-packages/urllib3/connectionpool.py:1097: InsecureRequestWarning: Unverified HTTPS request is being made to host 'datalab.unza.zm'. Adding certificate verification is strongly advised. See: https://urllib3.readthedocs.io/en/latest/advanced-usage.html#tls-warnings\n",
            "  warnings.warn(\n"
          ]
        },
        {
          "output_type": "stream",
          "name": "stdout",
          "text": [
            "📄 Found PDF (35/50): https://datalab.unza.zm/sites/default/files/2023-12/reports-unza22-ict4014-nyambe_mulenga_mufuzi_ngoma.pdf\n",
            "Crawled (depth 2): https://datalab.unza.zm/publications/52\n"
          ]
        },
        {
          "output_type": "stream",
          "name": "stderr",
          "text": [
            "/usr/local/lib/python3.12/dist-packages/urllib3/connectionpool.py:1097: InsecureRequestWarning: Unverified HTTPS request is being made to host 'datalab.unza.zm'. Adding certificate verification is strongly advised. See: https://urllib3.readthedocs.io/en/latest/advanced-usage.html#tls-warnings\n",
            "  warnings.warn(\n",
            "/usr/local/lib/python3.12/dist-packages/urllib3/connectionpool.py:1097: InsecureRequestWarning: Unverified HTTPS request is being made to host 'datalab.unza.zm'. Adding certificate verification is strongly advised. See: https://urllib3.readthedocs.io/en/latest/advanced-usage.html#tls-warnings\n",
            "  warnings.warn(\n"
          ]
        },
        {
          "output_type": "stream",
          "name": "stdout",
          "text": [
            "📄 Found PDF (36/50): https://datalab.unza.zm/sites/default/files/2023-12/reports-unza22-ict4014-mwaba_mwanza_shawa_sikazwe.pdf\n",
            "Crawled (depth 2): https://datalab.unza.zm/publications/51\n"
          ]
        },
        {
          "output_type": "stream",
          "name": "stderr",
          "text": [
            "/usr/local/lib/python3.12/dist-packages/urllib3/connectionpool.py:1097: InsecureRequestWarning: Unverified HTTPS request is being made to host 'datalab.unza.zm'. Adding certificate verification is strongly advised. See: https://urllib3.readthedocs.io/en/latest/advanced-usage.html#tls-warnings\n",
            "  warnings.warn(\n"
          ]
        },
        {
          "output_type": "stream",
          "name": "stdout",
          "text": [
            "📄 Found PDF (37/50): http://41.63.1.14/sites/default/files/2023-12/reports-unza23-ict4014-chanda_kanfwa_mainda.pdf\n",
            "Crawled (depth 2): https://datalab.unza.zm/publications/56\n"
          ]
        },
        {
          "output_type": "stream",
          "name": "stderr",
          "text": [
            "/usr/local/lib/python3.12/dist-packages/urllib3/connectionpool.py:1097: InsecureRequestWarning: Unverified HTTPS request is being made to host 'datalab.unza.zm'. Adding certificate verification is strongly advised. See: https://urllib3.readthedocs.io/en/latest/advanced-usage.html#tls-warnings\n",
            "  warnings.warn(\n"
          ]
        },
        {
          "output_type": "stream",
          "name": "stdout",
          "text": [
            "📄 Found PDF (38/50): http://41.63.1.14/sites/default/files/2023-12/reports-unza23-ict4014-kambunji_phiri_nachibinga_sinyangwe.pdf\n",
            "Crawled (depth 2): https://datalab.unza.zm/publications/55\n"
          ]
        },
        {
          "output_type": "stream",
          "name": "stderr",
          "text": [
            "/usr/local/lib/python3.12/dist-packages/urllib3/connectionpool.py:1097: InsecureRequestWarning: Unverified HTTPS request is being made to host 'datalab.unza.zm'. Adding certificate verification is strongly advised. See: https://urllib3.readthedocs.io/en/latest/advanced-usage.html#tls-warnings\n",
            "  warnings.warn(\n"
          ]
        },
        {
          "output_type": "stream",
          "name": "stdout",
          "text": [
            "Crawled (depth 2): https://datalab.unza.zm/index.php/publications/capstone-project-reports#main-content\n"
          ]
        },
        {
          "output_type": "stream",
          "name": "stderr",
          "text": [
            "/usr/local/lib/python3.12/dist-packages/urllib3/connectionpool.py:1097: InsecureRequestWarning: Unverified HTTPS request is being made to host 'datalab.unza.zm'. Adding certificate verification is strongly advised. See: https://urllib3.readthedocs.io/en/latest/advanced-usage.html#tls-warnings\n",
            "  warnings.warn(\n"
          ]
        },
        {
          "output_type": "stream",
          "name": "stdout",
          "text": [
            "Crawled (depth 1): https://datalab.unza.zm/index.php/publications/books\n"
          ]
        },
        {
          "output_type": "stream",
          "name": "stderr",
          "text": [
            "/usr/local/lib/python3.12/dist-packages/urllib3/connectionpool.py:1097: InsecureRequestWarning: Unverified HTTPS request is being made to host 'datalab.unza.zm'. Adding certificate verification is strongly advised. See: https://urllib3.readthedocs.io/en/latest/advanced-usage.html#tls-warnings\n",
            "  warnings.warn(\n"
          ]
        },
        {
          "output_type": "stream",
          "name": "stdout",
          "text": [
            "Crawled (depth 2): https://datalab.unza.zm/index.php/publications/12\n"
          ]
        },
        {
          "output_type": "stream",
          "name": "stderr",
          "text": [
            "/usr/local/lib/python3.12/dist-packages/urllib3/connectionpool.py:1097: InsecureRequestWarning: Unverified HTTPS request is being made to host 'datalab.unza.zm'. Adding certificate verification is strongly advised. See: https://urllib3.readthedocs.io/en/latest/advanced-usage.html#tls-warnings\n",
            "  warnings.warn(\n"
          ]
        },
        {
          "output_type": "stream",
          "name": "stdout",
          "text": [
            "Crawled (depth 2): https://datalab.unza.zm/index.php/publications/books#main-content\n"
          ]
        },
        {
          "output_type": "stream",
          "name": "stderr",
          "text": [
            "/usr/local/lib/python3.12/dist-packages/urllib3/connectionpool.py:1097: InsecureRequestWarning: Unverified HTTPS request is being made to host 'datalab.unza.zm'. Adding certificate verification is strongly advised. See: https://urllib3.readthedocs.io/en/latest/advanced-usage.html#tls-warnings\n",
            "  warnings.warn(\n"
          ]
        },
        {
          "output_type": "stream",
          "name": "stdout",
          "text": [
            "Crawled (depth 1): https://datalab.unza.zm/index.php/publications\n"
          ]
        },
        {
          "output_type": "stream",
          "name": "stderr",
          "text": [
            "/usr/local/lib/python3.12/dist-packages/urllib3/connectionpool.py:1097: InsecureRequestWarning: Unverified HTTPS request is being made to host 'datalab.unza.zm'. Adding certificate verification is strongly advised. See: https://urllib3.readthedocs.io/en/latest/advanced-usage.html#tls-warnings\n",
            "  warnings.warn(\n"
          ]
        },
        {
          "output_type": "stream",
          "name": "stdout",
          "text": [
            "Crawled (depth 2): https://datalab.unza.zm/index.php/publications?page=6\n"
          ]
        },
        {
          "output_type": "stream",
          "name": "stderr",
          "text": [
            "/usr/local/lib/python3.12/dist-packages/urllib3/connectionpool.py:1097: InsecureRequestWarning: Unverified HTTPS request is being made to host 'datalab.unza.zm'. Adding certificate verification is strongly advised. See: https://urllib3.readthedocs.io/en/latest/advanced-usage.html#tls-warnings\n",
            "  warnings.warn(\n"
          ]
        },
        {
          "output_type": "stream",
          "name": "stdout",
          "text": [
            "Crawled (depth 2): https://datalab.unza.zm/index.php/publications?page=5\n"
          ]
        },
        {
          "output_type": "stream",
          "name": "stderr",
          "text": [
            "/usr/local/lib/python3.12/dist-packages/urllib3/connectionpool.py:1097: InsecureRequestWarning: Unverified HTTPS request is being made to host 'datalab.unza.zm'. Adding certificate verification is strongly advised. See: https://urllib3.readthedocs.io/en/latest/advanced-usage.html#tls-warnings\n",
            "  warnings.warn(\n"
          ]
        },
        {
          "output_type": "stream",
          "name": "stdout",
          "text": [
            "Crawled (depth 2): https://datalab.unza.zm/index.php/publications?page=4\n"
          ]
        },
        {
          "output_type": "stream",
          "name": "stderr",
          "text": [
            "/usr/local/lib/python3.12/dist-packages/urllib3/connectionpool.py:1097: InsecureRequestWarning: Unverified HTTPS request is being made to host 'datalab.unza.zm'. Adding certificate verification is strongly advised. See: https://urllib3.readthedocs.io/en/latest/advanced-usage.html#tls-warnings\n",
            "  warnings.warn(\n"
          ]
        },
        {
          "output_type": "stream",
          "name": "stdout",
          "text": [
            "Crawled (depth 2): https://datalab.unza.zm/index.php/publications?page=3\n"
          ]
        },
        {
          "output_type": "stream",
          "name": "stderr",
          "text": [
            "/usr/local/lib/python3.12/dist-packages/urllib3/connectionpool.py:1097: InsecureRequestWarning: Unverified HTTPS request is being made to host 'datalab.unza.zm'. Adding certificate verification is strongly advised. See: https://urllib3.readthedocs.io/en/latest/advanced-usage.html#tls-warnings\n",
            "  warnings.warn(\n"
          ]
        },
        {
          "output_type": "stream",
          "name": "stdout",
          "text": [
            "Crawled (depth 2): https://datalab.unza.zm/index.php/publications?page=2\n"
          ]
        },
        {
          "output_type": "stream",
          "name": "stderr",
          "text": [
            "/usr/local/lib/python3.12/dist-packages/urllib3/connectionpool.py:1097: InsecureRequestWarning: Unverified HTTPS request is being made to host 'datalab.unza.zm'. Adding certificate verification is strongly advised. See: https://urllib3.readthedocs.io/en/latest/advanced-usage.html#tls-warnings\n",
            "  warnings.warn(\n"
          ]
        },
        {
          "output_type": "stream",
          "name": "stdout",
          "text": [
            "Crawled (depth 2): https://datalab.unza.zm/index.php/publications?page=1\n"
          ]
        },
        {
          "output_type": "stream",
          "name": "stderr",
          "text": [
            "/usr/local/lib/python3.12/dist-packages/urllib3/connectionpool.py:1097: InsecureRequestWarning: Unverified HTTPS request is being made to host 'datalab.unza.zm'. Adding certificate verification is strongly advised. See: https://urllib3.readthedocs.io/en/latest/advanced-usage.html#tls-warnings\n",
            "  warnings.warn(\n"
          ]
        },
        {
          "output_type": "stream",
          "name": "stdout",
          "text": [
            "Crawled (depth 2): https://datalab.unza.zm/index.php/publications?page=0\n"
          ]
        },
        {
          "output_type": "stream",
          "name": "stderr",
          "text": [
            "/usr/local/lib/python3.12/dist-packages/urllib3/connectionpool.py:1097: InsecureRequestWarning: Unverified HTTPS request is being made to host 'datalab.unza.zm'. Adding certificate verification is strongly advised. See: https://urllib3.readthedocs.io/en/latest/advanced-usage.html#tls-warnings\n",
            "  warnings.warn(\n"
          ]
        },
        {
          "output_type": "stream",
          "name": "stdout",
          "text": [
            "Crawled (depth 2): https://datalab.unza.zm/index.php/publications#main-content\n"
          ]
        },
        {
          "output_type": "stream",
          "name": "stderr",
          "text": [
            "/usr/local/lib/python3.12/dist-packages/urllib3/connectionpool.py:1097: InsecureRequestWarning: Unverified HTTPS request is being made to host 'datalab.unza.zm'. Adding certificate verification is strongly advised. See: https://urllib3.readthedocs.io/en/latest/advanced-usage.html#tls-warnings\n",
            "  warnings.warn(\n"
          ]
        },
        {
          "output_type": "stream",
          "name": "stdout",
          "text": [
            "Crawled (depth 1): https://datalab.unza.zm/index.php/research/technology-enhanced-learning\n"
          ]
        },
        {
          "output_type": "stream",
          "name": "stderr",
          "text": [
            "/usr/local/lib/python3.12/dist-packages/urllib3/connectionpool.py:1097: InsecureRequestWarning: Unverified HTTPS request is being made to host 'datalab.unza.zm'. Adding certificate verification is strongly advised. See: https://urllib3.readthedocs.io/en/latest/advanced-usage.html#tls-warnings\n",
            "  warnings.warn(\n",
            "/usr/local/lib/python3.12/dist-packages/urllib3/connectionpool.py:1097: InsecureRequestWarning: Unverified HTTPS request is being made to host 'datalab.unza.zm'. Adding certificate verification is strongly advised. See: https://urllib3.readthedocs.io/en/latest/advanced-usage.html#tls-warnings\n",
            "  warnings.warn(\n"
          ]
        },
        {
          "output_type": "stream",
          "name": "stdout",
          "text": [
            "📄 Found PDF (39/50): https://datalab.unza.zm/sites/default/files/2022-06/reports-unza20-lis4014-chanda_chirwa_kamanga_kayula.pdf\n",
            "Crawled (depth 2): https://datalab.unza.zm/index.php/publications/7\n"
          ]
        },
        {
          "output_type": "stream",
          "name": "stderr",
          "text": [
            "/usr/local/lib/python3.12/dist-packages/urllib3/connectionpool.py:1097: InsecureRequestWarning: Unverified HTTPS request is being made to host 'datalab.unza.zm'. Adding certificate verification is strongly advised. See: https://urllib3.readthedocs.io/en/latest/advanced-usage.html#tls-warnings\n",
            "  warnings.warn(\n",
            "/usr/local/lib/python3.12/dist-packages/urllib3/connectionpool.py:1097: InsecureRequestWarning: Unverified HTTPS request is being made to host 'datalab.unza.zm'. Adding certificate verification is strongly advised. See: https://urllib3.readthedocs.io/en/latest/advanced-usage.html#tls-warnings\n",
            "  warnings.warn(\n"
          ]
        },
        {
          "output_type": "stream",
          "name": "stdout",
          "text": [
            "📄 Found PDF (40/50): https://datalab.unza.zm/sites/default/files/2022-06/reports-unza21-ict4014-chengo_hamamba_mubanga_nzila_simfukwe.pdf\n",
            "Crawled (depth 2): https://datalab.unza.zm/index.php/publications/33\n"
          ]
        },
        {
          "output_type": "stream",
          "name": "stderr",
          "text": [
            "/usr/local/lib/python3.12/dist-packages/urllib3/connectionpool.py:1097: InsecureRequestWarning: Unverified HTTPS request is being made to host 'datalab.unza.zm'. Adding certificate verification is strongly advised. See: https://urllib3.readthedocs.io/en/latest/advanced-usage.html#tls-warnings\n",
            "  warnings.warn(\n",
            "/usr/local/lib/python3.12/dist-packages/urllib3/connectionpool.py:1097: InsecureRequestWarning: Unverified HTTPS request is being made to host 'datalab.unza.zm'. Adding certificate verification is strongly advised. See: https://urllib3.readthedocs.io/en/latest/advanced-usage.html#tls-warnings\n",
            "  warnings.warn(\n"
          ]
        },
        {
          "output_type": "stream",
          "name": "stdout",
          "text": [
            "📄 Found PDF (41/50): https://datalab.unza.zm/sites/default/files/2022-06/reports-unza21-ict4014-mambwe_lubinda_ndhlovu_ntembeni_lungu.pdf\n",
            "Crawled (depth 2): https://datalab.unza.zm/index.php/publications/32\n"
          ]
        },
        {
          "output_type": "stream",
          "name": "stderr",
          "text": [
            "/usr/local/lib/python3.12/dist-packages/urllib3/connectionpool.py:1097: InsecureRequestWarning: Unverified HTTPS request is being made to host 'datalab.unza.zm'. Adding certificate verification is strongly advised. See: https://urllib3.readthedocs.io/en/latest/advanced-usage.html#tls-warnings\n",
            "  warnings.warn(\n"
          ]
        },
        {
          "output_type": "stream",
          "name": "stdout",
          "text": [
            "Crawled (depth 2): https://datalab.unza.zm/index.php/publications/31\n"
          ]
        },
        {
          "output_type": "stream",
          "name": "stderr",
          "text": [
            "/usr/local/lib/python3.12/dist-packages/urllib3/connectionpool.py:1097: InsecureRequestWarning: Unverified HTTPS request is being made to host 'datalab.unza.zm'. Adding certificate verification is strongly advised. See: https://urllib3.readthedocs.io/en/latest/advanced-usage.html#tls-warnings\n",
            "  warnings.warn(\n",
            "/usr/local/lib/python3.12/dist-packages/urllib3/connectionpool.py:1097: InsecureRequestWarning: Unverified HTTPS request is being made to host 'datalab.unza.zm'. Adding certificate verification is strongly advised. See: https://urllib3.readthedocs.io/en/latest/advanced-usage.html#tls-warnings\n",
            "  warnings.warn(\n"
          ]
        },
        {
          "output_type": "stream",
          "name": "stdout",
          "text": [
            "📄 Found PDF (42/50): https://datalab.unza.zm/sites/default/files/2022-05/papers-csedu22-factors_influencing_cocreation_of_oers.pdf\n",
            "Crawled (depth 2): https://datalab.unza.zm/index.php/publications/34\n"
          ]
        },
        {
          "output_type": "stream",
          "name": "stderr",
          "text": [
            "/usr/local/lib/python3.12/dist-packages/urllib3/connectionpool.py:1097: InsecureRequestWarning: Unverified HTTPS request is being made to host 'datalab.unza.zm'. Adding certificate verification is strongly advised. See: https://urllib3.readthedocs.io/en/latest/advanced-usage.html#tls-warnings\n",
            "  warnings.warn(\n"
          ]
        },
        {
          "output_type": "stream",
          "name": "stdout",
          "text": [
            "Crawled (depth 2): https://datalab.unza.zm/index.php/research/technology-enhanced-learning#main-content\n"
          ]
        },
        {
          "output_type": "stream",
          "name": "stderr",
          "text": [
            "/usr/local/lib/python3.12/dist-packages/urllib3/connectionpool.py:1097: InsecureRequestWarning: Unverified HTTPS request is being made to host 'datalab.unza.zm'. Adding certificate verification is strongly advised. See: https://urllib3.readthedocs.io/en/latest/advanced-usage.html#tls-warnings\n",
            "  warnings.warn(\n"
          ]
        },
        {
          "output_type": "stream",
          "name": "stdout",
          "text": [
            "Crawled (depth 1): https://datalab.unza.zm/index.php/research/digital-libraries\n"
          ]
        },
        {
          "output_type": "stream",
          "name": "stderr",
          "text": [
            "/usr/local/lib/python3.12/dist-packages/urllib3/connectionpool.py:1097: InsecureRequestWarning: Unverified HTTPS request is being made to host 'datalab.unza.zm'. Adding certificate verification is strongly advised. See: https://urllib3.readthedocs.io/en/latest/advanced-usage.html#tls-warnings\n",
            "  warnings.warn(\n"
          ]
        },
        {
          "output_type": "stream",
          "name": "stdout",
          "text": [
            "Crawled (depth 2): https://datalab.unza.zm/index.php/publications/4\n"
          ]
        },
        {
          "output_type": "stream",
          "name": "stderr",
          "text": [
            "/usr/local/lib/python3.12/dist-packages/urllib3/connectionpool.py:1097: InsecureRequestWarning: Unverified HTTPS request is being made to host 'datalab.unza.zm'. Adding certificate verification is strongly advised. See: https://urllib3.readthedocs.io/en/latest/advanced-usage.html#tls-warnings\n",
            "  warnings.warn(\n"
          ]
        },
        {
          "output_type": "stream",
          "name": "stdout",
          "text": [
            "Crawled (depth 2): https://datalab.unza.zm/index.php/publications/8\n"
          ]
        },
        {
          "output_type": "stream",
          "name": "stderr",
          "text": [
            "/usr/local/lib/python3.12/dist-packages/urllib3/connectionpool.py:1097: InsecureRequestWarning: Unverified HTTPS request is being made to host 'datalab.unza.zm'. Adding certificate verification is strongly advised. See: https://urllib3.readthedocs.io/en/latest/advanced-usage.html#tls-warnings\n",
            "  warnings.warn(\n"
          ]
        },
        {
          "output_type": "stream",
          "name": "stdout",
          "text": [
            "Crawled (depth 2): https://datalab.unza.zm/index.php/research/digital-libraries#main-content\n"
          ]
        },
        {
          "output_type": "stream",
          "name": "stderr",
          "text": [
            "/usr/local/lib/python3.12/dist-packages/urllib3/connectionpool.py:1097: InsecureRequestWarning: Unverified HTTPS request is being made to host 'datalab.unza.zm'. Adding certificate verification is strongly advised. See: https://urllib3.readthedocs.io/en/latest/advanced-usage.html#tls-warnings\n",
            "  warnings.warn(\n"
          ]
        },
        {
          "output_type": "stream",
          "name": "stdout",
          "text": [
            "Crawled (depth 1): https://datalab.unza.zm/index.php/research/data-mining\n"
          ]
        },
        {
          "output_type": "stream",
          "name": "stderr",
          "text": [
            "/usr/local/lib/python3.12/dist-packages/urllib3/connectionpool.py:1097: InsecureRequestWarning: Unverified HTTPS request is being made to host 'datalab.unza.zm'. Adding certificate verification is strongly advised. See: https://urllib3.readthedocs.io/en/latest/advanced-usage.html#tls-warnings\n",
            "  warnings.warn(\n"
          ]
        },
        {
          "output_type": "stream",
          "name": "stdout",
          "text": [
            "Crawled (depth 2): https://datalab.unza.zm/index.php/research/data-mining?page=3\n"
          ]
        },
        {
          "output_type": "stream",
          "name": "stderr",
          "text": [
            "/usr/local/lib/python3.12/dist-packages/urllib3/connectionpool.py:1097: InsecureRequestWarning: Unverified HTTPS request is being made to host 'datalab.unza.zm'. Adding certificate verification is strongly advised. See: https://urllib3.readthedocs.io/en/latest/advanced-usage.html#tls-warnings\n",
            "  warnings.warn(\n"
          ]
        },
        {
          "output_type": "stream",
          "name": "stdout",
          "text": [
            "Crawled (depth 2): https://datalab.unza.zm/index.php/research/data-mining?page=2\n"
          ]
        },
        {
          "output_type": "stream",
          "name": "stderr",
          "text": [
            "/usr/local/lib/python3.12/dist-packages/urllib3/connectionpool.py:1097: InsecureRequestWarning: Unverified HTTPS request is being made to host 'datalab.unza.zm'. Adding certificate verification is strongly advised. See: https://urllib3.readthedocs.io/en/latest/advanced-usage.html#tls-warnings\n",
            "  warnings.warn(\n"
          ]
        },
        {
          "output_type": "stream",
          "name": "stdout",
          "text": [
            "Crawled (depth 2): https://datalab.unza.zm/index.php/research/data-mining?page=1\n"
          ]
        },
        {
          "output_type": "stream",
          "name": "stderr",
          "text": [
            "/usr/local/lib/python3.12/dist-packages/urllib3/connectionpool.py:1097: InsecureRequestWarning: Unverified HTTPS request is being made to host 'datalab.unza.zm'. Adding certificate verification is strongly advised. See: https://urllib3.readthedocs.io/en/latest/advanced-usage.html#tls-warnings\n",
            "  warnings.warn(\n"
          ]
        },
        {
          "output_type": "stream",
          "name": "stdout",
          "text": [
            "Crawled (depth 2): https://datalab.unza.zm/index.php/research/data-mining?page=0\n"
          ]
        },
        {
          "output_type": "stream",
          "name": "stderr",
          "text": [
            "/usr/local/lib/python3.12/dist-packages/urllib3/connectionpool.py:1097: InsecureRequestWarning: Unverified HTTPS request is being made to host 'datalab.unza.zm'. Adding certificate verification is strongly advised. See: https://urllib3.readthedocs.io/en/latest/advanced-usage.html#tls-warnings\n",
            "  warnings.warn(\n"
          ]
        },
        {
          "output_type": "stream",
          "name": "stdout",
          "text": [
            "Crawled (depth 2): https://datalab.unza.zm/index.php/research/data-mining#main-content\n"
          ]
        },
        {
          "output_type": "stream",
          "name": "stderr",
          "text": [
            "/usr/local/lib/python3.12/dist-packages/urllib3/connectionpool.py:1097: InsecureRequestWarning: Unverified HTTPS request is being made to host 'datalab.unza.zm'. Adding certificate verification is strongly advised. See: https://urllib3.readthedocs.io/en/latest/advanced-usage.html#tls-warnings\n",
            "  warnings.warn(\n"
          ]
        },
        {
          "output_type": "stream",
          "name": "stdout",
          "text": [
            "Crawled (depth 1): https://datalab.unza.zm/index.php/research\n"
          ]
        },
        {
          "output_type": "stream",
          "name": "stderr",
          "text": [
            "/usr/local/lib/python3.12/dist-packages/urllib3/connectionpool.py:1097: InsecureRequestWarning: Unverified HTTPS request is being made to host 'datalab.unza.zm'. Adding certificate verification is strongly advised. See: https://urllib3.readthedocs.io/en/latest/advanced-usage.html#tls-warnings\n",
            "  warnings.warn(\n"
          ]
        },
        {
          "output_type": "stream",
          "name": "stdout",
          "text": [
            "Crawled (depth 2): https://datalab.unza.zm/index.php/research#main-content\n"
          ]
        },
        {
          "output_type": "stream",
          "name": "stderr",
          "text": [
            "/usr/local/lib/python3.12/dist-packages/urllib3/connectionpool.py:1097: InsecureRequestWarning: Unverified HTTPS request is being made to host 'datalab.unza.zm'. Adding certificate verification is strongly advised. See: https://urllib3.readthedocs.io/en/latest/advanced-usage.html#tls-warnings\n",
            "  warnings.warn(\n"
          ]
        },
        {
          "output_type": "stream",
          "name": "stdout",
          "text": [
            "Crawled (depth 1): https://datalab.unza.zm/index.php/\n"
          ]
        },
        {
          "output_type": "stream",
          "name": "stderr",
          "text": [
            "/usr/local/lib/python3.12/dist-packages/urllib3/connectionpool.py:1097: InsecureRequestWarning: Unverified HTTPS request is being made to host 'datalab.unza.zm'. Adding certificate verification is strongly advised. See: https://urllib3.readthedocs.io/en/latest/advanced-usage.html#tls-warnings\n",
            "  warnings.warn(\n"
          ]
        },
        {
          "output_type": "stream",
          "name": "stdout",
          "text": [
            "Crawled (depth 2): https://datalab.unza.zm/index.php/?page=7\n"
          ]
        },
        {
          "output_type": "stream",
          "name": "stderr",
          "text": [
            "/usr/local/lib/python3.12/dist-packages/urllib3/connectionpool.py:1097: InsecureRequestWarning: Unverified HTTPS request is being made to host 'datalab.unza.zm'. Adding certificate verification is strongly advised. See: https://urllib3.readthedocs.io/en/latest/advanced-usage.html#tls-warnings\n",
            "  warnings.warn(\n"
          ]
        },
        {
          "output_type": "stream",
          "name": "stdout",
          "text": [
            "Crawled (depth 2): https://datalab.unza.zm/index.php/?page=6\n"
          ]
        },
        {
          "output_type": "stream",
          "name": "stderr",
          "text": [
            "/usr/local/lib/python3.12/dist-packages/urllib3/connectionpool.py:1097: InsecureRequestWarning: Unverified HTTPS request is being made to host 'datalab.unza.zm'. Adding certificate verification is strongly advised. See: https://urllib3.readthedocs.io/en/latest/advanced-usage.html#tls-warnings\n",
            "  warnings.warn(\n"
          ]
        },
        {
          "output_type": "stream",
          "name": "stdout",
          "text": [
            "Crawled (depth 2): https://datalab.unza.zm/index.php/?page=5\n"
          ]
        },
        {
          "output_type": "stream",
          "name": "stderr",
          "text": [
            "/usr/local/lib/python3.12/dist-packages/urllib3/connectionpool.py:1097: InsecureRequestWarning: Unverified HTTPS request is being made to host 'datalab.unza.zm'. Adding certificate verification is strongly advised. See: https://urllib3.readthedocs.io/en/latest/advanced-usage.html#tls-warnings\n",
            "  warnings.warn(\n"
          ]
        },
        {
          "output_type": "stream",
          "name": "stdout",
          "text": [
            "Crawled (depth 2): https://datalab.unza.zm/index.php/?page=4\n"
          ]
        },
        {
          "output_type": "stream",
          "name": "stderr",
          "text": [
            "/usr/local/lib/python3.12/dist-packages/urllib3/connectionpool.py:1097: InsecureRequestWarning: Unverified HTTPS request is being made to host 'datalab.unza.zm'. Adding certificate verification is strongly advised. See: https://urllib3.readthedocs.io/en/latest/advanced-usage.html#tls-warnings\n",
            "  warnings.warn(\n"
          ]
        },
        {
          "output_type": "stream",
          "name": "stdout",
          "text": [
            "Crawled (depth 2): https://datalab.unza.zm/index.php/?page=3\n"
          ]
        },
        {
          "output_type": "stream",
          "name": "stderr",
          "text": [
            "/usr/local/lib/python3.12/dist-packages/urllib3/connectionpool.py:1097: InsecureRequestWarning: Unverified HTTPS request is being made to host 'datalab.unza.zm'. Adding certificate verification is strongly advised. See: https://urllib3.readthedocs.io/en/latest/advanced-usage.html#tls-warnings\n",
            "  warnings.warn(\n"
          ]
        },
        {
          "output_type": "stream",
          "name": "stdout",
          "text": [
            "Crawled (depth 2): https://datalab.unza.zm/index.php/?page=2\n"
          ]
        },
        {
          "output_type": "stream",
          "name": "stderr",
          "text": [
            "/usr/local/lib/python3.12/dist-packages/urllib3/connectionpool.py:1097: InsecureRequestWarning: Unverified HTTPS request is being made to host 'datalab.unza.zm'. Adding certificate verification is strongly advised. See: https://urllib3.readthedocs.io/en/latest/advanced-usage.html#tls-warnings\n",
            "  warnings.warn(\n"
          ]
        },
        {
          "output_type": "stream",
          "name": "stdout",
          "text": [
            "Crawled (depth 2): https://datalab.unza.zm/index.php/?page=1\n"
          ]
        },
        {
          "output_type": "stream",
          "name": "stderr",
          "text": [
            "/usr/local/lib/python3.12/dist-packages/urllib3/connectionpool.py:1097: InsecureRequestWarning: Unverified HTTPS request is being made to host 'datalab.unza.zm'. Adding certificate verification is strongly advised. See: https://urllib3.readthedocs.io/en/latest/advanced-usage.html#tls-warnings\n",
            "  warnings.warn(\n"
          ]
        },
        {
          "output_type": "stream",
          "name": "stdout",
          "text": [
            "Crawled (depth 2): https://datalab.unza.zm/index.php/?page=0\n"
          ]
        },
        {
          "output_type": "stream",
          "name": "stderr",
          "text": [
            "/usr/local/lib/python3.12/dist-packages/urllib3/connectionpool.py:1097: InsecureRequestWarning: Unverified HTTPS request is being made to host 'datalab.unza.zm'. Adding certificate verification is strongly advised. See: https://urllib3.readthedocs.io/en/latest/advanced-usage.html#tls-warnings\n",
            "  warnings.warn(\n"
          ]
        },
        {
          "output_type": "stream",
          "name": "stdout",
          "text": [
            "Crawled (depth 2): https://datalab.unza.zm/index.php/#main-content\n"
          ]
        },
        {
          "output_type": "stream",
          "name": "stderr",
          "text": [
            "/usr/local/lib/python3.12/dist-packages/urllib3/connectionpool.py:1097: InsecureRequestWarning: Unverified HTTPS request is being made to host 'datalab.unza.zm'. Adding certificate verification is strongly advised. See: https://urllib3.readthedocs.io/en/latest/advanced-usage.html#tls-warnings\n",
            "  warnings.warn(\n"
          ]
        },
        {
          "output_type": "stream",
          "name": "stdout",
          "text": [
            "Crawled (depth 1): https://datalab.unza.zm/publications/theses-and-dissertations#main-content\n"
          ]
        },
        {
          "output_type": "stream",
          "name": "stderr",
          "text": [
            "/usr/local/lib/python3.12/dist-packages/urllib3/connectionpool.py:1097: InsecureRequestWarning: Unverified HTTPS request is being made to host 'datalab.unza.zm'. Adding certificate verification is strongly advised. See: https://urllib3.readthedocs.io/en/latest/advanced-usage.html#tls-warnings\n",
            "  warnings.warn(\n"
          ]
        },
        {
          "output_type": "stream",
          "name": "stdout",
          "text": [
            "Crawled (depth 0): https://datalab.unza.zm/index.php/publications/technical-reports\n"
          ]
        },
        {
          "output_type": "stream",
          "name": "stderr",
          "text": [
            "/usr/local/lib/python3.12/dist-packages/urllib3/connectionpool.py:1097: InsecureRequestWarning: Unverified HTTPS request is being made to host 'datalab.unza.zm'. Adding certificate verification is strongly advised. See: https://urllib3.readthedocs.io/en/latest/advanced-usage.html#tls-warnings\n",
            "  warnings.warn(\n",
            "/usr/local/lib/python3.12/dist-packages/urllib3/connectionpool.py:1097: InsecureRequestWarning: Unverified HTTPS request is being made to host 'datalab.unza.zm'. Adding certificate verification is strongly advised. See: https://urllib3.readthedocs.io/en/latest/advanced-usage.html#tls-warnings\n",
            "  warnings.warn(\n"
          ]
        },
        {
          "output_type": "stream",
          "name": "stdout",
          "text": [
            "📄 Found PDF (43/50): https://datalab.unza.zm/sites/default/files/2022-06/papers-uct13-benchmarking_file_based_digital_libraries.pdf\n",
            "Crawled (depth 1): https://datalab.unza.zm/index.php/publications/15\n"
          ]
        },
        {
          "output_type": "stream",
          "name": "stderr",
          "text": [
            "/usr/local/lib/python3.12/dist-packages/urllib3/connectionpool.py:1097: InsecureRequestWarning: Unverified HTTPS request is being made to host 'datalab.unza.zm'. Adding certificate verification is strongly advised. See: https://urllib3.readthedocs.io/en/latest/advanced-usage.html#tls-warnings\n",
            "  warnings.warn(\n"
          ]
        },
        {
          "output_type": "stream",
          "name": "stdout",
          "text": [
            "Crawled (depth 2): https://datalab.unza.zm/bibcite/export/bibtex/bibcite_reference/15\n"
          ]
        },
        {
          "output_type": "stream",
          "name": "stderr",
          "text": [
            "/usr/local/lib/python3.12/dist-packages/urllib3/connectionpool.py:1097: InsecureRequestWarning: Unverified HTTPS request is being made to host 'datalab.unza.zm'. Adding certificate verification is strongly advised. See: https://urllib3.readthedocs.io/en/latest/advanced-usage.html#tls-warnings\n",
            "  warnings.warn(\n"
          ]
        },
        {
          "output_type": "stream",
          "name": "stdout",
          "text": [
            "Crawled (depth 2): https://datalab.unza.zm/bibcite/contributor/3\n"
          ]
        },
        {
          "output_type": "stream",
          "name": "stderr",
          "text": [
            "/usr/local/lib/python3.12/dist-packages/urllib3/connectionpool.py:1097: InsecureRequestWarning: Unverified HTTPS request is being made to host 'datalab.unza.zm'. Adding certificate verification is strongly advised. See: https://urllib3.readthedocs.io/en/latest/advanced-usage.html#tls-warnings\n",
            "  warnings.warn(\n"
          ]
        },
        {
          "output_type": "stream",
          "name": "stdout",
          "text": [
            "Crawled (depth 2): https://datalab.unza.zm/bibcite/contributor/2\n"
          ]
        },
        {
          "output_type": "stream",
          "name": "stderr",
          "text": [
            "/usr/local/lib/python3.12/dist-packages/urllib3/connectionpool.py:1097: InsecureRequestWarning: Unverified HTTPS request is being made to host 'datalab.unza.zm'. Adding certificate verification is strongly advised. See: https://urllib3.readthedocs.io/en/latest/advanced-usage.html#tls-warnings\n",
            "  warnings.warn(\n"
          ]
        },
        {
          "output_type": "stream",
          "name": "stdout",
          "text": [
            "Crawled (depth 2): https://datalab.unza.zm/index.php/publications/15#main-content\n"
          ]
        },
        {
          "output_type": "stream",
          "name": "stderr",
          "text": [
            "/usr/local/lib/python3.12/dist-packages/urllib3/connectionpool.py:1097: InsecureRequestWarning: Unverified HTTPS request is being made to host 'datalab.unza.zm'. Adding certificate verification is strongly advised. See: https://urllib3.readthedocs.io/en/latest/advanced-usage.html#tls-warnings\n",
            "  warnings.warn(\n",
            "/usr/local/lib/python3.12/dist-packages/urllib3/connectionpool.py:1097: InsecureRequestWarning: Unverified HTTPS request is being made to host 'datalab.unza.zm'. Adding certificate verification is strongly advised. See: https://urllib3.readthedocs.io/en/latest/advanced-usage.html#tls-warnings\n",
            "  warnings.warn(\n"
          ]
        },
        {
          "output_type": "stream",
          "name": "stdout",
          "text": [
            "📄 Found PDF (44/50): https://datalab.unza.zm/sites/default/files/2022-06/papers-report14-automatic_workflow_management.pdf\n",
            "Crawled (depth 1): https://datalab.unza.zm/index.php/publications/17\n"
          ]
        },
        {
          "output_type": "stream",
          "name": "stderr",
          "text": [
            "/usr/local/lib/python3.12/dist-packages/urllib3/connectionpool.py:1097: InsecureRequestWarning: Unverified HTTPS request is being made to host 'datalab.unza.zm'. Adding certificate verification is strongly advised. See: https://urllib3.readthedocs.io/en/latest/advanced-usage.html#tls-warnings\n",
            "  warnings.warn(\n"
          ]
        },
        {
          "output_type": "stream",
          "name": "stdout",
          "text": [
            "Crawled (depth 2): https://datalab.unza.zm/index.php/bibcite/export/bibtex/bibcite_reference/17\n"
          ]
        },
        {
          "output_type": "stream",
          "name": "stderr",
          "text": [
            "/usr/local/lib/python3.12/dist-packages/urllib3/connectionpool.py:1097: InsecureRequestWarning: Unverified HTTPS request is being made to host 'datalab.unza.zm'. Adding certificate verification is strongly advised. See: https://urllib3.readthedocs.io/en/latest/advanced-usage.html#tls-warnings\n",
            "  warnings.warn(\n"
          ]
        },
        {
          "output_type": "stream",
          "name": "stdout",
          "text": [
            "Crawled (depth 2): https://datalab.unza.zm/index.php/bibcite/keyword/32\n"
          ]
        },
        {
          "output_type": "stream",
          "name": "stderr",
          "text": [
            "/usr/local/lib/python3.12/dist-packages/urllib3/connectionpool.py:1097: InsecureRequestWarning: Unverified HTTPS request is being made to host 'datalab.unza.zm'. Adding certificate verification is strongly advised. See: https://urllib3.readthedocs.io/en/latest/advanced-usage.html#tls-warnings\n",
            "  warnings.warn(\n"
          ]
        },
        {
          "output_type": "stream",
          "name": "stdout",
          "text": [
            "Crawled (depth 2): https://datalab.unza.zm/index.php/bibcite/keyword/31\n"
          ]
        },
        {
          "output_type": "stream",
          "name": "stderr",
          "text": [
            "/usr/local/lib/python3.12/dist-packages/urllib3/connectionpool.py:1097: InsecureRequestWarning: Unverified HTTPS request is being made to host 'datalab.unza.zm'. Adding certificate verification is strongly advised. See: https://urllib3.readthedocs.io/en/latest/advanced-usage.html#tls-warnings\n",
            "  warnings.warn(\n"
          ]
        },
        {
          "output_type": "stream",
          "name": "stdout",
          "text": [
            "Crawled (depth 2): https://datalab.unza.zm/index.php/bibcite/contributor/3\n"
          ]
        },
        {
          "output_type": "stream",
          "name": "stderr",
          "text": [
            "/usr/local/lib/python3.12/dist-packages/urllib3/connectionpool.py:1097: InsecureRequestWarning: Unverified HTTPS request is being made to host 'datalab.unza.zm'. Adding certificate verification is strongly advised. See: https://urllib3.readthedocs.io/en/latest/advanced-usage.html#tls-warnings\n",
            "  warnings.warn(\n"
          ]
        },
        {
          "output_type": "stream",
          "name": "stdout",
          "text": [
            "Crawled (depth 2): https://datalab.unza.zm/index.php/bibcite/contributor/13\n"
          ]
        },
        {
          "output_type": "stream",
          "name": "stderr",
          "text": [
            "/usr/local/lib/python3.12/dist-packages/urllib3/connectionpool.py:1097: InsecureRequestWarning: Unverified HTTPS request is being made to host 'datalab.unza.zm'. Adding certificate verification is strongly advised. See: https://urllib3.readthedocs.io/en/latest/advanced-usage.html#tls-warnings\n",
            "  warnings.warn(\n"
          ]
        },
        {
          "output_type": "stream",
          "name": "stdout",
          "text": [
            "Crawled (depth 2): https://datalab.unza.zm/index.php/publications/17#main-content\n"
          ]
        },
        {
          "output_type": "stream",
          "name": "stderr",
          "text": [
            "/usr/local/lib/python3.12/dist-packages/urllib3/connectionpool.py:1097: InsecureRequestWarning: Unverified HTTPS request is being made to host 'datalab.unza.zm'. Adding certificate verification is strongly advised. See: https://urllib3.readthedocs.io/en/latest/advanced-usage.html#tls-warnings\n",
            "  warnings.warn(\n",
            "/usr/local/lib/python3.12/dist-packages/urllib3/connectionpool.py:1097: InsecureRequestWarning: Unverified HTTPS request is being made to host 'datalab.unza.zm'. Adding certificate verification is strongly advised. See: https://urllib3.readthedocs.io/en/latest/advanced-usage.html#tls-warnings\n",
            "  warnings.warn(\n"
          ]
        },
        {
          "output_type": "stream",
          "name": "stdout",
          "text": [
            "📄 Found PDF (45/50): https://datalab.unza.zm/sites/default/files/2022-06/papers-uct17-rvoa_oer_feasibility.pdf\n",
            "Crawled (depth 1): https://datalab.unza.zm/index.php/publications/3\n"
          ]
        },
        {
          "output_type": "stream",
          "name": "stderr",
          "text": [
            "/usr/local/lib/python3.12/dist-packages/urllib3/connectionpool.py:1097: InsecureRequestWarning: Unverified HTTPS request is being made to host 'datalab.unza.zm'. Adding certificate verification is strongly advised. See: https://urllib3.readthedocs.io/en/latest/advanced-usage.html#tls-warnings\n",
            "  warnings.warn(\n"
          ]
        },
        {
          "output_type": "stream",
          "name": "stdout",
          "text": [
            "Crawled (depth 2): https://datalab.unza.zm/bibcite/export/bibtex/bibcite_reference/3\n"
          ]
        },
        {
          "output_type": "stream",
          "name": "stderr",
          "text": [
            "/usr/local/lib/python3.12/dist-packages/urllib3/connectionpool.py:1097: InsecureRequestWarning: Unverified HTTPS request is being made to host 'datalab.unza.zm'. Adding certificate verification is strongly advised. See: https://urllib3.readthedocs.io/en/latest/advanced-usage.html#tls-warnings\n",
            "  warnings.warn(\n"
          ]
        },
        {
          "output_type": "stream",
          "name": "stdout",
          "text": [
            "Crawled (depth 2): https://datalab.unza.zm/bibcite/keyword/15\n"
          ]
        },
        {
          "output_type": "stream",
          "name": "stderr",
          "text": [
            "/usr/local/lib/python3.12/dist-packages/urllib3/connectionpool.py:1097: InsecureRequestWarning: Unverified HTTPS request is being made to host 'datalab.unza.zm'. Adding certificate verification is strongly advised. See: https://urllib3.readthedocs.io/en/latest/advanced-usage.html#tls-warnings\n",
            "  warnings.warn(\n"
          ]
        },
        {
          "output_type": "stream",
          "name": "stdout",
          "text": [
            "Crawled (depth 2): https://datalab.unza.zm/bibcite/keyword/14\n"
          ]
        },
        {
          "output_type": "stream",
          "name": "stderr",
          "text": [
            "/usr/local/lib/python3.12/dist-packages/urllib3/connectionpool.py:1097: InsecureRequestWarning: Unverified HTTPS request is being made to host 'datalab.unza.zm'. Adding certificate verification is strongly advised. See: https://urllib3.readthedocs.io/en/latest/advanced-usage.html#tls-warnings\n",
            "  warnings.warn(\n"
          ]
        },
        {
          "output_type": "stream",
          "name": "stdout",
          "text": [
            "Crawled (depth 2): https://datalab.unza.zm/bibcite/contributor/38\n"
          ]
        },
        {
          "output_type": "stream",
          "name": "stderr",
          "text": [
            "/usr/local/lib/python3.12/dist-packages/urllib3/connectionpool.py:1097: InsecureRequestWarning: Unverified HTTPS request is being made to host 'datalab.unza.zm'. Adding certificate verification is strongly advised. See: https://urllib3.readthedocs.io/en/latest/advanced-usage.html#tls-warnings\n",
            "  warnings.warn(\n"
          ]
        },
        {
          "output_type": "stream",
          "name": "stdout",
          "text": [
            "Crawled (depth 2): https://datalab.unza.zm/bibcite/contributor/8\n"
          ]
        },
        {
          "output_type": "stream",
          "name": "stderr",
          "text": [
            "/usr/local/lib/python3.12/dist-packages/urllib3/connectionpool.py:1097: InsecureRequestWarning: Unverified HTTPS request is being made to host 'datalab.unza.zm'. Adding certificate verification is strongly advised. See: https://urllib3.readthedocs.io/en/latest/advanced-usage.html#tls-warnings\n",
            "  warnings.warn(\n"
          ]
        },
        {
          "output_type": "stream",
          "name": "stdout",
          "text": [
            "Crawled (depth 2): https://datalab.unza.zm/bibcite/contributor/74\n"
          ]
        },
        {
          "output_type": "stream",
          "name": "stderr",
          "text": [
            "/usr/local/lib/python3.12/dist-packages/urllib3/connectionpool.py:1097: InsecureRequestWarning: Unverified HTTPS request is being made to host 'datalab.unza.zm'. Adding certificate verification is strongly advised. See: https://urllib3.readthedocs.io/en/latest/advanced-usage.html#tls-warnings\n",
            "  warnings.warn(\n"
          ]
        },
        {
          "output_type": "stream",
          "name": "stdout",
          "text": [
            "Crawled (depth 2): https://datalab.unza.zm/bibcite/contributor/7\n"
          ]
        },
        {
          "output_type": "stream",
          "name": "stderr",
          "text": [
            "/usr/local/lib/python3.12/dist-packages/urllib3/connectionpool.py:1097: InsecureRequestWarning: Unverified HTTPS request is being made to host 'datalab.unza.zm'. Adding certificate verification is strongly advised. See: https://urllib3.readthedocs.io/en/latest/advanced-usage.html#tls-warnings\n",
            "  warnings.warn(\n"
          ]
        },
        {
          "output_type": "stream",
          "name": "stdout",
          "text": [
            "Crawled (depth 2): https://datalab.unza.zm/index.php/publications/3#main-content\n"
          ]
        },
        {
          "output_type": "stream",
          "name": "stderr",
          "text": [
            "/usr/local/lib/python3.12/dist-packages/urllib3/connectionpool.py:1097: InsecureRequestWarning: Unverified HTTPS request is being made to host 'datalab.unza.zm'. Adding certificate verification is strongly advised. See: https://urllib3.readthedocs.io/en/latest/advanced-usage.html#tls-warnings\n",
            "  warnings.warn(\n",
            "/usr/local/lib/python3.12/dist-packages/urllib3/connectionpool.py:1097: InsecureRequestWarning: Unverified HTTPS request is being made to host 'datalab.unza.zm'. Adding certificate verification is strongly advised. See: https://urllib3.readthedocs.io/en/latest/advanced-usage.html#tls-warnings\n",
            "  warnings.warn(\n"
          ]
        },
        {
          "output_type": "stream",
          "name": "stdout",
          "text": [
            "📄 Found PDF (46/50): https://datalab.unza.zm/sites/default/files/2022-05/reports-unza21-enterprise_medical_imaging_in_zambia.pdf\n",
            "Crawled (depth 1): https://datalab.unza.zm/index.php/publications/29\n"
          ]
        },
        {
          "output_type": "stream",
          "name": "stderr",
          "text": [
            "/usr/local/lib/python3.12/dist-packages/urllib3/connectionpool.py:1097: InsecureRequestWarning: Unverified HTTPS request is being made to host 'datalab.unza.zm'. Adding certificate verification is strongly advised. See: https://urllib3.readthedocs.io/en/latest/advanced-usage.html#tls-warnings\n",
            "  warnings.warn(\n"
          ]
        },
        {
          "output_type": "stream",
          "name": "stdout",
          "text": [
            "Crawled (depth 2): https://datalab.unza.zm/index.php/bibcite/export/bibtex/bibcite_reference/29\n"
          ]
        },
        {
          "output_type": "stream",
          "name": "stderr",
          "text": [
            "/usr/local/lib/python3.12/dist-packages/urllib3/connectionpool.py:1097: InsecureRequestWarning: Unverified HTTPS request is being made to host 'datalab.unza.zm'. Adding certificate verification is strongly advised. See: https://urllib3.readthedocs.io/en/latest/advanced-usage.html#tls-warnings\n",
            "  warnings.warn(\n"
          ]
        },
        {
          "output_type": "stream",
          "name": "stdout",
          "text": [
            "Crawled (depth 2): https://datalab.unza.zm/index.php/bibcite/keyword/24\n"
          ]
        },
        {
          "output_type": "stream",
          "name": "stderr",
          "text": [
            "/usr/local/lib/python3.12/dist-packages/urllib3/connectionpool.py:1097: InsecureRequestWarning: Unverified HTTPS request is being made to host 'datalab.unza.zm'. Adding certificate verification is strongly advised. See: https://urllib3.readthedocs.io/en/latest/advanced-usage.html#tls-warnings\n",
            "  warnings.warn(\n"
          ]
        },
        {
          "output_type": "stream",
          "name": "stdout",
          "text": [
            "Crawled (depth 2): https://datalab.unza.zm/index.php/bibcite/keyword/23\n"
          ]
        },
        {
          "output_type": "stream",
          "name": "stderr",
          "text": [
            "/usr/local/lib/python3.12/dist-packages/urllib3/connectionpool.py:1097: InsecureRequestWarning: Unverified HTTPS request is being made to host 'datalab.unza.zm'. Adding certificate verification is strongly advised. See: https://urllib3.readthedocs.io/en/latest/advanced-usage.html#tls-warnings\n",
            "  warnings.warn(\n"
          ]
        },
        {
          "output_type": "stream",
          "name": "stdout",
          "text": [
            "Crawled (depth 2): https://datalab.unza.zm/index.php/bibcite/keyword/22\n"
          ]
        },
        {
          "output_type": "stream",
          "name": "stderr",
          "text": [
            "/usr/local/lib/python3.12/dist-packages/urllib3/connectionpool.py:1097: InsecureRequestWarning: Unverified HTTPS request is being made to host 'datalab.unza.zm'. Adding certificate verification is strongly advised. See: https://urllib3.readthedocs.io/en/latest/advanced-usage.html#tls-warnings\n",
            "  warnings.warn(\n"
          ]
        },
        {
          "output_type": "stream",
          "name": "stdout",
          "text": [
            "Crawled (depth 2): https://datalab.unza.zm/index.php/bibcite/contributor/38\n"
          ]
        },
        {
          "output_type": "stream",
          "name": "stderr",
          "text": [
            "/usr/local/lib/python3.12/dist-packages/urllib3/connectionpool.py:1097: InsecureRequestWarning: Unverified HTTPS request is being made to host 'datalab.unza.zm'. Adding certificate verification is strongly advised. See: https://urllib3.readthedocs.io/en/latest/advanced-usage.html#tls-warnings\n",
            "  warnings.warn(\n"
          ]
        },
        {
          "output_type": "stream",
          "name": "stdout",
          "text": [
            "Crawled (depth 2): https://datalab.unza.zm/index.php/bibcite/contributor/46\n"
          ]
        },
        {
          "output_type": "stream",
          "name": "stderr",
          "text": [
            "/usr/local/lib/python3.12/dist-packages/urllib3/connectionpool.py:1097: InsecureRequestWarning: Unverified HTTPS request is being made to host 'datalab.unza.zm'. Adding certificate verification is strongly advised. See: https://urllib3.readthedocs.io/en/latest/advanced-usage.html#tls-warnings\n",
            "  warnings.warn(\n"
          ]
        },
        {
          "output_type": "stream",
          "name": "stdout",
          "text": [
            "Crawled (depth 2): https://datalab.unza.zm/index.php/publications/29#main-content\n"
          ]
        },
        {
          "output_type": "stream",
          "name": "stderr",
          "text": [
            "/usr/local/lib/python3.12/dist-packages/urllib3/connectionpool.py:1097: InsecureRequestWarning: Unverified HTTPS request is being made to host 'datalab.unza.zm'. Adding certificate verification is strongly advised. See: https://urllib3.readthedocs.io/en/latest/advanced-usage.html#tls-warnings\n",
            "  warnings.warn(\n"
          ]
        },
        {
          "output_type": "stream",
          "name": "stdout",
          "text": [
            "Crawled (depth 1): https://datalab.unza.zm/index.php/publications/technical-reports#main-content\n"
          ]
        },
        {
          "output_type": "stream",
          "name": "stderr",
          "text": [
            "/usr/local/lib/python3.12/dist-packages/urllib3/connectionpool.py:1097: InsecureRequestWarning: Unverified HTTPS request is being made to host 'datalab.unza.zm'. Adding certificate verification is strongly advised. See: https://urllib3.readthedocs.io/en/latest/advanced-usage.html#tls-warnings\n",
            "  warnings.warn(\n"
          ]
        },
        {
          "output_type": "stream",
          "name": "stdout",
          "text": [
            "Crawled (depth 0): https://datalab.unza.zm/publications/journal-articles\n"
          ]
        },
        {
          "output_type": "stream",
          "name": "stderr",
          "text": [
            "/usr/local/lib/python3.12/dist-packages/urllib3/connectionpool.py:1097: InsecureRequestWarning: Unverified HTTPS request is being made to host 'datalab.unza.zm'. Adding certificate verification is strongly advised. See: https://urllib3.readthedocs.io/en/latest/advanced-usage.html#tls-warnings\n",
            "  warnings.warn(\n"
          ]
        },
        {
          "output_type": "stream",
          "name": "stdout",
          "text": [
            "Crawled (depth 1): https://datalab.unza.zm/publications/journal-articles#main-content\n"
          ]
        },
        {
          "output_type": "stream",
          "name": "stderr",
          "text": [
            "/usr/local/lib/python3.12/dist-packages/urllib3/connectionpool.py:1097: InsecureRequestWarning: Unverified HTTPS request is being made to host 'datalab.unza.zm'. Adding certificate verification is strongly advised. See: https://urllib3.readthedocs.io/en/latest/advanced-usage.html#tls-warnings\n",
            "  warnings.warn(\n"
          ]
        },
        {
          "output_type": "stream",
          "name": "stdout",
          "text": [
            "Crawled (depth 0): https://datalab.unza.zm/publications/conference-papers\n"
          ]
        },
        {
          "output_type": "stream",
          "name": "stderr",
          "text": [
            "/usr/local/lib/python3.12/dist-packages/urllib3/connectionpool.py:1097: InsecureRequestWarning: Unverified HTTPS request is being made to host 'datalab.unza.zm'. Adding certificate verification is strongly advised. See: https://urllib3.readthedocs.io/en/latest/advanced-usage.html#tls-warnings\n",
            "  warnings.warn(\n"
          ]
        },
        {
          "output_type": "stream",
          "name": "stdout",
          "text": [
            "Crawled (depth 1): https://datalab.unza.zm/publications/conference-papers?page=2\n"
          ]
        },
        {
          "output_type": "stream",
          "name": "stderr",
          "text": [
            "/usr/local/lib/python3.12/dist-packages/urllib3/connectionpool.py:1097: InsecureRequestWarning: Unverified HTTPS request is being made to host 'datalab.unza.zm'. Adding certificate verification is strongly advised. See: https://urllib3.readthedocs.io/en/latest/advanced-usage.html#tls-warnings\n",
            "  warnings.warn(\n",
            "/usr/local/lib/python3.12/dist-packages/urllib3/connectionpool.py:1097: InsecureRequestWarning: Unverified HTTPS request is being made to host 'datalab.unza.zm'. Adding certificate verification is strongly advised. See: https://urllib3.readthedocs.io/en/latest/advanced-usage.html#tls-warnings\n",
            "  warnings.warn(\n"
          ]
        },
        {
          "output_type": "stream",
          "name": "stdout",
          "text": [
            "📄 Found PDF (47/50): https://datalab.unza.zm/sites/default/files/2022-06/papers-saicsit11-simplyct.pdf\n",
            "Crawled (depth 2): https://datalab.unza.zm/index.php/bibcite/reference/39\n"
          ]
        },
        {
          "output_type": "stream",
          "name": "stderr",
          "text": [
            "/usr/local/lib/python3.12/dist-packages/urllib3/connectionpool.py:1097: InsecureRequestWarning: Unverified HTTPS request is being made to host 'datalab.unza.zm'. Adding certificate verification is strongly advised. See: https://urllib3.readthedocs.io/en/latest/advanced-usage.html#tls-warnings\n",
            "  warnings.warn(\n",
            "/usr/local/lib/python3.12/dist-packages/urllib3/connectionpool.py:1097: InsecureRequestWarning: Unverified HTTPS request is being made to host 'datalab.unza.zm'. Adding certificate verification is strongly advised. See: https://urllib3.readthedocs.io/en/latest/advanced-usage.html#tls-warnings\n",
            "  warnings.warn(\n"
          ]
        },
        {
          "output_type": "stream",
          "name": "stdout",
          "text": [
            "📄 Found PDF (48/50): https://datalab.unza.zm/sites/default/files/2022-06/papers-icadl12-bonolo.pdf\n",
            "Crawled (depth 2): https://datalab.unza.zm/index.php/publications/2\n"
          ]
        },
        {
          "output_type": "stream",
          "name": "stderr",
          "text": [
            "/usr/local/lib/python3.12/dist-packages/urllib3/connectionpool.py:1097: InsecureRequestWarning: Unverified HTTPS request is being made to host 'datalab.unza.zm'. Adding certificate verification is strongly advised. See: https://urllib3.readthedocs.io/en/latest/advanced-usage.html#tls-warnings\n",
            "  warnings.warn(\n",
            "/usr/local/lib/python3.12/dist-packages/urllib3/connectionpool.py:1097: InsecureRequestWarning: Unverified HTTPS request is being made to host 'datalab.unza.zm'. Adding certificate verification is strongly advised. See: https://urllib3.readthedocs.io/en/latest/advanced-usage.html#tls-warnings\n",
            "  warnings.warn(\n"
          ]
        },
        {
          "output_type": "stream",
          "name": "stdout",
          "text": [
            "📄 Found PDF (49/50): https://datalab.unza.zm/sites/default/files/2022-06/papers-decidoc12-in_search_of_simplicity.pdf\n",
            "Crawled (depth 2): https://datalab.unza.zm/index.php/publications/6\n"
          ]
        },
        {
          "output_type": "stream",
          "name": "stderr",
          "text": [
            "/usr/local/lib/python3.12/dist-packages/urllib3/connectionpool.py:1097: InsecureRequestWarning: Unverified HTTPS request is being made to host 'datalab.unza.zm'. Adding certificate verification is strongly advised. See: https://urllib3.readthedocs.io/en/latest/advanced-usage.html#tls-warnings\n",
            "  warnings.warn(\n",
            "/usr/local/lib/python3.12/dist-packages/urllib3/connectionpool.py:1097: InsecureRequestWarning: Unverified HTTPS request is being made to host 'datalab.unza.zm'. Adding certificate verification is strongly advised. See: https://urllib3.readthedocs.io/en/latest/advanced-usage.html#tls-warnings\n",
            "  warnings.warn(\n"
          ]
        },
        {
          "output_type": "stream",
          "name": "stdout",
          "text": [
            "📄 Found PDF (50/50): https://datalab.unza.zm/sites/default/files/2022-06/papers-saicsit13-flexible_digital_libraries.pdf\n",
            "Crawled (depth 2): https://datalab.unza.zm/index.php/publications/14\n",
            "Processing 1/50: https://www.rda.org.zm/wp-content/uploads/2023/09/THE-ROAD-TRAFFIC-ACT-2002.pdf\n",
            "Processing 2/50: https://www.parliament.gov.zm/sites/default/files/documents/pages/Strategic%20Plan%202022-2026.pdf\n",
            "Processing 3/50: https://datalab.unza.zm/sites/default/files/2022-06/papers-ijmso21-ir_reclassification.pdf\n",
            "Processing 4/50: https://datalab.unza.zm/sites/default/files/2022-05/papers-jcdl21-ir_controlled_vocabularies.pdf\n",
            "Processing 5/50: https://datalab.unza.zm/sites/default/files/2023-08/paper-etd22-etdms_compliance.pdf\n",
            "Processing 6/50: https://datalab.unza.zm/sites/default/files/2023-12/paper-etd23-assessing_and_promoting_metadata_quality_using_policies.pdf\n"
          ]
        }
      ]
    },
    {
      "cell_type": "markdown",
      "source": [
        "####Step 2: Data  understanding and exploration and visualization\n",
        "\n",
        "\n"
      ],
      "metadata": {
        "id": "omMN2D49Ruht"
      }
    },
    {
      "cell_type": "markdown",
      "source": [],
      "metadata": {
        "id": "VwEe07nMSRb7"
      }
    },
    {
      "cell_type": "code",
      "source": [
        "# =======================\n",
        "# Load dataset into Pandas DataFrame\n",
        "# =======================\n",
        "import pandas as pd\n",
        "import matplotlib.pyplot as plt\n",
        "from collections import Counter\n",
        "import re\n",
        "from IPython.display import display\n",
        "\n",
        "# Path to the CSV in MyDrive folder\n",
        "csv_path = \"/content/drive/MyDrive/misc-unza25-csc4792-project_team30/references.csv\"\n",
        "data = pd.read_csv(csv_path)\n",
        "\n",
        "print(\"✅ Dataset loaded successfully!\")\n",
        "\n",
        "# =======================\n",
        "# Initial Exploration\n",
        "# =======================\n",
        "print(\"\\n--- HEAD ---\")\n",
        "display(data.head())\n",
        "\n",
        "print(\"\\n--- INFO ---\")\n",
        "data.info()\n",
        "\n",
        "print(\"\\n--- DESCRIBE ---\")\n",
        "display(data.describe(include=\"all\"))\n",
        "\n",
        "print(\"\\n--- SHAPE ---\")\n",
        "print(data.shape)\n",
        "\n",
        "# =======================\n",
        "# Basic Visualizations\n",
        "# =======================\n",
        "# Histogram of extracted text lengths\n",
        "data[\"Text_Length\"] = data[\"Extracted_Text\"].astype(str).apply(len)\n",
        "\n",
        "plt.figure(figsize=(8,5))\n",
        "plt.hist(data[\"Text_Length\"], bins=10, edgecolor=\"black\")\n",
        "plt.title(\"Distribution of Extracted Text Lengths\")\n",
        "plt.xlabel(\"Number of Characters\")\n",
        "plt.ylabel(\"Frequency\")\n",
        "plt.show()\n",
        "\n",
        "# Bar chart of PDFs successfully extracted vs failed\n",
        "data[\"Status\"] = data[\"Extracted_Text\"].apply(\n",
        "    lambda x: \"Success\" if x not in [\"Failed to download PDF\", \"No text found\", \"Error extracting text\"] else \"Failure\"\n",
        ")\n",
        "\n",
        "status_counts = data[\"Status\"].value_counts()\n",
        "\n",
        "plt.figure(figsize=(6,4))\n",
        "status_counts.plot(kind=\"bar\", color=[\"green\", \"red\"])\n",
        "plt.title(\"PDF Extraction Success vs Failure\")\n",
        "plt.ylabel(\"Count\")\n",
        "plt.show()\n",
        "\n",
        "# =======================\n",
        "# Word-level Analysis\n",
        "# =======================\n",
        "all_text = \" \".join(data.loc[data[\"Status\"] == \"Success\", \"Extracted_Text\"].dropna().astype(str))\n",
        "cleaned_text = re.sub(r\"[^a-zA-Z\\s]\", \"\", all_text).lower()\n",
        "tokens = cleaned_text.split()\n",
        "\n",
        "# Remove stopwords\n",
        "stopwords = set([\n",
        "    \"the\", \"and\", \"of\", \"to\", \"a\", \"in\", \"for\", \"is\", \"on\", \"with\", \"as\",\n",
        "    \"by\", \"this\", \"an\", \"that\", \"are\", \"at\", \"from\", \"it\", \"be\", \"or\", \"was\"\n",
        "])\n",
        "tokens = [word for word in tokens if word not in stopwords and len(word) > 2]\n",
        "\n",
        "word_counts = Counter(tokens)\n",
        "top_words = word_counts.most_common(10)  # Top 10 words\n",
        "\n",
        "# =======================\n",
        "# Summary of Findings\n",
        "# =======================\n",
        "successful = status_counts.get(\"Success\", 0)\n",
        "failed = status_counts.get(\"Failure\", 0)\n",
        "\n",
        "print(\"\\n--- Summary of Initial Findings ---\")\n",
        "print(f\"📊 Total PDFs processed: {len(data)}\")\n",
        "print(f\"✅ Successful text extractions: {successful}\")\n",
        "print(f\"❌ Failed / empty extractions: {failed}\")\n",
        "print(f\"ℹ️ Text length ranges from {data['Text_Length'].min()} to {data['Text_Length'].max()} characters\")\n",
        "\n",
        "print(\"\\n📌 Top 10 Most Frequent Words in Successful PDFs:\")\n",
        "for word, freq in top_words:\n",
        "    print(f\"{word}: {freq}\")\n",
        "\n",
        "# Optional: visualize top words\n",
        "if top_words:\n",
        "    words, freqs = zip(*top_words)\n",
        "    plt.figure(figsize=(10,6))\n",
        "    plt.barh(words[::-1], freqs[::-1], color=\"skyblue\", edgecolor=\"black\")\n",
        "    plt.title(\"Top 10 Most Frequent Words in Extracted PDFs\")\n",
        "    plt.xlabel(\"Frequency\")\n",
        "    plt.ylabel(\"Word\")\n",
        "    plt.show()"
      ],
      "metadata": {
        "colab": {
          "base_uri": "https://localhost:8080/",
          "height": 1000
        },
        "id": "Lu6bFzWLTXeV",
        "outputId": "2cdbdbc9-1e73-4778-a940-9548ef5eef57"
      },
      "execution_count": null,
      "outputs": [
        {
          "output_type": "stream",
          "name": "stdout",
          "text": [
            "✅ Dataset loaded successfully!\n",
            "\n",
            "--- HEAD ---\n"
          ]
        },
        {
          "output_type": "display_data",
          "data": {
            "text/plain": [
              "                                             PDF_URL  \\\n",
              "0  https://dspace.unza.zm/server/api/core/bitstre...   \n",
              "1  https://dspace.unza.zm/server/api/core/bitstre...   \n",
              "2  https://dspace.unza.zm/server/api/core/bitstre...   \n",
              "3  https://dspace.unza.zm/server/api/core/bitstre...   \n",
              "4  https://dspace.unza.zm/server/api/core/bitstre...   \n",
              "\n",
              "                                      Extracted_Text  \n",
              "0  The Impact of the Declaration of Zambia as a C...  \n",
              "1  Medical Journal of Zambia, Volume 34 Number 4\\...  \n",
              "2  International Journal of Research and Scientif...  \n",
              "3  Veterinary Parasitology 186 (2012) 532– 537\\nC...  \n",
              "4  ADMINISTRATION OF COGNITIVE-BEHAVIORAL THERAPY...  "
            ],
            "text/html": [
              "\n",
              "  <div id=\"df-50f1c579-a6a3-4047-a5ba-85a60ee2eb1c\" class=\"colab-df-container\">\n",
              "    <div>\n",
              "<style scoped>\n",
              "    .dataframe tbody tr th:only-of-type {\n",
              "        vertical-align: middle;\n",
              "    }\n",
              "\n",
              "    .dataframe tbody tr th {\n",
              "        vertical-align: top;\n",
              "    }\n",
              "\n",
              "    .dataframe thead th {\n",
              "        text-align: right;\n",
              "    }\n",
              "</style>\n",
              "<table border=\"1\" class=\"dataframe\">\n",
              "  <thead>\n",
              "    <tr style=\"text-align: right;\">\n",
              "      <th></th>\n",
              "      <th>PDF_URL</th>\n",
              "      <th>Extracted_Text</th>\n",
              "    </tr>\n",
              "  </thead>\n",
              "  <tbody>\n",
              "    <tr>\n",
              "      <th>0</th>\n",
              "      <td>https://dspace.unza.zm/server/api/core/bitstre...</td>\n",
              "      <td>The Impact of the Declaration of Zambia as a C...</td>\n",
              "    </tr>\n",
              "    <tr>\n",
              "      <th>1</th>\n",
              "      <td>https://dspace.unza.zm/server/api/core/bitstre...</td>\n",
              "      <td>Medical Journal of Zambia, Volume 34 Number 4\\...</td>\n",
              "    </tr>\n",
              "    <tr>\n",
              "      <th>2</th>\n",
              "      <td>https://dspace.unza.zm/server/api/core/bitstre...</td>\n",
              "      <td>International Journal of Research and Scientif...</td>\n",
              "    </tr>\n",
              "    <tr>\n",
              "      <th>3</th>\n",
              "      <td>https://dspace.unza.zm/server/api/core/bitstre...</td>\n",
              "      <td>Veterinary Parasitology 186 (2012) 532– 537\\nC...</td>\n",
              "    </tr>\n",
              "    <tr>\n",
              "      <th>4</th>\n",
              "      <td>https://dspace.unza.zm/server/api/core/bitstre...</td>\n",
              "      <td>ADMINISTRATION OF COGNITIVE-BEHAVIORAL THERAPY...</td>\n",
              "    </tr>\n",
              "  </tbody>\n",
              "</table>\n",
              "</div>\n",
              "    <div class=\"colab-df-buttons\">\n",
              "\n",
              "  <div class=\"colab-df-container\">\n",
              "    <button class=\"colab-df-convert\" onclick=\"convertToInteractive('df-50f1c579-a6a3-4047-a5ba-85a60ee2eb1c')\"\n",
              "            title=\"Convert this dataframe to an interactive table.\"\n",
              "            style=\"display:none;\">\n",
              "\n",
              "  <svg xmlns=\"http://www.w3.org/2000/svg\" height=\"24px\" viewBox=\"0 -960 960 960\">\n",
              "    <path d=\"M120-120v-720h720v720H120Zm60-500h600v-160H180v160Zm220 220h160v-160H400v160Zm0 220h160v-160H400v160ZM180-400h160v-160H180v160Zm440 0h160v-160H620v160ZM180-180h160v-160H180v160Zm440 0h160v-160H620v160Z\"/>\n",
              "  </svg>\n",
              "    </button>\n",
              "\n",
              "  <style>\n",
              "    .colab-df-container {\n",
              "      display:flex;\n",
              "      gap: 12px;\n",
              "    }\n",
              "\n",
              "    .colab-df-convert {\n",
              "      background-color: #E8F0FE;\n",
              "      border: none;\n",
              "      border-radius: 50%;\n",
              "      cursor: pointer;\n",
              "      display: none;\n",
              "      fill: #1967D2;\n",
              "      height: 32px;\n",
              "      padding: 0 0 0 0;\n",
              "      width: 32px;\n",
              "    }\n",
              "\n",
              "    .colab-df-convert:hover {\n",
              "      background-color: #E2EBFA;\n",
              "      box-shadow: 0px 1px 2px rgba(60, 64, 67, 0.3), 0px 1px 3px 1px rgba(60, 64, 67, 0.15);\n",
              "      fill: #174EA6;\n",
              "    }\n",
              "\n",
              "    .colab-df-buttons div {\n",
              "      margin-bottom: 4px;\n",
              "    }\n",
              "\n",
              "    [theme=dark] .colab-df-convert {\n",
              "      background-color: #3B4455;\n",
              "      fill: #D2E3FC;\n",
              "    }\n",
              "\n",
              "    [theme=dark] .colab-df-convert:hover {\n",
              "      background-color: #434B5C;\n",
              "      box-shadow: 0px 1px 3px 1px rgba(0, 0, 0, 0.15);\n",
              "      filter: drop-shadow(0px 1px 2px rgba(0, 0, 0, 0.3));\n",
              "      fill: #FFFFFF;\n",
              "    }\n",
              "  </style>\n",
              "\n",
              "    <script>\n",
              "      const buttonEl =\n",
              "        document.querySelector('#df-50f1c579-a6a3-4047-a5ba-85a60ee2eb1c button.colab-df-convert');\n",
              "      buttonEl.style.display =\n",
              "        google.colab.kernel.accessAllowed ? 'block' : 'none';\n",
              "\n",
              "      async function convertToInteractive(key) {\n",
              "        const element = document.querySelector('#df-50f1c579-a6a3-4047-a5ba-85a60ee2eb1c');\n",
              "        const dataTable =\n",
              "          await google.colab.kernel.invokeFunction('convertToInteractive',\n",
              "                                                    [key], {});\n",
              "        if (!dataTable) return;\n",
              "\n",
              "        const docLinkHtml = 'Like what you see? Visit the ' +\n",
              "          '<a target=\"_blank\" href=https://colab.research.google.com/notebooks/data_table.ipynb>data table notebook</a>'\n",
              "          + ' to learn more about interactive tables.';\n",
              "        element.innerHTML = '';\n",
              "        dataTable['output_type'] = 'display_data';\n",
              "        await google.colab.output.renderOutput(dataTable, element);\n",
              "        const docLink = document.createElement('div');\n",
              "        docLink.innerHTML = docLinkHtml;\n",
              "        element.appendChild(docLink);\n",
              "      }\n",
              "    </script>\n",
              "  </div>\n",
              "\n",
              "\n",
              "    <div id=\"df-91ae421f-42a9-4b23-9b3e-4a783e120d27\">\n",
              "      <button class=\"colab-df-quickchart\" onclick=\"quickchart('df-91ae421f-42a9-4b23-9b3e-4a783e120d27')\"\n",
              "                title=\"Suggest charts\"\n",
              "                style=\"display:none;\">\n",
              "\n",
              "<svg xmlns=\"http://www.w3.org/2000/svg\" height=\"24px\"viewBox=\"0 0 24 24\"\n",
              "     width=\"24px\">\n",
              "    <g>\n",
              "        <path d=\"M19 3H5c-1.1 0-2 .9-2 2v14c0 1.1.9 2 2 2h14c1.1 0 2-.9 2-2V5c0-1.1-.9-2-2-2zM9 17H7v-7h2v7zm4 0h-2V7h2v10zm4 0h-2v-4h2v4z\"/>\n",
              "    </g>\n",
              "</svg>\n",
              "      </button>\n",
              "\n",
              "<style>\n",
              "  .colab-df-quickchart {\n",
              "      --bg-color: #E8F0FE;\n",
              "      --fill-color: #1967D2;\n",
              "      --hover-bg-color: #E2EBFA;\n",
              "      --hover-fill-color: #174EA6;\n",
              "      --disabled-fill-color: #AAA;\n",
              "      --disabled-bg-color: #DDD;\n",
              "  }\n",
              "\n",
              "  [theme=dark] .colab-df-quickchart {\n",
              "      --bg-color: #3B4455;\n",
              "      --fill-color: #D2E3FC;\n",
              "      --hover-bg-color: #434B5C;\n",
              "      --hover-fill-color: #FFFFFF;\n",
              "      --disabled-bg-color: #3B4455;\n",
              "      --disabled-fill-color: #666;\n",
              "  }\n",
              "\n",
              "  .colab-df-quickchart {\n",
              "    background-color: var(--bg-color);\n",
              "    border: none;\n",
              "    border-radius: 50%;\n",
              "    cursor: pointer;\n",
              "    display: none;\n",
              "    fill: var(--fill-color);\n",
              "    height: 32px;\n",
              "    padding: 0;\n",
              "    width: 32px;\n",
              "  }\n",
              "\n",
              "  .colab-df-quickchart:hover {\n",
              "    background-color: var(--hover-bg-color);\n",
              "    box-shadow: 0 1px 2px rgba(60, 64, 67, 0.3), 0 1px 3px 1px rgba(60, 64, 67, 0.15);\n",
              "    fill: var(--button-hover-fill-color);\n",
              "  }\n",
              "\n",
              "  .colab-df-quickchart-complete:disabled,\n",
              "  .colab-df-quickchart-complete:disabled:hover {\n",
              "    background-color: var(--disabled-bg-color);\n",
              "    fill: var(--disabled-fill-color);\n",
              "    box-shadow: none;\n",
              "  }\n",
              "\n",
              "  .colab-df-spinner {\n",
              "    border: 2px solid var(--fill-color);\n",
              "    border-color: transparent;\n",
              "    border-bottom-color: var(--fill-color);\n",
              "    animation:\n",
              "      spin 1s steps(1) infinite;\n",
              "  }\n",
              "\n",
              "  @keyframes spin {\n",
              "    0% {\n",
              "      border-color: transparent;\n",
              "      border-bottom-color: var(--fill-color);\n",
              "      border-left-color: var(--fill-color);\n",
              "    }\n",
              "    20% {\n",
              "      border-color: transparent;\n",
              "      border-left-color: var(--fill-color);\n",
              "      border-top-color: var(--fill-color);\n",
              "    }\n",
              "    30% {\n",
              "      border-color: transparent;\n",
              "      border-left-color: var(--fill-color);\n",
              "      border-top-color: var(--fill-color);\n",
              "      border-right-color: var(--fill-color);\n",
              "    }\n",
              "    40% {\n",
              "      border-color: transparent;\n",
              "      border-right-color: var(--fill-color);\n",
              "      border-top-color: var(--fill-color);\n",
              "    }\n",
              "    60% {\n",
              "      border-color: transparent;\n",
              "      border-right-color: var(--fill-color);\n",
              "    }\n",
              "    80% {\n",
              "      border-color: transparent;\n",
              "      border-right-color: var(--fill-color);\n",
              "      border-bottom-color: var(--fill-color);\n",
              "    }\n",
              "    90% {\n",
              "      border-color: transparent;\n",
              "      border-bottom-color: var(--fill-color);\n",
              "    }\n",
              "  }\n",
              "</style>\n",
              "\n",
              "      <script>\n",
              "        async function quickchart(key) {\n",
              "          const quickchartButtonEl =\n",
              "            document.querySelector('#' + key + ' button');\n",
              "          quickchartButtonEl.disabled = true;  // To prevent multiple clicks.\n",
              "          quickchartButtonEl.classList.add('colab-df-spinner');\n",
              "          try {\n",
              "            const charts = await google.colab.kernel.invokeFunction(\n",
              "                'suggestCharts', [key], {});\n",
              "          } catch (error) {\n",
              "            console.error('Error during call to suggestCharts:', error);\n",
              "          }\n",
              "          quickchartButtonEl.classList.remove('colab-df-spinner');\n",
              "          quickchartButtonEl.classList.add('colab-df-quickchart-complete');\n",
              "        }\n",
              "        (() => {\n",
              "          let quickchartButtonEl =\n",
              "            document.querySelector('#df-91ae421f-42a9-4b23-9b3e-4a783e120d27 button');\n",
              "          quickchartButtonEl.style.display =\n",
              "            google.colab.kernel.accessAllowed ? 'block' : 'none';\n",
              "        })();\n",
              "      </script>\n",
              "    </div>\n",
              "\n",
              "    </div>\n",
              "  </div>\n"
            ],
            "application/vnd.google.colaboratory.intrinsic+json": {
              "type": "dataframe",
              "summary": "{\n  \"name\": \"    plt\",\n  \"rows\": 5,\n  \"fields\": [\n    {\n      \"column\": \"PDF_URL\",\n      \"properties\": {\n        \"dtype\": \"string\",\n        \"num_unique_values\": 5,\n        \"samples\": [\n          \"https://dspace.unza.zm/server/api/core/bitstreams/ab25b16d-864e-4081-80e8-6e78dfe18539/content\",\n          \"https://dspace.unza.zm/server/api/core/bitstreams/af81ba95-83f7-48d6-9adf-a4013068da2c/content\",\n          \"https://dspace.unza.zm/server/api/core/bitstreams/b9734d51-b347-46e3-8902-3dfec0217103/content\"\n        ],\n        \"semantic_type\": \"\",\n        \"description\": \"\"\n      }\n    },\n    {\n      \"column\": \"Extracted_Text\",\n      \"properties\": {\n        \"dtype\": \"string\",\n        \"num_unique_values\": 5,\n        \"samples\": [\n          \"Medical Journal of Zambia, Volume 34 Number 4\\nDetermining How the Knowledge of Anatomy May\\nInfluence Success or Failure in clinical Practice\\nSekelani S. Banda\\nDepartment of Medical Education Development, School of Medicine, University of Zambia\\nPO Box 50110, Lusaka, Zambia, E-mail: ssbanda@zamnet.zm\\nABSTRACT INTRODUCTION\\nB\\u00a2c4grow#d.. Doctors' clinical experience can be an In teaching anatomy, many medical schools are\\nimportant source of information for content selection in increasing the clinical relevance and application to\\ndeveloping clinically oriented anatomy courses. clinical practice.I.2 The movement to increase clinical\\nAlthough expert opinion and personal preference have relevance and application has been referred to as\\nbeen the principal source of content for such anatomy Clinically Oriented Anatomy Teaching (COAT) by some\\ncourses, studies that actually investigate real-life scholars3. One of the fundamental implications of this\\nexperiences in clinical practice should contribute more innovation has been the requirement to develop anatomy\\nto this enterprise. curricula that reflect real needs in clinical practice (fit\\nfor purpose). The COAT approach attempts to narrow\\nPz\\\"pose.. The purpose of the present study was to the gap between what is taught in medical school and\\ninvestigate how anatomical knowledge influenced what is used in clinical settings. This way, educators\\nsuccess or failure in clinical eilcounters using a can concentrate on anatomical knowledge that is\\nqualitative method. important to clinical practice and less on that which is\\nnot. While many faculties have defined what they\\nA4leffeod.. Doctors working in tertiary, secondary, and consider `core' anatomical knowledge for clinical\\nprimary care settings were invited to complete a critical practice, many rely heavily on opinions of experts and\\nincident technique questionnaire. Each participant was individual preferences. I However, expert opinion may\\nasked to describe a specific, particularly successful not match up with what actually happens in clinical\\nclinical encounter in which they judged that knowledge practice.\\nof anatomy was responsible for the successful outcome\\nand a specific particularly unsuccessful clinical The significance of anatomy to clinical practice is widely\\nencounter in which they judged lack of knowledge of conceded, however, there are few studies that have\\nanatomy was responsible for the failure. Each narrative actually investigated how anatomy is used in clinical\\nwas analyzed and coded. practice. I.4'5 Investigating clinical settings present unique\\nmethodological challenges aiid this may be reason for\\nResw/ts.. The following themes of anatomical knowledge the paucity of research in this area. Some scholars, to\\nthat influenced success or failure in clinical encounters address such methodological challenges, have resorted\\nwere identified; knowledge that determined ability to: 1 ) to qualitative methods, such as, the Delphi technique!.6\\nlocate anatomical structures topographically; 2) interpret and the critical incidence technique.7.8.9.[\\u00b0.[' The Delphi\\nclinical images, 3) assess patients clinically, 4) evaluate technique entails building consensus among experts over\\ncongenital anomalies; and 5) interpret laboratory reports. several iterations of consensus building by ranking\\nAlthough additional research is needed, the results can items.6 The critical incident technique, first described\\nserve as a resource for faculty responsible for developing by Flanagan,]2 asks of participants to recall a specific\\nclinically oriented anatomy teaching curricula. incident and to recount the incident focusing on specific\\nAdditionally, the study provides an example of a aspects. The aspects enquired about include a detailed\\ndescriptionoftheincident,adescriptionofconsiderations\\nqualitative research method being used in investigating\\nphenomenon in clinical practice. (knowledge, actions, behaviors) of those involved in the\\nincident, and whether the outcome was successful or a\\nfailure. The present study used the critical incident\\ntechnique.\\nKey Words: Anatomy, Teaching, Curricula, Clinical,\\nQualitative, Success, Failure\\n161\\nMedical Journal of Zambia, Volume 34 Number 4\\nMATERIALS AND METHODS Data Analysis (Incident Classification)\\nSubjects All narratives were independently read by one researcher\\nwithout predefined coding criteria. The researcher\\nThe study population consisted of 140 doctors and 28 developed classification of themes by grouping similar\\nmedical students working in both urban and rural statements. Successful, as well as unsuccessful incidents\\nhospitals.' The doctors were from the five main clinical were both used in constructing the themes. In\\nareas of service, that is, medicine, pediatrics, obstetrics constnicting the classification structure, i.e., the themes,\\nand gynecology, surgery, and general practice. Some noparticularattentionwaspaidtofrequencyofincidents.\\nauthors 't' have asserted that sample size calculations are Each disparate incidence was considered. Statements that\\nfruitless for the critical incidence technique because were similar or identical were grouped together resulting\\nsample size formulas make certaiil assumptions about in distinct classes of statements. Upon developing a\\nfinal coding frame, all narratives were read and coded.\\nthe variables that don't hold true for the critical incident\\nFinally, 6 doctors, three of them also had anatomy\\ntechnique. Nevertheless, 2000 incidents are considered\\nsufficient for comprehensive job analysis.\\\" The qualifications, examined the classes generated by the\\nresearcher and indicated agreement; the classes were\\nprincipalconsiderationisthatvalidityisenhancedwhere\\nfairly large and duly representative incidents and supported. Data concerning the profile of respondents\\nwere examined separately.\\nparticipants reporting them are collected.8\\\" However,\\nfor our study, 300 incidents were planned for in view of\\nconstraints of time, money, and the numbers of doctors\\nRESULTS\\nin the study sites,\\nOne hundred and forty doctors ( 118 male and 50 female;\\nThe Critical Incident Technique Questionnaire\\n24 consultants,11 senior registrars, 35 registrars, 45\\nsenior house officers, 25 junior house officers) and 28\\nAll participants completed a critical incident\\nstudents returned the critical incident questionnaire. The\\nquestionnaire which required them to write a narrative responding participants represented response rates of\\nabout a clinical situation. The term critical neither refers\\n74% for doctors and 93% for students, respectively. The\\nto a state of emergency nor to the life-threatening nature\\nurban to rural ratio was 81% (n=113) to 1997o (n=27),\\nof a situation but to the pivotal role in the outcome of an\\nhowever,thisdifferenceisnotconsideredtohaveinfluenced\\nactivity. For each situation, focused questions guided\\nthe results in any considerable manner. The distribution of\\ntheparticipantsthroughafactualdescriptionofaclinical\\nincidents by specialty is illustrated in table 1.\\nsituation, the outcome (success or failure), and the\\nanatomical knowledge that was used or was lacking. Theme Clinical Use Examples\\nThe questionnaires were developed over several Locate For access during Venepuncture; lumbar\\niterations. The initial drafts were piloted with a group Topographically procedures puncture; suprapubic\\npuncture; endotracheal\\nof medical student (n = 10), three anatomists, a group\\nintubation; nasogastric\\not` doctors from different departments (n = 12) and intubation; paracentesis;\\nvolunteers from a Internet listserv for clinical anatomists culdocentensis;\\npudenda] nerve blocks;\\n(n = 10 responses). The final questionnaire was corrected\\npalpation of the carotid\\nfor ambiguity and accuracy. Critical incident pulses; radial artery\\narteriopuncture; and\\nquestionnaires were distributed to the study sites by an\\nthoracentesis.\\nagent a week in advance and collected on designated\\ndates. During distribution all eligible and available To prevent iatrogenicinjury Long thoracic nerve in\\nincisions for chest\\npersonnel in the various categories targeted were drains; common\\nrecruited on first-to be available basis. Completion of peroneal nerve when\\ninserting Steinman pin;\\nthe questionnaires was voluntary and anonymous. The\\nureters at caesarian\\nincidents collected in our study were either self-reports section; spinal cord in\\nor reports of an event that the respondent actually lumbar puncture; vas\\ndeferens in\\nobserved.\\nherniorrhaphy.\\n162\\nMedical Joumaf Of Zambia, Volume S4 ttumbe{ 4\\nSituate landmark Anterior superior iliac Thg characteristics of anatoriical knowledge that may\\nspine and pubic inflHene\\u00b1successorfalhareinclinigalpraetice,identified\\ntubercles in asgessing\\nfrom thg' data, are illustrated in table Z.\\nhernias; deltGpectoral\\ntriangle in \\u20acannulating 'TBtal\\u00a7\\nthe sub\\u20ac]avian vein; clinical Sp\\u20accialry/, Type of Ineidfnt\\ninguinal midpeint in\\nSuecrful- urm\\u20ac\\u20acessful\\nfemoral angry\\nlceati\\u00aen; pesteriGr iliac Surgery 35 '23 58\\nspines to identify L3.\\n144 for safe lumbar Medicine 24. 16 40\\npunGthre.\\n'rr}'ntfrpret C}bstetrics 36 25 61\\nAss\\u00b1s\\u00a7 normality Asses.i size of ce\\u20acrBbral\\nClinical ventricles on CT Paediatrics 7. 19 46\\nImages scans; identify and General Practicg lS 6 16\\ngfiHnt ant\\u00a5rief and\\nposterior ribs OH plain Totals 132 89 221\\nchest x-rays; pusition `\\nand size fif ureters in\\nThg\\u00a7\\u00a3 characteristics fell into five gro.ups2 that iss\\nurogirms.\\nanatomicalknowledgethatdeterininedthgabilityto31}\\nIdentify dffe\\u20act Diff\\u20ac.reHti.ate d..intended\\n]Ocat\\u20ac anE\\u00b1z5inieal structures topographically ; 2} ipteaprEt\\nSmall bowel from\\nnormal large hawel; clinical images, 3} assess patients clinically, 4} evalHfits\\nidentify a disldeated congenitalanomalies;and5}intexpnetlaharatoryrepofts.\\nhumgrug from its\\nEach characteristic is described in dgtall b.glow,\\nnormal position in\\ngler\\u00b1fiid fofsa; identify\\ndistended calyces in AnatomicalKnowledgethatI}eterm\\u00b1nedtheAbility\\nurograms; idehtify toLorateAnatanicalstru\\u20acture\\u00b1Topegraphically\\nSpace ac\\u20acupying\\nlesions t}n CT scans[\\nFi3r access drrimg cliwif ed FrocgdREes :\\nAs\\u00a3\\u00a3\\u00a3s form, size, Siae o`f h\\u20ac-ad for\\nA\\u00a3\\u00a3gss\\nShape h\\u00a5dracgphalu\\u00a7 or\\nclinically\\nmicracg`phaly ; integrity Anatomical knowledge required to loEate structures\\nof hymen a\\u00a3\\ntopographic.ally gmergsd a\\u00a7 an important factc!r for\\nexamination cf the\\nfemale genitalia; ability to access srmctures ill prggedures, For Clinical\\n- raengnize deforfuty in 'pmcedures,thfclinicians.reportedrequiringknowlgdge\\nfractures Of the lung\\nofanatrmytoeHableinemtolceatethe`target'strmcture,\\nbeHeg. g.g. frastHre of\\nthe distal radiHs and 9.g.\\u00b1vginsforvengpun\\u20acfure;thelracheaforendetrachfat\\nulna {C811esNlike intubation, the assophagus for nasBgastric intubatiGrL\\u00a5\\nfractures}.\\nand the poHch fff Douglas for Euldo\\u20acentesis. Ifi\\nAtsses'\\u00a3 functi\\u20actH Assess. integrity Sf successful incidents, clinicians reported locating thg\\nnamed arteries and\\ntarget strmctt*re correctly and timely rnafin\\u20acr. Specific\\nnerves; laca]ize lesions\\n`kHowledge of anatomy, for example, the known patterns\\nin CNS cafe5 by\\nassggsing different Ef the distributiori of veins Er the Surface marking cif\\nparts Qf the central deepvgiris,wasresflr[edtow`h\\u20acripro\\u20acedHres,noHlially\\nnervous system.\\ndone routinely, required to dofie \\u20acblind]y' . a.g\\u201e veins not\\nEv.alua.t\\u00a3. Dg,s#rit}\\u00a3 & exp.IfliH CGnjoined twins, easily visible or palpable.\\nCQngEnitalAnGmalie5 anomalies neural tube -defects;\\nchrt;mSs o mat '\\nabnormalities, cleft In`rmany medicfil emergencies, securing an airway was\\nlip.\\n\\u20acunsidered of fundamental importance. Cliniciaris who\\nPlan interventi8H {s} Shunting tn were able to corrgctly identify the trachea, and the\\nhydra\\u20acephalus,\\nsurroultdiHg structures, at larl\\u00b1yg8sfopy, wert able t8\\ncSmdst.io.n, of\\ncongenital talipes correctly insgrt the endotracheal tube into the trachea.\\nequifioyarus. The imporian\\u20ace of this is fxemplifled by fl consultant\\nConstrue Basic tigsu\\u20ac types. reporting an incident of how a patient died be\\u20acau\\u00a7e a\\ni -Laboratory descriptions compen\\u20acnts t>f blchd, junior decttir had placed the endotracheal tube in trie\\nInterpret findings Full blood couHls, esophagiv\\u00a7iustcadofthetrmchea.Knowledgeofanaj,o,in+F'\\nhistopathoIGgiGal had implications forprocedural skins. ,,\\nrBPorts'\\n163\\nMedical Journal of Zambia, Volume 34 Number 4\\nAbility to locate a peripheral nerve in order to inject a Treitz (suspensory duodenal ligament) and it helped him\\nlocal anesthesia was important for nerve block to locate, identify, and inspect the duodenum, jejunum,\\nprocedures. In one incident, a doctor reported resorting ileum, and colon, as a result.\\nto general anesthesia for a circumcision operation\\nbecause he was not sure how to apply the local anesthesia\\nto the penis. Many doctors reported incidents of how Anatomical Knowledge that Determined the Ability\\nknowledge of anatomy was used to identify arteries and to Interpret Clinical Images\\nstop bleeding. Others reported of how lack of anatomical\\nknowledge resulted in the loss of lives because of inability To review normal structures..\\nto identify and locate bleeders causing uncontrolled\\nbleeding. Clinicians, reporting successful incidents with clinical\\nimages, cited ability to recognize how anatomical\\nTo prevent iatrogenic injury .. structures were topographically related (orientation).\\nFailure to correctly recognize what an image represented\\nDoctors reporting unsuccessful incidents frequently was common, especially with cross-sectional images.\\nrevealed how they accidentally injured nerves because In some cases where clinicians recognized that the image\\nthey were not aware about their presence or location in was a cross-sectional representation of the human body\\nthe topographical vicinity of their procedure. In one they reported inability to work out the level represented.\\nincident a doctor caused a foot drop because the common\\nTo identif y clef ects :\\nperoneal nerve was injured when inserting a Steinmann's\\npin for patient with a fracture of the femur. Several\\ndoctors, working in obstetrics and gynecology, reported A highly valued aspect of interpreting clinical images\\nincidents of inadvertent injury to the ureters during a was the ability to recognize defects. This was reported\\nhysterectomy operation and in one case during a for fractures, dislocations, differentiating small bowel\\nCaesarian operation. Anatomy is a key element of safe from large bowel on x-rays taken for intestinal\\ncli]iical practice. obstruction cases, intravenous urograms, chest x-rays\\nshowing infiltrations, hydrocephalus on CT scans, and\\nTo situate landmarks.. recognizing foreign bodies on clinical images. Failure\\nto detect or falsely detect defects represented on images\\nEffective knowledge about landmarks often helped resulted in frequent consultations to radiologists for\\nclinicians to have a mental image of structures lying interpretations. In one incident a doctor reported\\ndeep to the skin. Some doctors reported declining to mistaking a metaphyseal cartilage plate, in ari x-ray of\\na limb of a 12-year old boy, for a fracture. This mistake\\nperform the life-saving procedure of pericardiocentesis\\nbecause they were not sure h.ow to locate and access the was resolved by consultation with a radiologist.\\npericardial space through the xiphistemum. On one\\nAnatomical Knowledge that Determined the Ability\\noccasion a doctor reported successfully inserting a\\ncentral venous line in an emergency because he to Assess Patients Clinically\\nremembered the deltopectoral triangle as a landmark for\\ncannulating the subclavian vein. The doctor reported To assess form, size, shape etc...\\nremembering that the deltopectoral triangle was found\\ntwo thirds of the distance along the clavicle from the Effective clinical assessment was characterized by the\\nstemoclavicularjoint. Another reported how she always ability to determine what was normal or abnormal with\\ninsisted that the incision for chest drains should not pass regard, size and shape. Doctors in pediatric settings\\nin`the mid-axillary because that was where the long reported considering the diagnosis of hydrocephalus\\nthoracic nerve was to be found and inju / ry`to the nerve when they encountered large head circumferences and\\nmicrocephaly when they encountered abnormally small\\ncould cause a winged scapula.\\nheads. Some doctors reported inability to assess the\\nfundus of the eye at fundoscopy because the examining\\nExploratory laparotomies done by general doctors were\\ndoctor could not describe and, as such, recognize the\\ncommonly reported in places where surgeons were not\\nnormal form of the fundus.\\navailable. Success in exploring the contents of the\\nabdomen depended on knowledge of anatomy. In one\\nincident a doctor successfully located the ligament of\\n164\\nMedical Journal of Zambia, Volume 34 Number 4\\nTo assess function: Anatomical Knowledge that Determined the Ability\\nto Interpret Laboratory Reports\\nKnowledge of anatomy was reported as being essential\\nin the assessment of muscle function in cases of nerve Construe descriptions..\\ninjury. Doctors reported incidents of failure to localize\\nthe lesion were the central nervous systems was involved. Doctors reported receiving laboratory reports that\\nIn. oi|e example, a doctor could not describe the anatomy described cellular components of the blood, e.g.,\\nof the corticospinal tracts to his colleagues and, as a lymphocytes, macrophages, neutrophils etc. and tissue\\nresult, failed to discuss the site of the lesion in the tracts types e.g. connective tissue components. They were only\\nand to explain the complications seen in the patient. able to make sense of such reports because they\\nKnowledge of anatomy had implications for the correct\\npossessed histological knowledge about the structural\\ninterpretation of symptoms and signs. and functional nature of these cells and tissues.\\nAnatomical Knowledge that Determined the Ability Interpretfiindings..\\nto Evaluate Congenital Anomalies\\nA doctor reported an incident about a colleague who\\nDescribe and explain anomali,es.. could not interpret laboratory results, such as, full blood\\ncounts and histopathological reports because the reports\\nNeural tube defects (spina bifida, hydrocephalus) and cited cellular stnictures of which the colleague lacked\\ncongenital heart defects were the most commonly knowledge of. This case was cited as defense for leaming\\nreported about congenital abnormalities. However, histology.\\nability to explain the phenomena to fellow health workers\\nrequired knowledge of correct anatomical nomenclature\\nand ability to diagrammatically represent the structures DISCUSSION\\nunder discussion. Where such anatomical knowledge was\\nlacking, doctors reported inability to explain the Thepresentstudyidentifiedfivekeythemesofknowledge\\nphenomenon to other health workers and parents. The of anatomy that can influence outcomes regarding\\ndoctors required anatomical knowledge to recognize, success or failure in clinical practice. There were no\\ndescribe and explain the nature of congenital similar studies in the literature with which to compare\\nabnormalities. to. However, there are several points to be borne in\\nmind. Firstly, it is possible that if this study were to be\\nPhan interventions .. repeated in clinical settings with a significantly different\\nIt was reported that a cnicial aspect of planning the :erv:::tf\\u00a3::;es(:.tet.\\u00b1'ng:t:::e\\u00a3:sweasof:rpdne:,ar:i:eck::\\u20acaroyi\\ntreatment interventions for congenital anomalies was the practitioners, it could yield additional classes of themes.\\napplication of knowledge of anatomy. This was reported Secondly, participants may have under-reported\\nto be the case, for example, with hydrocephalus (inserting unsuccessful incidents of themselves. To address this\\na shunt in the cerebral ventricles and linking a drain into concern in our study participants completed the\\nthe peritoneum) and cleft lip/palate (reconstruction of questionnaires anonymously. It is also recognized that\\nanatomical topography). This meant that doctors had further research, both qualitative and quantitative, is\\nto clearly see the defect and be able to visualize the required for greater understanding of anatomical\\ncorrective procedures. Even the doctors that were not knowledge that influences success or failure in clinical\\nnecessarily the ones to do the operation required this practice.\\nconceptual understanding in order to comprehend what\\nwas planned. The present study supports the primacy of anatomy in\\n1\\nclinical practice; it found that knowledge of anatomy\\nhad implications for procedural skilis, safe clinical\\npractice9 correct interpretation of symptoms and signs,\\nrecognizing and explaining congenital anatomy, to\\nhighlight a few.\\n165\\nMedical Journal of Zambia, Volume 34 Number 4\\nThe present study has practical implications for COAT 4. Fasel, J. (1998). Teaching of gross anatomy to\\ncurriculadevelopers.Manyeducatorstraditionallyteach medical undergraduates: general practice as a\\nregionally and then highlight clinical applications .for guideline? A synopsis. Jo#mczJ o/.A#czfomy, 192:\\ntheregionunderdiscussione.g.theanatomyoftheupper 305-306.\\nlimb and then clinical highlights for the upper limb.I.5 5. Fasel, J.H., Gailloud, P. andvietvu, N. (1998). A\\nCore Anatomy Program for the Undergraduate\\nThis approach is likely to overshadow the clinical context\\napproach. Using the themes identified in this study, Medical Curriculum. Acczdemz.c MeczI.cz.#c, 73(5):\\neducators can expand on anatomical knowledge that 585-6.\\napply to the theme and additionally task students, in 6. Carley, S., Shacklay, J., Driscoll, P., Kilroy, D.,\\nand Davis, M. (2006). Exposure or expert? Setting\\nstudent-centredself-directedleamingexercisestoidentify\\nstandards for postgraduate education through a\\nmore examples of anatomical knowledge that apply for\\nthe theme. This way, the clinical context can be preserved Delphi technique. Emergc#c}J MccZz.cz.#e I/owmcz/,\\nT3.. 6n 2-6n 4 .\\nand the relevant anatomy can be learned purposefully.\\nThe characteristics of the themes of knowledge of 7. Victoroff, K. and Hogan, S. (2006). Students'\\nPerceptions of Effective Learning Experiences in\\nanatomy that can influence success or failure in clinical\\nDental School: A Qualitative Study Using a Critical\\npractice, presented here, may provide. insights for\\nTnciderit Technique. Journal Of Dental Education,\\ninstnictors who wish to preserve the clinical orientation\\nfor their teaching. While not exhaustive, the themes are 70 (2): 124-132.\\n8. Bryne, M. (2001). Critical incidenttechnique as a\\nan example of topics that can be included for COAT in\\na time-constrained setting. qualitative research method. Assocz.czfz.o# o/.\\nOperating Room Nurses Journal, 7 4(4).. 536 I_? .\\n9. Gilbart, M., Cusimano, M. and Regehr, G. (2001).\\nIn conclusion, the study has highlighted two key\\nEvaluating surgical resident selection procedures.\\nconsiderations: firstly, that knowledge of anatomy is\\nAmerican Journal Of Surgery, 181(5).. 2;21 -5 .\\nimportant for clinical practice, both for procedural and\\n10. Blum, J. and Fitzpatrick, R.(1965). Critical\\ncognitive skills. In view of the above, anatomy can\\ninfluence outcomes, i.e., success or failure in clinical performancerequirementsfororthopaedicsurgery:\\nPart I, Method; Part 11, Categories of Performance.\\npractice. Secondly, that qualitative methods, such as the\\nPittsburgh, PA: American Institutes for Research.\\ncritical incident technique used in the present study, may\\n11. Hubbard, J.P., Levit, E.J., Schumacher, C.F. and\\nprovide the answer to the methodological challenge of\\nSchnabel, T.G. (1965). An objective eva.luation of\\nstudying how anatomy (and other basic sciences) is used\\ncr+ri\\\\c;ill c;ompe;hence. The New England Journal Of.\\nin clinical practice. Data from such studies will broaden\\nMccZz.cz.7]c, 272(25): 1321 -1328.\\nthe evidence-base from which to select content for\\n12. Flanagan, John. C. 1954. The Critical Incident\\nclinically orieiited anatomy teaching.\\nTechnique. Psychological Bulletin S1.. 32] -358.\\nREFERENCES\\n1. Kilroy, D., and Driscoll, P. (2006). Determination\\nof required anatomical knowledge for clinical\\npracticeinemergencymedicine:nationalcurriculum\\np-Elamnenrignegn c uys Minged iac i nmeo Jdoiufrinedal , D2;e3l.p. h6i9 3t-e6c9h6n.ique.\\n2. MCKeown, P., Heylings, D., Stevenson, M.,\\nMCKelvey,K.,Nixon,J,.andMcclusky,D.(2003).\\nThe impact of curricular change on medical\\nstudents' knowledge of anatomy. Medl.cczJ\\nEducation, 37 .. 954-961.\\n3. Tavares, M., and Silva, M. (2002). Evaluation of\\nthe Clinical Anatomy Program in the Medical\\nSchool of Porto by Two Cohorts of Students.\\nCJz.#z.c\\u00a2J A#clfomy,15(1): 56-61.\\n166\",\n          \"ADMINISTRATION OF COGNITIVE-BEHAVIORAL THERAPY ON\\nLEARNERS EXPERIENCING POST-BEREAVEMENT CHALLENGES\\nAT LUANSHYA SCHOOL FOR CONTINUING EDUCATION IN\\nCOPPERBELT PROVINCE\\nBy\\nBeatrice C. Situmbeko\\nA Dissertation Submitted to the University of Zambia in Partial Fulfillment\\nof the Requirement for the Award of the Degree of Master of Education in\\nEducational Psychology\\nTHE UNIVERSITY OF ZAMBIA\\nLUSAKA\\n2019\\nDECLARATION\\nI Beatrice Chilufya Situmbeko do hereby declare that this is wholly my own work, and\\nthat the work of other persons utilised in this dissertation has been dully acknowledged.\\nThe work presented here has not been previously presented at the University of Zambia\\nor indeed any other University for similar purposes.\\nAuthors\\u2019 signature: \\u2026\\u2026\\u2026\\u2026\\u2026\\u2026\\u2026\\u2026\\u2026\\u2026\\u2026\\u2026\\u2026..\\nDate: \\u2026\\u2026\\u2026\\u2026\\u2026\\u2026\\u2026\\u2026\\u2026\\u2026\\u2026\\u2026\\u2026\\u2026\\u2026\\u2026\\u2026\\u2026\\u2026\\ni\\nCOPYRIGHT\\nAll rights reserved. No part of this work may be reproduced, stored in any retrieval\\nsystem, or transmitted in any form or by any means of photocopying, recording or\\notherwise without prior permission of the author or the University of Zambia.\\n\\u00a9 Beatrice Chilufya Situmbeko\\nii\\nAPPROVAL\\nThis dissertation of Beatrice Chilufya Situmbeko has been approved as fulfilling the\\nrequirements for the award of the Degree of Master of Education in Educational\\nPsychology by the University of Zambia.\\nExaminer 1\\u2026..\\u2026\\u2026\\u2026\\u2026\\u2026\\u2026\\u2026\\u2026\\u2026\\u2026\\u2026\\u2026\\u2026\\u2026\\u2026\\u2026\\u2026\\u2026\\u2026 Signature\\u2026\\u2026\\u2026\\u2026\\u2026..\\nDate\\u2026\\u2026\\u2026\\u2026\\u2026\\u2026\\u2026\\u2026\\u2026\\u2026\\u2026\\u2026\\u2026\\u2026\\u2026\\u2026\\u2026\\u2026.........\\nExaminer 2\\u2026 \\u2026\\u2026\\u2026\\u2026\\u2026\\u2026\\u2026\\u2026\\u2026\\u2026\\u2026\\u2026\\u2026\\u2026\\u2026\\u2026\\u2026\\u2026..\\u2026. Signature \\u2026.\\u2026\\u2026\\u2026..\\nDate.\\u2026\\u2026\\u2026\\u2026\\u2026\\u2026\\u2026\\u2026\\u2026\\u2026\\u2026\\u2026\\u2026\\u2026\\u2026\\u2026\\u2026\\u2026\\u2026..\\nExaminer 3\\u2026\\u2026\\u2026\\u2026\\u2026\\u2026\\u2026\\u2026\\u2026\\u2026\\u2026\\u2026\\u2026\\u2026..\\u2026\\u2026\\u2026\\u2026\\u2026\\u2026.. Signature\\u2026\\u2026..\\u2026...\\u2026.\\nDate\\u2026\\u2026\\u2026\\u2026\\u2026\\u2026\\u2026\\u2026\\u2026\\u2026\\u2026\\u2026\\u2026\\u2026\\u2026\\u2026\\u2026\\u2026\\u2026\\u2026.\\nChairperson Board of Examiners\\u2026\\u2026\\u2026\\u2026\\u2026\\u2026\\u2026\\u2026.\\u2026\\u2026\\u2026.\\u2026. Signature\\u2026.\\u2026....\\u2026...\\nDate \\u2026\\u2026\\u2026\\u2026\\u2026\\u2026\\u2026\\u2026\\u2026\\u2026\\u2026\\u2026\\u2026\\u2026\\u2026\\u2026\\u2026\\u2026\\u2026\\u2026\\nSupervisor\\u2026\\u2026\\u2026\\u2026\\u2026.\\u2026\\u2026\\u2026\\u2026\\u2026\\u2026\\u2026\\u2026\\u2026\\u2026\\u2026...\\u2026\\u2026\\u2026\\u2026\\u2026 Signature...\\u2026\\u2026\\u2026\\u2026\\nDate\\u2026\\u2026\\u2026\\u2026\\u2026\\u2026\\u2026\\u2026\\u2026\\u2026\\u2026\\u2026\\u2026\\u2026\\u2026\\u2026\\u2026\\u2026\\u2026\\u2026\\u2026.\\niii\\nABSTRACT\\nThis study examined the efficacy of cognitive behavioural therapy (CBT) in improving\\nthe academic performance and the mental wellbeing of learners experiencing post-\\nbereavement challenges at Luanshya School for continuing education in Copperbelt\\nProvince. The objectives of the study were; to identify the challenges post bereaved\\nlearners were faced with after the death of their parent(s), to determine the effect of CBT\\nas an intervention in improving the academic performance of learners experiencing post\\nbereavement challenges and to evaluate the efficacy of CBT in improving the academic\\nperformance and the mental wellbeing of PBL. The study employed a mixed method\\napproach with an embedded research design. Simple random sampling was used to select\\na total number of 45 learners that constituted the sample size. Data was collected through\\nstructured interviews, questionnaires, document analysis, focus group discussion and\\nobservations, and was analysed using thematic analysis and descriptive statistics. The\\nstudy established that PBL faced several challenges that negatively affected their mental\\nwellbeing and academic performance after the death of their parent(s). These challenges\\ncomprised: walking long distances to and from school, lower self-esteem, stigmatized as\\n\\u201corphans\\u201d, lack of food, love, parental control and representation by guardians, substance\\nabuse and fear of being abandoned. Based on these findings, CBT was administered as\\nan intervention. The CBT intervention included strategies that were designed to help each\\nPBL identify and deal with negative thoughts which affected his/her mental wellbeing by\\nconsidering alternative perspectives. Behavioral strategies such as gradual exposure to\\nfeared situations, deep breathing, decision making, muscle relaxation exercises, reduction\\nof unhelpful behaviours that contributed to anxiety, cognitive restructuring setting,\\nmanaging goals to apply in everyday life to overcome dysfunctional thinking during and\\nafter the administration of CBT were also inculcated in the PBL. This involved\\nquestioning practicality, annalysing positive beliefs and testing reality. The PBL were\\nencouraged to replace negative thoughts with realistic and positive ones to seal the\\ntherapeutic approach. The CBT intervention also included the inculcation of coping\\nskills, which indicated favorable responses as the PBL gained enough skills to continue\\non their own. Based on the comparison of the pre-test and post-test results obtained before\\nand after the CBT intervention, the findings indicated an improvement in the behaviour\\nand academic performance of the PBL. The findings also indicated that PBL had changed\\ntheir dysfunctional thoughts and beliefs about the way they perceived life, and that they\\nhad inadequate basic human needs which highly affected their academic performance,\\nself-esteem, and rational thinking. Failure to administer CBT could have increased the\\nnegative effects of stressors on the PBL need satisfaction. This study therefore,\\nrecommended that school policies should promote the emotional wellbeing of learners\\nexperiencing post bereavement by raising awareness on how to respond to bereavement\\nrelated challenges through the provision of school-support, outreach and specialist help\\nwhen appropriate.\\nKey words: Cognitive Behavioural Therapy (CBT), Post Bereaved Learners (PBL),\\nbereavement, thinking, behaviour\\niv\\nDEDICATION\\nTo my sons Mulenga and Mufaya Mulenga, you are my pride and joy. To my parents,\\nbondate Mr. Sanford and Mrs. Doris Situmbeko, I am blessed to have been raised by you.\\nTo my two brothers and five sisters, am humbled to be part of you.\\nThank you and May the Good Lord continue blessing us.\\nv\\nACKNOWLEDGMENTS\\nA project of this nature is virtually impossible to complete without the input of several\\npeople. While it is difficult to mention by name all those who contributed towards the\\ncompletion of this research work, I wish to express deep gratitude to my supervisor for\\nher invaluable patience, tolerance, guidance and dedication throughout the supervision of\\nthis work.\\nI also thank the members of staff and learners at Luanshya School for Continuing\\nEducation who participated in this research and shared their experiences, and for sparing\\ntheir time to adhere to the research requirements. Such participation has helped to\\nproduce information that will help all learners that have lost their parents and the ministry\\nof education at large.\\nI thank my fellow student Peter Leonard Daka for his invaluable input and support\\nthroughout the research process. Thank you for your enthusiasm and always being there\\nfor me.\\nI finally wish to acknowledge my sister Godfridah Mwape Mwango, family and friends,\\nincluding those not mentioned for their inputs and support in making this study a success.\\nvi\\nTABLE OF CONTENTS\\nDECLARATION ................................................................................................ i\\nCOPYRIGHT..................................................................................................... ii\\nAPPROVAL ...................................................................................................... iii\\nABSTRACT ...................................................................................................... iv\\nDEDICATION ................................................................................................... v\\nACKNOWLEDGMENTS ................................................................................ vi\\nLIST OF FIGURES .......................................................................................... xi\\nLIST OF TABLES .......................................................................................... xiii\\nLIST OF APPENDICES ................................................................................. xiv\\nOPERATION DEFINITIONS......................................................................... xv\\nACRONYMS: ................................................................................................. xvi\\nCHAPTER I ....................................................................................................... 1\\nINTRODUCTION ............................................................................................. 1\\n1.1. Overview ...................................................................................................... 1\\n1.2. Background ................................................................................................... 1\\n1.3. Statement of the Problem .............................................................................. 3\\n1.4. Purpose of the study ...................................................................................... 4\\n1.5. Objectives of the Study ................................................................................. 4\\n16. Research Questions ........................................................................................ 4\\n1.7. Significance of Study .................................................................................... 5\\n18. Limitation of study ......................................................................................... 5\\n1.9. Delimitation of the study ............................................................................... 5\\n1.10 Theoretical Framework ................................................................................ 6\\n1.11. Summary ..................................................................................................... 7\\nvii\\nCHAPTER II ..................................................................................................... 8\\nLITERATURE REVIEW .................................................................................. 8\\n2.1 Overview ...................................................................................................... 8\\n2.2 Psychosocial Wellbeing ................................................................................. 8\\n2.3. Efficacy of CBT in Improving the Performance of Learners Experiencing .. 10\\n2.4. Cognitive-Behavioural Therapy Studies ...................................................... 11\\n2.5. Common Symptoms of Post bereavement Challenges Among PBL ............. 15\\n2.6. Challenges Faced by PBL ........................................................................... 17\\n2.7. Summary..................................................................................................... 21\\nCHAPTER III .................................................................................................. 23\\nMETHODOLOGY .......................................................................................... 23\\n3.1. Overview .................................................................................................... 23\\n3.2. Research Design.......................................................................................... 23\\n3.3. Study Area .................................................................................................. 23\\n3.4. Study Population ......................................................................................... 24\\n3.5. Sample size ................................................................................................. 24\\n3.6. Sampling Procedure .................................................................................... 25\\n3.7. Description of the Sample and Sampling Procedure .................................... 25\\n3.7.1. Schools .................................................................................................... 25\\n3.7.2. Learners ..................................................... Error! Bookmark not defined.\\n3.8. Research Instruments .................................................................................. 26\\n3.8.1. Questionnaire ........................................................................................... 26\\n3.8.2. Interviews ................................................................................................ 27\\n3.8.3. Focus Group Discussion ........................................................................... 27\\n3.8.4. Observation .............................................................................................. 28\\n3.8.5 Document Analysis ................................................................................... 29\\n3.9. Data Collection Procedure ........................................................................... 29\\n3.10. Validity and Trustworthiness ..................................................................... 30\\n3.10.1. Validity .................................................................................................. 30\\n3.10.2. Trustworthiness ...................................................................................... 30\\n3.10.3. Credibility .............................................................................................. 31\\nviii\\n3.10.4. Transferability ........................................................................................ 31\\n3.10.5. Confirmability ........................................................................................ 31\\n3.11. Data Analysis ............................................................................................ 31\\n3.12. Ethical Considerations ............................................................................... 33\\n3.13 Summary .................................................................................................... 33\\nCHAPTER IV .................................................................................................. 35\\nPRESENTATION OF THE FINDINGS ............................................................ 35\\n4.1. Overview .................................................................................................... 35\\n4.2. Challenges Faced by PBL ........................................................................... 35\\n4.3. Pre-Test Before the Administration of CBTon PBL .................................... 36\\n4.4.1. Performance in Class at Pre-Test Before the Administration of CBT ........ 37\\n4.4.2 . Relationship with Friends at Pre-Test Before the Administration of CBT 38\\n4.4.3. Participation in Class at Pre-Test Before the Administration of CBT ....... 39\\n4.4.3.1 Deep Breathing Technique ..................................................................... 42\\n4.4.3. 2 Self-Monitoring Technique.................................................................... 42\\n4.4.3. 3 Behavioural Activation Technique......................................................... 42\\n4.3.3. 4 Decision-Making: Weighing Pros and Cons .......................................... 43\\n4.4.3.5 Cognitive Restructuring .......................................................................... 43\\n4.4.3.6 Setting and Managing Goals ................................................................... 43\\n4.5. Evaluation of the efficacy of CBT in Improving the Performance of PBL ... 44\\n4.6. Summary..................................................................................................... 46\\nCHAPTER FIVE ............................................................................................. 47\\nDISCUSSION OF THE FINDINGS................................................................ 47\\n5.1 Overview ..................................................................................................... 47\\n5.2. Challenges PBL faced after the death of their parent(s) ............................... 47\\n5.3. Administration of CBT in Improving the Academic Performance of PBL ... 49\\n5.4. The Effect of CBT in Improving the Academic Performance of PBL .......... 52\\n5.5 Summary...................................................................................................... 53\\nix\\nCHAPTER SIX ................................................................................................ 54\\nSUMMARY, CONCLUSIONS AND RECOMMENDATIONS .................... 54\\n6.1 Overview ..................................................................................................... 54\\n6.2. Summary..................................................................................................... 54\\n6.3. Conclusion .................................................................................................. 55\\n6.4. Proposed Areas for Future Research ............................................................ 56\\nREFERENCE................................................................................................... 57\\nAPPENDICES .................................................................................................. 65\\nx\\nLIST OF FIGURES\\nFigure 4.2. Percentage distribution on Performance of PBL \\u2026\\u2026\\u2026\\u2026\\u2026\\u2026\\u2026\\u2026.37\\nFigure 4.2. Percentage Distribution on the relationship with friends\\u2026\\u2026\\u2026\\u2026..\\nError! Bookmark not defined.\\nFigure 4.3.3. PBLs participation in class...................................................................39\\nFigure 4.3. Percentage distribution in participation in class\\u2026\\u2026\\u2026\\u2026\\u2026\\u2026\\u2026\\u2026...39\\nFigure 4.4. Assessment of the efficacy of CBT in improving the performance\\u2026.44\\nFigure 4.4. Percentage distribution of performance in class at post-test\\n............................................................... \\u2026\\u2026\\u2026..Error! Bookmark not defined.\\nFigure 4.5, Percentage distribution on the relationship with friends\\u2026\\u2026\\u2026\\u2026\\u202645\\nFigure 4.6. Percentage Distribution on the participation of PBLs at post-test..\\n............................................................................ Error! Bookmark not defined.\\nxi\\nLIST OF TABLES\\nPages\\nTable 3.1. Biographical Data of PBL ..................................................................29\\nTable 4.1. Demographic and baseline characteristics of PBL\\u2026\\u2026\\u2026\\u2026\\u2026\\u2026. ......24\\nTable 4.2. Percentage and Distribution of Challenges faced by PBLs after the\\ndeath of the parent(s) ..........................................................................................35\\nxiii\\nLIST OF APPENDICES\\nAppendix A \\u2026\\u2026\\u2026\\u2026\\u2026\\u2026\\u2026\\u2026\\u2026\\u2026\\u2026\\u2026\\u2026\\u2026\\u2026\\u2026\\u2026\\u2026\\u2026\\u2026\\u2026\\u2026\\u2026...\\u2026 83\\nAppendix B\\u2026\\u2026\\u2026\\u2026\\u2026\\u2026\\u2026\\u2026\\u2026\\u2026\\u2026\\u2026\\u2026\\u2026\\u2026\\u2026\\u2026\\u2026\\u2026\\u2026\\u2026\\u2026\\u2026\\u2026\\u2026 84\\nAppendix C \\u2026\\u2026\\u2026\\u2026\\u2026\\u2026\\u2026\\u2026\\u2026\\u2026\\u2026\\u2026\\u2026\\u2026\\u2026\\u2026\\u2026\\u2026\\u2026\\u2026\\u2026\\u2026\\u2026...\\u2026 85\\nAppendix D \\u2026\\u2026\\u2026\\u2026\\u2026\\u2026\\u2026\\u2026\\u2026\\u2026\\u2026\\u2026\\u2026\\u2026\\u2026\\u2026\\u2026\\u2026\\u2026\\u2026\\u2026\\u2026\\u2026\\u2026 87\\nxiv\\nOPERATION DEFINITIONS\\nAwareness: Having Knowledge or Perception of CBT and other Psychotherapeutic Services.\\nDemographic Variables: Variables including age, education level, employment status, marital\\nstatus, past history of depression, family history of depression and residential status.\\nEducation Level: Status of having been to school, having attained primary education,\\nsecondary education and tertiary education.\\nOrphan: Status of not having surviving parents\\nDouble Orphan: A child who does not have a surviving parent\\nSingle Orphan: A child who has one living parent\\nPre-Test: Assessment done before treatment.\\nPost-Test: Assessment done after treatment or intervention.\\nResidential Status: Place where a person lives as being low cost with thousands of people,\\nmedium cost with hundreds of people and high cost with tens or few people.\\nSpecific Symptoms: Symptoms involving anxiety, overall depression and thought of harming\\noneself as reflected on EPDS.\\nYouth: A person aged 15 to 35 years.\\nxv\\nACRONYMS:\\nBCBT Brief Cognitive Behavioral Therapy\\nCBT Cognitive Behavioral Therapy\\nCSO Central Statistics Office\\nDSM-5 Diagnostic and Statistical Manual for mental disorders-5th edition.\\nMOH Ministry of Health\\nNCHS National Centre for Health Statistics\\nPBL Post bereaved learners\\nQTA Qualitative Thematic Analysis\\nFD Frequency Distribution\\nWHO World Health Organization\\nxvi\\nCHAPTER I\\nINTRODUCTION\\n1.1 Overview\\nThis chapter gives an insight to the research work, on the efficacy of Cognitive Behavioural\\nTherapy (CBT) in improving the academic performance and the mental wellbeing of learners\\nexperiencing post-bereavement challenges at Luanshya School for Continuing Education in\\nCopperbelt Province. It highlights the background of the main problem of the research, and its\\nproblem statement. The chapter also outlines the main objective of the research and provides a\\njustification for the study. It entirely gives a picture of the need to research into the efficacy of\\nCBT in improving the academic performance and the mental wellbeing of learners\\nexperiencing post-bereavement challenges.\\n1.2. Background\\nThe death of a parent is a major life transitioning event that can be stressful and may increase\\nthe risk for mental health problems in school going youths and children (Cerel, Fristad,\\nVerducci, Weller and Weller, 2006). Many school going youths and children fail to succeed\\nacademically due to the challenges faced after the death of parents (Murray, Davidson, Haward,\\nand Brand, 2006; Kranzler, Shaffer, Wasserman, and Davis, 1990). The death of a parent may\\nimpact negatively on the learner\\u2019s academic achievement as a parent plays a critical role in\\nmost learners\\u2019 academic development (Stone & Church, 1968). Parental death may lead to\\nfinancial difficulties, change in residence, change in school, less contact with friends and\\nneighbours, and increased socio-economic responsibilities for the orphaned children.This\\nsituation has a huge effect on them as it negates their future general wellbeing. Therefore, this\\nstudy sought to investigate the efficacy of administering CBT in improving the academic\\nperformance and the mental wellbeing of learners experiencing post-bereavement challenges.\\nParents play a very important role in moulding a child into a psychologically and sociologically\\nadjusted person and that children who get full attention, affection and emotional satisfaction\\nfrom their parents develop perfect and healthy personality. The psychosocial domain of this\\ndevelopment includes changes in personality, motivation, affects, self-concept and social\\nbehaviour. Psychosocial changes involve the interplay of psychological (personal) and social\\n1\\nfactors. The childhood loss of parents represents a profound psychological trauma that\\nthreatens the child's social and emotional development.\\nExisting evidence suggests that bereaved children constitute a vulnerable population at\\nincreased risk for social impairment and psychopathology (Siegel, 1996; Finkelstein, 1988;\\nBerlinsky & Biller, 1982). A child with only one-parent feels insecure, alone and show\\nimmaturity of behaviour because; parental loss brings about emotional sufferings like\\nseparation anxiety disorder and depression. Young people whose parents are both alive have\\nbetter ability to form friendly relationships and have better social adjustment and are less likely\\nto be depressed, compared to those whose parents are dead (Berk, 1994). Therefore, the effects\\nof parental death on children and young people\\u2019s development are long lasting as it brings\\nabout deficiency in certain parameters of psychosocial functioning if an intervention such as\\nCBT is not administered in time. Psychosocial functioning encompasses physiological and\\nsocial factors, which are assumed to play a vital role in ensuring a persons' effective adjustment\\nin society. It covers the home and family, health and physical development, social\\npsychological relations, and adjustment to school work among others.\\nFrom a social and psychological perspective parents are primary institutes of a child's learning\\nand have great impact on child\\u2019s psychosocial functioning. When a child loses a parent(s), the\\npsychosocial functioning becomes disturbed due to the conditions of getting less than\\nappropriate psychological and social interaction, contact and experience with the parent(s). It\\nis said that healthy minds stimulate appropriate social relations which lead towards effective\\npsychosocial functioning, hence the death of a parent, be it of a mother or father and in some\\ninstances both, has negative effects on the physical health as well as psychological functioning\\nof a child. In this case the mental wellbeing and academic performance of a bereaved child gets\\naffected. This is so, because parents provide physiological as well as psychosocial satisfaction.\\nPsychosocial health is not limited to the concept of basic needs satisfaction rather it includes\\nsome of the higher order needs which must be fulfilled for a healthy development. Love,\\naffection, and security also indirectly affect the health of a child. Research has shown that\\naffection and love become basic needs of children and youths (Muller, 1992) and orphaned\\nlearners are unable to satisfy these needs.\\nBraden and Miller (2007) asserts that parental involvement in a child\\u2019s education has been\\nrelated to multiple positive effects in young people\\u2019s school achievement. Children whose\\nparents were involved in their education earned higher grades, had better attendance, completed\\n2\\nmore homework, and were more motivated to learn. This proves that parental involvement in\\na child\\u2019s education is of critical importance in the education welfare of young people. For\\ninstance, Zambia has a program for parent-teacher collaboration in the educational welfare of\\nthe learners which is referred to as Parent-Teachers Association (PTA). The purpose of this\\nassociation is to have parent-teacher involvement in the educational welfare of the learners in\\norder to enhance their educational needs. Brannigan, Hansen, Walsh, and Falco (2005),\\npostulates that a strong family-school partnership improves both academic and behavioural\\noutcomes for children. Hence, there is need to address the challenges that PBL face after loss\\nof a parent(s) who once stood as a supportive pillar in their educational welfare.\\nKendler, Sheth, Gardner and Prescott (2002) contend that the disruption of the parent-child\\nbond during childhood has been widely considered as an important risk factor in future\\ndevelopment of children. For instance, the Learners\\u2019 mental wellbeing and academic\\nachievement could be just one area largely impacted by such risk factors. Researchers have\\nalso discussed the pathways leading from the receipt of poor parenting in childhood to worse\\nmental health in later life. These models assert that children who receive chaotic, harsh or\\nneglectful care from their care givers develop poor emotional regulation strategies, which in\\nturn leaves them more susceptible to emotional distress later in life (Repetti, Taylor and\\nSeeman, 2002). Research findings are consistent with these models, indicating that\\nretrospective ratings of low parental quality during childhood are related to higher levels of\\nnegative emotionality in adulthood, including anger, hostility, depression and anxiety\\n(Lehman, Taylor, Kiefe and Seenman, 2009; Turner and Muller, 2004).\\n1.3. Statement of the Problem\\nLearners in schools that have experienced bereavement due to the death of their parent(s) fail\\nto succeed academically (Archibald, Bell, Miller, and Tudennan, 1962, Berlinsky and Biller,\\n1982, Reber, 1985). These learners go through many post bereavement challenges that create\\ndifficulties in coping with academic work (Murray, Davidson, Haward, and Brand, 2006;\\nKranzler, Shaffer, Wasserman, and Davis, 1990). This situation has a huge effect on the\\nlearners as it negates their future general wellbeing. Efforts to address the academic difficulties\\nexperienced by learners with post-bereavement challenges have been made through the\\nprovision of Cognitive Behavioural Therapy (CBT). However, there is very little knowledge\\nabout the efficacy of CBT on the improvement of academic performance of learners\\n3\\nexperiencing post bereavement challenges in Zambian schools. Therefore, this study sought to\\nexamine the efficacy of CBT in improving the academic performance of learners experiencing\\npost-bereavement challenges at Luanshya School for Continuing Education.\\n1.4. Purpose of the study\\nThe purpose of this concurrent mixed methods study was to investigate the efficacy of\\nCognitive Behavioural Therapy (CBT) in improving the academic performance and the mental\\nwellbeing of learners experiencing post-bereavement challenges at Luanshya School for\\nContinuing Education (LSCE) in Copperbelt Province. In this study, the efficacy of\\nadministering CBT was explored and measured by making comparisons between the previous\\nresults of already conducted tests and those obtained after the administration of CBT. This was\\nattained through document analysis, observation of the PBL throughout the study, Focus Group\\nDiscussion, in-depth interviews and questionnaires. The qualitative and quantitative data were\\nthen presented to provide a better understanding of the efficacy of CBT in improving the\\nacademic performance and mental wellbeing of the PBL.\\n1.5. Objectives of the Study\\nThe following objectives guided this study:\\n1.5.1. To identify the challenges post bereaved learners face after the death of their parent(s)\\n1.5.2. To determine the effect of CBT as an intervention in improving the academic\\nPerformance of learners experiencing post bereavement challenges\\n1.5.3 To evaluate the efficacy of CBT in improving the academic performance and the\\nMental wellbeing of PBL\\n1.6. Research Questions\\n1.6.1 What post-bereavement challenges did the learners face after the death of their parent(s)?\\n1.6.2 How effective is CBT in improving the performance of learners experiencing post\\nbereavement challenges?\\n4\\n1.6.3 To what extent is the efficacy of CBT in improving the performance of learners\\nexperiencing post bereavement challenges?\\n1.7. Significance of Study\\nThis study is important as it may contribute to the literature on the post bereavement challenges\\nlearners are faced with after the death of a parent. The study may also assist teachers,\\ncounsellors, education psychologists and administrators to have a better understanding of the\\nfactors that affect learners after the death of a parent. It is also hoped that this study may\\ncontribute to the international scholarships on the effectiveness of CBT as an intervention on\\nlearners experiencing post bereavement challenges after the death of a parent(s).\\n1.8. Limitation of study\\nConsidering that this study was conducted from one school, Luanshya School for Continuing\\nEducation, the findings may not easily be generalised to the rest of the schools in the country.\\nZainal (2007) explains that results of one school may not be generalised because it only\\ninvestigated one school which could not give an overall representation of the wider body of\\nsimilar instances. This implies that the small size of sample and detail of findings in this study\\nis mostly unique to a specific phenomenon.\\n1.9. Delimitation of the study\\nThis study was conducted at Luanshya School for Continuing Education formerly (Adult\\nTraining Centre), Luanshya District, Copperbelt province. There are about thirteen (13)\\nSchools for Continuing Education in Zambia. This school was chosen because it is specifically\\nestablished for those who have difficulties in attending regular schools, those who are advanced\\nin age and those who attain lower marks at second choice selection. The school also\\naccommodates a big number of orphans and vulnerable learners as evidenced from the school\\nregisters and records. The school has a population of an estimated number of 800 learners of a\\nmixed age range. In addition, the school is a General Certificate Examination (GCE) centre\\nand has several departments and programmes for academic and skills training, making it rich\\nfor a two-tire education system.\\n5\\n1.10 Theoretical Framework\\nThis study was anchored on Becks\\u2019 CBT model which stresses that thoughts and cognitive\\nconstructions are at the root of emotions and behaviour patterns. The core premise of this\\ntherapy is that maladaptive cognitions contribute to the maintenance of emotional distress and\\nbehavioural problems. These maladaptive cognitions include general beliefs or schemas, about\\nthe world, the self, and the future, giving rise to specific and automatic thoughts in particular\\nsituations (Beck ,1970; Ellis, 1962). Maladaptive behaviour is counter-productive and\\ninterferes with everyday living. The CBT focuses on changing an individual's thoughts\\n(cognitive patterns) in order to change his or her behaviour and emotional state. The CBT\\nmodel provides a useful framework for guidance and counselling teachers, teaching staff and\\nother behavioural mentors, as it allows them to understand the bereaved school-going youths\\nand children\\u2019s experiences. It also offers strategies to increase these younger people\\u2019s sense of\\ncontrol because CBT is based on giving insights towards psycho education, collaborative\\npragmatism, active problem solving, assessing the nature and quality of supports, and\\nimprovement of the adaptation to the new lifestyle after a mood disorder. In this therapy, post\\nbereaved learners may find their thoughts contributing to affective symptoms and feelings and\\nhow they can transform them (Kootker, Fasott, Rasquin, Heugten and Geurts, 2012). The figure\\nbelow depicts the CBT Model diagrammatically.\\nFigure1. CBT Model (Beck,1970)\\nThe above CBT model presented in figure 1, indicates that reason and emotion depict a\\ncomprehensive method of treating human disturbances. This model stresses that people feel\\naccording to what they think, that is, thoughts and cognitive constructions are at the root of\\nemotions and behaviour patterns. Therefore, this model sits well in this study because\\nCognitive behavioural therapy (CBT) deals with one\\u2019s cognition (thoughts) and behaviour.\\n6\\n1.11. Summary\\nThis chapter presented the background of the study, statement of the problem, purpose of the\\nstudy, research objectives, research questions and significance of the study. It also covered\\nthe delimitation, limitations, theoretical framework and definitions of key terms. The next\\nchapter looks at Literature Review.\\n7\\nCHAPTER II\\nLITERATURE REVIEW\\n2.1 Overview\\nIn this chapter, the literature review that highlights the research works done by other scholars\\nis reviewed. The reviewed literature is focused on the efficacy of cognitive behavioural therapy\\n(CBT) on children and youths experiencing post bereavement challenge. The literature\\nreviewed also brought forth various pieces of literature work that is associated to the conditions\\nof post bereavement; its effects on mental wellbeing and academic performance on post-\\nbereaved learners. Text books were used; Electronic literature search databases were also used\\nand these included PsycINFO, MEDLINE and PubMed. Both theoretical and empirical\\nliteratures were reviewed. Theoretical literature provided explanatory framework relevant to\\nthe problem at hand while empirical literature provided information on research conducted so\\nfar that is relevant to this study.\\n2.2. The Impact of Parental Death on the Learners\\u2019 Academic Performance and\\nPsychosocial Wellbeing\\nParental presence, particularly the years lived with the father and mother, has positive\\nassociations with various issues such as children\\u2019s cognitive skills, education, income and\\nwealth (Lang and Zagorsky 2001). The parents contribute to their children\\u2019s development by\\ndoing the parenting as such (Guo and Harris 2000; Thomsen 2015). Children whose exposure\\nto parental role modeling is limited due to parental death may lack those skills and, as a\\nconsequence, may be less successful in school and may experience other issues (Steele, Sigle-\\nRushton and Kravdal, 2009). Parents contribute to children\\u2019s education by helping with school\\nwork and providing informed advice on educational choices (Bj\\u00f6rklund and Salvanes 2010),\\nboth of which can be assumed to decline after parental death.\\nParental death may also have harmful consequences because of prolonged stress. Numerous\\nstudies have shown that parental death causes multiple stressors in a child\\u2019s life because, in\\naddition to losing a primary caregiver, the child is also exposed to series of changes that may\\ninclude moving to new neighborhood, a new school and living with the remaining parent\\u2019s new\\npartner (e.g., Amato 2000; Fauth, Thompson and Penny 2009). Therefore, this study endeavors\\n8\\nto identify the challenges learners are faced with after the death of their parent(s), thereafter\\nadminister CBT as an intervention to the challenges with a view to enhance academic\\nperformance.\\nAccording to a British study, children who experienced early parental death showed difficulties\\nin trust, relationships, self-esteem and feelings of self-worth, loneliness, isolation and the\\nability to express feelings as an adult (Ellis, Dowrick and Lloyed-Williams 2013).\\nAdditionally, the remaining parent\\u2019s caregiving can be impaired due to the stress of the loss of\\na partner (Amato and Anthony 2014; Steele, Sigle-Rushton and Kravdal 2009). If the surviving\\nparent is able to offer warmth and discipline, better resilience is predicted for the children (Lin\\net al. 2004), which leads to better overall outcomes for them. The current study tried to improve\\nthe lost trust, relationships, self-esteem, and feelings of self-worth, loneliness, isolation and the\\nability of self-expression through the administration of CBT.\\nIn another study of ten African countries, bereaved children were found to less likely enroll in\\nschool; the negative effect of parental death increased with the child\\u2019s age (Case, Paxson and\\nAbleidinger 2004). In South Africa, the loss of a mother was found to have more adverse effects\\nthan the loss of a father (Case and Ardington 2006). Paternal death was related to only the\\nfamily\\u2019s economic well-being. In Ethiopia, maternal death was associated with a lower\\nlikelihood of school enrolment and a higher probability of illiteracy (Himaz 2009). Paternal\\ndeath was associated with only the child\\u2019s sense of optimism about the future. In a later\\nEthiopian study, it was found that maternal death had adverse effects if a child was still in the\\nmiddle of childhood but not during early adolescence, whereas paternal death had adverse\\neffects in early adolescence (Himaz, 2013). In Indonesia, parental death was found to increase\\nschool dropouts in all age groups and at all school levels (Gertler, Levine and Ames 2004). The\\nresults also suggested that parental death had more severe effects for younger children. Paternal\\ndeath was found to have a slightly greater effect for elementary schooling than maternal death.\\nThe overall effect was largest close to school transitions.\\nIn Western countries the prevalence of early parental death is rare and the population\\u2019s\\neducational level is no similar to those countries than non-western ones, especially in Africa.\\ndditionally, cultural differences in children\\u2019s position in and responsibilities to the family are\\nlikely to play a role. In addition, there are also institutional differences in Western countries\\nwith the US offering the minimum support from the state and Nordic countries offering more\\nextensive support. Finland is a strong egalitarian welfare state that is, with the regard to\\n9\\nintergenerational mobility, quite open in comparison to North America (e.g., Erikson and\\nGoldthorpe 1992; J\\u00e4ntti, 2006), thus it is an ideal context for exploring the negative effect of\\nparental death\\n2.3. Efficacy of CBT in Improving the Performance of Learners Experiencing\\nPost-Bereavement Challenges.\\nCBT is highly recommended as a critical component of treatment, particularly when\\nmedications are contraindicated or ineffective (Driessen, Van, Don, Peen, Kool, Westra and\\nHendriksen, 2013). But it\\u2019s not clearly reported when contraindication and effectiveness are\\nreported in most treatments. There seem to be an oversight to the fact that post bereavement\\nchallenges, if untreated has multiple potential negative effects on the mental wellbeing and\\nacademic performance of learners (Elizabeth, Sarah, Allison, and Kristin, 2011). After the\\ndeath of a parent most children and youths are left without any psychosocial counsel as a\\npreparatory measure for the loss.\\nCBT is used in different regions especially the developed countries to treat disorders that come\\nabout as a result of experiencing the death of a loved one, but its effects as well as effectiveness\\nhas not been clearly documented. If used, most therapists use brief cognitive behavioural\\ntherapy (BCBT) aside other psychotherapy options such as art therapy and motivational\\ninterviewing. The reason for such an option has not clearly been unveiled.\\nThere seem to be a general lack of research in the effects of CBT on learners experiencing post\\nbereavement challenges and why it is preferred on the improvement of the mental wellbeing\\nand academic performance (Beck, 2006). If research has been done on the efficacy of CBT on\\nthe improvement of the mental wellbeing and academic performance of learners experiencing\\npost-bereavement stressful challenges, then, limited evidence in publication does exist.\\nThere seems to be a gap of knowledge and resource base, and the needed services in matters\\nof post-bereavement challenges faced by learners (World Health Organisation, 2012).\\nAlthough post-bereavement challenges are amenable to treatment, evidence shows that there\\nare more cases undetected, untreated or undertreated in secondary school settings (Driessen,\\nVan, Don, Peen, Kool, Westra and Hendriksen, 2013). Untreated and undertreated post\\nbereavement challenges have multiple potential negative effects on the mental wellbeing and\\n10\\nacademic performance of PBLs (Elizabeth, Sarah, Allison, & Kristin, 2011). The effects may\\neither be psychotic in nature or even morbidity.\\n2.4. Cognitive-Behavioural Therapy Studies\\nIn a qualitative research study conducted in Zambia with the Applied Mental Health Research\\ngroup (AMHR) at Johns Hopkins University on mental health issues, grief was identified as a\\nmajor problem in the Zambian community (Murray, Dorsey and Lucid, 2006). This study was\\nconducted across five different partner sites with Orphans and Vulnerable Children (OVC),\\nincluding: Barefeet, Ngombe Home Based Care, Kaunda Square Ministry of Health Clinic,\\nCity of Hope, and St. Paul\\u2019s School. The purpose of this study was to investigate the\\neffectiveness of TF-CBT in reducing trauma-related symptoms and impairments in critical\\nfunctioning ability. The AMHR group reviewed the treatment literature to identify intervention\\noptions that could be adapted to the Zambian context to treat these problems. Based on this\\nreview and consultation with local health professionals and mental health experts, an evidence-\\nbased therapy called Trauma-Focused Cognitive Behavioural Therapy (TF-CBT) was selected\\n(Murray, Dorsey, Skavenski, Jere, Kasoma, Bolton, Bass and Cohen, 2013; Bolton et al., DIME\\nmanual, module 6). The AMHR also used the results of the qualitative study to adapt, test and\\nvalidate an assessment tool to identify youth with trauma histories and significant (i.e. severe)\\nmental health symptoms (Murray et al, 2011; Bolton et al, DIME manual module 2). Through\\na number of studies, AMHR learned that TF-CBT was feasible, acceptable and potentially\\nefficacious (Murray, Dorsey, Skavenski, Jere, Kasoma, Bolton, Bass Phans and Cohen, 2013).\\nSince this study was more inclined to addressing trauma on or and vulnerable children, this\\ncurrent study was CBT aligned, and was based on modification of dysfunctional thinking which\\narises from both biological and psychological influences as a result of the post bereavement\\nexperiences that learners go through. Modifying dysfunctional thinking, behaviour and beliefs\\nleads to improvement in symptoms of post-bereavement challenges, hence improvement of the\\nmental wellbeing and academic performance of PBLs. The other gap in knowledge was the\\nsmall sample size of this study which was taken from a secondary school, with many PBLs\\ncoming from different home backgrounds and not from the OVC and partner sites.\\nIn another study conducted by (Murray, Dorsey, Skavenski, Jere, Kasoma, Bolton, Bass and\\nCohen, 2013), It has been reported that, orphans and vulnerable children (OVC) are at high risk\\nfor experiencing trauma and related psychosocial problems, yet little is known about what\\n11\\ninterventions may be effective. The purpose of the study was; to evaluate the effectiveness of\\nlay counsellor- provided trauma-focused cognitive behavioural therapy (TF-CBT), with\\ntreatment as usual to address trauma and stress-related symptoms among OVC in Lusaka,\\nZambia. The TF-CBT adapted for Zambia was proved to decrease stress-related symptoms and\\nproduced a smaller improvement in functional impairment among OVC. Although this study\\nwas Trauma- Focused CBT among OVC, it highlighted the stress-related symptom which is in\\nline with what secondary school learners experiencing post-bereavement go through.\\nTherefore, this current study sought to investigate the efficacy of CBT in reducing post\\nbereavement challenges in learners who have experienced the death of a parent(s).\\nO\\u2019Donnell, Dorsey, Gong, Ostermann, Whetten, Cohen, Itemba, Manongi and Whetten (2014)\\nalso conducted a qualitative study in East Africa, Tanzania, which was designed to test the\\nfeasibility and child clinical outcomes for group-based trauma-focused cognitive behaviour\\ntherapy (TF-CBT) for orphaned children. Using a task-sharing approach, the intervention was\\ndelivered by lay counsellors with no prior mental health experience. Primary child outcome\\nassessed was symptoms of grief; secondary outcome included symptoms of depression and\\noverall behavioural adjustment. All assessments were conducted pre- treatment, post-\\ntreatment, and 3 and 12 months after the end of treatment. Results showed improved scores on\\nall outcomes post-treatment, sustained at 3 and 12 months. O\\u2019Donnell\\u2019s study is important to\\nthe current study in that it provides an insight in the characteristics of group-based initiatives\\nin cognitive based therapy. However, there is a gap in O\\u2019Donnell and her cohort\\u2019s study which\\nthe current study endeavours to address. Their study was trauma focused and counsellors had\\nno prior mental health experience while this study is CBT focused with a trained CBT therapist.\\nIn another study conducted by Boelen, Kip, Voorsluijs and van den Bout, (2004), a group of\\n30 students who were grieving the loss of a parent or a sibling was examined against a control\\ngroup of 30 non-bereaved individuals with the object of tracing the relationship between beliefs\\nand emotional responses, and whether a loss affects the cognitive process. They also examined\\nwhether there was a relationship between cognitive variables and symptoms of traumatic grief,\\nand whether there were differences between bereaved and non-bereaved in their basic\\nsuppositions and level of irrational thinking. In this study, the results indicated that the group\\nof bereaved students had fewer positive beliefs about the significance of their world, of their\\nself-worth, and a higher level of irrational thinking than did the group of non-bereaved students.\\nThe results also showed a connection between the overall usage of irrational thoughts and those\\n12\\nspecifically associated with bereavement and between symptoms of traumatic grief. They\\nfound no relationship between basic beliefs and traumatic grief, although the beliefs reflected\\na lower cut-off of frustration that explained the higher rate of variability in traumatic\\nbereavement.\\nThese findings support the proposition that there is a connection between the adaptation to loss,\\nand the ability, even partially, to change the beliefs and adapt them to the new situation. It\\nmeans that treatment interventions such as CBT should focus on identifying the patterns of\\nirrational thinking and the emotional, non-adaptive consequences and adopting patterns of\\nrational thinking, whose consequences are healthy negatives. Such a thought pattern\\nemphasizes the choice that we have to adapt more healthily to an unwanted situation (Dryden,\\n2009; Ellis, 1994b; Ellis and Dryden, 1997). Although there is a difference in the study sample\\nsize and the methodology used, the study has broadened the research base for the current study.\\nYouth (2014) analyses the cognitive behavioural interventions with bereaved anxious youth,\\nin which two cases were intensively reviewed to explore how clients expressed, and how\\ntherapists accommodated around bereavement themes in a course of an empirically-supported\\ncognitive behavioural therapy (CBT) for anxious youths. In one case where a youth met criteria\\nfor principal generalized anxiety disorder, bereavement-focused strategies were incorporated\\nsecondarily into a standard manual-based protocol for anxiety. For the second youth who was\\ntreated primarily for bereavement, general CBT principles and strategies were applied to target\\nbereavement related themes, but a specific manual treatment was not used. Intensive review of\\neach case revealed bereavement themes that contributed to bereavement-related distress, which\\nincluded: depressive dysfunctional thoughts about the self, life, and the world; specific anxious\\ndysfunctional thoughts about the grief reaction; fear of abandonment; depressive avoidant\\nbehaviours, such as withdrawal from relationships or activities; avoidance of loss reminders;\\nand problems integrating the loss. These bereavement themes were found to be prominent in\\nthe earlier part of treatment and were targeted using cognitive behavioural interventions,\\nincluding bereavement-related exposures, behavioural activation, and proactive problem\\nsolving.\\nWith regard to Youth\\u2019s findings, this current study supports the use of CBT approach to\\nconceptualizing and treating post bereavement challenges faced by learners who had\\nexperienced the death of a parent(s). The principles and framework of CBT appear to\\nappropriately target the dysfunctional thoughts, avoidance behaviours, and poor integration of\\n13\\nthe loss that work to complicate the grieving process in learners experiencing post\\nbereavement. Kavanagh (1990), recommends CBT to be one of the most effective treatments\\nof a wide range of disorders; hence it has been suggested as treatment for bereaved children\\nand young people going through post bereavement experiences in this study.\\nComparing these four distinct psychotherapy approaches; interpersonal therapy (IPT),\\ncognitive behavioural therapy and non-directive counselling showed similar efficacy among\\nthe four (Cuijpers, 2008), this gives mixed evidence on the effects of CBT on the improvement\\nof the mental wellbeing and academic performance of PBLs.\\nCBT is a therapeutic intervention based on the premise that one\\u2019s thoughts and feelings play a\\nfundamental role in behaviour. It usually incorporates behavioural activation and cognitive\\nrestructuring according to a protocol with homework assignments (Beck, 2006). It provides\\nsupportive and insight-facilitating techniques to address the emotional background of the\\ndepressive symptoms by discussing current relationships, internalized past relationships, and\\nintrapersonal patterns (Dekker, Van, Maat, and Jonghe, 2008). These different treatment\\nmodalities are severely limited in low resource countries like Zambia.\\nIt is important now to realize that the treatment of post-bereavement challenges is resolute\\nbased on the PBLs history, current symptoms and treatment preference (Dennis, 2004).\\nHowever, a number of psychological symptoms need psychological treatment for the effective\\nmanagement of the person experiencing post-bereavement challenges.\\nCBT treatment approach is a relationship therapy. Misri, Kostaras, Fox, and Kostaras, (2004)\\nspecified that psychotherapy is the systematic use of a human relationship for therapeutic\\npurposes of alleviating emotional distress by effecting enduring changes in a patient\\u2019s thinking,\\nfeelings and behaviour. The mutual engagement of the affected person and the psychotherapist,\\nboth cognitively and emotionally, is the foundation for effective psychotherapeutic work (Kay\\nand Tasman, 2006). Therefore, treatment of post bereavement distress-related challenges using\\npsychotherapy such as cognitive behavioural therapy is a psychologically-based program,\\nincorporating education and advice, to target individuals\\u2019 emotional adjustment to the impact\\nof disorders that come about as a result of bereavement, and to increase their sense of control\\nover their recovery (Elizabeth, 2011).\\n14\\n2.5. Common Symptoms of Post Bereavement Challenges Among PBL in schools\\nSymptoms of post bereavement have a varied range. According to the online publication (Think\\nCBT 2018), the most common psychological and emotional symptoms of post bereavement\\ninclude emotional detachment, numbness, shock, disbelief, and denial, often occurring\\nimmediately following the loss, emotional distress which is often focused on separation,\\nresulting in an all-consuming sense of personal yearning, constant searching and sometimes\\nintrusive images of death. This distress can lead to continuous crying, dreaming, delusions,\\nvisual and auditory hallucinations and detached or erratic behaviour. Some people often\\nexperience severe anger, deny or protest the loss and often undergo significant periods of\\nanxiety and depression. Grief bursts can also occur when people experience short and highly\\nintense spells of anxiety and distress. These episodes can often occur on an unexpected basis\\nor following a period of improved mood or recovery. Musau (2013) also lists tearfulness,\\ndespondency, feeling of hopelessness, inadequacy, poor classroom attention, mood swings, and\\nextreme anxiety, guilty or hopeless, irritability, fatigue, loss of interests, and sleep disturbances.\\nBeck (2006) also itemizes change in appetite, feeling angry or nervous, not enjoying life as\\nmuch as in the past, lack of interest in friends or family, crying uncontrollably, feeling of being\\na bad person, trouble of concentrating, low energy and thoughts of harming oneself. However,\\nthis does not clearly state the symptoms common in different age groups especially among\\nsecondary school learners. There is therefore need to identify other common symptoms among\\nchildren and youth experiencing post bereavement distress challenges, and evaluate the\\ncontribution of the specific symptoms to the mental wellbeing and academic performance of\\nschool going children and the youths. It is evident that post bereaved people often continue to\\nexperience feelings of sadness for many years, however their ability and resilience to cope with\\nthe loss gradually improves upon the administration of CBT as an intervention. People\\neventually learn to cope with their loss and sadness.\\nAt present, post-bereavement challenges have been proposed for the fifth edition of\\nthe Diagnostic and Statistical Manual of Mental Disorders (DSM-V): Adjustment Disorder\\nRelated to Bereavement, to be located in the main body of the text as an official diagnostic\\nentity; and Bereavement-Related Disorder, including a Traumatic Death Specifier, to be\\nlocated in the Appendix as an invitation for further research (Kaplow et al., 2012). These\\ndiagnoses currently do not include developmentally informed criteria, despite the importance\\nof developmental processes in the way children and adolescents grieve. In this article, a\\n15\\nselective review of the empirical literature and expert clinical knowledge to recommend\\ndevelopmentally informed modifications and Specifiers of the proposed criteria for both\\nbereavement disorders and strategies to improve future research was drawn. This article is\\nderived from an invited report submitted to the DSM-V Posttraumatic Stress Disorder, Trauma,\\nand Dissociative Disorders Sub-Work Group, and suggested modifications have received\\npreliminary approval to be incorporated into the DSM-V at the time of this writing. Adoption\\nof these proposals will have far-reaching consequences, given that DSM-V criteria will\\ninfluence both critical treatment choices for bereaved children and youth in the next generation\\nof research studies on post bereavement related disorder.\\nAlthough refraining from unwarranted diagnosis is important in evaluating a person\\nexperiencing post bereavement challenges, the need for treatment must also be considered. Post\\nbereavement is a severe stressor that can trigger the onset of a physical or mental disorder.\\nTherapists and counsellors and clinicians need to recognize and treat those disorders when\\npresent and a cause of significant morbidity or mortality. Untreated illness potentially interferes\\nwith natural healing and this is one pathway to the development of complicated grief. For\\nexample, major depression, post-traumatic stress disorder and sleep disorders often occur and\\nneed treatment.\\n16\\nIn Zambia, the SAD research (2010) was number eight of a series of briefs providing new\\ninsights on the wellbeing of rural children in Sub-Saharan Africa, a previously much under\\nresearched population. Its findings were derived from a longitudinal (2008-2010) controlled\\nstudy in five communities of Kafue District, Zambia. This study was aimed at evaluating and\\ndeveloping a results-based intervention programme focused on the interface between\\npsychosocial wellbeing and livelihood of PBLs. Further, the study identified particular risk and\\nprotective factors for the psychosocial wellbeing of vulnerable children. With regards to grief,\\nthe study established that the cause of grief among school going children in Kafue District, was\\nloss of parents. Such a loss ultimately has a negative bearing on the performance of children at\\nschool. Nkhoma (2012) whose dissertation focused on the challenges following the death of\\nparents in some selected townships in Lusaka urban district in Zambia also agrees with this\\nfinding. This current study strongly agrees with the SAD study because it has highlighted\\nparental death as a protective factor for psychosocial wellbeing and its negative bearing on\\nchildren\\u2019s performance at school, although it did not specify the kind of intervention which\\nwas provided to the children after the loss of parents. Therefore, this study endeavour to\\ninvestigate the challenges that learners experience after the loss of their parent(s), thereafter\\nadminister CBT as an intervention to improve on their mental wellbeing and academic\\nperformance.\\n2.6. Challenges Faced by PBL\\nCoyne et al (2012), in United States of America also conducted a research titled \\u201cthe death of\\na parent may have a profound negative impact on student\\u2019s academic achievement,\\u201d It was\\nfound that a parent plays a large role in most children\\u2019s academic development. The purpose\\nof this research was to better determine the types of struggles a student faces following the loss\\nof a parent by death. Previous research was analysed to help determine what manifestations are\\nmore significant following parental death. Results indicated that: academic achievement is not\\nresearched enough to state whether it is specifically impacted by parental loss through death,\\nelementary and secondary age groups are the most academically impacted, a child\\u2019s\\ndevelopmental level contributes to their reaction to parental death, a student\\u2019s emotional well-\\nbeing is the most commonly researched manifestation, and University faculty are the most\\ncommon publishers of this topic from previous research. This study recommended that there\\nis need for further research regarding the impact of parental death on learners. This current\\nstudy strongly agrees with this recommendation but further suggests that there is need for post\\n17\\nbereaved learners to undergo CBT treatment and motivational talks to raise awareness about\\nthe challenges that comes with the death of a parent(s), and the universality of death to man.\\nBy so doing, necessary adjustments would be made to overcome the impact of post\\nbereavement challenges on learners.\\nAdil et al., (2008) also conducted a study in Pakistan, which examined the effect of parental\\ndeath of adolescents on their psychosocial functioning. It was hypothesized that adolescents\\nwho had lost a parent would experience significantly more severe psychosocial problems\\ncompared to those having their both parents alive. Data were collected from the various\\ncolleges of Sargodha. Findings indicated that adolescents who had lost a parent reported severe\\npsychosocial problems as compared to those having their both parents alive. Significant\\ndifferences in psychosocial functioning of adolescents were found on health and physical\\ndevelopment, home and family, and adjustment to college work whereas the differences on\\npsychosocial relations came out to be non-significant. These findings are consistent with the\\nprevious work of Meiss (1952). Findings of Meiss' research showed that parental loss could\\naffect the health of adolescents. Another research showed that adolescents who had lost mother\\n(by death) before they were 17, were twice as likely to suffer from depression and anxiety\\ndisorder as compared to those who had their mothers alive (Flanagan, 1995). Parents' death\\neither father or mother affects the whole range of functioning of adolescents, the health or\\nphysical disturbances, therefore, are no exceptions. Adil\\u2019s study is similar to the current study\\nbecause both studies looked at the psychosocial effects that comes about as a result of losing a\\nparent to death, although a knowledge gap still exists because his study did not apply an\\nintervention such as CBT to decrease the effects of psychosocial problems which adolescents\\nwere experiencing.\\nParental absence, therefore, results in the loss of primary shelter, which crop up a lot of\\nphysical, behavioural and psychological problems. Depression has been found to be the major\\nproblem with bereaved adolescents (Flanagan, 1995). Children who lose a parent or grow up\\nwith strained family relationships face a greater risk as adults for health problems such as heart\\ndiseases. This is in accordance with Luecken's (1998) study of young adults' reaction to\\nstressful situations which showed that those who had a parent died when they were a youngster\\nand those who reported poor relationships with family members had higher blood pressure and\\nabnormal hormone responses to stress.\\n18\\nResearchers have also explored the implications of post-bereavement challenges for young\\npeople's lives in both the short and longer term to see if it may place them at greater statistical\\nrisk of experiencing unwelcome 'outcomes'. The range of outcomes considered includes:\\neducational issues; age of leaving home; sexual activities and health behaviour; aggressive or\\ndelinquent behaviour; depression; and self-concept and self-esteem. While the initial post-\\nbereavement responses tend to decline over time, mental health and other problems can persist\\nor even increase. There can be fluctuations over time, and delayed grief reactions may be\\ntriggered when subsequent life changes occur (Christ, 2000), such as the remaining parent re-\\nmarrying or the bereaved person having their own child. Any negative events that follow the\\ndeath, and the child\\u2019s resources for coping with these, seem to be significant for the long term\\n(Haine et al. 2008). However, the difficulty of disentangling the impact of bereavement from\\nother factors increases with the passage of time since the death, so drawing conclusions about\\nlong-term impact is apprehensive with problems. For instance, studies conducted with African\\nyouth have found that those who are orphaned have higher rates of maladaptive grief,\\nposttraumatic stress (PTS), depression, suicidal thoughts, anxiety, behaviour problems, and a\\nnegative outlook on their lives relative to those not orphaned (Atwine, Cantor-Graae and\\nBajunirwe, 2005)\\nDowdney (2000) also reports that suitable longitudinal studies do not exist to indicate whether\\nyoung people\\u2019s emotional or behavioural disturbance following bereavement will persist.\\nHowever, Christ and Christ (2006) cite Worden\\u2019s (1996) findings from the Harvard\\nBereavement Study of \\u2018late effects\\u2019 of child bereavement with differences in the levels of\\nclinical difficulty between parentally bereaved school-aged children and their non-bereaved\\ncontrols becoming significant two years after the death. At this point, bereaved children\\u2019s self-\\nesteem and beliefs about their control over life were significantly lower than those of their\\npeers. This current study totally agrees with these findings because the death of parent(s)\\nappears to be like an embarrassment to the bereaved because in most cases death happens when\\nit is least expected. Therefore, there is need to raise awareness among learners about death and\\nits devastating effect and that at the appointed time, everyone will die.\\nAccording to the reviewed literature, there is relatively little evidence concerning the\\nrelationship between bereaved young people and educational outcomes, and what there is tends\\nto suffer from the limitation of retrospective parental recall of child functioning prior to the\\n19\\ndeath, and a reliance on indirect measures of educational attainment. Dowdney (2000) notes\\nthat this limitation, combined with learner\\u2019s differences in academic skills, competence, and\\nresponse to parental death, means that it is difficult to conclude more than that outcomes will\\nvary between learners.\\nA more recent review (Haine et al., 2008) concludes that the balance of evidence does suggest\\nthat parentally bereaved young people are at risk of lower academic success. For example, a\\nUK study which reported on the GCSE results of 73 pupils who had lost a parent and 24 who\\nhad lost a sibling (Abdelnoor and Hollins, 2004) found that bereaved participants\\nunderachieved significantly depending on age, gender and parents\\u2019 employment history. The\\nexam scores of young people bereaved before the age of five or at 12 years old were\\nsignificantly more affected than those bereaved at other ages. The researchers suggested that\\nthe effect of bereavement may be prolonged, and that intermittent support could be needed\\nthroughout secondary and perhaps tertiary education. School attendance seemed to be\\nunaffected, however.\\nOn the contrary, not all outcomes of parental bereavement are negative. Thirteen young people\\nwho had attended a child bereavement service in Brewer et al, (2011) ethnographic study\\nreported a range of ways in which they had derived some positive psychological changes or\\npost-traumatic growth through their experiences of parental bereavement and participation in\\nthe service. These include a positive outlook, gratitude, appreciation of life, desire to live life\\nto the full, and altruism. In their study, (Wolchik, Coxe, Tein, Sandler, & Ayers 2008) found\\nthat over six years after the death of a parent, intra- and interpersonal coping processes\\nexplained improvements in several areas of growth including developing new areas of interest,\\naccepting help from others, and coming to a realization of personal strengths. Such studies\\npoint to the great range of responses that young people may develop after the experience of the\\ndeath of a parent or sibling, with some finding ways to turn their experience towards positive\\noutcomes, while others may struggle in ways that persist across their life course.\\nThere is some suggestion from clinical experience and research interviews that some bereaved\\nyoung people try harder and do better at school as a form of tribute to their dead parent\\n(Dowdney, 2000). Others report more difficulty in concentration, and distress, particularly\\nwhen memories of their dead parent are evoked in school. In addition, teachers of bereaved\\nchildren rate them as being significantly less attentive than matched classroom controls,\\n20\\nalthough it is not clear whether this impacts in any systematic way on attainment or school\\nrelationships.\\nAlthough most youths who experience parental death return to pre-death levels of functioning\\nby a year after the death (Worden, 1996), a sizeable percentage experiences significant\\ndepressive symptom such as social withdrawal, and academic difficulties long after the death\\n(Cerel et al, 2006). This research focused on explaining variability in adaptation after parental\\ndeath and has consistently shown that negative life and positive caregiver-child relationships\\nafter the death are significantly associated with fewer adjustment problems.\\nFrom a motivational perspective, major life events such as parental death influence outcomes\\nin part through their effect on basic needs. Skinner & Furrel (1994) argued that such events\\nthreaten the needs of relatedness, competence, and autonomy. Similarly, Sandler (2001)\\nproposed that stressors embedded in life transitions can threaten satisfaction of the basic needs\\nof positive self-worth, social relatedness and control, and that protective resources can facilitate\\npositive adaptation by promoting need satisfaction or decreasing the negative effects of\\nstressors on need satisfaction. According to Sandler (2001), children construe themselves in\\nrelation to their social context around these needs through self-system belief sets, which are\\nviewed as reflecting the degree of fulfilment of basic needs. Fulfilment of these needs should\\npromote the process of redefining and reintegrating oneself into a life without the physical\\npresence of the person who died. As this reintegration occurs, painful feelings decrease and\\nthoughts about the deceased no longer are dominate (Shear & Shair, 2005). This shows how\\nbereavement may have significance in young people's lives over long periods of time, even\\nwhile individuals cope and carry on. This significance may be seen in various terms, including\\ntheir spiritual development, their perspective on which they are and what is important in their\\nlives, and how to understand their own identities and family histories. The case studies also\\nprovide insight into the lives of bereaved young people who are not in touch with services.\\nThey may struggle over many years in response to major bereavement challenges, in ways that\\nappear to be quite unnoticed by those around them.\\n2.7 Summary\\nExtensive literature related to the devastating effects of parental death on the mental wellbeing\\nand academic performance of learners, and the efficacy of CBT on improving the mental\\n21\\nwellbeing and academic performance of learners has been reviewed. However, there is still\\nknowledge gap on the factors affecting provision CBT on learners experiencing post\\nbereavement challenges in secondary schools in Zambia. In addition, literature does not show\\nthe extent to which CBT services are provided in secondary school. In the next chapter the\\nresearch methodology that guided the study is discussed.\\n22\\nCHAPTER III\\nMETHODOLOGY\\n3.1 Overview\\nThis chapter provides an account for the research methodology employed by the researcher to\\ninvestigate the efficacy of cognitive behavioural therapy (CBT) in improving the academic\\nperformance of learners and the mental wellbeing of learners experiencing post bereavement\\nchallenges at Luanshya School for Continuing Education. Furthermore, the type of research\\ndesign used, target population, sample size, sampling techniques, research instruments and data\\ncollection instruments have been described. In addition, data analysis techniques, study\\ncredibility and ethical considerations which were adhered to in the process of conducting the\\nstudy are also presented. A summary is also given at the end of the chapter.\\n3.2. Research Design\\nThe research design employed in this study was anchored on a paradigm, strategy of inquiry\\nand specific research methods (Creswell, 2009). The paradigm used is the pragmatic\\nperspective which enabled the researcher to collect both qualitative and quantitative data.\\nFurther, the study employed the embedded mixed methods research design. In using the\\nembedded design, qualitative methods of data collection dominated over quantitative methods.\\nThus, it depended more on the descriptive analysis hence the frequency of the charts and tables.\\nWhen using the qualitative methods, the researcher depended a lot on the views of participants,\\nwhich implied asking broader questions through interviews while on the other hand the\\nquantitative method was used to assist the researcher to ask specific, narrow questions which\\nallowed the researcher to collect quantifiable data from participants through the use of a\\nquestionnaire. The other reason for using an embedded concurrent research design in this study\\nwas due to the fact that it enabled the researcher to collect and analyse quantitative and\\nqualitative data in a single study. In particular, the collection of qualitative data during an\\nexperiment may be to understand the process the participants were going through, whereas the\\nquantitative data assesses the impact of the treatment on the outcomes (Creswell, 2015).\\n3.3. Study Area\\nThis study was conducted at Luanshya School for Continuing Education formerly (Adult\\nTraining Centre), Luanshya District, Copperbelt Province. There are about thirteen (13)\\n23\\nSchools for Continuing Education in Zambia. This school was chosen because it is specifically\\nestablished for those who have difficulties in attending regular schools, those who are advanced\\nin age and those who attain lower marks at second choice selection.\\n3.4. Study Population\\nThis comprised of 59 learners who had experienced bereavement due to the death of a parent(s)\\nat Luanshya School for Continuing Education in Luanshya district.\\n3.5. Sample size\\nIn this study the total sample size of PBL was 75. In order to arrive at the actual sample size, a\\ntable 8.1 in Cohen, Manion & Morrison (2011: 143) was used and 59 PBL were sampled with\\nthe confidence level of 90%. Due to many challenges that were faced by the PBL which include\\namong others; early marriages, financial constraints and absenteeism, 14 PBL failed to\\nparticipate in this study. Hence, the sample size of was reduced to 45 from which information\\nwas gathered. Out of forty-five (45) PBL who participated in the study, twenty-two (22) were\\nmale aged between sixteen (16) and twenty-one (21) years old and twenty-three (23) were\\nfemale aged between sixteen (16) and twenty-one (21) years old.\\nTable 3.1, presents the common demographic factors of PBL. These included the number of\\npost bereaved learners, geographic location, single/double orphan, gender, age, level of\\neducation, age when parent/parents died, previous school attended before the death of\\nparent/parents and nature of death of parent. This was compiled during the interviews\\nconducted with PBL.\\n24\\nTable 3.1. Demographic and baseline characteristics of PBL\\nNumber of participants 45 Single /Double Orphan\\nResidential Area of participant Single Orphan 22\\nTown Centre 06 Double Orphan 23\\nJunior Mine Township 09\\nMine Area Township 11 Level of Education\\nMunicipal Council Location 19 Grade 11 15\\nGender Grade 12 20\\nFemale 23 Grade 10 10\\nMale 22\\nCurrent Age (Years)\\n17 06 Age when Parent (s) died\\n18 10 Below 10 years 15\\n19 11 Below 15 years 30\\n20 18 Nature of Death of Parent\\nPrevious School Attended before death Accident 06\\nof parent (s)\\nPrivate School 18 Illness 30\\nPublic School 27 Sudden death 09\\nTable 3.1, Demographic and baseline characteristics of PBL\\n3.6. Sampling Procedure\\nMixed methods research uses more than one kind of sampling procedure (probability and non-\\nprobability) and samples of different sizes, scope and types (cases: people; materials: written;\\nother elements in social situations: locations, times, events) within the same piece of research\\n(Teddlie and Tashakkori, 2009; Teddlie and Yu, 2007). In this study, both probability and non-\\nprobability sampling techniques were used when selecting participants.\\n3.7. Description of the Sample and Sampling Procedure\\n3.7.1. Schools\\nIn Luanshya district, there is only one school for continuing education offering both skills\\ntraining and academic education. Therefore, the school was purposively selected in this study.\\n25\\n3.7.2 Learners\\nRandom sampling according to Kombo and Tromp (2006) is a method in which every member\\nof the population has an equal chance of being included in the sample. In random sampling,\\nthe participants are randomly selected from a list of a total population. Based on the merits of\\nrandom sampling technique as stated by Kombo and Tromp (2006), in this study, learners were\\nselected using stratified sampling. Stratified sampling was appropriate in this study because\\nlearners were stratified according to their sexes, thus boys and girls. Cohen, Manion and\\nMorrison (2007) argued that stratified sampling involves dividing the population into\\nhomogenous groups, each group containing subjects with similar characteristics. In this study,\\nthe researcher requested for a class register for all PBLs in the school. After obtaining the class\\nregister, the researcher stratified the names of the learners according to their sexes. Stratified\\nsampling was best for this study as it gave a sample that allowed equal participation by both\\nsexes. Then, simple random sampling was used to select 29 males and 30 females from each\\nstratum. This gave a total sample of 59 learners that were sampled. However, out of the 59\\nlearners who were given questionnaires, only 45 learners managed to return completed\\nquestionnaires and these were picked for the study.\\n3.8. Research Instruments\\nResearch instruments are tools used to gather information and this included the following:\\nObservation checklist, questionnaire, interview guides, records analysis checklist and focus\\ngroup discussion checklist (Kombo and Tromp, 2006). In this study, all the above stated\\ninstruments were used to collect data. The manner in which each instrument was used is as\\nfollows:\\n3.8.1. Questionnaire\\nA questionnaire in this study was preferred to collect information from PBL regarding the\\nchallenges faced after the death of their parent(s). It was used as a self-assessment tool for PBL\\nto state their academic performance in class, relationship with friends (how the participant was\\ninteracting with friends in school), classroom behaviour (the mood and altitude of the\\nparticipant in class) and participation in class (speaking in class: answer and ask questions,\\nmake comments and join in class discussions). The questionnaire was administered before and\\nafter the administration of CBT. The questionnaire had both open and close-ended questions,\\n26\\nand was used because some of the data required could not be gathered through face to face\\ninterviews. On capturing data through the questionnaire, the excel application was used. This\\nmethod was efficient and friendly as the respondents did not labour much to supply the required\\ndata. This made it very easy for the next stage of data collection.\\n3.8.2. Interviews\\nThe purpose of interviews in this study was to explore the views, experiences, beliefs,\\nmotivations and challenges faced by PBL on specific matters regarding their post\\nbereavement. Through the use of interviews PBL were able to state the challenges they faced\\nafter the death of their parent(s). In addition, the interviews provided a deeper understanding\\nof the social phenomena, most appropriate where little was known about the study\\nphenomenon or where detailed insights were required from individual participants.\\nInterviews were also particularly appropriate for exploring sensitive topics, where\\nparticipants did not want to talk about certain issues in a group environment. These were\\noral interviews based on the use of interview guides. They were flexible because they consisted\\nof both open and closed-ended questions and allowed the interviewer to probe further on\\nparticular issues. The interviews also allowed for repetition of questions where respondents\\nwere not clear. The interviews were also used as an instrument for initial, continuous,\\nsummative and psychological assessments regarding the academic performance and mental\\nwellbeing of the PBL before and after the administration of CBT.\\n3.8.3. Focus Group Discussion\\nIn this study, four groups of PBL were constituted to discuss their bereavement experiences\\nand challenges faced after the death of their parent(s). The course of the discussion was planned\\nin advance and the moderator relied on an outline, or moderator\\u2019s guide, to ensure that all topics\\nof interest were covered. The items discussed during focus group discussion were participation\\nin classroom activities, relationship with friends, anger, moods, classroom behaviour and\\nabsenteeism. The participants influenced each other through their answers to the ideas and\\ncontributions during the discussions. The discussions were stimulated by running comments\\nfrom the moderator and subjects. The fundamental data produced by this technique were\\ntranscripts of the group discussions, the moderator's reflections and observations.\\n27\\nThe focus group discussions enabled the researcher to gain a larger amount of information in a\\nshort period of time. The participants were able to bring to the fore issues relating to their\\nbereavement experiences, discuss each other\\u2019s strengths and weakness regarding their post\\nbereavement challenges which included their academic performance, participation in\\nclassroom activities, relationship with friends, anger, moods, classroom behaviour and\\nabsenteeism. The participants also debated on many issues regarding post bereavement. This\\noffered the researcher an opportunity to study the ways in which individuals collectively made\\nsense out of a particular phenomenon and construct meaning around it. This instrument was\\nparticularly utilized because it was objective, economical on time and focused on the academic\\nperformance and mental wellbeing of the PBL. The Focus Group Discussion was not only used\\nas an instrument for data collection but also as an instrument for the initial, continuous and\\nsummative assessments regarding the academic performance and mental wellbeing of the PBL.\\n3.8.4. Observation\\nThis study used observation as an instrument for data collection, pre-assessment, continuous\\nand summative assessments regarding the academic performance and mental wellbeing of the\\nPBL based on the need to obtain data from the actual setting (Cohen, Manion and Morrison,\\n2011:21). In the same way, the researcher looked directly at what was taking place in a situation\\nrather than relying on second-hand accounts. The observations were carried out throughout the\\nstudy, that is during lessons, interviews, Focus Group Discussions before and after the\\nadministration of CBT. Of particular interest to this study was the classroom behaviour and\\nacademic performance in which the behavioural and performance checklist was used. An\\nobservation checklist provided the criteria for observation and allowed the observer to show\\nPBL progress over time. This method helped to eliminate subjectivity in data collection and\\ngave the researcher accurate information related to what was actually seen in time and place.\\nThe observation technique increased the chance for the researcher to obtain a valid and credible\\npicture of the phenomena being studied (Kothari, 2008).\\nThe items on the observation checklist included classroom behaviour, interactions between\\nstudents and the dynamics between the teacher and students. This enabled the provision of rich\\ninformation descriptions of behaviour about PBL conversations, interactions, organizational\\nprocesses, and other type of human experiences obtained through observation. During these\\nobservations, PBL moods, relationship with friends, participation in class, anger, memory,\\n28\\nconcentration during lessons, attention and school attendance were observed. These\\nobservations were both participant and non-participant.\\n3.8.5 Document Analysis\\nDocument analysis is a systematic procedure for reviewing or evaluating documents both\\nprinted and electronic (computer-based and Internet-transmitted) material. Like other\\nanalytical methods in qualitative research, document analysis requires that data be examined\\nand interpreted in order to elicit meaning, gain understanding, and develop empirical\\nknowledge (Corbin and Strauss, 2008; Rapley, 2007). Atkinson and Coffey (1997) refer to\\ndocuments as \\u2018social facts\\u2019, which are produced, shared, and used in socially organised ways.\\nDocuments that may be used for systematic evaluation as part of a study take a variety of forms.\\nIn this study attendance registers, learners\\u2019 continuous assessment reports and classroom\\nattendance registers were analysed and recorded. The analytic procedure entailed finding,\\nselecting, appraising (making sense of), and synthesizing data contained in documents.\\n3.9. Data Collection Procedure\\nPBL were availed with the information sheet for them to read about the study. Interested PBL\\nwere then asked to sign the consent/assent form. The same participants were used as control\\ngroup and intervention group, that is for pre-tests and post-tests results. Data was collected by\\nmeans of interviews, questionnaires, focus group discussions, record analysis and observation\\nschedules. The interviews were conducted with one participant at a time to maximise the\\ncollection of data from each participants and emerging themes were recorded.\\nCBT was used as the principle Psychotherapeutic intervention on the PBL as the norm\\ntreatment. The principle investigator and a teacher by profession, who was well trained in CBT\\nand psychosocial counseling, administered the CBT to the PBL. The CBT sessions were\\nadministered to the participants in the intervention group on a weekly basis, and ran up to a\\nmaximum of 12 sessions. The CBT sessions lasted 45-60 minutes and targeted modification of\\nnegative patterns of thinking and behaviour occurring in the context of post-bereavement\\nperiod.\\nThe completion of the therapy was based on observation and confirmed by post-test scores,\\nregardless of the number of sessions attended. The principal investigator, made the relevant\\nobservations throughout the study, and the PBL with severe or complicated conditions were\\nreferred and recommended for further intervention. To determine the effect of CBT,\\n29\\nparticipants were objectively observed throughout the study using observation schedules.\\nDuring the observation process, the researcher recorded each item physically observed on the\\nschedule as appropriate. The observational method of collecting data had the advantage of\\novercoming the limitations of the self-report methods of collecting data (Mugenda and\\nMugenda, 1999). PBL were tasked to complete a questionnaire which required them to indicate\\nthe extent to which they agreed or disagreed with a series of statements.\\n3.10. Validity and Trustworthiness\\nIt was extremely important to ensure that the credibility of research findings for this study was\\naddressed. The aspect of validity and trustworthiness were taken care of as explained in the\\nsections that follow:\\n3.10.1. Validity\\nCohen, Manion and Morrison (2011) defined validity as the extent to which an instrument\\nmeasures what it is supposed to measure and perform what it is supposed to perform.\\nEvaluating the quality of research is essential if findings are to be utilized in practice and\\nincorporated into finding solutions to societal problems in the related field. In this study,\\nprolonged engagement, persistent observation, researcher\\u2019s reflectivity, member checking,\\nthick description, and triangulation were used as strategies to guarantee validity. Prolonged\\nengagement refers to spending extended time with respondents in their native culture and\\neveryday world in order to gain a better understanding of behaviour, values, and social\\nrelationships in a social context. Triangulation involved the collection of data through focus\\ngroup discussions, observations and literature review. However, the purpose of triangulation\\nwas not necessarily to cross-validate data but rather to capture different dimensions of the same\\nphenomenon. Member checking procedure allowed asking and confirming with the\\nparticipants if the themes or categories that emerged made sense. The researcher also\\ncollaborated with other colleagues who had experience in interpretative data analysis.\\n3.10.2. Trustworthiness\\nCredibility, transferability, confirmability and dependability are criteria that are employed to\\naccept the trustworthiness of qualitative findings (Shenton, 2003). These criteria are extremely\\nimportant in a qualitative approach.\\n30\\n3.10.3. Credibility\\nCredibility deals with the idea of internal consistency (Gasson, 2004). In this study, credibility\\nwas addressed by prolonged engagement with participants as well as persistent observation in\\nthe field during the research. Further, member checking and triangulation was employed.\\n3.10.4. Transferability\\nThis refers to the extent to which the reader of the particular study is able to generalize the\\nfindings of that study to her or his own context and addresses the core issue of \\u201chow far a\\nresearcher may make claims for a general application of their theory (Gasson, 2004). In this\\ncase, it implies similar situations, populations and phenomena (shenton, 2003). This was\\nensured through the provision of sufficient information about the research instruments, the\\nresearch context, processes and participants. In addition, Morrow (2005) suggested that since\\nspecific information is maximized in relation to the context in which the data collection occurs,\\nit was prudent to use purposive sampling in this study so as to ensure transferability of the\\nresearch findings.\\n3.10.5. Confirmability\\nShenton (2003) defined confirmability as a degree of neutrality in the research findings. In\\nother words, this means that the findings were based on the participants\\u2019 responses. This also\\ninvolved making sure that the researchers\\u2019 bias did not skew the interpretations of what the\\nresearch participants said. In order to address confirmability in this study, member checking\\nwas applied by asking the interviewees to clarify some responses which could have seemed too\\nambiguous to the researcher.\\n3.11. Data Analysis\\nData analysis involves the cleaning and organizing data, describing the data and testing of the\\nmodels in the relationships and associations. In this study, both quantitative and qualitative\\nanalyses were used. To ensure accuracy in data entry, data was firstly checked, cleaned and\\norganized. Checking and cleaning of data was done by cross checking to identify and correct\\nthe errors. The improvement of the academic performance and the mental wellbeing of PBL\\nwere compared before, during CBT process and CBT treatment through observation, document\\n31\\nanalysis, interviews and focus group discussion. To assess the effect of CBT on the\\nimprovement of the academic performance and the mental wellbeing of PBL, result before and\\nafter CBT intervention were compared. Analyses were done on the two tests, to see if there\\nwas a statistically significant difference between them, following pre-intervention and post-\\nintervention. Thematic and descriptive approach were used to analyse qualitative data that\\nemanated from the structured interviews for all the participants.\\nQualitative data was analysed using thematic analysis (Cohen, Manion and Morison, 2011).\\nThe researcher opted to use thematic analysis to identify concepts that could help make sense\\nof what was going on regarding the challenges faced by post bereaved learners. In this study,\\nconstructs, themes, and patterns were identified from the interviews as the researcher read-\\nthrough the data over and over to get a description of phenomenon under study (Gall et al.,\\n1996). The understandings of the phenomenon (post bereavement challenges) were noted.\\nInterviews were tape-recorded and transcribed before the analysis. The objective of the analysis\\nof the interviews was to understand and explain the impact of post bereavement challenges\\nlearners were faced with after the death of their parent(s) from the narratives. Transcriptions\\nand written texts of interviews were independently read and analysed. Qualitative descriptive\\nanalysis involved:\\ni. Developing codes that represented a category or theme found in the data and these were\\nput directly into the text by attaching to segments of text.\\nii. Each participant interviewed was evaluated by the set of thematic codes developed.\\niii. Recording insights and reflections on the data across the codes.\\niv. Sorting through the data to identify similar phrases, patterns, themes, subthemes\\nsequences and important features.\\nv. Looking for commonalities and differences among the data and extracting them for\\nfurther consideration and analysis.\\nvi. Gradually deciding on a small group or generalizations that hold true for the data.\\nvii. Examining these generalizations in the light of existing knowledge.\\nQuantitative data was analysed using descriptive statistics. The PBL questionnaire was\\ndesigned with open and closed ended questions. Firstly, the variables were created; and an\\ninitial data analysis was conducted to check the distributional characteristics. Frequency\\nanalysis was used to understand the trends of PBL performance, classroom behaviour,\\n32\\nrelationship with friends and participation in classroom activities before and after the\\nadministration of CBT. Descriptive statistics was used for the purpose of generating\\nfrequencies and tables regarding PBL performance before and after the administration of CBT\\nto assess its effectiveness.\\nSince the study involved both qualitative and quantitative research paradigms, the data gathered\\nfrom the interviews and observation schedules were categorized and arranged according to key\\nconcepts which corresponded with research questions. Thus, raw data was transformed into\\nmeaningful statements, graphs and tables for illustration purposes.\\n3.12. Ethical Considerations\\nThe research procedures were determined by the plan and the direction of the research in\\nadvance. Since the collection of information was largely dependent on research instruments\\nand the voluntary participation of the sampled respondents, it was of significance to seek\\npermission from all relevant authorities which included; the UNZA Ethical Committee were\\nthe clearance letter was obtained (Reference Number: HSSREC: 2018 AUG-024). Further,\\nthe researcher got permission from the Ministry of General Education through the District\\nEducation Board Secretary (DEBS), school authorities and guardians before commencement\\nof the study.\\nVoluntary participation was sought from the participants through a written informed consent\\nand assent. Participants were assured of their right to freely withdrew from participation at any\\ntime and without necessarily giving the reason.\\nRespect and justice were upheld through giving the participants empathy and freedom of choice\\non the language to use and how far the responses would be given. Anonymity and\\nconfidentiality were upheld. This was done by use of codes instead of names of participants\\nand securing data through locking it up. After the period of data collection, participants who\\ndid not fully recover after the period of study were referred to continued or follow-up treatment.\\n3.13 Summary\\nThis chapter looked at the methodology that encompassed research design, study site, target\\npopulation, sample size, sampling techniques, instruments for data collection, data analysis,\\n33\\nvalidity, reliability, trustworthiness and research procedures. The chapter also included ethical\\nconsiderations. In the next chapter, the research findings are presented.\\n34\\nCHAPTER IV\\nPRESENTATION OF THE FINDINGS\\n4.1 Overview\\nIn this chapter the findings of the study are presented. The findings are based on the following\\nthree (3) main objectives: to identify the challenges PBLs are faced with after the death of their\\nparent(s); to administer CBT as an intervention in improving the academic performance of\\nlearners experiencing post bereavement challenges and to investigate the efficacy of CBT in\\nimproving the performance of learners experiencing post-bereavement challenges. Data was\\ncollected through the use of the questionnaire, interview guides, focus group discussion,\\ndocument analysis and observations.\\n4.2. Challenges Faced by PBL\\nPBL responded differently to their challenges and the following are some of the notable\\nchallenges they were faced with after the death of their parent(s). Table 4.1 depicts the\\ndistribution of challenges leaners where faced with after the death of their parent(s).\\nTable 4.1.\\nItems responses F\\nAbsenteeism from school as a result of stressful factors 3\\nStress as a result of walking long distances to school 4\\nstress as a result of material and financial lack 4\\nLower self-esteem as a result of improper uniforms 5\\nworry as a result of daily life struggles and lack of food 4\\nLack of love from care givers who are already burdened 6\\nMemorable reminders of the deceased parent (s) 3\\nDepression as a result of parental death 4\\nDepression as a result of lack of representation by care 5\\nnegative emotions such as sadness, frustration, and pain 4\\nFear of being rejected by the guardian. 3\\n35\\nFrom the illustrations in Table 4.1, it is noticeable that PBL had similar responses regarding\\ntheir challenges experienced after the death of their parent(s). In particular, 3 out of 45 PBL\\nhad expressed ideas which included; lower self-esteem as a result of not having biological\\nparents and being labelled as an \\u201corphan\\u201d both in school and at home, Fear of being rejected\\nby the guardian, memorable reminders of the deceased parent(s). In addition, 4 out of 45 PBL\\nexpressed the following similar opinions; negative emotions such as sadness, frustration, and\\npain, depression as a result of parental death, lack of love from care givers who are already\\nburdened and stress as a result of walking long distances to school.\\nIn order to get more understanding of the challenges faced by the PBLs, this is what one PBL\\nsaid:\\nI stay in Fisenge farm block area which is 8km away from my school. I walk a distance of eight\\nkilometres every day to and from school because I do not have a bicycle to use when going to\\nschool. Due to the long distances from home to school, I normally arrive late such that every\\nday I miss the first period. This has made me to be behind, because my friends manage to reach\\nschool on time because they use bicycles, and some are taken to school in cars by their parents.\\nThe fact that I stay very far from school, I normally fail to complete the five school days coming\\nto school because I get tired. When it comes to class work, I do very well in my studies. I wish\\nmy parents were not dead. Sometimes I feel like taking my own life because these sufferings\\nare never ending (Interviewed, October 2017).\\nBesides, another PBL when interviewed expressed the following sentiments:\\nAs you look at me madam, I am a parent on my own. I have no one to help me with my\\neducation. My parents died when I was a little boy and since that time I live with my\\ngrandmother. I just keep imagining how they used to look like. Sometimes I wander a lot when\\nI think about my parents. May be I should just follow them. Life is very difficult for me because\\nI have no one to help me in challenging situations. Sometimes I go for days without eating\\nnshima and this lowers my morale to be in class. If I have a challenging piece work, sometimes\\nI abandon going to school.\\nThese were the views of PBL regarding the challenges they were faced with after the death of\\ntheir parent(s). The information is a blend of the experiences of the PBL from Luanshya School\\nfor Continuing Education. These sub-themes emerged as a result of the interview with each\\nindividual PBL.\\n4.3. Pre-Test Before the Administration of CBT in Improving the Academic\\nPerformance of PBL Experiencing Bereavement Challenges\\nPBL were subjected to a questionnaire, interviews, document analysis and objective\\nobservation in their respective classes for three weeks before the administration of CBT. The\\nPBL were also observed in classroom behaviour and academic performance. The following\\n36\\nitems were noted during observations and document analysis where continuous assessments\\nfrom the previous tests were recorded, relationship with friend, hopefulness for a better life,\\nperformance in class, self -confidence, concentration on school work, school attendance,\\nattention when talking to someone, anger, mood and memory. This was done in order to obtain\\ncorrect information before the administration of CBT.\\n4.2.1. Performance in Class at Pre-Test Before the Administration of CBT\\nIn order to solicit for this information, question 2 in a questionnaire (refer to question 2\\nappendix B) which required the PBL to indicate their opinion on a five point Likert Scale, and\\nthe classroom behaviour and academic checklist were used. On a Likert Scale, 1= represented\\nexcellent, 2=Very Good, 3=Good, 4=Average and 5=Poor. The following were the results\\ncollected from the questionnaire on the performance of PBL in class at pre-test before the\\nadministration of CBT. Figure 4.1 shows the distribution on the performance of PBLs before\\nthe administration of CBT.\\n26\\nPoor\\n3 Poor\\nAverage\\nAverage\\nGood 8\\nGood\\nVery Good Very Good\\n4\\nExcellent\\nExcellent\\n4\\n0 5 10 15 20 25 30\\nFigure 4.1. Frequency Distribution on Performance of PBL\\nFigure 4.1, illustrates that 16 out of 45 PBL were performing well in school work, while 26\\nwere not performing well, and 3 were performing on an average rate. The result shows that\\nPBLs were not performing well because of the many challenges they were faced after the death\\nof their parent(s) as indicated in Table 4.1. In order to get more understanding on the\\nperformance, PBL were interviewed using interview schedules (refer to question 3 appendices\\nA) and the following was an excerpt from one of the PBL.\\nMadam, since the death of my parents, things have never been the same. My performance has\\nreally been affected the past two years. Despite the fact that they registered me with the social\\n37\\nwelfare for support, I do not receive any support. Sometimes I don\\u2019t even come to school when\\nI have no transport money\\nBesides, another PBL said that:\\n\\u201cI have a big challenge with school fees and uniforms. This has affected my performance in\\nschool because in most cases, I am not in school. My aunt tries to assist me, but she fails to\\nprovide all the materials for my school. This uniform I am wearing was bought for me when I\\nstarted grade ten. This year I am now in grade 12, I have grown big and my uniform is very\\nsmall on me. The school shoes I am wearing are not even meant to be worn as school uniform,\\nand for this reason, the school authority which includes the teacher on duty and the school\\nprefects are always on me to punish me for wearing wrong shoes. This lowers my self-esteem\\nand leads me to withdraw myself from interacting with my friends, because some of my friends\\nmock me.\\u201d (Interviewed- October, 2017)\\nIn order to respond to the same question, another PBL said:\\n\\u201cAs you look at me madam, I am a parent on my own. I have no one to help me with my\\neducation. My school reports have poor results because I have to do piece works to sustain my\\nlivelihood. My parents died when I was a little boy and since that time I have been living with\\nmy grandmother. I just keep imagining how they used to look like. Sometimes I wander a lot\\nwhen I think about my parents. May be I should just follow them. Life is very difficult for me\\nand because I have no one to help me in challenging situations. Sometimes I go for days without\\neating nshima and this lowers my morale to be in class. If I have a challenging piece work,\\nsometimes I abandon lessons.\\nThe responses from the PBL indicated that they were facing many challenges which adversely\\naffected their academic performance. Several excerpts from the PBL suggested that they had a\\nnumber of challenges as illustrated in Table 4.1.\\n4.3.2. Relationship with Friends\\nTo solicit for more information on the behaviour and academic performance of learners, the\\nrespondents were also asked to state their relationship with friends after the death of their\\nparents in line with question 1 on the questionnaire (see Appendix B). The results obtained\\nwere as shown in Figure 4.2 before the administration of CBT.\\n35\\n30\\n30\\n25 Excellent\\n20 Very Good\\n15 Good\\n10\\n10 Average\\n5 3 Poor\\n1 1\\n0\\nExcellent Very Good Good Average Poor\\n38\\nFrom the frequency distribution in Figure 4.2, it was perceptible that out of 45 PBL, only 5\\nPBL were doing well in terms of relationship, while 30 PBL were not and 10 PBL\\u2019s relationship\\nwith friends was on average. Similarly, the PBL were interviewed in order to obtain more\\ninformation on relationship with friends by the use of the interview schedule (see Appendices\\nA, question 5). This is evident from what one of the PBL said;\\nSome of my classmates like teasing me and they laugh at me for wearing shoes which is not\\npart of the school uniform. They humiliate me and this makes me feel embarrassed. This has\\nled me to disassociate myself from everyone in class.\\nIn response to the same question this is what another PBL said\\nMadam many people including our classmates and teachers look down upon us, they call us\\nname such as \\u201corphans\\u201d, and that\\u2019s the reason we don\\u2019t interact.\\nFrom the PBL responses, it was apparent that PBL felt stigmatised and discriminated\\nagainst by whoever referred to them as \\u2018orphans\\u2019. This prevented them from having\\nany significant relationship with anyone who called as such.\\n4.3.3. PBL Participation in Class at Pre-Test Before the Administration of CBT\\nPBL participation in class was also assessed and Figure 4.3 illustrates the results on their\\nparticipation. A questionnaire and an observation checklist were used to assess PBL\\nparticipation in class (refer to appendices B and C).\\n1\\n5 Very Good\\n5\\nGood\\nAverage\\n34\\nPoor\\nFigure 4.3: Frequency distribution on participation in class\\nFigure 4.3 shows the frequency distribution in terms of participation in class for PBL at pre-\\ntest. Participation in class usually means students speaking in class: answer and ask questions,\\nmake comments, and join in discussions. It was observed that majority PBL were not\\n39\\nparticipative in class. For instance, 21 out of 45 PBL were not participative in class while 13\\nout of 45 PBL were neutral and 11 out of 45 agreed to be participative in class. Therefore,\\nfrom the illustrations above, it can be noted that lack of participation and poor relationship in\\nschool also contributed to the poor academic performance by PBL before the administration\\nof CBT (refer to Figure 4.1 and Figure 4.2). The other reason could be that PBL were not\\nconfident enough because of the challenges they were going through after the death of their\\nparents as illustrated in Table 4.2.\\nThe findings of this study shows that PBL experienced many challenges as expressed in Table\\n4.2. The findings from behavioural observations and academic performance also indicated that\\nPBL had many challenges which affected their psychosocial wellbeing. This study also\\nrevealed that PBL had difficulties in adapting to social environments in and outside the\\nclassroom. This adversely affected their mental wellbeing and academic performance. These\\nchallenges were hypothesized for the whole group and a group CBT was deliberated as an\\neffective therapy to reduce the aforementioned challenges.\\nBasing on the findings of this study, a description of the treatment course was provided for the\\nwhole group after the pre-test observations. Specific cognitive behavioural interventions and\\nexposures addressing each post bereavement challenge and complicating factors were\\nexplored. The effectiveness of these exposures were determined by; each PBL level of\\nemotional distress and ease of completing the exposure. Treatment outcomes were provided\\nfor the group and were assessed for significance through qualitative and quantitative methods\\nof analysis.\\nThe sessions for CBT were 12 every week, lasting 45-60 minutes. The sessions were structured\\nindicating specific set of topics to cover in each session. These topics targeted the specific post-\\nbereavement challenges that were in line with the common emerged themes. Group members\\nwere encouraged to think about the material presented to them, and also to share on how it\\napplied to their thoughts and experiences with it. PBL were also expected to practice the skills\\ntaught in the group.\\nIn order for CBT to be a highly effective psychological treatment for PBL, all the 45 group\\nmembers were encouraged to attend, participate and do between session homework exercises.\\nBetween sessions homework was assigned every week, because CBT is a skills-based\\napproach, the skills one learns in session each week was to be practiced throughout the week.\\n40\\nWhat participants did between sessions counted as much or more than what they did in session.\\nParticipants in this group were encouraged not to miss a single session but to be committed to\\ndevoting time and energy between sessions to applying what they had learnt. This really helped\\nto reduce their anxiety and improved their overall psychological functioning.\\nAll the 45 PBL learners were primarily treated for post-bereavement challenges following the\\ndeath of their parent(s). In this case, the therapist employed a CBT approach to make use of\\ncognitive-behavioural strategies while maintaining a focus on post-bereavement challenges\\nand academic performance. The therapist explained to PBL that post-bereavement challenges\\nwere a common and normal experience for those who lost loved ones. Additionally, it was\\nimportant for the group to know that there were external events and circumstances that could\\ntrigger a grief reaction. To increase awareness of specific triggers, post bereaved learners were\\nencouraged to prepare for them. Although all the group participants were free to talk about\\nthe group in a general way, it was agreed by group members to keep others\\u2019 information private\\nand confidential. This helped everyone feel safe sharing in group. A Group CBT was an\\neffective way to reduce symptoms of anxiety with the added benefit that participants meet\\nothers who were struggling with the same concerns.\\nIn this study, PBL responded well to CBT according to the post observations and interviews\\nrecorded by the researcher. PBL were asked to take their own self-examinations regarding\\ntheir interactions, moods, attitudes, performance, participation and concentration in class.\\nPost bereaved earners were asked to: (1) Identify negative thoughts, especially the ones that\\nhad the potential to cause harm to self and/or others. (2) Post bereaved learners were taught to\\nchallenge their negative thoughts beginning with the evaluation of their own perceptions. This\\ninvolved questioning practicality, analysing positive beliefs and testing reality. A number of\\nexperiments and counselling sessions were conducted to make their minds believe that\\nnegative thoughts were baseless. (3) Post bereaved learners were encouraged to replace\\nnegative thoughts with more realistic and positive ones to seal the therapeutic approach. While\\nthe therapist helped learners to come up with rational and accurate thoughts; it was the affected\\nindividual that must derive positive thoughts so that their anxiety levels were reduced to\\nnormalcy.\\nIn this study, PBL were trained in copying skills. The copying skills for the group were a form\\nof brief, structured group psychotherapy in which the PBL were taught a variety of cognitive\\nbehavioural techniques to be used for reducing post bereavement psychosocial challenges and\\n41\\nfor copying more effectively with the problems and stresses of everyday life. The cognitive\\nbehavioural techniques incorporated into the group therapy program were cognitive\\nrestructuring, problem solving, relaxation, and assertiveness training. These were carefully\\nchosen to provide participants with a complementally set of copying strategies on which they\\nwere able to draw when dealing with current problems and with a broad range of potential\\nfuture problems. The following were some of the CBT copying skills: Deep breathing, self-\\nmonitoring, behavioural action, decision making, cognitive restructuring plus setting and\\nmanaging goals, The PBL were trained to apply in their everyday life to overcome\\ndysfunctional thinking during and after the administration of CBT.\\n4.3.3.1 Deep Breathing Technique\\nPost bereaved learners were trained in breath taking which is a very basic cognitive-behavioural\\ntherapy coping strategy for managing anxiety. It was a simple technique, but very powerful.\\n4.3.3.2 Self-Monitoring Technique\\nPost-bereaved learners were also trained in self-monitoring skills, which is a very basic\\ncognitive-behavioural therapy coping strategy. This skill is at the core of all of the cognitive-\\nbehavioural coping strategies described in this study. In order to address a problem or a\\nsymptom, there was need for post bereaved learners to first become aware of it. There were a\\nnumber of steps to self-monitoring; however, the steps were easily learnt and quickly applied\\nto their lives.\\n4.3.3.3 Behavioural Activation Technique\\nPost bereaved learners were also trained in behavioural activation technique. This technique is\\nanchored on the belief that, those that felt depressed or anxious, were less likely to do the things\\nthey enjoy, and therefore, it was important for them to learn how to be more active. Behavioral\\nactivation was a way to do this. The goal of behavioural activation was simple. It just helps\\npeople get more active in areas of their life that are pleasurable and enjoyable. Being more\\nconnected and involved with these experiences improves one\\u2019s mood.\\n42\\n4.3.3.4 Decision-Making: Weighing Pros and Cons\\nPost bereaved learners were trained on how to weigh pros and cons whenever they were faced\\nwith a decision, which made them, feel paralyzed or trapped. They may not be able to know\\nwhat the best choice could be, but one way to move forward was to weigh the short- and long-\\nterm pros and cons of a situation. Doing so helped them to identify the best path (that is, a path\\nthat is associated with low risk and was consistent with the goals and priorities) to take.\\n4.3.3.5 Cognitive Restructuring\\nPost bereaved learners were also trained on the cognitive restructuring technique, which is also\\na common cognitive-behavioural coping strategy. In this technique post bereaved learners were\\ntaught how to evaluate and think about themselves, other people and events that had a major\\nimpact on their mood. Cognitive restructuring focuses on identifying negative thoughts or\\nevaluations and modifying them. This was achieved by gathering evidence for and against\\ncertain thoughts. By modifying their thoughts, post bereaved learners were able to improve\\ntheir moods and make better choices with regard to behaviours.\\n4.3.3.6 Setting and Managing Goals\\nPost bereaved learners were taught on how to set goals in life. Goals (or things that one wants\\nto accomplish in the future) can give someone a life purpose and direction, as well as motivate\\nhealthy behaviours focused on improving one\\u2019s life. The importance of goal setting was very\\nmuch emphasized, and participants responded very well because they realized they had no\\ngoal\\u2019s they were pursuing, and much of their thinking was centred on post bereavement and\\norphanhood. Participants were taught to set goals and approach them in a way that improves\\ntheir mood and quality of life, as opposed to increasing distress.\\nAfter the administration of CBT all participants responded well to coping skills according to\\nthe post observation which was carried out with the same research instruments. The\\nobservations were mandatory because the researcher wanted to know whether the participants\\nwere responding well to the treatment of CBT and its copying skills or not. This enabled the\\nresearcher to find out whether the objectives of the study were achieved or not. Since the CBT\\nsessions lasted only for a certain number of weeks, after which participants were expected to\\n43\\nhave gained enough skills to continue on their own, it was necessary for the researcher to\\nexamine whether CBT had really worked or not. The program was therefore in a very real\\nsense preventive as well as remedial.\\n4.4. Evaluation of the efficacy of CBT in Improving the Performance of Learners\\nExperiencing Post-Bereavement Challenges.\\nAfter the administration of CBT as an intervention on learners experiencing post bereavement\\nchallenges, PBLs were subjected to a post-test observation to assess the efficacy of CBT on\\ntheir performance. The same instruments used at pre-test were also implemented at post-test as\\nshown in Figure 4.3 and the following were the recordings and observations.\\n2\\n3\\nAverage\\n22\\nVery Good\\nExcellent\\n18\\nPoor\\nFigure 4.3 shows the frequency distribution of PBLs academic performance after the\\nadministration of CBT as an intervention to the challenges they were facing after the death of\\ntheir parent(s). The PBLs post-test results on performance scored 40 out of 45 PBLs, while at\\npre-test performance was 16 out of 45 PBLs. PBLs also scored on confidence and concentration\\nwere also different at pre and post-test after the administration of CBT. This shows that PBLs\\nhad improved in behaviour and academic performance after the administration of CBT. This is\\nwhat one PBL said after the post-test observation:\\nMadam, many things have changed in my life after CBT training. My performance in class has\\nimproved; I pay attention whenever I am in class. I am able to concentrate on my studies. Today\\nI can confidently contribute in class during lessons. Thanks so much for teaching us on how to\\nembrace positive thoughts.\\n44\\nThe PBL were also rated in the manner they interacted with their friends in school. The\\nfollowing Figure 4.5. illustrates the frequency distribution on the relationship with\\nfriends.\\nFigure 4.5\\n1\\nPoor\\n4\\nAverage Poor\\nAverage\\nGood 3\\nGood\\nVery Good\\nVery Good\\n25\\nExcellent\\nExcellent\\n12\\n0 5 10 15 20 25 30\\nFigure 4.5 shows the frequency distribution on the relationship with friends of PBLs after the\\nadministration of CBT on the challenges they were facing after the death of their parent(s). The\\nfrequency distribution on the relationship with friends scored 40 out of 45 PBL.\\nThe PBL\\u2019s Classroom Participation was also observed and the following results\\nillustrated in Figure 4.6 were recorded.\\nFigure 4.6.\\n1\\n3 Excellent\\n15\\nVery Good\\n14\\nGood\\n11 Average\\nPoor\\nFigure 4.6 shows the Frequency distribution on the participation of PBLs at post-test after the\\nadministration of CBT as an intervention to the post bereavement challenges. PBLs scored 30\\nout of 45 in terms of participation in class.\\n45\\nAfter the administration of CBT and training in CBT copying skills, PBLs were interviewed\\non how they felt about the bereavement challenges they were experiencing after the death of\\ntheir parent(s). Below is what one PBL said:\\nThese days I am a changed person both at home and in school. My relationship with friends and\\nfamily members has changed. I no longer exhibit anger towards my friends. My moods have\\nimproved. I am very hopeful of a brighter future.\\nBesides this, another PBL said:\\nThe CBT therapy has helped me to develop cognitive strategies such as questioning and\\nchallenging my thinking, and looking at situations from different perspectives. I developed CBT\\nstrategies and tools to deal with things that were keeping me depressed, lowering my moods\\nand increasing sense of hopelessness. My confidence and self-esteem have improved and the\\ntherapy helped in a positive way. I wouldn't hesitate to recommend this service\\u2026\\nResponding to the same interview, another PBL said:\\nHaving CBT sessions has given me the tools and confidence I need to cope better especially\\nwhen faced with difficulties. I have learnt so many ways to worry less, especially about the\\nfuture. CBT has helped make daily life easier, and I never thought I could do something to stop\\nmy worrying.\\n4.5 Summary\\nThe findings of this study shows that PBL faced challenges comprising lower self-esteem as a\\nresult of not having biological parents, stigmatised both in school and at home by the label\\n\\u201corphan\\u201d, fear of being rejected by the guardians and memorable reminders of their deceased\\nparents. The other challenges included feeling of negative emotions such as sadness, frustration\\nand pain, depression as a result of parental death, lack of love from already burdened care\\ngivers and stress as a result of walking long distances to and from school. The administration\\nof CBT to PBLs as well as inculcation of coping skills indicates favourable responses. The\\nPBL gained enough skills to continue on their own. The program was therefore in a very real\\nsense preventive as well as remedial. After the administration of CBT there was an\\nimprovement in the behavioural and academic performance of learners as observed from the\\npre and post test results.\\n46\\nCHAPTER FIVE\\nDISCUSSION OF THE FINDINGS\\n5.1 Overview\\nThis chapter discusses the findings of the study. The discussion is divided in three parts\\naccording to the research objectives. The research objectives were; to identify the challenges\\npost -bereaved learners were faced with after the death of their parent(s), to administer CBT as\\nan intervention in improving the academic performance of learners experiencing post\\nbereavement challenges, and to assess the efficacy of CBT in improving the academic\\nperformance of learners experiencing post bereavement challenges.\\n5.2. Challenges post bereaved learners were faced with after the death of their\\nparent(s)\\nIn order to establish the challenges PBL were faced with after the death of their parent(s), an\\ninterview guide, observation checklist, a questionnaire, FGD checklist and a document analysis\\nchecklist were used. The findings of this study indicated that PBL were exposed to quite a\\nsubstantial number of post bereavement challenges that impacted their mental wellbeing and\\nacademic performance negatively. Some of the notable post bereavement challenges which\\nwere identified among PBL are as follows: absenteeism from school, stress as a result of\\nwalking long distances to and from school, lack of finances to cater for school basic resources,\\nlower self-esteem as a result of not having biological parents and being labelled as \\u201corphans\\u201d\\nboth in school and at home, lack of love and care from their guardians which led some\\nparticipant to engage in intimacy relationships, depression due to lack of representation by\\nguardians in school activities, sporadic moods as a result of hibernating negative emotions such\\nas sadness, frustration and pain, illicit substance abuse due to lack of parental control and worry\\nas a result of daily life struggles, lack of food and fear of being rejected by the guardian.\\nThese findings are in agreement with Youth\\u2019s (2014) intensive review of case on revealed\\nbereavement themes that contributed to bereavement-related distress. In his findings,\\ndepressive dysfunctional thoughts about the self, life, and the world; specific anxious\\ndysfunctional thoughts about the grief reaction; fear of abandonment; depressive avoidant\\nbehaviours, such as withdrawal from relationships or activities; avoidance of loss reminders;\\n47\\nand problems integrating the loss, were bereavement themes found to be prominent in the\\nearlier part of treatment and were targeted using cognitive behavioural interventions, including\\nbereavement-related exposures, behavioural activation, and proactive problem solving skills.\\nThese findings are also supported by Worden\\u2019s (1996), from the Harvard Bereavement Study\\nof \\u2018late effects\\u2019 of child bereavement with differences in the levels of clinical difficulty between\\nparentally bereaved school-aged children and their non-bereaved. Nonetheless, it should be\\nnoted that most of the findings in this study such as lack of finances to cater for school basic\\nneeds, worry as a result of daily life struggles, lack of food and fear of being rejected by the\\nguardian and the school, pose a threat to the security needs category of a human being. Human\\nbeings at all times strive to be safe and secured. Any form of insecurity in the environment may\\ntrigger anxieties. If these needs are not met, the mental wellbeing of a person especially a PBL\\ncannot be sound and cannot perform to expected academic standards.\\nThe findings in this study, also established that PBL had lower self-esteem as a result of not\\nhaving biological parents and being labelled as \\u201corphan (s)\\u201d both in school and at home. This\\nrestricted PBL in the circles of interactions and relationships. On the other hand, PBL were\\nfound to be depressed due to lack of representation by guardians in school activities; this in\\nturn affected their moods as a result of hibernating negative emotions such as sadness,\\nfrustration and pain regarding guardian representation. This affected PBL psychosocially as\\nthey posed a threat to the self-esteem needs category. The feeling of self-worth which is very\\ncrucial to every human being was quite compromised. Any form of threat to the self-esteem or\\nself -worth of a person induces anxieties. These anxieties may be a risk factor to mental illness\\nof a person. In order to address these challenges, CBT was administered to the participants in\\nthis study.\\nThe findings in this study especially on the PBL moods as a result of hibernating negative\\nemotions such as sadness, frustration and pain are in line with the symptoms of post\\nbereavement listed on an online publication (Think CBT 2018), in which the most common\\npsychological and emotional symptoms of post bereavement included emotional detachment,\\nnumbness, shock, disbelief, and denial, often occurring immediately following the loss. In line\\nwith this study, we can say that the anger, moody, lack of attention and concentration exhibited\\nby the PBL were a result of the common psychological and symptoms of post bereavement\\nchallenges which needed immediate CBT intervention in order to avoid the acceleration of\\nthese problems.\\n48\\nAlthough its traditionally the human tendency to think irrationally following a death event,\\nbecause bereaved individuals think that the death should not have happened to them, or that it\\nis too painful for them to stand, others also think it\\u2019s embarrassing for them to lose a loved one,\\nthere is always a way out of these irrational thoughts, and the answer lies in the administration\\nof CBT. Many research studies also show that mental changes occur following such a death\\n(Boelen et al., Kip et al., 2004; Boelen et al., 2003). This elucidates that many people who have\\nexperienced the death of a loved one often experience severe anger, deny or protest the loss\\nand undergo significant periods of anxiety and depression which if not well treated may result\\nin mental health problems. PBLs in this study were not exceptional and that\\u2019s why they were\\ngiven the much needed attention by applying CBT as intervention, and it was successful.\\nThe findings of this study also revealed that most PBL were not provided with counsel after\\nexperiencing the death of their parent(s). PBL were supposed to be inducted in the whole\\nprocess of adaption to bereavement from the cognitive perspective. In this way post bereaved\\nlearners could have the ability to adapt their thoughts to new situations; difficulties in doing so\\nindicated dominancy of irrational beliefs that enhanced the risk of complicated post\\nbereavement. This is in line with the study which was conducted by Boelen et al., (2004) in\\nwhich the relationship between loss and irrational beliefs in a group of 30 students who were\\ngrieving the loss of a parent or a sibling was examined against a control group of 30 non-\\nbereaved individuals. The objective of the study was to trace the relationship between beliefs\\nand emotional responses, and whether a loss affects the cognitive process.\\n5.3. Administration of CBT in Improving the Academic Performance of PBL\\nThe major goal of administering CBT to the PBL in this study was aimed at improving their\\nacademic performance and the mental wellbeing after experiencing the death of their parent(s).\\nThe CBT model emphasizes that reason, a product of thinking, and emotion in psychotherapy\\nis a comprehensive method of treating human disturbances. This model stresses that people\\nfeel according to what they think, that is, thoughts and cognitive constructions are at the root\\nof emotions and behaviour patterns. The application of this model in this current study was to\\naddress dysfunctional thought using functional analysis in CBT\\nIn this study, based on the findings from the participants, it was realized that most PBLs\\nbehaved in the manner they did because of their bereavement experiences and the transitioning\\nof events they went through after the death of their parent(s). In order to address their concerns,\\n49\\nPBL were subjected to an overhaul cognitive restructuring process which required significant\\neffort to avoid risks of mental disorders like social anxiety disorder (SAD).\\nAccording to Beck (2006), cognitive behavioural therapy deals with ones cognition (thoughts)\\nand behaviour. The two, that is thoughts and behaviour, do interact (Beck, 2006). In this\\ncurrent study, the thoughts and grievances about the life and the identity that PBLs learners\\nexperienced so suddenly and unexpectedly triggered post bereavement related stress which\\nconsequently also triggered negative thoughts. In this current study, the administration of CBT\\non PBLs was focused on helping them to identify and deal with such negative thoughts and\\nfeelings that lead to undesirable behaviours. This is in agreement with the finding of Laidlaw\\net al., (2010).\\nDuring the administration of CBT, PBLs were subjected to CBT coping skills. Copying skills\\nsuch as cognitive behavioural techniques were incorporated in the group therapy program. This\\nincluded cognitive restructuring techniques, problem solving techniques, relaxation, and\\nassertiveness training. These copying skills were carefully chosen to provide the PBLs with a\\ncomplementally set of copying strategies on which they were able to draw when dealing with\\ncurrent problems and with a broad range of potential future problems.\\nThe findings of this study also show that all PBL responded well to CBT coping skills during\\nand after the administration. These copying skills training were mandatory to this study and\\nthe PBL because they were used to assess efficacy of CBT on PBL, and also to evaluate whether\\nthe participants responded well to CBT and its copying skills or not. The following were some\\nof the CBT copying skills PBL acquired during the study; PBL were trained in breath taking\\nwhich is a very basic cognitive-behavioural therapy coping strategy for managing anxiety.\\nPBLs were also mentored on self-monitoring skills which was a very basic cognitive-\\nbehavioural therapy coping strategy, which is at the core of all of the cognitive-behavioural\\ncoping strategies described in this study. In order to address a problem or a symptom, there\\nwas need for participants to first become aware of it. There were a number of steps to self-\\nmonitoring; however, the steps were easily learnt and quickly applied to their lives. PBLs were\\nalso exposed to behavioural activation techniques. This technique is anchored on the belief\\nthat, those that felt depressed or anxious, were less likely to do the things they enjoy, and\\ntherefore, it was important for them to learn how to be more active. Behavioral activation was\\nthe only way to do this. The goal of behavioural activation was simple. It helped PBL to get\\n50\\nmore active in areas of their life that were pleasurable and enjoyable. Being more connected\\nand involved with these experiences improved the psychosocial life and moods of the PBL.\\nThe PBL were also encouraged to weigh pros and cons whenever they were faced with a\\ndecision, which made them, feel paralyzed or trapped. They may not be able to know what the\\nbest choice could be, but one way to move forward was to weigh the short- and long-term pros\\nand cons of a situation. Doing so helped them to identify the best path (that is, a path that is\\nassociated with low risk and was consistent with the goals and priorities) to take. PBL were\\nalso subjected to the cognitive restructuring technique, which is also a common cognitive-\\nbehavioural coping strategy. In this technique PBL were taught how to evaluate and think about\\nthemselves, other people and events that had a major impact on their mood. Cognitive\\nrestructuring focuses on identifying negative thoughts or evaluations and modifying them. This\\nwas achieved by gathering evidence for and against certain thoughts. By modifying their\\nthoughts, PBL were able to improve their moods and make better choices with regard to\\nbehaviours. Lastly, PBL were encouraged to set goals in life. Goals (or things that one wants\\nto accomplish in the future) can give someone a life purpose and direction, as well as motivate\\nhealthy behaviours focused on improving one\\u2019s life. The importance of goal setting was very\\nmuch emphasized and PBL responded very well because they realized they had no goal\\u2019s they\\nwere pursuing, and much of their thinking was cantered on post bereavement and orphanhood.\\nPBL were taught to set goals and approach them in a way that improves their mood and quality\\nof life, as opposed to increasing distress.\\nIn this current study, learners were provided with multiple opportunities to practice CBT\\ncopying skills. In order to change maladaptive habitual impulsivity, PBLs were encouraged to\\ncreate opportunities to practice CBT skills. In this current study, CBT had proved to have very\\nstrong and positive effects on PBLs because it did not only improve and build their confidence\\nbut it also enhanced their daily lifestyle through a range of activities as postulated by Rector\\n(2010) in his findings.\\nAccording to the research findings, practicing CBT as a group allowed a wider source of\\nfeedback, and engaged the entire group in the process of learning and reinforcing new skills.\\nPBLs in the group CBT therapy showed greater openness to the feedback of fellow group\\nmembers. Despite the PBL previous histories, all the group members generally offered\\nconstructive feedback by encouraging pro-social solutions by their peers, at the same time,\\nreviewing the previous or anticipated results of constructive behaviours provided an\\n51\\nopportunity to \\u201celicit change talk;\\u201d the more PBL hear themselves state the benefits of\\nconstructive change, the more they reinforced their belief in the benefits of pro-social change.\\n5.4. The Effect of CBT in Improving the Academic Performance of PBL\\nTo assess the efficacy of CBT in improving the academic performance and mental wellbeing\\nof PBL experiencing post-bereavement challenges, the findings in this study shows that PBLs\\nwere subjected to pre-test before the administration of CBT and post-test after the\\nadministration of CBT. PBLs were assessed in performance in class; relationship with others\\nin school and participation in class. PBL scored low in almost all aspects of interest at pre-test,\\nbefore the administration of CBT. For instance, the scores of PBLs\\u2019 performance at pre-test\\nshowed PBL scoring 16 out of 45. This implies that only 35% scored highly. While at the\\nsecond test, which was post-test, after the administration of CBT, the results on performance\\nshowed PBLs scoring 40 out of 45 PBL. This indicates there was an improved equivalent to\\nabove 88 % improvement in scores compared to what was scored at pre-test. Similarly, the\\nresults on PBL relationship with others at pre-test showed 5 out 45 PBL relating well with\\nothers, while at post-test after the administration of CBT the score were much higher with PBL\\nscoring 40 out 45 compared to the scores at pre-test. Correspondingly, the results of PBL\\nparticipation class at pre-test shows 5 out 45 PBL were participative in class. After the\\nadministration of CBT, the scores of PBL at post-test were 30 out 45 compared to the scores at\\npre-test. All the post tests conducted on the PBL after the administration of CBT showed\\nimprovements in the manner the PBL were scoring compared to the results scored at pre-test\\nbefore the administration of CBT regarding the challenges the PBL were facing after the death\\nof their parent(s). Although the post-test results indicated a marked improvement in scores, that\\nis above the previous scores, there was still a small number of PBL that did not score well in\\nterms of performance in class, relating with others and participation in class. The PBL that\\nfailed to improve the academic performance and the mental wellbeing after the administration\\nof CBT did this on account of continued holding on to the grief, worse conditions in their\\nresidences and slow process of recovery. Despite that five (5) PBL failed to improve their\\nacademic performance and mental wellbeing after the administration of CBT, the results show\\nthat CBT was efficacious in the improvement of the mental wellbeing and academic\\nperformance of PBL as indicated from the scores.\\n52\\n5.5 Summary\\nBased on the findings and discussions, it is perceived that the resultant behaviour exhibited by\\nthe PBLs in this study was attributed to by their faulty thought patterns after experiencing the\\ndeath of their parent(s). These faulty or dysfunctional thought patterns needed immediate\\ninterventions such as CBT, to replace them with functional thoughts that aimed at enhancing\\nmetal wellbeing and improved academic performance.\\n53\\nCHAPTER SIX\\nSUMMARY, CONCLUSIONS AND RECOMMENDATIONS\\n6.1 Overview\\nIn this chapter the summary of the study is given. Conclusions drawn from the investigations\\nare also outlined. In addition, recommendations based on the findings are presented. The\\nchapter ends up with suggestions for further research.\\n6.2. Summary\\nThis study investigated the efficacy of Cognitive-Behavioural Therapy as an intervention to\\nimprove the academic performance and mental wellbeing of learners experiencing post-\\nbereavement challenges. The study objectives were: To identify the challenges post bereaved\\nlearners were faced with after the death of their parent(s), to administer CBT as an intervention\\nin improving the academic performance of learners experiencing post bereavement challenges,\\nand to determine the efficacy of CBT in improving the academic performance of learners\\nexperiencing post bereavement challenges.\\nBased on the findings, the study established that PBL at Luanshya School for Continuing\\nEducation were faced with many challenges after the death of their parent(s). These challenges\\nwere; absenteeism from school, stress as a result of walking long distances to and from school,\\nlack of finances to cater for school needs, lower self-esteem as a result of not having biological\\nparents and being labelled as \\u201corphans\\u201d both in school and at home, lack of love and care from\\ntheir guardians which led some participant to engage in intimacy relationships, depression due\\nto lack of representation by guardians in school activities, sporadic moods as a result of\\nhibernating negative emotions such as sadness, frustration and pain, illicit substance abuse due\\nto lack of parental control, worry as a result of daily life struggles, lack of food and fear of\\nbeing rejected by the guardian. These post-bereavement challenges affected the PBL academic\\nperformance and mental wellbeing as they were stressful enough to distract the learner\\u2019s\\nattention, concentration, performance, and participation in classroom activities.\\n54\\n6.3. Conclusion\\nThe findings of this study have implications pointing out the importance of parental presence\\nand affection for children. Findings from this study are very important from a psychosocial\\npoint of view suggesting that the caregivers of the PBL without parents must have some special\\nconsiderations while dealing with these individuals. This may ensure the inculcation of healthy\\npsychosocial functioning in PBL that may in turn lead them to better adapt to the societal\\ndemands regarding post bereavement challenges.\\nThe findings in this study imply that there is need for more psychotherapists in schools and\\nmore specific knowledge in general on the devastating effects of bereavement on post bereaved\\nlearner\\u2019s mental wellbeing, strategies that aims at improving their academic performance, as\\nwell as insights into the individual\\u2019s functioning, to alleviate depressive symptoms of post\\nbereavement. The content of CBT in terms of concrete home assignments and behavioural\\nactivation needs to be individualized.\\nIn this study we have addressed complications of post bereavement which from the perspective\\nof CBT denotes difficulties in changes in the beliefs and the adaptation to a reality that excludes\\nthe deceased, as this difficulty points to the preservation of irrational beliefs and aggravates the\\ndevelopment of complications such as depression, anxiety, guilt and unhealthy anger. The CBT\\ntherapeutic intervention is directed at facilitating the adaptive process to post bereavement\\nstressful factors including changes in irrational-rational thoughts.\\nThe findings of the study revealed that leaners experienced many post bereavement challenges.\\nThe prevalence of post bereavement stress factors gives counsellors and administrators\\nassignments to look into how best post bereavement challenges should be attended to among\\npost bereaved learners at any point in time as post bereavement challenges results into elicit\\nbehaviour.\\n6.4. Recommendations\\nIn order to improve the mental wellbeing and academic performance of learners at Luanshya\\nSchool for Continuing Education, post-bereaved leaners should be identified continuously and\\nbe provided with necessary needs at any given point in time whenever such situations arises.\\n55\\n\\uf0b7 The Ministry of Education and the Ministry of Health should corroborate, and intensify\\non therapist training efforts through deliberately creating technical positions for\\ncounsellors and psychologists in schools.\\n\\uf0b7 This also indicates the need for imparting training in CBT to the teaching staff dealing\\nwith post bereaved learners and other vulnerable learners who are prone to different\\ncircumstances, so that they can intervene early in the course of the challenge with the\\nview to control it.\\n\\uf0b7 To sustain implementation through staff turnover, learning institutions should increase\\nstaff turnover by providing teachers with CBT skills that are in high demand within the\\ncommunity.\\n\\uf0b7 To improve wide-scale dissemination, research should continue to identify cost-\\neffective ways to develop therapist competencies, such as through blended training\\nmodels or computer simulations, as well as identify key characteristics of staff most\\nlikely to develop adequate competence.\\n\\uf0b7 Research on the significant impact of CBT on the improvement of the mental wellbeing\\nand academic performance of PBLs suggests there\\u2019s need for an effective public health\\napproach.\\n6.5. Proposed Areas for Future Research\\nSince this study was conducted in one school in Luanshya. The researcher recommends that\\nanother study be conducted in a different setting in particular the rural area and thereby be\\nreplicated on other schools to see if additional information could be provided regarding CBT\\non learners experiencing post bereavement challenges.\\n56\\nReference\\nAbdelnoor, A. & Hollins, S. (2004a). How children cope at school after family bereavement.\\nEducational and Child Psychology, 21(3), 85-94.\\nAbdelnoor, A. & Hollins, S. (2004b). The Effect of Childhood Bereavement on Secondary\\nSchool Performance. Educational Psychology in Practice, 20(1), 43-54.\\nAdil, et al., (2008). Impact of Parental Death on Adolescents' Psychosocial\\nFunctioning. University of Sargodha\\nArchibald, H., Bell, Miller & Tudennnan, R. D. (1962). Bereavement in childhood and adult\\npsychiatric disturbance. Psychosomatic Medicine, 24, 345-351.\\nAtwine B, Cantor-Graae E, Banjunirwe F. Psychological distress among AIDS orphans in rural\\nUganda. Social Science & Medicine. 2005(61),555\\u2013564. [PubMed]\\nAuster, T., Moutier, C. Lanouette, N., & Zisook, S. (2008). Bereavement and depression:\\nImplications for diagnosis and treatment. Psychiatric Annals, 38(10), 655-661.\\nBerk, L. E. (1994). Child development. Boston: Allyn & Bacon.\\nBerlinsky, E. B., & Biller, H. B. (1992). Parental death and psychological development.\\nLexington, M. A. Lexington Books.\\nBerns, R. M. (1989). Child, family, community. (2nd ed.). New York: Holt Rinehart and\\nWinston Inc.\\nBoelen, P. A. (2006). Cognitive behaviour therapy and complicated grief: Theoretical\\nunderpinning and case description. Journal of Loss and Trauma, 11(1), 1-30.\\nBoelen, P. A., & de Keijser, J. (2007). Treatment of complicated grief: A comparison between\\ncognitive behavior therapy and supportive counseling. Journal of Consulting and\\nClinical Psychology, 75(2), 277-284.\\nBoelen, P.A., Kip, H.J., Voorsluijs, J.J., & van den Bout, J. (2004). Irrational beliefs and basic\\nassumptions in bereaved University students: A comparison study. Journal of\\nRational-Emotive and Cognitive Behavior Therapy, 22(2), 111-129.\\nBoelen, P. A., Kip, H.J., Voorsluijs, J.J., & van den Bout, J. (2004). Irrational beliefs and basic\\nassumptions in bereaved University students: A comparison study. Journal of\\nRational-Emotive and Cognitive Behavior Therapy, 22(2), 111-129.\\nBoelen, P. A., van den Bout, J., & van den Hout, M.A. (2003). The role of cognitive variables\\nin psychological functioning after the death of a first degree relation. Behaviour\\nResearch and Therapy, 41, 1123-1136.\\nBorg, W. R. & Gall, M. D. (1989). Educational Research. New York: Longman.\\n57\\nBowlby, J. (1980). Attachment and loss. Volume III: Loss, sadness and depression. London:\\nHogarth Press.\\nBryman, A. (2008). Social Research Methods (3rd Ed). Oxford: Oxford University Press.\\nBukatka, D. (1995). Child development. (2nd ed.). NY: Marium W. Deahler.\\nChrist, G. (2000). Healing Children's Grief: Surviving a Parent's Death from Cancer. New\\nYork: Oxford University Press.\\nChrist, G. H., & Christ, A. E. (2006). Current approaches to helping children cope with a\\nparent's terminal illness. CA Cancer J Clin, 56(4), 197-212.\\nCohen, J. A. Mannarino, A. Deblinger, E. (2006) Treating Trauma and Traumatic\\nCohen, L., Manion, L. & Morrison, K. (2007). Research Methods in Education (6th Ed).\\nLondon: Routledge.\\nCohen, L., Manion, L. & Morrison, K. (2011). Research Methods in Education (7th Ed).\\nLondon: Routledge.\\nCohen, L., Manion, L., & Morrison, K. (2003). Research Methods in Education, 5th edition.\\nLondon: Routledge.\\nCompton, S. N., March, J. S., Brent, D., Albano, A. M., Weersing, V. R., & Curry, J. (2003).\\nCognitive-behavioral psychotherapy for anxiety and depressive disorders in children\\nand adolescents: An evidenced-based medicine review. Advances in Psychiatric\\nTreatment, 9, 21-30.\\nCreswell, J. W. (2012). Educational Research: Planning, Conducting and Evaluating\\nQuantitative and Qualitative Research (4th Ed). University of Nebraska, Lincoln.\\nCreswell, J. W., & Plano, C. V. L. (2011). Designing and conducting mixed methods research\\n(2nd ed.). Thousand Oaks, CA: Sage.\\nDaniel, D., Lynn, S. J, & Ellis, A. (2010). Rational and irrational beliefs. New York: Oxford\\nUniversity Press.\\nDobson, K. S. (2009). Handbook of cognitive-behavioral therapies (3rd ed.). New York:\\nGuilford Press\\nDowdney, L. (2000). Annotation: Childhood Bereavement Following Parental Death. The\\nJournal of Child Psychology and Psychology and Allied Disciplines. 41: 819-830.\\nDowdney, L. (2000). Annotation: Childhood Bereavement Following Parental Death. The\\nJournal of Child Psychology and Psychology and Allied Disciplines. 41: 819-830.\\n58\\nDowne-Wamboldt B. (1992). Content analysis: Method, applications, and issues. Health\\nCare for Women International, 13(3), 313\\u2013321.\\ndoi:10.1080/07399339209516006 [PubMed] [Cross Ref]\\nDowney, D. B. (1994). The school performance of school children from single mother and\\nsingle father families. Economic or interpersonal deprivation. Journal of Family, 15,\\n129-147.\\nDowney, D. B. (1994). The school performance of school children from single mother and\\nsingle father families. Economic or interpersonal deprivation. Journal of Family, 15,\\n129-147.\\nDriessen, E., Van, H. L., Don, F. J., Peen, J., Kool, S., Westra, D., ... Dekker, J. J. M.\\n(2013). The Efficacy of Cognitive-Behavioral Therapy and Psychodynamic Therapy\\nin the Outpatient Treatment of Major Depression: A Randomized Clinical\\nTrial. American Journal of Psychiatry, 170(9), 1041-1050.\\nDOI: 10.1176/appi.ajp.2013.12070899\\nDryden, W. (2009). Rational emotive behavior therapy. The CBT distinctive features series\\n(Ed.). London: Routledge.\\nDyregrov, A. (2004). Educational consequences of loss and trauma. Educational and Child\\nPsychology, 21(3), 77-84.\\nElizabeth, F., K. Sarah, S,B. Allison and L. Kristin, 2011. International Journal of Women\\u2019s\\nHealth. 3:1-13.\\nEllis, A. (1962). Reason and emotion in psychotherapy. Secaucus, NJ: Lyle Straut.\\nEllis, A. (1976). The biological basis of human irrationality. Journal of Individual Psychology,\\n32, 145-168.\\nEllis, A. (1985). Overcoming resistance: Rational-emotive therapy with difficult clients. New\\nYork: Springer.\\nEllis, A. (1991). The revised ABC\\u2019s of rational-emotive therapy (RET). Journal of Rational\\nEmotive and Cognitive Behavior Therapy, 9(3), 139-172.\\nEllis, A. (1994a). Reason and emotion in psychotherapy. A comprehensive method of treating\\nhuman disturbances revised and updated. New York: A Birch Lane Press Book.\\nEllis, A. (1994b). Post-traumatic stress disorder (PTSD): A rational emotive behavioral theory.\\nJournal of Rational Emotive and Cognitive Therapy, 12(1), 3-26.\\nEllis, A., & Dryden, W. (1997). The practice of rational emotive behavior therapy. New York:\\nSpringer Publishing Company.\\n59\\nFlanagan, C. (1995). GCSE study guide. New York: Lets Education.\\nFleming, S., & Robinson, P. (2001). Grief and cognitive-behavioral therapy: The\\nreconstruction of meaning. In M.S. Stroebe, W. Stroebe, & R.O. Hansson (Eds.),\\nHandbook of bereavement (pp. 647-669). Cambridge: University Press.\\nFoa, E. B., & Rothbaum, B.O. (1998). Treating the trauma of rape: Cognitive-behavioral\\ntherapy for PTSD. New York: Guilford Press.\\nFreud, S. (1957). Mourning and melancholia (1917). In J. Strachey (Ed. and Trans.), Standard\\nedition of the complete psychology\\nFristad, A. M., Jedel, R., Weller, A. R & Weller, B. E. (1993). Psychosocial functioning in\\nchildren after the death of a parent. Psychiatry, 150, 511-513.\\nGasson, S. (2004). Rigor in grounded theory research: An interpretive perspective on\\ngenerating theory from qualitative field studies. In M. E. Whitman & A. B.\\nWoszczynski (Eds.), The handbook of information systems research (79\\u2013102).\\nHershey, PA: Idea Group.\\nGauthier, Y., & Marshall, W.L. (1977). Grief: A cognitive-behavioral analysis. Cognitive\\nTherapy Research, 1, 39-44.\\nGay, R. L., Mills, E. G. & Airsan, P. (2009). Educational Research: Competencies for analysis\\nand applications. (9th Ed.). London: Pearson Education.\\nGertler, P., Levine, I. D and Ames, M. (2003). Schooling and parental death. Berkely:\\nInstitute of Business and Economic Research.\\nGraneheim U. H., & Lundman B. (2004). Qualitative content analysis in nursing research:\\nConcepts, procedures and measures to achieve trustworthiness. Nurse Education\\nToday, 24(2), 105\\u2013112.\\nGrief in Children and Adolescents. Guilford Press (www.musc.edu/tfcbt).\\nHaine, R. A., Ayers, T.S., Sandler, I.N. & Wolchik, S.A. (2008). Evidence-based practices for\\nparentally bereaved children and their families. Professional Psychology: Research\\nand Practice, 39(2), 113-121.\\nHaine, R. A., Wolchik, S.A., Sandler, I.N., Millsap, R.E. & Ayers, T.S. (2006). Positive\\nParenting as a Protective Resource for Parentally Bereaved Children. Death Studies,\\n30(1), 1-28.\\n60\\nHarrison, L. & Harrington, R. (2001). Adolescents' Bereavement Experiences: Prevalence,\\nAssociation with Depressive Symptoms, and Use of Services. Journal of Adolescence,\\n24(2), 159-69.\\nHolmes, T. H., & Rahe, R.H. (1967). The social readjustment rating scale. Journal of\\nPsychosomatic Research, 11, 213-218.\\nHorowitz, M. J. (2003). Treatment of stress response syndromes. Washington DC: American\\nPsychiatric Association.\\nJakobsen, I. S., & Christiansen, E. (2011). Young people's risk of suicide attempts in 34 relation\\nto parental death: a population-based register study. J Child Psychol Psychiatry, 52(2),\\n176-183.\\nJanoff-Bulman, R. (1992). Shattered assumptions: Towards a new psychology of trauma. New\\nYork: Free Press.\\nKasonde-Ngandu. S. (2014). Writing a Research Proposal in Education Research. Lusaka -\\nUNZA Press.\\nKavanagh, D. J. (1990). Towards a cognitive-behavioral intervention for adult grief reactions.\\nBritish Journal of Psychiatry, 157, 373-383.\\nKavanagh, D. J. (1990). Towards a cognitive-behavioral intervention for adult grief reactions.\\nBritish Journal of Psychology, 157, 373-383.\\nKlass, D, Silverman, P.S., & Nickman, L. (Eds.), (1996). Continuing Bonds. Washington, DC:\\nKombo, D. K and Tromp, D. L. A. (2006). Proposal and research writing. Nairobi: Pauline\\nPublications Africa.\\nKothari, K. (2004). Research Methodology: Methods and Techniques. New Delhi: New age\\ninternational.\\nKothari, K. (2014). Research Methodology: Methods and Techniques. New Delhi: New age\\ninternational.\\nKubler-Ross, E. (1969). On death and dying. New York: Macmillian.\\nMaciejewski, P. K., Zhang, B., Block, S. & Prigerson, H.G. (2007). An empirical examination\\nof the stage theory of grief. Journal of the American Medical Association, 297(7), 716-\\n723.\\nMadison, CT: Psychosocial Press. Mawson, D., Marks, I.M., Ramm, L., & Stern, R.S. (1981).\\nGuided mourning for morbid grief: A controlled study. British Journal of Psychiatry,\\n138, 185-193.\\n61\\nMalkinson, R. (1996). Cognitive behavioral grief therapy. Journal of Rational-Emotive &\\nCognitive-Behavioral Therapy, 14(4), 156-165.\\nMalkinson, R. (2001). Cognitive behavioral therapy of grief: A review and application.\\nResearch on Social Work Practice, 11(6), 671-698.\\nMalkinson, R. (2007). Cognitive grief therapy: Constructing a rational meaning to life\\nfollowing loss. New York: W.W. Norton.\\nMalkinson, R., & Bar-Tur, L. (2004/2005). Long-term bereavement processes of older parents:\\nThe three phases of Grief. Omega, 50(2), 103-129.\\nMalkinson, R., & Ellis, A. (2000). The application of rational-emotive behavior therapy\\n(REBT) in traumatic and non-traumatic grief. In R. Malkinson, S. Rubin, & E. Witztum\\n(Eds.), Traumatic and non-traumatic loss and bereavement: Clinical theory and\\npractice, 18, 173-196.\\nMarrie, R. A., Reingold S., Cohen J., Stuve O., Trojano M., Sorensen P. S., Reider N.\\n(2015). The incidence and prevalence of psychiatric disorders in multiple sclerosis: A\\nsystematic review. Multiple Sclerosis, 21(3), 305\\u2013317.\\nMeiss, M. (1952). The oedipal problem of fatherless child. Psychoanalyst Study of Child, 7,\\n216-229.\\nMisri, S, Kostaras X, Fox D, Kostaras D. The impact of partner support in the treatment of\\npostpartum depression. Can J Psychiatr. 2000, (45), 554\\u2013558. [PubMed]\\nMooney, R. L., and Cordon, L.V. (1950). Mooney problem checklist. College form. New York:\\nThe psychological Corporation.\\nMorris, S. E. (2008). Overcoming grief: A self-help guide using cognitive behavioural\\ntechniques. London: Constable and Robinson\\nMulenga, I. M. (2006). An Evaluation of the effectiveness of the Academic Production Unit in\\nthe provision of Secondary Education in Ndola district, Zambia. MEd. The Catholic\\nUniversity of Eastern Africa.\\nMuller, C. F. 1992). Health care and gender. New York: Russel Sage Foundation.\\nMurray L. K, Dorsey S, Bolton P, Jordans MJ, Rahman A, Bass J, Verdeli H. (2011). Building\\nCapacity in Mental Health Interventions in Low-resource countries: An\\nApprenticeship Model for Training Local Providers. International Journal of Mental\\nHealth Systems, 5(1):30. 10.1186/1752-4458-5-30.\\n62\\nMurray, L. K. Dorsey, S. Skavenski, S. Jere, J. Kasoma ,M. Imasiku, M. Bolton, P. Bass, J.\\nCohen, J. (2013). Identification, modification and implementation of an evidence-\\nbased psychotherapy for children in a low-income country: the use of Trauma- Focused\\nCognitive Behavioral Therapy in Zambia. International Journal of Mental Health\\nsystems. 7:24. doi:10.1186/1752-4458.\\nMurray, L. K. Bass, J. Chomba, E. Haworth, A. Imasiku, M. Thea, D. Semrau, K. Cohen, J.\\nLam, C. Bolton, P. Validation of the Child Post Traumatic Stress Disorder-Reaction\\nIndex in Zambia, International Journal of Mental Health Systems. 2011; 5(1); 24.\\nMurray, L. K. Skavenski, S. Michalopoulos, L. Bolton, P. Bass, J. Cohen, J. (2014). Youth,\\nFamily and Counselor perspectives on the Implementation of TF-CBT in Zambia.\\nJournal of Clinical Child and Adolescent Psychology Qualitative Issue. 1-13.\\nNeimeyer, R. A. Keese, N. J., & Fortner, B.V. (2000). Loss and meaning reconstruction:\\nProposition and procedures. In R. Malkinson, S. Rubin, & E. Witztum (Eds.), Traumatic\\nand non-traumatic loss and bereavement. (pp. 197-230). Madison, CT: Psychosocial\\nPress.\\nNeimeyer, R.A. (1999). Lessons of loss: A guide to coping. New York: Mc Grow-Hill.\\nNeimeyer, R. A. (2004). Research on grief and bereavement: Evaluation and revolution. Death\\nStudies, 32, 489-490.\\nOnwuegbuzie, A. J. & Frels, R.K. (2013). Methodology training workshop for PHD trainers\\nand supervisors. Unpublished Module. Nairobi, Kenya.\\nPsychology, LahoreStone, L. J., and Church, J. (1968). Child and adolescent. London: Random\\nHouse.\\nReynolds III, C.F., Miller, M.D., Paternak, R.E., Frank, E., Perel, J. M., Cornels, C., (1999).\\nTreatment of bereavement-related major depressive episodes in later life: A controlled\\nstudy of acute and continuation treatment with nortriptyline and interpersonal\\npsychotherapy. American Journal of Psychiatry, 156(2), 202-208.\\nRogers, C. (1959). A theory of therapy, personality and interpersonal relationships as developed\\nin the client-centred framework. In (ed.) S. Koch, Psychology: A study of a\\nscience. Vol. 3: Formulations of the person and the social context. New York: McGraw\\nHill.\\nRubin, S. S. (1981). A two-track model of bereavement: Theory and application in research.\\nAmerican Journal of Orthopsychiatry, 51, 101-109.\\n63\\nRubin, S. S. (1999). The Two-track model of bereavement: Prospects and retrospect. Death\\nStudies, 23, 681-714.\\nRubin, S. S., & Malkinson, R. (2001). Parental response of child loss across the life cycle:\\nClinical and research perspective. In M.S. Stroebe, W. Stroebe, & R.O. Hansson (Eds.),\\nHandbook of bereavement research: Consequences, coping and caring (pp. 219-240).\\nCambridge: University Press.\\nSantrock, W. (1999). Life span development (7th ed.). New York: McGraw Hills.\\nServaty, H., & Hayslip, B. (2001). Adjustment to Loss among Adolescents. Omega, 43(4), 311-\\n330.\\nShear, M. K., Frank, E., Foa, E., Reynolds, III, C.F., Vander Bilt, J., & Masters, S. (2001).\\nTraumatic grief treatment: A pilot study. American Journal of Psychiatry, 158(9),\\n1506-1608.\\nShear, M. K., Frank, E., Houck, P.R., & Reynolds III, C.F. (2005). Treatment of complicated\\ngrief: A randomized controlled study. Journal of American Medical Association,\\n293(210), 2601-2608.\\nShenton, K. A. (2004). Strategies for ensuring trustworthiness in qualitative research projects.\\nEducation for information, 22 (2005), 63-75.\\nStroebe, M. S., & Schut, H. (1999). The dual process model of coping with loss. Death Studies,\\n23, 1-28.w\\nTaylor & Francis. Kubler-Ross, E. (1969). On death and dying. New York: Macmillan.\\nWiley. Shear, M. K. (2003). Complicated grief: A guidebook for therapists. Unpublished\\nManuscript. Department of Psychiatry. University of Pittsburgh School of Medicine.\\nWolchik, S. A., Coxe, S., Tein, J. Y., Sandler, I. N., & Ayers, T. S. (2008). Six-year longitudinal\\npredictors of posttraumatic growth in parentally bereaved adolescents and young\\nadults. Omega (Westport), 58(2), 107-128.\\nWorden, W. J. (1996). Children and Grief: When a Parent Dies. New York: Guilford Press.\\n64\\nAppendices\\nAppendix A: Interview Schedule for PBLs\\nI am a Masters of Education student in Educational Psychology at the University of Zambia carrying\\nout an academic study in which your participation is important. This interview is meant to find out your\\nopinions concerning the \\u2018Administration of Cognitive-Behavioral Therapy on Learners Experiencing\\nPost-Bereavement at Luanshya School for Continuing Education in Copperbelt Province.\\u2019 You are\\ntherefore requested to be as objective as you can in view of what you know about the administration of\\nCognitive-Behavioral Therapy on Learners Experiencing Post-Bereavement. The information you will\\ngive will be treated with utmost confidence and will only be used for academic purposes.\\n1. Demographic variables\\na. Present age:\\u2026\\u2026\\u2026\\u2026\\u2026. Sex:\\u2026\\u2026\\u2026\\u2026..\\nb. Who is the person who died?\\nc. How old were you at the time of death?\\n2. Tell me about personal changes that you have experienced since the death of your parent\\nhappened\\n3. How has been your performance in school after the death of your parents?\\n4. What has felt different, what has felt the same?\\n5. How have your relationships over the years been influenced by the death?\\n6. Tell me about school following the death.\\n7. Tell me about your family after the death?\\n8. Did school change for you, such as your ability to perform or grades?\\n9. How has your education over time been affected by the death?\\n10. Do you feel there was any community support after death?\\n11. Did your community connections change (e.g. did you have to move, no\\nlonger engage in activities that were previously enjoyed by the family)?\\n12. Did you experience any counseling services after the death?\\n13. How do you cope with reminders of the death?\\nDebrief\\nIs there anything else you would like to add, or that you would like to tell me?\\nBased on your responses, you will now be/not be, recruited for CBT.\\nSignature of Researcher /person taking the consent_________________________\\nDate ________________________\\n65\\nAppendix B: The Integration of Stressful Life Events Scale\\nI am a Masters of Education student in Educational Psychology at the University of Zambia carrying\\nout an academic study in which your participation is important. This interview is meant to find out your\\nopinions concerning the \\u2018Administration of Cognitive-Behavioural Therapy on Learners Experiencing\\nPost-Bereavement at Luanshya School for Continuing Education in Copperbelt Province.\\u2019 You are\\ntherefore requested to be as objective as you can in view of what you know about the administration of\\nCognitive-Behavioural Therapy on Learners Experiencing Post-Bereavement. The information you will\\ngive will be treated with utmost confidence and will only be used for academic purposes. Please indicate\\nthe extent to which you agree or disagree with the following statements with regard to (the most stressful\\nlife event you experienced in the past two years). Read each statement carefully and be aware that a\\nresponse of agreement or disagreement may not have the same meaning across all items.\\n1. How is your relationship with your friends after the death of your parent(s)?\\n(1) Excellent (2) Very good (3) Good (4) Average (5) Poor\\n2. How has been your performance in class after the death of your parent(s)?\\n(1) Excellent (2) Very good (3) Good (4) Average (5) Poor\\n3. How has been your memory after the death of your parent(s)\\n(1) Excellent (2) Very good (3) Good (4) Average (5) Poor\\n4. Do your previous goals and hopefulness for future still make sense any more after\\n5. the death of your parent(s)?\\n(1) Strongly Agree (2) Agree (3) Neutral (4) Disagree (5) Strongly Disagree\\n6. Do you have confidence in yourself after the death of your parent(s)?\\n(1) Strongly Agree (2) Agree (3) Neutral (4) Disagree (5) Strongly Disagree\\n7. Has your participation in class changed after the death of your parent(s)?\\n(1) Strongly Agree (2) Agree (3) Neutral (4) Disagree (5) Strongly Disagree\\n8. Do you have difficulties concentrating on your school work?\\n(1)Strongly Agree (2) Agree (3) Neutral (4) Disagree (5) Strongly Disagree\\n9. Do you pay particular attention when someone is talking to you?\\n(1)Strongly Agree (2) Agree (3) Neutral (4) Disagree (5) Strongly Disagree\\n10. How has been your mood after the death of your parent(s)\\n(1) Excellent (2) Very good (3) Good (4) Average (5) Poor\\n11. Do you at times exhibit anger when you are with your peers?\\n(1)Strongly Agree (2) Agree (3) Neutral (4) Disagree (5) Strongly Disagree\\n66\\nAppendix C: Questionnaire for learners\\nI am a postgraduate student at the University of Zambia carrying out an academic study in\\nwhich your participation is important. The study is titled \\u2018Administration of Cognitive-\\nBehavioral Therapy on Learners Experiencing Post-Bereavement at Luanshya School for\\nContinuing Education in Copperbelt Province\\u2019. Please kindly respond as truthful as possible to\\nthe items in the instrument by a tick ( \\u221a ) or a brief explanation in the spaces provided. The\\ninformation you will give will be treated with utmost confidence and will only be used for the\\npurpose of this particular study.\\nInstructions\\na. Do not write your names on this questionnaire.\\nb. Do not mention any name of any person in this questionnaire.\\nc. Read the questionnaire items carefully before you answer them.\\nSECTION A: DEMOGRAPHIC INFORMATION\\n1. Grade \\u2026\\u2026\\u2026\\u2026\\u2026\\u2026\\u2026\\u2026\\u2026\\n2. Gender \\u2026\\u2026\\u2026\\u2026\\u2026\\u2026\\u2026\\u2026..\\n3. Age \\u2026\\u2026\\u2026\\u2026\\u2026\\u2026\\u2026\\u2026\\u2026\\u2026\\nSECTION B: EXPERIENCES AND CHANGES OF PBLS\\n4. Do you have parents available at home?\\nYes No\\n5. (a) Do you experience any changes as a result of the death for your parents?\\nYes No\\n(b) If your answer to question 4a is yes, explain some of the changes you\\nexperience.\\u2026\\u2026\\u2026\\u2026\\u2026\\u2026\\u2026\\u2026\\u2026\\u2026\\u2026\\u2026\\u2026\\u2026\\u2026\\u2026\\u2026\\u2026\\u2026\\u2026\\u2026\\u2026\\u2026\\u2026\\u2026\\u2026\\u2026\\u2026\\u2026\\u2026\\n\\u2026\\u2026\\u2026\\u2026\\u2026\\u2026\\u2026\\u2026\\u2026\\u2026\\u2026\\u2026\\u2026\\u2026\\u2026\\u2026\\u2026\\u2026\\u2026\\u2026\\u2026\\u2026\\u2026\\u2026.\\n6. (a) Were there any changes in your friends after the death of your friends?\\nYes No\\n(b) If your answer to question 5a is yes, explain how your relationship has\\nbeen\\u2026\\u2026\\u2026\\u2026\\u2026\\u2026\\u2026\\u2026\\u2026\\u2026\\u2026\\u2026\\u2026\\u2026\\u2026\\u2026\\u2026\\u2026\\u2026\\u2026\\u2026\\u2026\\u2026\\u2026\\u2026\\u2026\\u2026\\u2026\\n\\u2026\\u2026\\u2026\\u2026\\u2026\\u2026\\u2026\\u2026\\u2026\\u2026\\u2026\\u2026\\u2026\\u2026\\u2026\\u2026\\u2026\\u2026\\u2026\\u2026\\u2026\\u2026\\u2026\\u2026\\u2026\\u2026\\u2026\\u2026\\u2026\\u2026\\n7. Since the death of your parents/guardians, how has been your relationships with your\\nfriends?\\n67\\nExcellent Very Good Good Average Poor\\n8. How do you find school work now as compared to the past before your\\nparents/guardians died?\\nExcellent Very Good Good Average Poor\\n9. (a) Do you feel there was any community support after the death of your\\nparents/guardians?\\nYes No\\n(b) If your answer to 6a is yes, explain the type of support that you receive from your\\ncommunity. \\u2026\\u2026\\u2026\\u2026\\u2026\\u2026\\u2026\\u2026\\u2026\\u2026\\u2026\\u2026\\u2026\\u2026\\u2026\\u2026\\u2026\\u2026\\u2026\\u2026\\u2026\\u2026\\u2026\\u2026\\u2026\\u2026\\u2026\\u2026\\u2026\\n68\",\n          \"International Journal of Research and Scientific Innovation (IJRSI) |Volume VIII, Issue IV, April 2021|ISSN 2321-2705\\nCommunity Involvement in the Implementation of\\nComprehensive Sexuality Education in Rural Areas:\\nA Case of Selected Secondary Schools in Chibombo\\nDistrict of Central Province, Zambia\\nSekelani Kawonga1, Emily H. Mbozi2, Harrison Daka3\\n1Department of Educational Administration and Policy studies, University of Zambia\\n2Adult Extension Department, University of Zambia\\n3Department of Educational Administration and Policy studies, University of Zambia\\nAbstract: This study was carried out to investigate community and include the community. Finally, based on the findings, the\\ninvolvement in the implementation of Comprehensive Sexuality following recommendations have been made: The Ministry of\\nEducation (CSE) in rural areas particularly in selected General Education must make Comprehensive Sexuality\\nsecondary schools of Chibombo district of Zambia. The Education a standalone subject and must be examinable. There\\nobjectives of the study included: to determine the major is need to train all in-service teachers in Comprehensive\\ncommunity stakeholders involved in the implementation of Sexuality Education through workshops. Deliberate\\nComprehensive Sexuality Education in selected secondary Comprehensive Sexuality Education programmes and activities\\nschools in Chibombo district; to examine how head teachers must be put in place to allow the community to be involved in the\\npromote community participation in Comprehensive Sexuality implementation of Comprehensive Sexuality Education in rural\\nEducation in selected schools in Chibombo district; to establish secondary schools. The community must be allowed to use\\nthe challenges that the rural secondary schools face in involving familiar language and not just English when they are involved in\\nthe community in the implementation of Comprehensive the implementation of Comprehensive Sexuality Education in\\nSexuality Education in selected secondary schools in Chibombo rural secondary schools.\\ndistrict and to determine measures which can be put in place to\\nKey words: Comprehensive Sexuality Education, Culture,\\nenhance community involvement in the implementation of\\nStakeholders, Community\\nComprehensive Sexuality Education in rural secondary schools.\\nThe research design which was used was Case Study in which\\nI. INTRODUCTION\\nqualitative data was collected. Data was collected from 92\\nT\\nrespondents distributed as follows: fifty (50) pupils; seven (7) he United Nations Fund for Population Activities (2017,\\nhead teachers; seven (7) heads of department; fifteen (15) 11) defined, Comprehensive Sexuality Education \\u201cas a\\nteachers; three (3) headmen; six (6) parents and four (4) church right-based and gender-focused approach to sexuality\\nleaders. Data was collected using questionnaires, semi-structured\\neducation, whether in school or out of school.\\u201d This sex\\ninterviews, and focus group discussions. The findings of the study\\neducation instruction method aimed at giving students the\\nshowed that teachers, health personnel, parents, chiefs, headmen,\\nknowledge, positive attitudes, skills and values to make\\nchurch leaders, law officers, and civic leaders were used in the\\nappropriate and healthy choices in their sexual lives. It was\\nimplementation of Comprehensive Sexuality Education. The\\nschool managers created opportunities for community also intended that with the provision of such information,\\ninvolvement in the implementation of Comprehensive Sexuality students would be prevented from contracting Sexually\\nEducation through the integration of Comprehensive Sexuality Transmitted Diseases, Human Immunodeficiency Virus,\\nEducation in other programmes in the school such as guidance Acquired Immune Deficiency Syndrome, reduction in the\\nand counselling, Annual General Meetings (AGMs), teenage pregnancies and help to lower the levels of Gender-\\ninfrastructural development, awards day, re-entry policy,\\nBased Violence. Comprehensive Sexuality Education did\\ncontrolling of bad behaviour and motivational talks. Traditions,\\nemphasize sexual abstinence as the best and safest sexual\\nlow educational levels and literacy levels, negative attitude to\\nchoice for young people (Daka, Mbewe, Mulenga - Hagane,\\neducational programmes, long distance to school, irregular\\nKalimaposo, Masaiti and Mphande, 2021). . However, the\\ncommunication between the school and community, the use of\\nEnglish in secondary schools, women willing to be involved but curriculum and teachers were still committed to teaching\\nnot fully committed, lack of funds from the government and students about topics connected to future sexual activity, such\\npoverty among the members of the community were the major as the age to consent, safe sex, contraception such as birth\\nchallenges to community involvement in Comprehensive control pills, abortion and use of condoms (Rubenstein, 2017).\\nSexuality Education. The measures to be put in place to enhance\\nComprehensive Sexuality Education in rural secondary schools Comprehensive Sexuality Education was also aimed at\\nincluded sensitisation meetings, workshops, opening programmes empowering adolescents with life skills such as\\nwhich were specifically for Comprehensive Sexuality Education\\nwww.rsisinternational.org Page 216\\nInternational Journal of Research and Scientific Innovation (IJRSI) |Volume VIII, Issue IV, April 2021|ISSN 2321-2705\\ncommunication, assertiveness and conflict resolution skills related challenges in the school and that solutions had to be\\n(Daka, Mwelwa, Tembo, and Mulenga-Hagane, 2019). found for these challenges.\\nTherefore, it focused on a holistic way of imparting positive\\nIn 2011, the Government of the Republic of Zambia enacted\\nknowledge and information about sexuality and sexual\\nan Education Act No.23 and in Section 108(1) (i), the Act\\nbehaviour among the young people as this could enable them\\nempowered the Minister of Education to amend the\\nto make informed decisions and put into practice their rights\\ncurriculum to introduce Comprehensive Sexuality Education\\nand responsibilities as members of the school and community\\n(UNFPA, 2017). In 2013, the Comprehensive Sexuality\\nwithin which they lived. Comprehensive Sexuality Education\\nEducation framework was developed and distributed to all\\nwas also considered as a right-based and also gender-focussed\\nschools. The curriculum\\u201fs target was children between the\\napproach (Braeken and Castellanos, 2016).\\nages of 10 to 24 who were in Grades 5 to 12. Comprehensive\\nComprehensive Sexuality Education was introduced in the Sexuality Education curriculum was also introduced in the\\nZambian education system that was in primary, secondary and teacher training colleges to equip the student teachers with\\nteacher training colleges as one way of adding more to the knowledge to implement Comprehensive Sexuality Education\\nprovision of Reproductive Health and Sexuality Education in schools they were going to be teaching.\\nand also as part of the human rights. The International\\nCross-cutting issues were also included in the Comprehensive\\nConference on Population and Development which was held\\nSexuality Education curriculum and were focused on all\\nin Cairo in 1994 did affirm that Sexual and Reproductive\\naspects of human sexuality. These aspects were placed under\\nHealth and Rights are also human rights. Due to this\\nthemes such as human development, relationships, values,\\naffirmation, several international instruments contributed to\\nattitudes and skills, culture, society and human rights, sexual\\nthe global consensus on how reproductive health was\\nbehaviour and sexual reproductive health. In Zambia,\\nintrinsically linked to other fundamental human rights\\nComprehensive Sexuality Education was not a standalone\\n(UNFPA, 2017). The government of Zambia signed and\\nsubject but its content was integrated into subjects which were\\ncommitted to putting into practice the Sexual and\\nstandalone. In Primary and Junior Secondary Schools,\\nReproductive Health and Rights in the country.\\nComprehensive Sexuality Education was integrated into\\nThe Sustainable Development Goals (SGGs) were another Integrated Science, Religious Education, and Social Studies.\\nreason why Comprehensive Sexuality Education was At Senior Secondary, Comprehensive Sexuality Education\\nintroduced in Zambia. These goals were formulated at the had been integrated into subjects such as Biology, Civic\\nUnited Nations Conference on Sustainable Development in Education, Religious Education, and Home Economics.\\nRio de Janeiro in 2012. The main objective of the Sustainable\\nThe inclusion of Comprehensive Sexuality Education in the\\nDevelopment Goals was to produce a set of universal goals\\ncurriculum was very vital especially in schools and\\nthat met the urgent environmental, political and economic\\ncommunities where young people were at the stage of life\\nchallenges which were being faced by the world (United\\nwhen sexual issues affected them more and they did not know\\nNations Development Programme, 2015). The Sustainable\\nhow to handle them. The issues included puberty,\\nDevelopment Goals were a replacement of the Millennium\\npregnancies, sexually transmitted diseases, Human\\nDevelopment Goals which were a global effort in 2000 to\\nImmunodeficiency Virus/ Acquired Immune Deficiency\\nhandle extreme poverty and hunger, to prevent diseases which\\nSyndrome, abortion, self\\u2013esteem, how to handle relationships\\nwere deadly and also to make primary education accessible to\\nwith the opposite sex, communication skills, Gender-Based\\nall children regardless of their background were among the\\nViolence, and human rights. It was for this reason that\\npriority objectives.\\nComprehensive Sexuality Education provided young people\\nThe alarming levels of school dropouts due to pregnancy- with the age-appropriate, culturally relevant, and scientifically\\nrelated issues was another reason for the introduction of accurate information (MoE, 2013).\\nComprehensive Sexuality Education in Zambia. The Ministry\\nThe education system cannot function in isolation or without\\nof Education Statistical Bulletin stated that in 2007 to 2009,\\nthe involvement of the community in implementing its\\nover 17 000 cases, in 2010, over 11 000 cases and in 2011\\nactivities and some parts of the curriculum, which had cross-\\nover 15 000 cases of dropouts were due to pregnancy-related\\ncutting issues, such as Comprehensive Sexuality Education.\\nissues (MoE, 2013). Sexually transmitted infections including\\nThe communities provided the learners and resources that\\nHuman Immunodeficiency Virus and Acquired Immune\\nwere needed for the effective functioning of the schools,\\nDeficiency Syndrome were very common among the age\\ntherefore, there was need for the people in the community to\\ngroups of 15 to 24 (Zambia Demographic Health Survey,\\nbe involved in activities that were being implemented in\\n2010). The 2010 population bureau also reviewed that 12 per\\nschools. According to Sanders (2003:162), \\u201cCommunity\\ncent of the girls and 16 per cent of the boys experienced sex\\ninvolvement in schools refers to the connections between\\nbefore the age of 15 (MoE, 2013). Further, investigations\\nschools and individuals, businesses and formal and informal\\nwere made on the quality of Reproductive Health and\\norganisations and institutions in a community.\\u201d The provision\\nSexuality Education which were given to learners in schools.\\nof quality education had been placed on the school, however,\\nAll these findings were an indication that there were sexually\\nthere was more to education than just providing the academic\\nwww.rsisinternational.org Page 217\\nInternational Journal of Research and Scientific Innovation (IJRSI) |Volume VIII, Issue IV, April 2021|ISSN 2321-2705\\nwork for the learners within the confinement of the classroom implementation of Comprehensive Sexuality Education\\nin the school. This was because the process of providing particularly in rural secondary schools where most of the\\neducation goes beyond teaching and learning in classrooms. learners were at the adolescent and puberty stages of their\\nThe support, which was needed for teaching and learning, lives.\\nrequired the urgency to address students\\u201f social needs as well\\nPurpose of the Study\\nas their academic ones and this broad-based support was\\nessential to closing achievement gaps (United Nations The purpose of the study was to investigate community\\nEducational Scientific Cultural Organisation, 2007). involvement in the implementation of Comprehensive\\nCommunity involvement in implementation implies that Sexuality Education in rural areas particularly in selected\\nprogrammes and activities could be created and also added on secondary schools of Chibombo district.\\nto the education process within the schools\\u201f mission and\\nResearch Objectives\\ngoals. Hence, this involvement could lead to building very\\nstrong community support, strengthen the relationship (i) To determine the major community stakeholders\\nbetween school and the community within the location, involved in the implementation of Comprehensive\\nleading to high levels of student achievements. Sexuality Education in selected secondary schools in\\nChibombo district.\\nCommunities had values, ideas, norms and beliefs, which\\n(ii) To examine how head teachers promote community\\nwere to be perpetuated by the school being a social institution\\ninvolvement in the implementation of\\nand the pupils in the school came from the community\\nComprehensive Sexuality Education in selected\\n(Aminu, 2006 and Daka, Phiri, Chipindi and Nachimwenda,\\nsecondary schools in Chibombo district.\\n2021). Schools and communities had to work closely with\\n(iii) To establish the challenges that the rural secondary\\neach other to meet their mutual goals of provision and\\nschools face in involving the community in the\\nmanagement of education as well as teaching, learning, and\\nimplementation of Comprehensive Sexuality\\nenforcement of processes (Bibire, 2014). This could result in\\nEducation in selected secondary schools in\\nboth the school and the community strengthening and\\nChibombo district.\\ndeveloping each other and could provide for both educational\\n(iv) To determine measures which can be put in place to\\nrenewal and community regeneration (Sa\\u201fad and Sadiq, 2014).\\nenhance community involvement in the\\nThe school as a social institution had a connection with the implementation of Comprehensive Sexuality\\ncommunity within which it was located. Therefore, the school Education in rural secondary schools.\\nwas also connected to the issues, which affected the\\nResearch Questions\\ncommunity, and it was able to have an impact on the growth\\nof the members of the community. Sharma (2016:8) says, (i) Who are the community\\u201fs major stakeholders\\n\\u201cStrong, sustained community participation in the involved in the implementation of Comprehensive\\nmanagement of local schools can enhance transparency and Sexuality Education at selected secondary schools in\\naccountability in the education system and promote a sense of Chibombo district?\\nownership, agency and responsibility for positive change.\\u201d (ii) What ways do head teachers use to promote\\nPeople involved in policymaking must consider putting in community involvement in the implementation of\\nplace policies, which focus on the needs and expectations of Comprehensive Sexuality Education in selected\\nthe community. secondary schools in Chibombo district?\\n(iii) What are the challenges that the rural secondary\\nStatement of the Problem\\nschools face in involving the community in the\\nComprehensive Sexuality Education was being taught in implementation of Comprehensive Sexuality\\nsecondary schools of Zambia (MoE, 2013). This meant that Education?\\nwithin the school environment, the youths were equipped with (iv) What measures can be used to enhance community\\naccurate and scientifically proven information concerning the involvement in the implementation of\\nknowledge, skills, attitudes and values about sex (UNFPA, Comprehensive Sexuality Education in rural\\n2015). However, despite the implementation of secondary schools?\\nComprehensive Sexuality Education in schools, issues such as\\nII. THEORETICAL FRAMEWORK\\nincreasing levels of teen pregnancies, child marriage and STI\\nincluding Human Immunodeficiency Virus and Acquired This study was guided by the Social Capital Theory according\\nImmune Deficiency Syndrome prevalence among the youths to Robert Putnam\\u201fs Approach. The relationship between the\\nin schools has continued to affect the schools negatively school and the community where it is located for both to work\\nespecially in the rural areas (Matengo and Tembo, 2008). This together in the implementation of educational activities and\\nwas an indication to say the teachers could not manage to programmes is important. According to Agneessens (2006:5),\\ncombat such issues, which continue to affect the school and \\u201cThe need to construct bridges between the teachers and the\\nthe community negatively, on their own. There was need for communities in implementation is the Social Capital Theory\\nmembers of the community to be involved in the\\nwww.rsisinternational.org Page 218\\nInternational Journal of Research and Scientific Innovation (IJRSI) |Volume VIII, Issue IV, April 2021|ISSN 2321-2705\\nexcitement.\\u201d In trying to involve the community in the this case, the focus is on people participating in the\\nimplementation of programmes and activities with the implementation of policies and activities within the schools.\\nschools, it was vital to look at the things that were important\\nSexuality Education: It the learning process that involves\\nto both the school and the community.\\nissues to do with sexual behaviour that is an age-appropriate,\\nSocial Capital was used by Putnam to describe those culturally relevant approach to teaching about sexuality\\nsubstances that count most in the daily lives of people, which relationships by providing scientifically accurate, realistic,\\nincluded goodwill, fellowship, sympathy and social non-judgmental information.\\nintercourse. Social Capital was the collective value of all\\nComprehensive Sexuality Education: This is a curriculum-\\nsocial networks and the inclinations that arise from these\\nbased and right-based approach, which uses participatory\\nnetworks to do things for each other. Putnam explains that\\nmethods, integrates a focus on gender, includes linkage to\\nsocial connections as individuals and as a community\\nrelevant services, and aims at giving the learners knowledge,\\nprovided us with value and that we get value through four\\nattitudes, skills, and values to make appropriate and healthy\\nways and these are: Information which we get through social\\nchoices when it comes to sex-related issues in their lives.\\nnetworks, that is, talking to other people; Reciprocity that is,\\npeople that have relationships and connections help each Culture: These are ideas, customs, traditions, and social\\nother; Collective Action which means, working as a group, behaviour of specific people in society.\\naction has a lot more impact than an individual action that you\\nStakeholders: These are individuals, groups of people, or\\nmight take. As people work together, a foundation of a\\norganisations that can affect the decisions and actions directly\\nrelationship connection is built with trust, which can be put to\\nor indirectly in an organisation. In this case, it includes;\\nuse in the future; and Identity and Solidarity, which brings\\nparents, community leaders, teachers, pupils and school\\nabout a sense of empowerment when we are connected to a\\nadministrators.\\ncommunity and are members of that community.\\nIII. REVIEWED LITERATURE\\nThere was need to understand the application of Social Capital\\nTheory about community involvement in the implementation For the process of learning to take place effectively, there was\\nof Comprehensive Sexuality Education. Building social need to involve people who were near the learning places in\\nnetworks and trust with shared norms, values and the implementation of education programmes and activities.\\nunderstanding are key issues in the Social Capital Theory. The community and the schools were usually affected by the\\nTherefore, the school managers, as well as the teachers, same problems and challenges, hence, the need for both to\\nneeded to consider these issues in involving the community in work together to create solutions to their problems. The Dakar\\nthe implementation of Comprehensive Sexuality Education. Framework of Action did call for developing responsive,\\nSchools had become more effective centres of learning when participatory, and accountable systems of educational\\nthe parents and local communities were closely and actively governance and management (UNESCO, 2000). Community\\ninvolved (Tedin and Weiher, 2011). involvement which was also a synonym for community\\nparticipation and community engagement enabled better ways\\nThere was need for schools to involve the community even\\nof running the education system when it came to transparency,\\nwhen the curriculum had been amended so that both had\\naccountability and also efficiency. Through the involvement\\nknowledge and information on what was being taught in\\nof the community, there could be flexibility so that the\\nschool. Regular involvement of the community in the\\nresponses were more effective to the diverse and continuously\\nimplementation of the curriculum enabled the schools to get\\nchanging needs of learners (Kumar, 2013 and Mulenga-\\nassistance from interest groups and stakeholders as support\\nHagane, Daka, and Kanchebele-Sinyangwe, 2020). The\\npillars of teacher effort (Mufanechiya and Mufanechiya,\\nprocesses of community involvement were strengthened by a\\n2011). Social networks were being created through the\\nmanagement information system that benefited from both new\\ncommunity involvement in the implementation of\\ntechnologies and community participation to produce timely\\nprogrammes and activities in schools as supported by the\\nand relevant accurate information (UNESCO, 2019).\\nSocial Capital theory.\\nCommunity involvement in the implementation of the school\\nDefinition of Terms\\ncurriculum has been neglected. In Ethiopia and Zimbabwe,\\nCommunity: This is a small or large group of people from the the literature reviewed showed that curriculum\\nsame geographically located area with different characteristics implementation does not pronounce community participation\\nand backgrounds, which are connected by social ties where in contentious and sensitive areas of lesson planning and\\nthe school is located. instruction, classroom management, the conducive learning\\nenvironment, and lesson evaluation (Swift-Morgan, 2006,\\nCommunity Involvement: These are efforts that are made to\\nNyoni and Mufanechiya, 2012). Schools in most rural areas of\\nbring the various people in society together to find solutions\\nZambia usually involve their traditional leaders when\\nto the problems and challenges that are being encountered. In\\nplanning, making decisions and implementing programmes\\nand activities in school. Most countries in the world have\\nwww.rsisinternational.org Page 219\\nInternational Journal of Research and Scientific Innovation (IJRSI) |Volume VIII, Issue IV, April 2021|ISSN 2321-2705\\ncome to accept and recognise the importance of traditional One of the barriers to community involvement in schools is\\nleaders as the custodians of their culture (Mbokozi, 2015). the inferiority complex by community members because the\\nTraditional leaders have got influence on people especially in teachers are the ones who have been trained and have got the\\nthe rural areas and are also given a lot of respect (Phiri, qualifications needed to educate their children (Gorinski and\\nMusonda and Daka, 2020). Thus, traditional leaders are Fraser, 2006 and Daka, 2019). The members of the\\nregarded as the true representatives of the people (Logan, community would rather they left the implementation of\\n2008). According to the study done by Mbokazi (2008: iv) in policies and activities to the qualified teachers who are\\nKwaZulu-Natal in South Africa, \\u201cthe context of the considered to be the experts. Community involvement in\\ninteraction between the traditional leaders and school implementation is also seen as a disturbance to the\\ngovernance provided an important platform where issues of implementation of the curriculum.\\nschool development, safety, security, school partnership, and\\nLanguage is another barrier to effective community\\nidentity can be interrogated and facilitated.\\u201d It is for this\\ninvolvement in implementation in secondary schools. When\\nreason that community involvement in schools especially in\\nteachers are implementing the curriculum, they usually use\\nthe rural areas must include stakeholders such as the\\nEnglish and most examinations in secondary schools are\\ntraditional leaders (Kakupa, Tembo and Daka, 2015).\\nconducted in English. The use of English as the medium of\\nIt is for this reason that this study\\u201fs focus is on community instruction has marginalised most of the population with\\ninvolvement in the implementation of Comprehensive regard to involvement in educational matters (Mufanechiya\\nSexuality Education in rural areas. Therefore, it is important and Mufanechiya, 2011). The use of English in secondary\\nto look at how the school involves the community in schools such as Zambia and Zimbabwe has not helped in the\\nimplementation. This study, therefore, aimed at investigating desired relationship between the teachers and the community\\ncommunity involvement in the implementation of members (Ternieden, 2009). A lot of communities have been\\nComprehensive Sexuality Education. For the management of excluded from classroom activities because languages in most\\nany school to be effective, there is need for the school head African countries favour the development and use of ex-\\nteacher to make sure that educational policies are being colonial languages of Europe as mediums of instruction (Miti,\\nimplemented. A well-informed head teacher who has a vision 2008). There is a threat to the interests and survival of the\\nwill strive to find solutions to the many challenges or communities when English is used as it favours the minority\\nproblems encountered at their school, should also be aware of (Mufanechiya and Mufanechiya, 2011).\\nthe education system goals that are to be achieved based on\\nThere are a lot of challenges to education in rural areas\\nteaching and learning (Daka, Namafe, and Katowa \\u2013\\nespecially for the girl child. That is why this study was done\\nMukwato, 2019). In doing so, it is also very cardinal that the\\nin the rural area. Child marriages are very common among\\nschool managers create a conducive environment that will\\ngirls than boys and in rural Bangladesh, women get married at\\nenable the involvement of the community in the\\nan early age due to social pressures (Nasrin and Rahman,\\nimplementation of policies in school. Hence, head teachers\\n2012). Yowela (2016:2) explains that \\u201cculture also promotes\\nshould not ignore the importance of stakeholders from the\\nchild marriages especially in rural Zambian communities; it\\ncommunity (Daka and Changwe, 2010).\\ncreates problems to both sexes although girls are more\\nThe Ministry of Education in Zambia does encourage affected since they are most vulnerable to early marriage and\\ncommunity participation in the management of the education are the majority victims; it limits the child\\u201fs education, affects\\nsector at all levels. Liberalisation and democratisation to the general health and puts the affected in a disadvantaged\\nenhance the involvement of civic society in development are a position.\\u201d Hence, child marriage in rural areas disadvantages\\nmajor objective and this can be achieved through community the girls as they drop out of school with little or no education.\\nparticipation in education (MoE, 1996). The education policy\\nLack of qualified teachers is another factor that hinders the\\nof Zambia\\u201fs principal thrust is that of giving people the\\ndevelopment of education in the rural areas of China (Mc\\nchance to give educational services or to improve on what is\\nquaide, 2009). Most teachers prefer to work in areas where\\nbeing offered, and must, therefore, include community\\nthere is development and can have access to certain things\\ninvolvement (MoE, 1996).\\nsuch as good roads, health facilities, good accommodation,\\nThere are a lot of advantages of cooperation between the and electricity. During the reform years, when the government\\nschool and the community as both can benefit (Hamaleke, lifted the regulation and control over labour mobility, a large\\nDaka and Mphande, 2020 and Sibanda, Daka, and Daka - number of experienced teachers left the poorer regions or\\nMakowa, 2021). This can be possible if the school and the countryside for developed areas and urban centres (Mc\\ncommunity understand each other. According to Davis et al., Quaide, 2009). Lack of qualified teachers does affect the\\n(2002:35), \\u201cthe journey to get to know each other and come to teaching and learning process negatively and this is a\\na working agreement is never easy.\\u201d This is because wherever challenge in rural areas.\\nthere are people, differences and conflicts are also there.\\nPeople in rural areas are often suspicious of anything contrary\\nTherefore, barriers are there when it comes to community\\nto their way of life that is, their traditions and customs. In this\\ninvolvement in schools.\\ncase, involving them in the implementation of Comprehensive\\nwww.rsisinternational.org Page 220\\nInternational Journal of Research and Scientific Innovation (IJRSI) |Volume VIII, Issue IV, April 2021|ISSN 2321-2705\\nSexuality Education, which is quite different from the schools, parents, church leaders, and headmen/women from\\ntraditions, is usually treated with suspicion. Therefore, if they the community. The sample comprised 92 respondents broken\\nare not involved in education in their areas, they shun away down as follows: 7 head teachers, 7 heads of department, 15\\nand will not take part. For any education policy or activity to teachers, 50 learners, and 13 community members, which\\nbe successfully implemented, there is need to involve the included 6 parents, 4 church leaders, and 3 headmen.\\ncommunities especially in places such as the rural areas. Respondents were selected through purposive sampling in this\\nDebrah (2015:130), argues that \\u201ccurrent research in the area study. Purposive sampling is a non-probability sampling\\nof community development encapsulates that the major which focuses on people with the needed information. Tongco\\nquestions of resource utilisation, ownership and sustainability (2007:1147) explains, that \\u201cthe purposive sampling technique\\nare better understood in the context of community also called judgement sampling is a deliberate choice of an\\nparticipation of community members.\\u201d It has been common in informant due to the qualities the informant possesses.\\u201d\\nrural areas of Ghana for communities not to take part or\\nThe Questionnaire was used to collect data from the teachers\\nabandon schools when they are not involved in policies and\\nwho teach subjects in which Comprehensive Sexuality\\nprojects in schools located within their communities\\nEducation has been integrated. An interview guide was used\\n(Education Development Centre, 2004).\\nto collect data from the heads of departments and the head\\nMost schools in rural areas are geographically isolated. They teachers and community members. The focus group\\nare far away from the homes of the learners and so the discussions were used for collecting data from the learners.\\nlearners have to walk long distances to school. The Before going into the field to collect data, ethical clearance\\ngeographical isolation of these schools further poses was sought from the ethical committee of the University of\\nchallenges to issues of educational access and equity because Zambia. A letter of introduction was obtained from the\\npupils are made to walk long distances on foot to get to the Directorate of Research and Graduate Studies of the\\nnearest school (Schaf et al., 2008). Low levels of formal University of Zambia. The letter was presented to the District\\nqualifications in the local adult population and poor Education Board Secretary in Chibombo district to get\\nemployment opportunities contribute to low motivation for permission to conduct research at selected secondary schools\\neducation in rural areas (Mbozi, 2009). It is also very common in Chibombo district. Permission was also obtained from the\\nin the rural areas for young people to try to behave in head teachers before arranging for appointments for collecting\\nacceptable standards of the communities like not having any data from the school administrators and teachers. To address\\nmotivation for education. If a community has values, attitudes, the issues of reliability and validity of the study, a detailed\\npractices, or activities that conflict with schools\\u201f academic account was provided on the focus of the study, the\\nvalues, pupils get drawn away from what schools have to offer informants and their role and positions with regard to\\nto conform to community norms (Redding and Walberg, implementation of the Comprehensive Sexuality Education\\n2012). curriculum and this was the basis for the selection of the\\nsample population from which data was gathered.\\nIn the Zambian Constitution\\u201f preamble, there is a declaration\\nAdditionally, data collection and analysis strategies were\\nwhich states that Zambia is a Christian Nation which upholds\\nreported in detail in this study. The qualitative data that was\\nthe rights of every person to enjoy that person\\u201fs freedom of\\ncollected in this study was systematic and helped the\\nconscience or religion (The Constitution of Zambia, 1996).\\nresearcher to easily discuss the findings. The information from\\nThis implies that the laws of Zambia must be interpreted\\nthe questionnaires, interview guide, and focus group\\naccording to biblical principles. All scriptures in the Bible\\ndiscussion were analysed by coding and emerging themes.\\napprove of no other sexual union than that between a husband\\nand wife (Stanton, 2019). From this Christianity point of V. RESEARCH FINDINGS\\nview, sex must only be between males and females who are\\nTable 1 shows responses on who the major community\\nmarried. Therefore, in the Zambian syllabus for\\nstakeholders involved in the implementation of\\nComprehensive Sexuality Education, homosexuality was left\\nComprehensive Sexuality Education in the selected rural\\nout.\\nsecondary schools of Chibombo district were.\\nIV. METHODOLOGY\\nTable 1: Major Stakeholders in the Implementation of Comprehensive\\nA case study research design was used in which qualitative Sexuality Education\\ndata was gathered. According to Simons (2009:21), a case\\nS/N Stakeholders 100%\\nstudy is an in-depth exploration from multiple perspectives of\\n1 Parents 83\\nthe complexity and uniqueness of a particular project, policy,\\ninstitution, programme or system in \\u201ereal-life\\u201f. In this study, 2 Teachers 66\\nthe targeted population included learners, teachers who teach\\n3 Chiefs and headmen 45\\nthe specific subjects in which Comprehensive Sexuality\\n4 Health personnel 38\\nEducation has been integrated, heads of departments who\\nhave Comprehensive Sexuality Education integrated into their 5 Church leaders 28\\nsubjects and school managers at selected rural secondary\\nwww.rsisinternational.org Page 221\\nInternational Journal of Research and Scientific Innovation (IJRSI) |Volume VIII, Issue IV, April 2021|ISSN 2321-2705\\n6 Law officers 28 especially the issues related to reproductive health.\\nThey have got accurate information which is of\\n7 Learners 14\\nbenefit to learners and the community. They deal with\\n(Source: Field Data, 2021) issues to do with puberty and reproductive health\\nwhich are part of Comprehensive Sexuality\\nReasons why they were Considered as the Major Community\\nEducation.\\u201d\\nStakeholders\\ne. Civic Leaders\\na. Parents\\nCivic leaders were cited as major stakeholders because they\\nParents were considered as major stakeholders due to the fact\\nwere the policymakers and had a huge influence in the making\\nthat the parents are the ones who provide the schools with\\nand in the implementation of the policies. They also had a big\\nlearners and that they must participate in the implementation\\ninfluence on the community. According to one respondent\\nof Comprehensive Sexuality Education. One respondent\\n(Administrator 3):\\n(Parent 1) explained in Lenje;\\n\\u201cPolicymakers are able to address issues that are perceived\\nNdiswe tutuma bana bachikolo mushikolo alimwi\\nas taboo. They are also able to explain openly why sexual-\\nninga teshindiswe ashikolo ninga takuwo. Bashali\\nrelated issues are being taught in school such as\\nbalielete kushiba bana babo nchebeya kuchikolo.\\u201d\\nComprehensive Sexuality Education.\\u201d\\n(We are the ones who provide the school with\\nlearners and without us, the school would not exist. f. Law Officers\\nParents need to know what their children are learning\\nThe respondents who listed them explained that law enforcers\\nin school).\\u201d\\nhelp to educate learners and the community on criminal\\nb. Teachers offences such as gender-based violence, rape and others.\\nThrough an interview, one respondent (Head of Department 4)\\nThe respondents included teachers as major stakeholders in\\nstated that:\\nthe implementation of Comprehensive Sexuality Education at\\n59 per cent. One respondent (parent 5) explained in Lenje; \\u201cThe police officers have also helped to arrest some pupils\\nwho misbehave in school due to drug abuse and also drinking\\nBana bachikolo balanguluka kubandika makani\\nalcohol which usually results in violence and disturbing the\\nakonana ku bamayi babo kwiinda kuba mashali babo.\\nlearning process in the school.\\u201d\\nBamayi balite alimwi bala pandulula kabotu makani\\nachatikisha konana kubana besu (Learners are very g. Learners\\nfree to discuss sexual issues with their teachers than\\nSome respondents stated that the learners were among the\\ntheir own parents. The teachers are trained and in a\\nmajor stakeholders involved in the implementation of\\nbetter position to explain such sexual issues to our\\nComprehensive Sexuality Education in school because they\\nown children in schools).\\u201d\\nhad obtained knowledge on various issues in Comprehensive\\nc. Chiefs and Headmen Sexuality Education and were also trusted by their peers. A\\nmember of one a focus group discussion stated:\\nChiefs and headmen were also perceived as helpers in\\nsensitising the members of their communities on a lot of \\u201cWe are able to impart knowledge to our fellow learners\\nissues such as Comprehensive Sexuality Education issues and about sexual issues like the use of condoms to prevent\\ncertain traditional or cultural practices that are bad. One Sexually Transmitted Diseases and pregnancies. Some of our\\nrespondent (Headman 2) explained in Lenje: friends are sick and some have done illegal abortions which\\nresulted in death.\\u201d (Group 3 FGD Member).\\n\\u201cBama nduna balichite nkusu muma sena mobakala.\\nBala yumiayumia bantu bamumishi kwambai batole How Head Teachers Promote Community Involvement\\nlubasu mumakanialwiyo (The headmen/women have\\nThe head teachers in the selected secondary schools had used\\ngot big influence in the community. They can convince\\na number of ways to promote community involvement in the\\nthe members of their villages to participate in\\nimplementation of Comprehensive Sexuality Education.\\neducational matters).\\u201d\\nThese included programmes such as sports, guidance and\\nd. Health Personnel counselling, Annual General Meeting (AGMs), infrastructure\\ndevelopment, awards day, re-entry policy, motivational talks\\nHealth personnel included nurses, clinical officers and\\nand controlling of bad behaviour.\\ndoctors. Respondent explained that these were listed because\\nthey were the experts in health-related issues. One respondent Figure 4.1 shows the responses from the respondents on the\\n(Administrator 1) stated that: ways that head teachers used to promote community\\ninvolvement in the implementation of Comprehensive\\n\\u201cThe health personnel such as doctors, nurses and\\nSexuality Education in the selected schools.\\nClinical officers are experts in health related issues\\nwww.rsisinternational.org Page 222\\nInternational Journal of Research and Scientific Innovation (IJRSI) |Volume VIII, Issue IV, April 2021|ISSN 2321-2705\\nFigure 1: How Head teachers Promote Community Involvement schools gave chance to community members such as health\\npersonnel to talk about Comprehensive Sexuality Education\\nissues:\\n\\u201cWhen conducting sports activities in school, we do give\\nchance for some members of the community such as the health\\npersonnel, police officers and also some parents to talk to the\\nlearners about Comprehensive Sexuality Education issues\\nsuch as the dangers of drug abuse, the importance of\\nabstinence, use of condoms, self-esteem and consequences of\\nGender Based Violence. This is usually done a few minutes\\nbefore the pupils start to play ball games or athletics.\\u201d\\nAnnual General Meetings were another way in which the\\ncommunity was involved in the implementation of the\\nComprehensive Sexuality Education curriculum. Some of the\\n(Source: Field Data, 2021) issues that are discussed include cross-cutting issues that are\\npart of Comprehensive Sexuality Education. One of the\\nDisciplinary cases in the schools was among the ways stated\\nadministrators (Head teacher 5) explained that;\\nby the respondents as the main way in which head teachers\\nused to promote community involvement in the \\u201cSome parents are appointed to talk about such\\nimplementation of Comprehensive Sexuality Education. issues to their fellow parents at the beginning of the\\nAccording to a respondent (Head teacher 5); Annual General Meeting. The parents are made to\\nrealise that such issues lead to absenteeism in class,\\n\\u201cSome learners have been indulging themselves in\\nabsenteeism during examinations, loss of interest in\\nunprotected sex, which resulted in pregnancies and some have\\neducation especially among the school girls who get\\neven done abortions after a pregnancy test was done and\\npregnant, dropping out of school and also most\\nconfirmed that they were pregnant. It is during such times that\\ncommon causes of child marriage.\\u201d\\npeople like parents, the health personnel and the police officer\\nare called upon to attend classes to help control bad Challenges Faced by Schools to Involve the Community\\nbehaviour and also to talk to the learners.\\u201d\\nThe schools in the rural areas particularly in Chibombo do\\nMost of the teachers explained that community involvement face challenges in their quest to involve the community in the\\nin the implementation of Comprehensive Sexuality Education implementation of Comprehensive Sexuality Education. There\\nwas also done through the Guidance and Counselling were a number of responses from the respondents on the\\ncommittee. According to a respondent (Teacher 10); challenges that the school faces in their quest to involve the\\ncommunity in the implementation of Comprehensive\\n\\u201cThe guidance and counselling committee always prepares a\\nSexuality Education. The following were some of the\\nprogramme every term where they fixed times and dates in\\nchallenges faced by the rural secondary schools.\\nwhich the community were called upon to help in the\\nimplementation of Comprehensive Sexuality Education in Traditions/Culture\\nschools. Such programmes are restricted to the Guidance and\\nMost schools in Chibombo are surrounded by villages headed\\nCounselling Committee.\\u201d\\nby the village headmen/women. There are traditions and\\nMotivation talks was also another way in which the customs which are followed and these include those that deal\\ncommunity was involved in the implementation of with sexual-related issues. Tradition and culture do not allow\\nComprehensive Sexuality Education. The motivation talks for people to talk about sex publicly.\\nwere done to encourage the learners to be focused with their\\nAnother respondent (Church leader 4) also said:\\neducation and not to be destructed. According to one\\nrespondent (head teacher 6); \\u201cAccording to our traditions and culture boys and\\ngirls are taught separately on different occasions\\n\\u201cIt is during the motivational talks that Comprehensive\\nsexual-related issues. Women are taught to be seen\\nSexuality Education issues are also integrated into and talked\\nand not heard and that they are not supposed to\\nabout. These include teen pregnancies, Gender-Based\\nexpose their homes to the public especially when\\nViolence, substance abuse.\\u201d\\ndealing with sexual-related issues such as rape,\\nSports was another way in which head teachers involved the defilement, child marriage incest and Gender Based\\ncommunity in the implementation of Comprehensive Violence especially in their homes. In schools, we see\\nSexuality Education in the selected secondary schools. girls and boys being taught together and told to\\nAccording to one administrator (Head teacher 7), as report crimes such as rape, defilement, child\\nhighlighted in the quotation below, during sports activities, marriage, incest, and Gender Based Violence.\\u201d\\nwww.rsisinternational.org Page 223\\nInternational Journal of Research and Scientific Innovation (IJRSI) |Volume VIII, Issue IV, April 2021|ISSN 2321-2705\\nLow Literacy Levels among the Community Members Table 3: Measures to be put in Place to Promote Community Involvement\\nThe respondents explained that low literacy levels among the Measures the school managers can put in Place Percentag\\nSN to Promote Community Involvement of e\\ncommunity members were a challenge in trying to involve\\nComprehensive Sexuality Education (100 %)\\nthem in the implementation of Comprehensive Sexuality\\n1 Sensitisation meetings and workshops 60\\nEducation in the selected rural schools. One respondent\\nOpen Comprehensive Sexuality Education\\n(Administrator 7) explained that:\\n2 programmes in school which involve the 21\\ncommunity\\n\\u201cSome members of the community have not gone very\\nThe school and community to speak the same\\nfar in their educational levels. Some are Grade seven,\\n3 language on Comprehensive Sexuality 35\\nnine and twelve dropouts. When trying to involve Education\\nthem in educational programmes such as Choosing leaders from the community to\\n4 spearhead Comprehensive Sexuality Education 18\\nComprehensive Sexuality Education which they do\\nprogrammes\\nnot fully understand, they usually misinterpret the\\nUse of familiar language and printed materials\\nimportance and benefits of Comprehensive Sexuality in familiar language when involving the\\n5 30\\nEducation.\\u201d community on Comprehensive Sexuality\\nEducation\\nThe Use of English Couple Comprehensive Sexuality Education\\n6 with gender pedagogy and make it a standalone 12\\nOne respondent (Parent 5), stated that: subject\\nInvolve the community during assembly and\\n\\u201cThe use of English in secondary schools makes it 7 1\\nopen day\\nquite difficult for some members of the community to Give incentives to the community such as food,\\nbe involved in the implementation of Comprehensive 8 t-shirts with Comprehensive Sexuality 52\\nEducation messages and money\\nSexuality Education especially those that cannot\\nThere should be laws to hold the community\\nexpress themselves in English. Most of the times when\\n9 accountable on Comprehensive Sexuality 14\\nthere are meetings and activities, only those who are Education issues\\nable to speak in English are considered even when\\n(Source: Field Data, 2019)\\ngiving suggestions towards the development of the\\nschool. Also, most teachers are not able to speak in Various measures to use to promote community involvement\\nthe local language which is Lenje. Most of the times in the implementation of Comprehensive Sexuality Education\\nwhen the community members are involved, there is were suggested by the respondents. These measures include\\nalways need for an interpreter.\\u201d introducing sensitisation meetings and workshops, opening\\nComprehensive Sexuality Education programmes in school\\nShyness towards the Contents of Comprehensive Sexuality\\nwhich involve the community, choosing leaders from the\\nEducation\\ncommunity to spearhead Comprehensive Sexuality Education\\nSome respondents mentioned that some members of the programmes, using of familiar language and printed materials\\ncommunity are too shy to be involved in the implementation in familiar language when involving the community on\\nof Comprehensive Sexuality Education due to its contents. Comprehensive Sexuality Education, coupling\\nThere was 6 per cent of the responses from the respondents Comprehensive Sexuality Education with gender pedagogy\\nwho stated shyness towards the contents of Comprehensive and making it a standalone subject, giving incentives to the\\nSexuality Education as a challenge. One respondent (Teacher community such as food, money and t-shirts with\\n12) explained that; Comprehensive Sexuality Education messages and putting in\\nplace laws to hold the community accountable on\\n\\u201cContents of Comprehensive Sexuality Education are\\nComprehensive Sexuality Education issues.\\njust too sensitive and some members of the community\\nespecially parents are too shy to stand before learners V. DISCUSSION, CONCLUSION AND\\nto talk about sexual-related issues.\\u201d RECOMMENDATIONS\\nMeasures to be put in Place to Promote Community Major Community Stakeholders in the Implementation\\nInvolvement\\nThe results of the study showed that community involvement\\nThe respondents made suggestions on the measures that could in the implementation of Comprehensive Sexuality Education\\nbe put in place to enhance community involvement in the was valued in the selected schools of Chibombo district. As\\nimplementation of Comprehensive Sexuality Education in stated in the literature review, involving stakeholders from the\\nrural secondary schools as shown in Table 4.3. community in educational matters brings about a lot of merits\\nwhich empowers the teachers to use various ways in the\\nteaching and learning process (Chindanya, 2011, Swift-\\nMorgan 2006). The study showed a number of people from\\nthe community who were considered to be the major\\ncommunity stakeholders involved in the implementation of\\nwww.rsisinternational.org Page 224\\nInternational Journal of Research and Scientific Innovation (IJRSI) |Volume VIII, Issue IV, April 2021|ISSN 2321-2705\\nComprehensive Sexuality Education in the selected rural consequences of the mentioned criminal offences (Mukalula-\\nsecondary schools of Chibombo district. Kalumbi, 2015). Furthermore, studies have shown that\\nschools usually make use of law enforcement through\\nFrom the interviews that were done with the parents, the\\nhandling violence, crime prevention, mentoring, alcohol\\nmajority of them explained that they were the owners of the\\nawareness and drug awareness classes (Coon and Travis,\\nlearners who came to school and that there was need for them\\n2005).\\nto know what they learnt in school and be involved in the\\nimplementation of Comprehensive Sexuality Education. The learners were the owners of Comprehensive Sexuality\\nInvolvement of the parents in the implementation of Education and it was important for them to be involved in its\\nComprehensive Sexuality Education was very important implementation. Learners have an impact on their fellow\\nbecause the parents were made to know some of the learners and their involvement in the implementation helped\\nchallenges that their children faced especially the sexual other learners to know the importance of Comprehensive\\nrelated issues such as puberty, sex, relationships, pregnancies, Sexuality Education. They also helped their school mates by\\nsubstance abuse, Sexually Transmitted Diseases and also educating them about the dangers of substance abuse, risky\\nHuman Immunodeficiency Virus and Acquired Immune sexual behaviour, and also the importance of reproductive\\nDeficiency Syndrome. For any school to have good health as well as having self-esteem. Learners helped their\\nperformance and also maintain its effectiveness, there is need friends to understand issues such as the puberty stage which\\nfor parent involvement (Harris et al., 2003). bring a lot of stress and confusion.\\nThe educators who implement the curriculum and also in the Ways Head Teachers Promote Community Involvement\\nforefront of implementing other educational programmes and\\nThe study established that the head teachers did not have\\nactivities in school are teachers (Daka, Banda and Namafe,\\nprogrammes specifically for community involvement in the\\n2020). They have an obligation of teaching Comprehensive\\nimplementation of Comprehensive Sexuality Education but\\nSexuality Education as it is part of the school curriculum\\nthat they used other planned programmes in which\\n(Mchunu, 2007). Imparting relevant Comprehensive Sexuality\\nComprehensive Sexuality Education was integrated. These\\nEducation knowledge on the learners was part of their\\nprogrammes included handling disciplinary cases, using\\nresponsibilities, however, there was need for them to work\\nguidance and counselling activities, sports activities and\\ntogether with other stakeholders from the community to help\\nAnnual General Meetings. These activities from literature\\nlearners not to involve themselves in harmful sexual-related\\nhave shown that they bear fruits also.\\nactivities.\\nStudies have shown that in the United State of America, the\\nThe Chiefs and the headmen are the custodians of traditions\\nschool managers had planned programmes were people from\\nand customs (Mbokazi, 2015 and Daka, Mwelwa, Chibamba,\\nthe Law enforcement and health personnel were involved, not\\nMkandawire, and Phiri, 2020.). The study showed that\\njust handling disciplinary cases but also mentoring on how to\\ntraditional leaders such as the chiefs and headmen play a\\nleave healthy lives, crime prevention, alcohol awareness and\\nsignificant role in rural secondary schools. The study showed\\ndrug awareness classes (Coon &Travis, 2005 and Leung,\\nthat people in the communities had respect for traditional\\n2018). When imparted on learners, such knowledge helps\\nleaders as they listened to them when they spoke. Therefore,\\nthem to follow acceptable standards of behaviour and also\\ntheir involvement in the implementation of Comprehensive\\nhelps them to refrain from anything that is considered\\nSexuality Education had a positive impact on the learners.\\nunacceptable behaviour. Annual General Meetings (AGMs)\\nThe school could not work on its own without involving the also help to promote community involvement in the\\nhealth personnel who were experts in all health issues. Studies implementation of Comprehensive Sexuality Education\\nshowed that teachers and health personnel work together in (Mullins, 2006, MOE, 2006)). These parents are able to go\\nschool when implementing Comprehensive Sexuality and transfern information to their children.\\nEducation (Leung, 2018). They have the scientifically proven\\nChallenges Faced by the Schools to Involve the Community\\ninformation which was also needed in the implementation of\\nComprehensive Sexuality Education in schools. This was the In line with the third objective that looked at the challenges\\nreason for their involvement in the implementation of that the rural secondary schools faced in involving the\\nComprehensive Sexuality Education. community in the implementation of Comprehensive\\nSexuality Education. Studies have shown that conservative\\nThe law enforcers also helped a lot in the implementation of\\nculture posed as a challenge when it came to the\\nComprehensive Sexuality Education in schools. They\\nimplementation of Comprehensive Sexuality Education\\nincluded people such as the police officers and the Drug\\n(Mchunu, 2007). The differences in the way sexual issues\\nEnforcement Commission Officers. These people were\\nwere handled according to tradition created problems between\\nincluded among the major stakeholders because they were\\nthe school and the community and this affected community\\nexperts when it came to criminal offences such as drug abuse,\\ninvolvement in the implementation of Comprehensive\\nalcohol abuse, defilement, rape and Gender Based Violence.\\nSexuality Education in the selected secondary schools. In the\\nThey were also able to educate the learners on the\\nwww.rsisinternational.org Page 225\\nInternational Journal of Research and Scientific Innovation (IJRSI) |Volume VIII, Issue IV, April 2021|ISSN 2321-2705\\ntraditions and culture of communities where the selected in the implementation of Comprehensive Sexuality Education.\\nschools were located, sexual-related issues were taught to This could be done by choosing leaders among the community\\nboys and girls separately but Comprehensive Sexuality members who could help to spearhead the Comprehensive\\nEducation was taught to both boys and girls at the same time. Sexuality Education programmes in school and also out of\\nschool. These leaders could be accountable for everything that\\nSome studies have shown that most people in rural areas\\nthey do as they led those involved in the implementation of\\nespecially in Africa had low educational levels and illiteracy\\nComprehensive Sexuality Education. It was also another way\\n(Mulkeen, 2005). In this study, it was revealed that low\\nof encouraging other members of the community to join in the\\neducational levels and illiteracy among the community\\nimplementation of Comprehensive Sexuality Education.\\nmembers was also a challenge in trying to involve them in the\\nFinally but not the least, the study showed that there is need to\\nimplementation of Comprehensive Sexuality Education. Some\\nuse familiar language. Therefore, people from the community\\nmembers of the community felt that they were not educated\\nmust be allowed to use their familiar language when\\nlike the teachers and that they felt inferior working with them.\\nparticipating in the implementation of Comprehensive\\nIn addition, the emphasis on the use of English in secondary\\nSexuality Education and also other educational programmes.\\nschools made it quite difficult for some members of the\\nThe use of familiar language could also encourage other\\ncommunity to be involved in the implementation of\\ncommunity members to be involved in the implementation of\\nComprehensive Sexuality Education especially those that\\nComprehensive Sexuality Education.\\ncould not express themselves in English. The study found that\\nmost of the time, when there were programmes and activities VI. CONCLUSION\\nin the selected secondary schools, only those who spoke\\nThe study brought out important points concerning\\nEnglish were considered for leadership positions in Parents\\ncommunity involvement in the implementation of\\nTeacher Associations and school boards. Some studies have\\nComprehensive Sexuality Education in rural areas,\\nalso shown that the use of English in schools has not helped in\\nparticularly in the Chibombo district of the Central province\\nthe development of the desired relationship between the\\nof Zambia. Lack of correct and scientifically proven\\nteachers and the community members and that there is a threat\\ninformation on Comprehensive Sexuality Education among\\nto the interests and survival of communities as it favours the\\nthe learners especially in rural secondary schools of\\nminority (Ternieden, 2009; Mufanachiya and Mufanachiya,\\nChibombo district has led to a lot of problems in the schools\\n2011). A study by Mbozi et al., (2017) revealed that it was\\nand also the communities in which these schools are located.\\nconsidered a taboo to involve elders to teach the young\\nAmong the many problems are teenage pregnancies, low self-\\nchildren about sexual-related issues as some contents were not\\nesteem, illegal abortions, substance abuse, and child\\nsuitable for certain age groups. This is because the contents of\\nmarriages. It is for this reason that the community needs to be\\nComprehensive Sexuality Education such as sex,\\ninvolved in the implementation of Comprehensive Sexuality\\nrelationships, defilement, rape, and reproductive health were\\nEducation in the secondary schools as it looks at all sexual-\\nconsidered to be very sensitive. This made some members of\\nrelated issues such relationships, values, attitudes, skills,\\nthe community too shy away from being involved in\\nculture, society, human rights, human development, sexual\\nimplementing such sensitive topics to the learners. Members\\nbehaviour, and sexual reproductive health in a holistic way.\\nof the community were against teaching the learners about\\ncertain sexual issues as it was not acceptable. The study has also revealed some measures which can be put\\nin place by the school managers to enhance community\\nMeasures to be put in Place to Promote Community\\ninvolvement in the implementation of Comprehensive\\nInvolvement\\nSexuality Education. These include sensitisation meetings and\\nIn order to enhance community involvement, the study workshops for teachers and the community. Schools need to\\nrevealed that there was need for sensitisation meetings and open Comprehensive Sexuality Education programmes and\\nworkshops particularly for all the teachers and community activities which involve the community. There is also need to\\nmembers to be oriented and educated in Comprehensive choose leaders from the community to spearhead\\nSexuality Education. Also, through the meetings and Comprehensive Sexuality Education programmes and\\nworkshops, community members could be made aware of the activities. The community members must be allowed to use\\nimportance of their involvement in the implementation of familiar language when they are involved. Additionally,\\nComprehensive Sexuality Education in rural secondary Comprehensive Sexuality Education should be coupled with\\nschools. gender pedagogy and also make it a standalone subject.\\nThere was need for the school and the community to speak VII. RECOMMENDATIONS\\none language when it came to Comprehensive Sexuality\\nBased on the findings of the study, the following\\nEducation issues. This was an indication that information\\nrecommendations have been made:\\nwhich the school imparted on the learners must not be in\\nconflict with the information which the community members 1. In this study, it was revealed that the teachers\\nimparted on the learners. There was need to make the implemented Comprehensive Sexuality Education as\\ncommunity have a sense of ownership over their involvement\\nwww.rsisinternational.org Page 226\\nInternational Journal of Research and Scientific Innovation (IJRSI) |Volume VIII, Issue IV, April 2021|ISSN 2321-2705\\nan integrated subject in biology, integrated sciences, [6] Constitution of Zambia Act of 1996 Chapter 1 of the Laws of\\nreligious education, civic education, and home Zambia Volume 1.\\n[7] Coon, J.K., and Travis, F.L. (2005) The Role of Law Enforcement\\neconomics. The teachers need to give Comprehensive\\nin Public School Safety: A National Survey. Cincinnati: University\\nSexuality Education full attention through its of Cincinnati.\\nimplementation in class as well as through the [8] Cooper, H.R.D., and Schindler, S.P. (2008) Research Business\\ncommunity members such as the parents, Methods. New York: McGraw Hill.\\n[9] Couvaras, J. (2013) \\u201cCriminological Evaluation of Gay Rights\\nheadmen/chiefs, and other community members.\\nUnder the Zambian Criminal Justice System.\\u201d Master of Laws.\\n2. There is a need for teachers to be fully trained in The University of Zambia: Lusaka.\\nComprehensive Sexuality Education as most teachers [10] Daka, H, Jacob, W. J., Mbewe S., L. M. Mulenga - Hagane,\\nwere not familiar with Comprehensive Sexuality Kalimaposo, K, Masaiti, G., Mphande ,F. (2021). Integration of\\nHIV and AIDS into Primary Curriculum: Teacher Training\\nEducation. All in-service teachers should be trained in\\nCurriculum. International Journal of Humanities Social Sciences\\nComprehensive Sexuality Education so that they are and Education, Vol 8 (2); 123 \\u2013 133.\\nfully equipped with the needed information which [11] Daka, H., Phiri, D., Chipindi, F. M., Nachimwenda, E. (2021).\\ncould help in making community involvement in the Value of Traditional Ceremonies in Socio-Economic\\nDevelopment. A Case of Some Selected Traditional Ceremonies in\\nimplementation of Comprehensive Sexuality Education\\nZambia. International Journal of Humanities Social Sciences and\\nin schools effective. Education, Vol 8 (2); 134 \\u2013 141.\\n3. The school managers must ensure that deliberate effort [12] Daka, H., Mwelwa, K., Chibamba, A. C.,Mkandawire, S. B. and\\nout of classroom activities is planned in schools which Phiri, D. (2020). The Role of Traditional Leadership in Ending\\nEarly Child Marriages for Education: Experiences from Kalonga\\nwill allow the community members to be involved in\\nGawa Undi Chiefdom of Katete District, Zambia. Malcolm Moffat\\nthe implementation of Comprehensive Sexuality Multidisciplinary Journal of Research and Education, 1, (1), 101 \\u2013\\nEducation programmes and activities. 121.\\n4. Community members who are to be involved in the [13] Daka, H., Banda, S. S., & Namafe, C. M. (2020). The Relationship\\nBetween Course Management And Examination Attrition Rates\\nimplementation of Comprehensive Sexuality Education\\nAmong Undergraduate Medical Students at the University Of\\nin schools must be allowed to use their familiar Zambia. International Journal of African Higher Education, 7(1),\\nlanguage and not just English. This could enable some 97 \\u2013 112.\\nmembers from the community who are not able to [14] Daka, H. and Changwe, R. (2020). An Exploration of Education\\nQuality in the Light of the Grade Point Average and Examination\\nspeak in English or who are not fluent in speaking in\\nAttrition Rate. International Journal of Humanities Social Sciences\\nEnglish to fully participate in the implementation of and Education. Vol.7 (6), 196-207.\\nComprehensive Sexuality Education in the schools. [15] Daka, H., Namafe, C. M. and Katowa \\u2013 Mukwato, P. (2019).\\n5. The school managers must enhance awareness Perspectives on Teaching Approaches and the Grade Point\\nAverage Attainment of Undergraduate Medical Students at\\nmessages to the community members on the\\nUniversity of Zambia. International Journal of Humanities Social\\nimportance and benefits of them being involved in the Sciences and Education. Vol.6 (12), 75-82.\\nimplementation of Comprehensive Sexuality Education [16] Daka, H., Mwelwa, K., Tembo, P. and Mulenga-Hagane, M.\\nin schools and in their homes. Communication and (2019). Integration of HIV and AIDS in Higher Education\\nCurriculum: A Case Study of an HIV Course in the School of\\ninformation should be aimed at reaching the\\nEducation of the University of Zambia. International Journal of\\ncommunity within which the school is located. The Humanities Social Sciences and Education. Vol.6 (9), 83 \\u2013 93.\\ncommunity should be involved in spreading the [17] Daka, H. (2019). Understanding the Correlation between\\nComprehensive Sexuality Education issues such as the Institutional Characteristics and Academic Performance: A case of\\nUndergraduate Medical Students at University of Zambia. Journal\\nconsequences of teen pregnancies, child marriage,\\nof Lexicography and Terminology. Vol.3 (2), 96 \\u2013 116.\\nsubstance abuse, and Gender Based Violence. [18] Davis, H et al., (2002) Working in Partnership with Parents: The\\nParent Advisor Model. London: Pearson\\nREFERENCES [19] Debrah, A.I. (2015) \\u201eCommunity Participation in Educational\\nInfrastructure Development and Management in Ghana\\u201f\\n[1] Agneessens, F. (2006) Different Theories and Measures of Social\\nEDUCATION 5(5), pp 129-141.\\nCapital: Application in Knowledge-Intensive Work in\\n[20] Education Development Centre (2004) Community School\\nEnvironment Paper presented at the Research Methods Festival,\\nAlliance Project Osu, Accra. The Global Learning Group Ghana.\\nOxford, St Catharine\\u201fs College, Oxford. Available at Available at http://www.ede.org/CSA. Retrieved on 6th June 2019.\\nwww.commdev.org/files/652-file-9020037.pdf. Accessed on 29th\\n[21] Gorinski, R. and Fraser, C. (2006) Literature Review on the\\nJune 2019.\\nEffective Engagement of Pasifika Parents and Communities in\\n[2] Aminu, J. (2006) Quality and Stress in Nigerian Education. Zaria:\\nEducation. Pasifika Education Research Division. New Zealand:\\nUniversity Press\\nMinistry of Education. Available at www.edinedu.govt.nz\\n[3] Bibire, A. (2014) Community Participation in Education: Accessed on 29th June 2019.\\nChallenges and Prospects in Nigeria. Retrieved on 28th June 2019\\n[22] Hamaleke, B, S and Daka, H. and Mphande, F. (2020). Strategies\\nat http://challengenigeria.com.ngcommunity-participation-in-\\nto Overcome the Challenges faced by Weekly Boarders: A case\\neducationchallenges-and-prospects-in-nigeria/\\nstudy of Selected Day Secondary Schools in Chikankata District in\\n[4] Braeken, D. and Castellanos, U. (2016) Fulfil Guidance Document\\nSouthern Province, Zambia. International Journal of Humanities\\nfor The Implementation of Young People\\u201fs Sexual Rights. Paris:\\nSocial Sciences and Education. Vol 7 (6), 175 \\u2013 186.\\nIPPF.\\n[23] Harris, A. et al., (2003) Raising Attainment in schools in Former\\n[5] Chindanya, A. (2011) \\u201cParental Involvement in Primary Schools:\\nCoal Field Areas. Warwick: University of Warwick.\\nA Case of the Zaka District of Zimbabwe\\u201d Doctoral Thesis.\\n[24] Kakupa, P., Tembo P., and Daka, H. (2015). \\u201cLinking Teacher\\nUniversity of Pretoria: Pretoria.\\nEffectiveness to School Performance: Evidence from Rural Day-\\nwww.rsisinternational.org Page 227\\nInternational Journal of Research and Scientific Innovation (IJRSI) |Volume VIII, Issue IV, April 2021|ISSN 2321-2705\\nSecondary Schools in Western Province of Zambia\\u201d Zambia Selected Public Primary Schools of Katete District, Zambia.\\nJournal of Teacher Professional Growth. Vol. 2, no. 2, pp. 17-30. Malcolm Moffat Multidisciplinary Journal of Research and\\n[25] Kumar, G.R. (2013) \\u201eCommunity Participation in Education: A Education 1, (1), 137 \\u2013 155.\\nchanging Pattern of Education Administration in India\\u201f [43] Sibanda, L., Daka, H. and Daka, Makowa, L. (2021). Couple\\nInternational Journal of Research Studies in Education 2(3), pp85- Collaboration in Ministry: A Pillar for the Great Commission.\\n98. International Journal of Humanities Social Sciences and\\n[26] Leung, E.et al., (2019) \\u201eDevelopment of Contextually- Relevant Education, Vol 8 (4); 26 - 33.\\nSexuality Education: Lesson from a Comprehensive Review of [44] Redding, S. and Walberg, H.J. (2012) Promoting Learning in\\nAdolescent Sexuality Education Across Cultures\\u201f Journal of Rural Schools. Illinois: Academic Development Institute.\\nEnvironmental Research and Public Health. Available at [45] Rose, P. (2003) \\u201eCommunity Participation in School Policy and\\nwww.mdpi,com/journal/ijerph Accessed on 30th June 2019. Practice in Malawi: Balancing Local Knowledge, National\\n[27] Matenga, C.R. & Tembo, R. (2008) The Impact of Child Policies and International Agency Priorities\\u201f Journal of\\nMarriages in the Four Districts of Zambia. Comparative International Education 33(1), pp47-64.\\n[28] Mbokazi, S. (2015) The Role of Traditional Leaders in School [46] Rubenstein, R. (2017) \\u201eSex Education: Find Facts, Not Fear\\u201f\\nGovernance: Learning from Two Communities in KwaZulu-Natal, Health Matrix Journal of Law Medicine, 27(1), pp525-553.\\nDegree of Philosophy. Durban: University of KwaZulu-Natal. [47] Stanton, G. (2019) 10 Things Everyone Should Know About a\\n[29] Mbozi, E.M. (2009) \\u201eEducation and Early Childhood-A Case of Christian View on Homosexuality.\\nZambia\\u201f, A Paper Presented at the Children\\u201fs Rights at a http://wwwfocusonthefamily.com Accessed on 30th August, 2019.\\nCrossroads Conference Held on 30th November to 2nd December [48] Sanders, M. (2003) \\u201eCommunity Involvement in Schools from\\n2009, Addis Ababa, Ethiopia. Concept to Practice\\u201f Education and Urban Society 35(2), pp 161-\\n[30] Mchunu, J.N. (2007) \\u201eTeachers\\u201f Perceptions of the Teaching of 180.\\nSexuality Education in Secondary Schools in the Pinetown [49] Sa\\u201fad, T.U., Sadiq, A.M. and Tata, U.S. (2014) \\u201eThe Relevance of\\nDistrict\\u201f Master of Education in the Department of Gender School Community Relationship on the Development of Primary\\nStudies. University of KwaZulu-Natal: KwaZulu-Natal. Education in Azare Metropolis of Bauchi State, Nigeria\\u201f Journal\\n[31] McQuide, S. (2009) \\u201eMaking Education Equitable in Rural China of Research and Method in Education 4(11), pp23-29.\\nThrough Distance Learning\\u201f International Review of Research in [50] Schaf, K.A. et al., (2008) Poverty, Residential Mobility and\\nOpen and Distance Learning 10(1), pp1-21. Persistence Across Urban and Rural Family Literacy Programs in\\n[32] Ministry of Education (1996) Educating Our Future. Lusaka: Pennsylvania. University Park P.A Goodling Institute for\\nZEPH. Research in Family Literacy.\\n[33] Ministry of Education (2013) Comprehensive Sexuality Education [51] Sharma, S. (2016) Community Participation in Primary Education.\\nFramework (Grade 5-12). Lusaka: CDC. Mumbai: The Earth Institute Columbia University.\\n[34] MOE (2006) Decentralized Management of Education in Ethiopia. [52] Swift-Morgan, J. (2006) \\u201e\\u201fWhat Community Participation\\nA Reference Manual: Addis Ababa. Schooling Means: Insights from Southern Ethiopia. Harvard\\n[35] Mufanechiya, T. and Mufanechiya, A. (2011) \\u201eThe Use of English Educational Review 76(3), pp339-368.\\nLanguage as the Medium of Instruction in Zimbabwean Junior [53] Tedin, K.L. and Weiher, G.R. (2011) \\u201eGeneral Social Capital,\\nPrimary Schools\\u201f Journal of Language and Communication 5(1) Education \\u2013Related Social Capital Choosing Charter Schools\\u201f The\\n2011, pp 115-127. Policy Studies Journal 39(4), pp 609-629.\\n[36] Mukalula-Kalumbi, M. (2015). HIV and aids workplace policy: [54] Ternieden, M.D. (2009) A Case Study of Community Participation\\nAn implementation assessment of strategies in selected in Primary Education in Three Village Schools IN Ethiopia.\\nsecondary schools of Lusaka and Northern provinces. Zambia Available at www.udini.proquest.com/view/a-case-study-of-\\nJournal of Education, 4 (2), 26 - 35 community-pqld:165005139211 Accessed on 29th June 2019.\\n[37] Mulenga-Hagane, M., Daka, H. and Kanchebele-Sinyangwe, M. [55] Tongco, C.D. (2007) \\u201ePurposive Sampling as a Tool for Informant\\n(2020). Learning from Change: Benefits and Implications of Selection\\u201f Journal of\\nDistinct Primary and Secondary Schools for Education in Zambia. [56] UNESCO (2000) The Dakar Framework for Action. Paris:\\nMalcolm Moffat Multidisciplinary Journal of Research and UNESCO.UNESCO (2007) Education for All Global Monitoring\\nEducation, 1 (1), 121 \\u2013 136. Report 2008: Mid-Term Review. Paris: UNESCO.\\n[38] Mulkeen, A. (2005) Teachers for Rural Schools: A Challenge for [57] UNESCO (2009) International Technical Guidance of Sexuality\\nAfrica. Available at https://peopleumasj,edu Accessed on 27th Education VOLUME 1: The Rationale for Sexuality Education.\\nJune 2019 Paris: UNESCO.\\n[39] Mullins, L.J. (2006) Essentials of Organization Behavior. Harlow: [58] UNFPA (2016) Religion, Women\\u201fs Health and Rights: Points of\\nPrentice Hall. Contention and Paths of Opportunities. New York: UNFPA.\\n[40] Nasrin, O.S. and Rahman, K.M. (2012) \\u201eFactors Affecting Early [59] UNESCO (2019) International Technical Guidance on Sexuality\\nMarriage and Early Conception of Women: A Case of Slum Areas Education: An Evidence-Informed Approach. Paris: UNESCO.\\nin Rajshai City, Bangladesh\\u201f International Journal of Sociology [60] UNFPA (2015) Incorporating Comprehensive Sexuality Education\\nand Anthropology 4(2) Available at Within Basic and Higher Institutions of Learning. KwaZulu-Natal:\\nhttp://www.academicjournals,org/IJSA Accessed on 26th June UNFPA.\\n2019. [61] UNFPA (2017) Status of Sexual and Reproductive Health and\\n[41] Nyoni, T. and Mufanechiya, A. (2012) \\u201eStudent Teachers\\u201f Rights in Zambia. UNFPA: Lusaka\\nConception and Conception and Perception of Conducive [62] Yowela, J.M. (2016) \\u201eFactors that Influence the Prevalence of\\nLearning Environment: A Case of Great Zimbabwe University Child Marriages Among Married Men and Women in Chibombo\\nStudents on Teaching Practice \\u201eGreener Journal of Education District of Central Province\\u201f Master of Public Health in Population\\nResearch 2 (4), pp75-82. Studies. Lusaka: University of Zambia.\\n[42] Phiri, M., Musonda, A and Daka, H. (2020). The Effects of\\nChinamwali Initiation Schools on Girl Child Education. A Case of\\nwww.rsisinternational.org Page 228\"\n        ],\n        \"semantic_type\": \"\",\n        \"description\": \"\"\n      }\n    }\n  ]\n}"
            }
          },
          "metadata": {}
        },
        {
          "output_type": "stream",
          "name": "stdout",
          "text": [
            "\n",
            "--- INFO ---\n",
            "<class 'pandas.core.frame.DataFrame'>\n",
            "RangeIndex: 9 entries, 0 to 8\n",
            "Data columns (total 2 columns):\n",
            " #   Column          Non-Null Count  Dtype \n",
            "---  ------          --------------  ----- \n",
            " 0   PDF_URL         9 non-null      object\n",
            " 1   Extracted_Text  9 non-null      object\n",
            "dtypes: object(2)\n",
            "memory usage: 276.0+ bytes\n",
            "\n",
            "--- DESCRIBE ---\n"
          ]
        },
        {
          "output_type": "display_data",
          "data": {
            "text/plain": [
              "                                                  PDF_URL  \\\n",
              "count                                                   9   \n",
              "unique                                                  9   \n",
              "top     https://dspace.unza.zm/server/api/core/bitstre...   \n",
              "freq                                                    1   \n",
              "\n",
              "                                           Extracted_Text  \n",
              "count                                                   9  \n",
              "unique                                                  9  \n",
              "top     The Impact of the Declaration of Zambia as a C...  \n",
              "freq                                                    1  "
            ],
            "text/html": [
              "\n",
              "  <div id=\"df-9fc07859-5c60-421b-967f-19c9437b1e46\" class=\"colab-df-container\">\n",
              "    <div>\n",
              "<style scoped>\n",
              "    .dataframe tbody tr th:only-of-type {\n",
              "        vertical-align: middle;\n",
              "    }\n",
              "\n",
              "    .dataframe tbody tr th {\n",
              "        vertical-align: top;\n",
              "    }\n",
              "\n",
              "    .dataframe thead th {\n",
              "        text-align: right;\n",
              "    }\n",
              "</style>\n",
              "<table border=\"1\" class=\"dataframe\">\n",
              "  <thead>\n",
              "    <tr style=\"text-align: right;\">\n",
              "      <th></th>\n",
              "      <th>PDF_URL</th>\n",
              "      <th>Extracted_Text</th>\n",
              "    </tr>\n",
              "  </thead>\n",
              "  <tbody>\n",
              "    <tr>\n",
              "      <th>count</th>\n",
              "      <td>9</td>\n",
              "      <td>9</td>\n",
              "    </tr>\n",
              "    <tr>\n",
              "      <th>unique</th>\n",
              "      <td>9</td>\n",
              "      <td>9</td>\n",
              "    </tr>\n",
              "    <tr>\n",
              "      <th>top</th>\n",
              "      <td>https://dspace.unza.zm/server/api/core/bitstre...</td>\n",
              "      <td>The Impact of the Declaration of Zambia as a C...</td>\n",
              "    </tr>\n",
              "    <tr>\n",
              "      <th>freq</th>\n",
              "      <td>1</td>\n",
              "      <td>1</td>\n",
              "    </tr>\n",
              "  </tbody>\n",
              "</table>\n",
              "</div>\n",
              "    <div class=\"colab-df-buttons\">\n",
              "\n",
              "  <div class=\"colab-df-container\">\n",
              "    <button class=\"colab-df-convert\" onclick=\"convertToInteractive('df-9fc07859-5c60-421b-967f-19c9437b1e46')\"\n",
              "            title=\"Convert this dataframe to an interactive table.\"\n",
              "            style=\"display:none;\">\n",
              "\n",
              "  <svg xmlns=\"http://www.w3.org/2000/svg\" height=\"24px\" viewBox=\"0 -960 960 960\">\n",
              "    <path d=\"M120-120v-720h720v720H120Zm60-500h600v-160H180v160Zm220 220h160v-160H400v160Zm0 220h160v-160H400v160ZM180-400h160v-160H180v160Zm440 0h160v-160H620v160ZM180-180h160v-160H180v160Zm440 0h160v-160H620v160Z\"/>\n",
              "  </svg>\n",
              "    </button>\n",
              "\n",
              "  <style>\n",
              "    .colab-df-container {\n",
              "      display:flex;\n",
              "      gap: 12px;\n",
              "    }\n",
              "\n",
              "    .colab-df-convert {\n",
              "      background-color: #E8F0FE;\n",
              "      border: none;\n",
              "      border-radius: 50%;\n",
              "      cursor: pointer;\n",
              "      display: none;\n",
              "      fill: #1967D2;\n",
              "      height: 32px;\n",
              "      padding: 0 0 0 0;\n",
              "      width: 32px;\n",
              "    }\n",
              "\n",
              "    .colab-df-convert:hover {\n",
              "      background-color: #E2EBFA;\n",
              "      box-shadow: 0px 1px 2px rgba(60, 64, 67, 0.3), 0px 1px 3px 1px rgba(60, 64, 67, 0.15);\n",
              "      fill: #174EA6;\n",
              "    }\n",
              "\n",
              "    .colab-df-buttons div {\n",
              "      margin-bottom: 4px;\n",
              "    }\n",
              "\n",
              "    [theme=dark] .colab-df-convert {\n",
              "      background-color: #3B4455;\n",
              "      fill: #D2E3FC;\n",
              "    }\n",
              "\n",
              "    [theme=dark] .colab-df-convert:hover {\n",
              "      background-color: #434B5C;\n",
              "      box-shadow: 0px 1px 3px 1px rgba(0, 0, 0, 0.15);\n",
              "      filter: drop-shadow(0px 1px 2px rgba(0, 0, 0, 0.3));\n",
              "      fill: #FFFFFF;\n",
              "    }\n",
              "  </style>\n",
              "\n",
              "    <script>\n",
              "      const buttonEl =\n",
              "        document.querySelector('#df-9fc07859-5c60-421b-967f-19c9437b1e46 button.colab-df-convert');\n",
              "      buttonEl.style.display =\n",
              "        google.colab.kernel.accessAllowed ? 'block' : 'none';\n",
              "\n",
              "      async function convertToInteractive(key) {\n",
              "        const element = document.querySelector('#df-9fc07859-5c60-421b-967f-19c9437b1e46');\n",
              "        const dataTable =\n",
              "          await google.colab.kernel.invokeFunction('convertToInteractive',\n",
              "                                                    [key], {});\n",
              "        if (!dataTable) return;\n",
              "\n",
              "        const docLinkHtml = 'Like what you see? Visit the ' +\n",
              "          '<a target=\"_blank\" href=https://colab.research.google.com/notebooks/data_table.ipynb>data table notebook</a>'\n",
              "          + ' to learn more about interactive tables.';\n",
              "        element.innerHTML = '';\n",
              "        dataTable['output_type'] = 'display_data';\n",
              "        await google.colab.output.renderOutput(dataTable, element);\n",
              "        const docLink = document.createElement('div');\n",
              "        docLink.innerHTML = docLinkHtml;\n",
              "        element.appendChild(docLink);\n",
              "      }\n",
              "    </script>\n",
              "  </div>\n",
              "\n",
              "\n",
              "    <div id=\"df-4ec5a816-2a6c-4424-8a6f-d279257cad09\">\n",
              "      <button class=\"colab-df-quickchart\" onclick=\"quickchart('df-4ec5a816-2a6c-4424-8a6f-d279257cad09')\"\n",
              "                title=\"Suggest charts\"\n",
              "                style=\"display:none;\">\n",
              "\n",
              "<svg xmlns=\"http://www.w3.org/2000/svg\" height=\"24px\"viewBox=\"0 0 24 24\"\n",
              "     width=\"24px\">\n",
              "    <g>\n",
              "        <path d=\"M19 3H5c-1.1 0-2 .9-2 2v14c0 1.1.9 2 2 2h14c1.1 0 2-.9 2-2V5c0-1.1-.9-2-2-2zM9 17H7v-7h2v7zm4 0h-2V7h2v10zm4 0h-2v-4h2v4z\"/>\n",
              "    </g>\n",
              "</svg>\n",
              "      </button>\n",
              "\n",
              "<style>\n",
              "  .colab-df-quickchart {\n",
              "      --bg-color: #E8F0FE;\n",
              "      --fill-color: #1967D2;\n",
              "      --hover-bg-color: #E2EBFA;\n",
              "      --hover-fill-color: #174EA6;\n",
              "      --disabled-fill-color: #AAA;\n",
              "      --disabled-bg-color: #DDD;\n",
              "  }\n",
              "\n",
              "  [theme=dark] .colab-df-quickchart {\n",
              "      --bg-color: #3B4455;\n",
              "      --fill-color: #D2E3FC;\n",
              "      --hover-bg-color: #434B5C;\n",
              "      --hover-fill-color: #FFFFFF;\n",
              "      --disabled-bg-color: #3B4455;\n",
              "      --disabled-fill-color: #666;\n",
              "  }\n",
              "\n",
              "  .colab-df-quickchart {\n",
              "    background-color: var(--bg-color);\n",
              "    border: none;\n",
              "    border-radius: 50%;\n",
              "    cursor: pointer;\n",
              "    display: none;\n",
              "    fill: var(--fill-color);\n",
              "    height: 32px;\n",
              "    padding: 0;\n",
              "    width: 32px;\n",
              "  }\n",
              "\n",
              "  .colab-df-quickchart:hover {\n",
              "    background-color: var(--hover-bg-color);\n",
              "    box-shadow: 0 1px 2px rgba(60, 64, 67, 0.3), 0 1px 3px 1px rgba(60, 64, 67, 0.15);\n",
              "    fill: var(--button-hover-fill-color);\n",
              "  }\n",
              "\n",
              "  .colab-df-quickchart-complete:disabled,\n",
              "  .colab-df-quickchart-complete:disabled:hover {\n",
              "    background-color: var(--disabled-bg-color);\n",
              "    fill: var(--disabled-fill-color);\n",
              "    box-shadow: none;\n",
              "  }\n",
              "\n",
              "  .colab-df-spinner {\n",
              "    border: 2px solid var(--fill-color);\n",
              "    border-color: transparent;\n",
              "    border-bottom-color: var(--fill-color);\n",
              "    animation:\n",
              "      spin 1s steps(1) infinite;\n",
              "  }\n",
              "\n",
              "  @keyframes spin {\n",
              "    0% {\n",
              "      border-color: transparent;\n",
              "      border-bottom-color: var(--fill-color);\n",
              "      border-left-color: var(--fill-color);\n",
              "    }\n",
              "    20% {\n",
              "      border-color: transparent;\n",
              "      border-left-color: var(--fill-color);\n",
              "      border-top-color: var(--fill-color);\n",
              "    }\n",
              "    30% {\n",
              "      border-color: transparent;\n",
              "      border-left-color: var(--fill-color);\n",
              "      border-top-color: var(--fill-color);\n",
              "      border-right-color: var(--fill-color);\n",
              "    }\n",
              "    40% {\n",
              "      border-color: transparent;\n",
              "      border-right-color: var(--fill-color);\n",
              "      border-top-color: var(--fill-color);\n",
              "    }\n",
              "    60% {\n",
              "      border-color: transparent;\n",
              "      border-right-color: var(--fill-color);\n",
              "    }\n",
              "    80% {\n",
              "      border-color: transparent;\n",
              "      border-right-color: var(--fill-color);\n",
              "      border-bottom-color: var(--fill-color);\n",
              "    }\n",
              "    90% {\n",
              "      border-color: transparent;\n",
              "      border-bottom-color: var(--fill-color);\n",
              "    }\n",
              "  }\n",
              "</style>\n",
              "\n",
              "      <script>\n",
              "        async function quickchart(key) {\n",
              "          const quickchartButtonEl =\n",
              "            document.querySelector('#' + key + ' button');\n",
              "          quickchartButtonEl.disabled = true;  // To prevent multiple clicks.\n",
              "          quickchartButtonEl.classList.add('colab-df-spinner');\n",
              "          try {\n",
              "            const charts = await google.colab.kernel.invokeFunction(\n",
              "                'suggestCharts', [key], {});\n",
              "          } catch (error) {\n",
              "            console.error('Error during call to suggestCharts:', error);\n",
              "          }\n",
              "          quickchartButtonEl.classList.remove('colab-df-spinner');\n",
              "          quickchartButtonEl.classList.add('colab-df-quickchart-complete');\n",
              "        }\n",
              "        (() => {\n",
              "          let quickchartButtonEl =\n",
              "            document.querySelector('#df-4ec5a816-2a6c-4424-8a6f-d279257cad09 button');\n",
              "          quickchartButtonEl.style.display =\n",
              "            google.colab.kernel.accessAllowed ? 'block' : 'none';\n",
              "        })();\n",
              "      </script>\n",
              "    </div>\n",
              "\n",
              "    </div>\n",
              "  </div>\n"
            ],
            "application/vnd.google.colaboratory.intrinsic+json": {
              "type": "dataframe",
              "summary": "{\n  \"name\": \"    plt\",\n  \"rows\": 4,\n  \"fields\": [\n    {\n      \"column\": \"PDF_URL\",\n      \"properties\": {\n        \"dtype\": \"string\",\n        \"num_unique_values\": 3,\n        \"samples\": [\n          \"9\",\n          \"https://dspace.unza.zm/server/api/core/bitstreams/a60d36ec-0543-4b83-88fe-bc5f4ae5d6f4/content\",\n          \"1\"\n        ],\n        \"semantic_type\": \"\",\n        \"description\": \"\"\n      }\n    },\n    {\n      \"column\": \"Extracted_Text\",\n      \"properties\": {\n        \"dtype\": \"string\",\n        \"num_unique_values\": 3,\n        \"samples\": [\n          \"9\",\n          \"The Impact of the Declaration of Zambia as a Christian Nation on Religious Education:\\nPerceptions of Stakeholders\\nJudith L. Ilubala-Ziwa, Gilbert Kamanga, J. Musonda and Maligelita, J. Njobvu\\nAbstract\\nThe impact of the declaration of Zambia as a Christian nation on Religious Education\\n(R.E.) can be looked at in terms of content, strategies and learners. In terms of content,\\nsome sections of society may consider R.E. as a means to overtly promote Christian\\nbeliefs, practices and ideologies. However, in Zambia schools comprise learners who\\nare religiously heterogeneous. Furthermore, the 1996 National Educational Policy\\nespouses liberal democratic values such as autonomy, liberty and fairness. The\\nobjectives of the study were to: establish the views of stakeholders on the declaration\\nof Zambia as a Christian nation and Religious Education; examine the impact which\\nthe declaration of Zambia as a Christian nation had on R.E. While most stakeholders\\nargued that R.E. should become more inclusive, others asserted that due to the\\ndeclaration of Zambia as a Christian nation, RE should be exclusive to Christianity.\\nThis trend, defeats the educational aim of R.E. which is, the acquisition of knowledge,\\nskills, attitudes and values. The dominance of a single religion in R.E. risks limiting\\nawareness of religious diversity and deprives learners a genuine space for dialogue\\nwith other religions. It was in this regard that the study investigated the perceptions of\\nsenior secondary school R.E. teachers, learners and religious leaders on the impact of\\nthe declaration of Zambia as a Christian nation on R.E. The study employed the\\nqualitative approach with interview and focus group discussion as methods of eliciting\\ndate from the respondents\\nKey Words: Christian, Declaration, Liberal, Nation, Religious Education,\\nZAMBIAN JOURNAL OF RELIGION AND CONTEMPORARY ISSUES\\n180\\n1.0 Background\\nIn modern society, the place of Religious Education (R.E.) in publicly-funded schools is a\\ncontentious issue (Coulby, 2010; Parerkh, 2006; Richardson, 2007; Zambeta, 2008). Some\\npeople argue that R.E. should not be included as a school subject but be treated as a private\\nmatter because its epistemic knowledge is not subject to dialectic verification, refutation or\\nfalsification (Parerkh, 2006; Richardson, 2007; Zambeta, 2008). At the other end of the\\nspectrum, other people make a case that R.E. which is open, inclusive and non-confessional,\\nshould have a place in public schools because it promotes values such as tolerance and co-\\nexistence amongst learners with diverse religious backgrounds (Richardson, 2007;\\nSimuchimba, 2004). The contestation becomes fierce in situations where religion is\\nsupposedly seen to be conflicting with the ideals of equality and freedom in the wake of\\nmodern society which is dynamic and evolving, always being influenced by other\\ncommunities (Osler and Starkey, 2005). To the contrary, inclusive and non-confessional RE\\nhas great potential to help learners from different religious, cultural and ethnic backgrounds\\nempathise and value their parallels and variations in diversity (Richardson, 2007).\\nAlthough Zambian R.E. syllabuses include other religions such as Indigenous Zambian\\nBeliefs, Islam and Hinduism, the two senior secondary school syllabus heavily lean on\\nChristianity thereby leaving other religions in the periphery in terms of content (Mujdrica,\\n1995). In a way, the content of the two R.E. syllabuses is in contrast with the threefold aims\\nof R.E. as articulated by Lahnemann (1985: 123) who argues that the aims of R.E. are to:\\nJudith L. Ilubala-Ziwa, et al\\nEnable learners to have a better knowledge of the religions they come from;\\ndevelop interest in other religions; and, have a better understanding of the\\nvalues and ways of life of learners who do not belong to their own religion.\\nTo achieve the aims of R.E. as stated above, the R.E. curriculum needs to take into\\naccount all the existing major religious traditions including other issues affecting modern\\nsociety. It is for this reason that some stakeholders have called for an inclusive type of R.E.\\ndevoid of confessional approach (Mujdrica, 1995; Simuchimba, 2004).\\nThe declaration of Zambia as a Christian nation is another issue of concern for R.E. It\\nis important for national leaders to guard against the imposition of any particular religion on\\nthe entire society in that it might lead to learners being denied the opportunity to learn\\ndifferent religious traditions. In the case of Zambia, the society is increasingly becoming\\nmulti-faith and multi-cultural (Simuchimba, 2004). Thus, the Republican constitution\\nshould be a neutral document that should not discriminate against atheists, agnostics or\\npagans, or those who believe in Islam, Judaism, Buddhism, Hinduism, Sikhism, Shintoism,\\nJainism and Baha\\u2019i faith. If left unchecked, such a declaration might have a twofold effect\\nin that it might lead to a feeling of religious superiority among the followers of the religion\\nthat have been accorded constitutional status and that of second class citizenry among the\\nothers.\\nLocated firmly within the discourse of the context of R.E. in Zambian modern society\\nwhich is becoming more multi-faith, multi-cultural, pluralistic and democratic\\n(Simuchimba, 2004), this study explored the impact of the 181\\nZAMBIAN JOURNAL OF RELIGION AND CONTEMPORARY ISSUES\\ndeclaration of Zambia as a Christian nation on R.E. Unlike Simuchimba\\u2019s (2004) study\\nwhich focused on examining how the declaration had been used by Evangelical churches\\nand ministries to justify calls for major policy changes in the Zambian society including the\\nreintroduction of Bible Knowledge in schools among other changes this study went a step\\nahead and interacted with R.E. teachers and learners to gather first-hand information on the\\nissue. This provided new knowledge on whether the declaration had an impact on R.E. or\\nnot.\\n2.0 Literature Review\\nReligious Education in Zambia has over the years evolved through different stages namely:\\npre-colonial, colonial and post-colonial periods. Prior to the encounter with missionaries,\\nindigenous people were fully involved in the religious dimension of life. Every aspect of\\nAfrican life was punctuated by religious experience. For instance, birth, puberty, marriage\\nceremony and death were accorded a spiritual significance (Snelson, 1974). Haar (1992)\\ncontends that African religious life was intertwined with all the facets of society, such as\\npolitical, economic, social and educational dimensions. Additionally, Dickson (1979) states\\nthat there is a strong attachment between African culture and religion so much that religion\\nenlighten the African life in its entirety. As such, religion is given so much prominence in\\nthe African setting that all activities, education and relationships are permeated by religious\\ndimensions (Bussia, 1964). Noteworthy, Snelson (1974) pointed out that religious teaching\\nwas centered on the supreme being, a remote but all-pervading Creator, and the more\\nintimate tribal gods who controlled the tribe\\u2019s fortune.182\\nJudith L. Ilubala-Ziwa, et al\\nWith the arrival of the early missionaries in Zambia (Northern Rhodesia) in 1883, the\\nprovision of education was closely linked with religion in the sense that the missionaries\\nused education as a tool for conversion of indigenous people to Christianity with different\\ndenominations providing dissimilar varieties of Christianity, some of which were perceived\\nto be fundamentally diverse from the others (Carmody, 2004). However, in April, 1924 the\\nBritish government took over the administration of Northern Rhodesia and declared it a\\nProtectorate which lasted up to 1964. In the church state relationship, the government\\nsought to collaborate with different missionaries to ensure that the role of religion was\\ntailored towards character building of the indigenous people (Carmody, 2004). This is\\nattested by the Education Policy in British Tropical Africa which indicates that:\\nThe greatest importance must be attached to religious teaching and moral\\ninstruction. Both in schools and in training colleges, they should be accorded an\\nequal standing with secular subjects. Such teaching must be related to the\\nconditions of life and to the daily experiences of the pupils. It should find\\nexpression in habits of self-discipline and loyalty to the community. With such\\nsafeguards, contact with civilization need not be injurious, or the introduction\\nof new religious ideas has a disruptive influence antagonistic to constituted\\nsecular authority (Carmody 2004: 109).\\nZambia attained its political independence from Britain in 1964. However, the paradigm of\\ndenominationalisation of Religious Education was perpetuated up to the 1970s as was the\\ncase in the colonial dispensation. Two parallel programmes in the running of Religious\\nEducation emerged. In church run schools, Religious Instruction 183\\nZAMBIAN JOURNAL OF RELIGION AND CONTEMPORARY ISSUES\\n(RI) as R.E. was called then, was timetabled and taught like any other subjects, while in\\ngovernment schools, the subject was not on the main timetable but was taught after normal\\nclasses by different religious leaders from different denominations (Kamanga, 2013). In\\neither case, R.E. was, nevertheless, meant to promote religious absolutism. The beliefs and\\nvalues of one religion were taken as absolute truth hence Religious Education could be said\\nto have been confessional, doctrinal, and exclusivist in nature. In the light of\\ndenominational R.E., each denomination had its own Religious Instruction (RI) syllabus for\\nprimary and junior secondary school, while the Cambridge Bible Knowledge syllabus\\ncontinued to be used at senior secondary school level (Simuchimba, 2004). Owing to\\noperational challenges, however, the authorities sought to remedy this scenario by\\nchallenging different churches to develop an interdenominational Religious Education\\nsyllabus which was to be implemented throughout the nation irrespective of the school\\u2019s\\nreligious background (Mujdrica, 1995; Simuchimba, 2004). The decision was made in a\\ndeliberate effort towards the provision of meaningful and relevant education to the Zambian\\nsociety because curriculum design is developed with awareness of its philosophical position\\nand links to what society believes is important for children to learn (Colby, 1983).\\nThe growth of an ecumenical Religious Education in Zambia can, to a large extent, be\\nattributed to the Gaba Pastoral Institute of Uganda (Smith, 1982). In consultations with\\ndifferent churches and lecturers from various Teachers\\u2019 colleges in Zambia, the institute\\ndeveloped two syllabuses namely; \\u2018Developing in Christ\\u2019 for junior secondary schools and\\n\\u2018Christian Living Today\\u2019 for senior secondary schools. The aim of R.E. then was to\\ncontribute fully to the life and development of the 184\\nJudith L. Ilubala-Ziwa, et al\\ncountry by molding mature and responsible students (Carmody, 2004; Masterton,\\n1987; Mujdrica, 1995). In 1975, the new syllabuses were put into operation in the Zambian\\nschools. At junior secondary school, the syllabus consisted of \\u2018Developing in Christ\\u2019 was\\ntaught in form One and Two and a Zambian Supplement taught in form Three with\\n\\u2018Christian Living Today\\u2019 adopted at form Four and Five level. In this manner, Christian\\nLiving Today became an alternative syllabus to the Cambridge Bible Knowledge Syllabus\\nwhich was before then, the only Religious Education syllabus offered in secondary schools\\n(Mujdrica, 1995).\\nPerhaps, a major shift in the educational system was witnessed in 1977 following the\\neducational reforms which the government instituted (Ministry of Education, 1977). The\\nfundamental aim of these reforms was to produce an education that was properly attuned to\\nand met the aspirations of the Zambian people. With the stated reforms, Religious\\nEducation changed from its exclusive outlook in the denominational and ecumenical stages\\nto being educational. Further, the revision of both the junior and senior secondary\\nsyllabuses in conformity with the 1977 educational Reforms ultimately led to the\\ncontextualising of religious Education. Additionally, aspects of Zambian Humanism, which\\nwas the national philosophy at that time, Islam, Hinduism and Indigenous Traditional\\nbeliefs were incorporated and became part and parcel of Religious Education. This\\ninclusion saw the subject\\u2019s name change to Spiritual and Moral Education with its aim\\nstated as:\\nTo enable pupils to appreciate spiritual, moral, and religious values and\\nbehaviour based on them. This appreciation is drawn from the four main\\nreligious traditions in Zambia, namely Christianity, 185\\nZAMBIAN JOURNAL OF RELIGION AND CONTEMPORARY ISSUES\\nHinduism, Indigenous Zambian Beliefs, and Islam, and from the religious\\nelements of the Zambia philosophy of Humanism (MOE 1984: 4).\\nThe changes brought about by the 1977 Educational Reforms came into being when\\neducators sought to introduce a more multi-religious approach in the teaching of R.E. This\\nform of the subject was introduced to help learners live together in harmony and to have a\\nbetter understanding of what other people believe and do in order to promote an attitude of\\nopenness and tolerance, as well as a readiness to listen and ask questions instead of making\\njudgments based on inaccurate information (Kamanga, 2013).\\nIn the wake of the successful 1977 Education Reforms, there was a call for teachers\\nand lecturers to take up the initiative of producing new education materials locally (MoE,\\n1977). Thus, the Zambian Religious Education syllabus 2044 replaced the GABA \\u2018Christian\\nLiving Today\\u2019 and the Cambridge Bible Knowledge\\u2019 syllabuses although some evangelical\\nteachers on the Copperbelt Province expressed misgivings over the removal of the\\nCambridge Bible Knowledge Syllabus (Masterton, 1987). Arguing that Religious Education\\nSyllabus 2044 was philosophically Roman Catholic-biased, the evangelical teachers decided\\nto reform the old Cambridge Bible Knowledge syllabus to produce an alternative R.E.\\nsyllabus 2046, in 1984. Ever since, the two R.E. syllabuses have been running side by side.\\nSuffice to say, Mudalitsa (2006) contended that both RE syllabus 2044 and R.E. syllabus\\n2046 were of British origin. He argued that syllabus 2046 originated in the 1940s and was\\nintroduced in Zambia before independence under the name of Cambridge Bible Knowledge\\nsyllabus. On the other hand, syllabus 2044 originated in the early 1960s 186\\nJudith L. Ilubala-Ziwa, et al\\nand came to Zambia through East Africa as the \\u2018Christian Living Today\\u2019 syllabus\\n(Ibid).\\nIn 1991, Zambia reverted to multi-party system of governance and since then, the\\nperiod has been referred to as the third republic. During this era, the country witnessed an\\ninvigorated spirit of emphasis on various liberties both in the political as well as the\\neducational systems. On 29 December 1991, President Chiluba declared Zambia a Christian\\nnation. The reasons behind the declaration were, however, not clear leading to some people\\ncalling it, a unilateral declaration. To ardent supporters of the declaration, Chiluba made the\\nproclamation as a prophet rededication of the country to the will of God. Others though,\\ntook it that the declaration was more for political reasons than religious; the country was\\ntransitioning from the Kaunda era with its strong ideological background and to a greater\\nextent, the fear of the Islamic threat (Kamanga, 2013; Cheyeka, 2014).\\nUndoubtedly, the declaration was met with mixed feelings across the Zambian society\\nwith mostly evangelical Christians calling for the domination of Christianity as well as the\\nreintroduction of Bible Knowledge in schools while the Zambia Episcopal Conference as\\nwell as other citizens and those of different faiths had their reservations. On a religious\\nfront, the declaration of Zambia as a Christian nation did not reduce the influence of other\\nreligious traditions on Zambian culture because freedom of religion is constitutionally\\nguaranteed (Simuchimba, 2004). Politically, Cheyeka (2014) noted that the declaration of\\nZambia as a Christian nation gave force to the Pentecostal movement for their continued\\ninvolvement in the country\\u2019s affairs and a Religious Affairs desk was established at State\\nHouse. Educationally, the position of R.E. became contentious and the subject was said to\\nhave been affected 187\\nZAMBIAN JOURNAL OF RELIGION AND CONTEMPORARY ISSUES\\nby the declaration. The only non-religious source of RE content, Zambian Humanism,\\nwas removed from all the R.E. syllabuses (Kamanga, 2013) and there were calls for R.E. to\\nbe replaced by Bible Knowledge. The subject further saw a growing tendency of starting\\nlessons with a prayer by overzealous evangelical Religious Education teachers who felt\\nempowered by the declaration to turn the classroom into a church (Simuchimba, 2004).\\nIn order to address various aspects of freedoms, the country enacted the Zambian\\nConstitution of 1996 and formulated the 1996 National Educational Policy titled Educating\\nOur Future. Replacing the 1977 Educational Reforms, the 1996 document addressed the\\nentire field of formal institutional education, emphasizing democratisation, decentralisation\\nand productivity on the one hand, and curriculum relevance and diversification, efficient\\nand cost-effective management, capacity building, cost sharing and revitalized partnerships\\non the other hand (MoE, 1996). Additionally, the policy clearly indicates the mission of the\\nMinistry of Education as being able to guide the provision of education for all Zambians so\\nthat they are able to defend democratic ideals, and accept and value other persons on the\\nbasis of their personal worth and dignity, irrespective of gender, religion, ethnic origin, or\\nany other discriminatory characteristics.\\nTo ensure that the education system is in tandem with the tenants of pluralism, the\\npolicy document recognizes the ideals of democracy in its philosophical rationale as stated\\nbelow:\\nZambia is a democratic society. Hence, it is the values of liberal democracy that\\nmust guide its educational policies. The core values of liberal democracy are\\nrational and moral autonomy, equality, fairness and liberty (MoE, 1996).188\\nJudith L. Ilubala-Ziwa, et al\\nFrom this perspective, the declaration of Zambia as a Christian nation is at variance with\\nwhat the National Education Policy of 1996 espouses in that it does not resonate well with a\\nfast growing Zambian multi-religious society (Carmody, 2004).\\n3.0 Methodology\\nThis section discusses the research design, research study area, population, sample,\\nsampling techniques, instruments used for data collection, procedure for data collection and\\ndata analysis. The article used a qualitative approach, specifically, a case study design\\nwhich is an intensive study through which one can know precisely the factors and causes of\\na particular phenomenon (Ghosh, 1992). The design was chosen because the study\\u2019s task\\nwas to collect information on people\\u2019s opinions and other social and religious issues\\nconcerning the impact of the declaration of Zambia as a Christian Nation on Religious\\nEducation. The study was conducted in Lusaka District. The population comprised all R.E.\\nteachers, religious leaders from the three selected religions and pupils. The sample study\\ncomprised of 3 Religious Education teachers, 3 Religious leaders and 24 pupils, making a\\ntotal of 30 respondents. However, this study used purposive sampling and specifically\\ntypical sampling as it only targeted those respondents who were expected to have adequate\\nknowledge and information on the impact of the declaration of Zambia as a Christian\\nNation on Religious Education.\\nMoreover, data collection was done through the interviews with the aim to have the\\nparticipant reflect on his or her experiences and then relate those experiences to the\\ninterviewer in such a way that the two come to a mutual understanding about the meanings\\nof the experiences or 189\\nZAMBIAN JOURNAL OF RELIGION AND CONTEMPORARY ISSUES\\nof the account of the experiences. Besides, a focus group discussion was used to allow\\nemphasis on the questioning and construction of meaning (Bryman, 2001). The two\\nmethods allowed the researchers to interact with stakeholders and gather their views on the\\nimpact of the declaration of Zambia as a Christian Nation on Religious Education.\\n4.0 Findings\\nThe data was presented according to the themes derived from the objectives of the study.\\nChristian Nation and Religious Education\\nWhen asked to comment on the understanding of Religious Education, a pupil from school A\\nsaid that R.E. was a subject about God and other religions while the other pupils added that\\nReligious Education was a subject which showed how different religions viewed life. The reason\\nbehind taking the subject was that the subject was compulsory at the school and that it helped\\nthem appreciate different religions. Furthermore, another pupil stated, \\u201cReligious Education is\\nmore than a church service which enables pupils to understand different cultural perspectives,\\ndevelop life skills and help set personal principles as we interact with fellow pupils and other\\npeople from other religions.\\u201d\\nCommenting on what they knew about the declaration of Zambia as a Christian nation, the\\nmajority of the pupil participants indicated that the declaration was made by the late President\\nChiluba in 1991 and that it was a good thing as it set the Zambians apart and made the citizens to\\nrefrain from different vices.190\\nJudith L. Ilubala-Ziwa, et al\\nFrom School B, similar questions were asked and one pupil said, \\u201cReligious Education is\\ninteresting because it draws me closer to the Bible.\\u201d\\nAnother pupil indicated that RE was a good subject because it taught about morality\\nemphasized in different religions. She further added that she took R.E. because it was a\\ncompulsory subject at their school. Generally, the pupils noted that they learnt about other world\\nreligions not just Christianity. They added that the content of other world religions was enough\\nand useful in the sense that it helped them to understand other people\\u2019s religious experiences,\\ntheir beliefs and practices. Another pupil reasoned that:\\nTeaching and learning about one religion like Christianity in Zambia will\\ndiscriminate other people of different religious beliefs. It is through religious\\ndiscrimination that some countries do not have peace. So incorporating other\\nreligions in R.E. syllabuses was a good idea.\\nWith regard to knowledge about the declaration of Zambia as a Christian nation, one pupil\\nmentioned that it was President F.T.J. Chiluba who declared Zambia as a Christian nation\\nbecause he wanted to maintain peace in the country by having a people who would be molded\\nwith Christian values. This would help to come up with a society free from violence.\\nAt School C, pupils taking R.E. syllabus 2046 were asked to give their views about the\\nsubject. In response, one of the pupils indicated that R.E. was a subject that enabled them to\\nlearn about different religions and know more about the religions. She added that they took up\\nR.E. because they were asked to choose from the optional subjects offered by the school and that\\nthey picked Religious Education because they wanted to strengthen their faith and know what\\nother religious groups believed and how they worshipped. Moreover, the participants noted that\\nthey were taught other religions namely, 191\\nZAMBIAN JOURNAL OF RELIGION AND CONTEMPORARY ISSUES\\nIslam, Hinduism and Zambian traditional beliefs and practices.\\nOne pupil indicated the following:\\nThe content of what we learn in Religious Education is sufficient and helpful in the\\nsense that it helps us know what other people believe in and have tolerance in terms of\\nunderstanding religious issues; why other people behave in the way they behave or\\ncarry or rather conduct themselves in a particular way. Therefore, all religions should\\nbe taught in Religious Education in order for us to know and have a deep\\nunderstanding of the origin of each religion even when we do not belong to them.\\nFrom School C, when asked about the declaration of Zambia as a Christian nation, one pupil\\nindicated that the declaration was a plea for God\\u2019s spiritual covering. In addition, another pupil\\nindicated that the late former President Chiluba declared the nation Christian in order to avoid\\nthe anti-Christ that would completely distort the dominant Christian values that helped to\\nmaintain peace in the country since independence.\\nFurthermore, regarding R.E. syllabuses, a teacher from School A indicated that Religious\\nEducation syllabuses had been changing over time but she taught the syllabus offered at the\\nschool because of the school ethos. In terms of methods of delivery, the teacher mentioned\\nteacher exposition, role play and discussion methods as the most commonly used methods in\\nR.E. The teacher further indicated that the content about other religions in R.E. was sufficient as\\ndifferent religious concepts were covered. However, she suggested that more detailed\\ninformation should be added on other religions because the Christian part had more information\\nthan the other religions. In addition, she noted that all the major religions including the Chinese\\nreligions should be added because many people with different religious backgrounds were\\ncoming to Zambia and pupils needed to understand their religions.192\\nJudith L. Ilubala-Ziwa, et al\\nCommenting on the declaration of Zambia as a Christian Nation, the teacher said, \\u201cThe\\ndeclaration is a mere declaration without major effects on the teaching of Religious Education.\\nThe large Christian content is a result of historical factors and not the declaration itself.\\u201d\\nAt School B, a teacher teaching R.E. syllabus 2044, indicated that since he started teaching\\nthe subject, little had changed with regards to the content of R.E. at secondary school level. He\\nadded that though he was trained to teach both syllabuses, he taught syllabus 2044 because that\\nwas the syllabus taught at the school. According to the teacher at School B, he taught using\\ndifferent methods that he was taught at college though he found it challenging because of the\\ntime and material constraints. He added that the content in the syllabus about other religions was\\nenough and it included all the most dominant religious traditions in Zambia. The teacher further\\nnoted:\\nIt is fine to teach about the four main religions in Zambia. However, because of some\\nsocial and economic factors, many people of different religions such as Chinese and\\nJapanese have moved into Zambia with their children who sometimes take Religious\\nEducation as a subject at all levels of Education. Therefore, all identified religions\\nshould be taught in schools so that adherents of these religions could be familiar with\\nthe religions in Zambia and Zambians could also understand other people\\u2019s religious\\ntraditions. This can lead to tolerance among different religious groups.\\nWith regard to the declaration of Zambia as a Christian nation, the teacher from School B\\nindicated, \\u201cThe late former President Chiluba did a good thing to give Zambia such a big\\nreligious declaration for as long as he allowed freedom of worship and did not violate other\\npeople\\u2019s rights.\\u201d 193\\nZAMBIAN JOURNAL OF RELIGION AND CONTEMPORARY ISSUES\\nHe added that the declaration had secured the peace of the Zambian citizens despite some\\neconomic and political pressures the nation faced. He further indicated that in some African\\ncountries there was violence among religious groups due to lack of tolerance among the groups.\\nAt School C, the teacher captured in the study described R.E. as a very important subject\\nthat should be compulsory and taught in all schools because its content reminded humans about\\nthe \\u2018dos\\u2019 and \\u2018don\\u2019ts\\u2019 of society. Like other participants, the teacher indicated that he taught R.E.\\nsyllabus 2046 because it was the syllabus offered at the school. He mentioned that Religious\\nEducation syllabus 2046 was a common syllabus that was offered in most government schools.\\nHe further stated that he mostly used teacher exposition, question and answer, and group work\\nbecause of their effectiveness when it came to dealing with large numbers of pupils. He argued\\nthat the content on other religions wasinsufficient because the syllabus concentrated on\\nChristianity. He added that the syllabus had more content from the Bible than from the holy\\nscriptures of other religions that were included in syllabus. He therefore proposed that the\\nsyllabus should be reviewed in order to have a balance on content coverage. He also proposed\\nthat all the pronounced world religions should be included in the subject syllabuses as was the\\ncase at tertiary level. This would enable learners to understand people with different religious\\nvalues.\\nIn commenting on the declaration of Zambia as a Christian nation and R.E., the teacher\\nfrom School C said, \\u201cIt is something that came into being in the 1990s and has nothing to do\\nwith Religious Education syllabuses that were established in the early 1980s and are still in use\\nup to date despite minor changes in some topics.\\u201d194\\nJudith L. Ilubala-Ziwa, et al\\nImpact on Religious Education\\nWhen asked about the impact of the declaration of Zambia as a Christian nation on RE, the\\nmajority of the pupils noted that the declaration had not affected RE in any way because the\\npupils also learnt about other religions and that if it did, the RE content would have been all\\nChristian, as is the case in Muslim countries declared Muslim nations.\\nOne of the pupils said, \\u201cThe declaration does not make Christianity mandatory but it is only\\nthe values of the country that are based on Christianity.\\u201d\\nHowever, other pupils had the view that the declaration affected R.E. in that the content\\nside-lined other religions like Zambian Traditional practices, which were not captured fully in\\nthe syllabuses. They noted that non-Christians might feel out of place and they might not be free\\nto express their religious rights. In addition, one pupil observed that it was wrong for the late\\nPresident Chiluba to declare Zambia a Christian nation since there were many religions in\\nZambia.\\nHe concluded, \\u201chowever, the declaration has no impact on how R.E. is taught since R.E.\\nteachers do not make reference to it when teaching.\\u201d\\nFurthermore, the findings from the teacher at School A confirmed that the declaration did\\nnot have any effect on the teaching of R.E. He added that the large Christian content was as a\\nresult of historical factors and not the declaration. In the same line, the teacher from School B\\nwas of the view that the declaration had not affected the teaching and learning of Religious\\nEducation because it firstly gave room to religious freedom and that the R.E. syllabuses\\nattempted to cater even for other religions which had very few followers in Zambia. In addition,\\nthe teacher from School C observed that the R.E. syllabuses had nothing to do with the\\ndeclaration which was too recent. He suggested that the way forward would be for teachers to\\nteach like professionals and not like pastors who inclined themselves to one faith.195\\nZAMBIAN JOURNAL OF RELIGION AND CONTEMPORARY ISSUES\\nReligious leaders from three different religious traditions were also interviewed to find out\\ntheir views on the declaration to the R.E. Religious leader A indicated that he had little\\nbackground of what was offered in R.E. pointing out that he only took the subject at Primary\\nschool but appreciated its content. He indicated that R.E. was basic but balanced and portrayed a\\npositive attitude to faith. It was an educational subject which did not aim at swaying learners\\ntowards a particular religion. Accordingly, R.E. was an ideal subject because it covered all the\\nmajor religions and it had well-balanced information that encouraged learners and those they\\ninteracted with to understand each other for the betterment of the Zambian society.\\nCommenting on the declaration of Zambia as a Christian nation, Religious leader A\\nindicated that he appreciated the declaration because, generally, the Zambian citizens did not\\nseem to be concerned about the declaration. It had not caused any overzealous attitudes among\\nthe people of Zambia. He further indicated that the declaration did not affect the teaching of R.E.\\nbecause R.E. still accommodated other religions and Christianity as a religion promoted\\ncoexistence among different groups of people.\\nData was also collected from Religious leader B so as to gather her views on the impact of\\nthe declaration on R.E. She was firstly asked whether she did R.E. during her school career to\\nwhich she responded that she did the subject only at junior secondary school level. Her general\\nview on R.E. in Zambia was that the content focused much on Christianity and Islam with little\\ninformation on other world religions. Religious leader B further indicated that the imbalance in\\ncontent for major world religions made the syllabuses not to be ideal because there was clear\\nindication that the syllabuses enhanced religious discrimination. She suggested that all the major\\nnine religions of the world should be included in order for pupils to have insight of other\\nreligions. 196\\nJudith L. Ilubala-Ziwa, et al\\nReligious leader B then concluded that the content for other religions was not sufficient and\\nhelpful. Therefore:\\nThough Zambia is a Christian nation, the Zambian Religious Education syllabuses\\nshould promote coexistenceamong all Zambians by including and having a balance of\\nall religions. Furthermore, the principle of love which puts emphasis on embracing all\\nkinds of people even those from other religions should be reflected in the syllabuses.\\nWith regard to the declaration, I find it to be a good idea because it protects the country\\nfrom political vices. The declaration has not affected on Religious Education because\\nthe syllabuses were there even before the declaration was pronounced. The way\\nforward is to further revisit the R.E. syllabuses to meet the needs of all Zambians.\\nThere is need to engage scholars and curriculum developers in research to explore all\\nother world religions and include the content in the R.E. syllabuses.\\nReligious leader C was also interviewed to get his views on how the declaration had affected\\nR.E. in Zambia. He started by noting that he had not done R.E. at secondary school level but had\\nsome basics of the subject from primary school. He added that as the director of one of the\\nChurch mother bodies, he had knowledge about the type of R.E. that was offered in Zambia\\nbecause his organisation stocked all the primary and secondary school R.E. syllabuses.\\nAccording to Religious leader C, the R.E. content was too broad to be understood by the\\nlearners. This was because of the inclusion of other religions which distorted the Christian faith\\nbuilt in children before they started school. He added that R.E. should focus on Christianity\\nbecause children should come face to face with the original faith they received from their parents\\nor guardians. He noted that:\\nThe inclusion of other religions in RE syllabuses is like a person who works in the\\nbank and has not been trained to distinguish between the fake and true currency. By the\\ntime the banker 197\\nZAMBIAN JOURNAL OF RELIGION AND CONTEMPORARY ISSUES\\nrealises that he is receiving fake currency, he will have lost out a lot of money.\\nTherefore, if other religions are introduced to pupils at primary and secondary level,\\nthen it is as good as a banker who loses out because of fake notes. Let other religions\\nbe introduced at tertiary level because by then, the learners will have been matured\\nenough to decide or choose where they should belong.\\nIn response to the question whether the content on other religions was sufficient, Religious\\nleader C was of the view that it was more than sufficient and that it was actually not supposed to\\nbe included because Zambia was a Christian Nation and embracing other religions was like\\nhaving an open cheque which could be signed by anybody. However, the Religious leader\\nacknowledged that tolerance of other religions was a good thing. He added that the Christian\\nnation Declaration was not there to restrict anyone from converting to other religions the\\ndeclaration should set limits in order not to have the same credit hours as the dominant Christian\\nfaith. However, the religious leader noted that:\\nThe declaration has positively affected Religious Education in Zambia in the sense that\\nit has made people realise the fact that it is not just any one who can teach the subject\\nlike the way other subjects are taught even by drunkards or immoral people. Putting\\nthe declaration in mind, RE teachers should realise that they are role models expected\\nto have high moral standards. Failure to do so defeats the whole purpose of teaching\\nthe subject.\\nHe therefore suggested that the title Religious Education was not appropriate. \\u201cI wish it was\\ncalled Bible Knowledge or Bible Education, since it is Christian dominated. The syllabuses\\nshould further be revised with more consultations from the Christian Clergy.\\u201d198\\nJudith L. Ilubala-Ziwa, et al\\n5.0 Discussion\\nThe main purpose of the paper was to establish whether the declaration of Zambia as a\\nChristian nation had any impact on Religious Education. The discussion is presented under\\nthemes drawn from the findings which are: Christian nation and Religious Education and\\nImpact on Religious Education. Finally, the discussion ends with a conclusion.\\nChristian nation and Religious Education\\nThe first objective was to establish the views of stakeholders on the declaration of Zambia as a\\nChristian nation and R.E. The findings showed that stakeholders had an understanding of the\\ndeclaration of Zambia as a Christian nation and Religious Education.\\nReligious Education as a curriculum subject had been changing over time and the syllabus\\noffered in a school was mostly informed by the school ethos. Thus, while Catholic schools\\noffered syllabus 2044, Protestant schools and most government schools offered syllabus 2046.\\nSo R.E. teachers taught either syllabus 2044 or 2046 because that was the syllabus adopted by\\nthe school, though they were trained to teach both syllabuses.\\nIn terms of methods of delivery, the findings showed that teacher exposition, role play and\\ndiscussion methods were the most commonly used methods in the teaching of Religious\\nEducation. Though teacher exposition is a teacher centered method, the R.E. teachers involved in\\nthe study used the method because the content compelled them to. It is not possible for R.E.\\nteachers to teach about the doctrines, beliefs and practices without using teacher exposition\\nmethod sometimes. We need to note here that, teaching methods play a crucial role in the process\\nof imparting knowledge in the learners (Kamanga, 2013).199\\nZAMBIAN JOURNAL OF RELIGION AND CONTEMPORARY ISSUES\\nFrom the information gathered, it was clear that all the stakeholders had some\\nunderstanding of the declaration of Zambia as a Christian nation and to a great extent; they held\\nthat the declaration was good for the country. The late former President Chiluba did a good thing\\nto give Zambia such a religious declaration. The declaration did not get in the way of the\\nZambian citizens since the people were free to belong to any religion of their choice.\\nFurthermore, the declaration secured the peace of the country despite the economic and political\\npressures other nations experienced due to politically motivated groups that exercised extreme\\nreligious freedom.\\nThe article further shows that R.E. was a curriculum subject which promoted tolerance and\\ncoexistence. It did not aim at converting learners towards a particular religion, but to enhance\\nunderstanding of the different religions practiced in Zambia. However, the response by one\\nreligious leader who submitted that R.E. should focus on Christianity because children should\\ncome face to face with the original faith, whether Christianity, Islam, Hinduism, Zambian\\ntradition faith or any other religion from parents, confirms Simuchimba\\u2019s (2005) conclusion that\\nthe educationally, unacceptable, denominational practice of Religious Education being a vehicle\\nof evangelism unfortunately continued to exist in Zambia. It is further challenged by Henze\\n(2003) who pointed out:\\nReligious Education in school is inclusive and pluralistic, and it aims to be experiential\\nand participatory, which is different from the denominational teaching found in church\\nnurture groups. In this way, Religious Education challenges the church especially in\\nthe way they deal with traditional beliefs, other denominations and religions, as well as\\ntheir teaching methods.\\nEven though this submission might be looked at as the odd one out, it ought to be considered\\nwith the seriousness it deserves, because it goes against the educational principles on which\\nmodern R.E. is premised and reflects the long standing view 200\\nJudith L. Ilubala-Ziwa, et al\\nheld by some R.E. teachers who feel that they are duty bound to preach the gospel to their pupils\\n(Kamanga, 2013).\\nThough there was an indication among some pupils that they took R.E. because of its value\\nof promoting interpersonal skills as well as the appreciation of different religious traditions, most\\ndid the subject because it was compulsory in their schools. However, it should be noted that the\\ncompulsory status of R.E. in some mission schools could not be attributed to the declaration of\\nZambia as a Christian nation but to other historical factors as shown in the study.\\nFurthermore, the findings showed that R.E. was taken as a subject by pupils because they\\nwere asked to choose from the optional subjects offered by the school and that they picked R.E.\\nbecause they wanted to strengthen their faith and know what other religions believed in and how\\nthey worshipped.\\n6.0 Implications on Religious Education as a Curriculum Subject\\nWith the ongoing debates, on the political front, on whether the declaration of Zambia as a\\nChristian nation should be maintained in the constitution, one would expect that the\\ndeclaration had an impact on Religious Education. From the onset, it can be asserted that\\neven with the passage of time, the declaration of Zambia as a Christian nation remains\\ncontroversial. Due to various dynamics and how things have unfolded in the country, some\\npeople hold relatively the same views about the declaration while others have undoubtedly\\nchanged their stance. While overzealousness and outright unprofessionalism on the part of\\nsome R.E. teachers were observed as part of the immediate impacts of the declaration, the\\nfindings of the study showed that the declaration did not have any serious implications on\\nR.E. and this was affirmed by Simuchimba (2004) when he contended that the declaration\\ndid not have much force in the Zambian society.201\\nZAMBIAN JOURNAL OF RELIGION AND CONTEMPORARY ISSUES\\nFrom the responses by the teachers on the declaration of Zambia as a Christian nation,\\nthe article established that the declaration was a mere declaration and that the large\\nChristian content in both syllabus 2044 and 2046 was as a result of historical factors not the\\ndeclaration. A look at the history of R.E. in Zambia pointed to the fact that much of what is\\ntaught is derived from the colonial government. As contended by Chita (2011), the\\nmissionary dominance in the educational system was without doubt the reason there always\\nhad been a place for R.E. in the school curriculum.\\nEven with the various revisions of the syllabuses, it is worth noting that R.E. has\\nretained the same name, aim and with the exception of Zambian Humanism, relatively the\\nsame content that resulted from the 1977 Educational Reforms (Mudalitsa, 2016). In other\\nwords, in as much as it attempts to incorporate other religious traditions, the subject is\\nChristian biased (Kamanga, 2013). With very little changes, R.E. syllabuses in use today\\nwere developed in the mid-1980s. As such, the Christian inclination could not be attributed\\nto the declaration which was made in 1991.\\nIn relation to the above, the learners included in the study pointed out that the\\ndeclaration of Zambia as a Christian nation had not affected R.E. in any way because they\\nalso learnt about other religions. If the declaration had an effect on R.E., the subject content\\nwould have been all Christian. Furthermore, the findings gathered from the teachers showed\\nthat the declaration had not affected the teaching and learning of R.E. because it gave room\\nto religious freedom in the sense that learners can share their beliefs in class. Additionally,\\nR.E. syllabuses attempt to cater for other religions which have very few followers in\\nZambia. This view was at variance with the observations made by Simuchimba (2004).202\\nJudith L. Ilubala-Ziwa, et al\\nAdditionally, the findings gathered from the religious leaders showed that the Islamic\\nand Baha\\u2019i communities appreciated the declaration of Zambia as a Christian nation as it\\nwas a good thing. The declaration enhanced tolerance among Zambians who belonged to\\ndifferent religions. It has not caused overzealous attitudes among the Zambian citizens. This\\nrepresents a shift in opinion from the initial fears that were experienced by religious groups,\\nother than Christians, in the years following the declaration. They genuinely feared that they\\nmight be victimised and subjected to misfits in a Christian nation. As things stand on the\\nground, every faith community can carry out its activities without any impediments and\\nhave probably come to accept, as Cheyeka (2014) puts it, that the implementation of the\\ndeclaration of Zambia as a Christian nation was illusionary. The findings gathered from the\\nreligious leaders further showed that the declaration had not affected R.E. because the\\nsubject still accommodated other religions and that Christianity as a religion, promoted\\npeaceful coexistence among different religious groups. Here too, one would argue that the\\nfears, ignited by calls from mostly the Evangelical clergy, to have an exclusivist form of\\nR.E. had been watered down as shown by the continued presence of other religious\\ntraditions in the syllabuses.\\nOn the other hand, the findings gathered from an Evangelical Fellowship of Zambia\\nreligious leader showed that the declaration had positively affected R.E. in Zambia in the\\nsense that it had made Zambians realise that it was not just any one who could teach the\\nsubject like the way other subjects were taught even by drunkards or immoral people. With\\nthe declaration, R.E. teachers should realise that they are role models expected to have\\nhigher moral standards or the subject would defeat the whole purpose of 203\\nZAMBIAN JOURNAL OF RELIGION AND CONTEMPORARY ISSUES\\nteaching the Christian faith. Clearly, the respondent here was reiterating the\\nobservations made by Simuchimba (2004) that certain sectors of society were calling for the\\nclergy to take over the teaching of R.E. Presently, though, as the results suggested, R.E. is\\ntaught by professionally trained teachers regardless of their religious affiliation. The subject\\nwas also taught according to educational dictums and the unprofessional conduct of\\nproselytising in the classroom and staring lessons with a Christian prayer was not\\nevidenced. This could be attributed to the works of R.E. scholars who had since the\\ndeclaration, called on R.E. teachers to be professionally neutral. It is also attributed to the\\ntraining the teachers receive form universities and colleges of education, which requires all\\nteachers to handle the subject openly without being biased to one religion.\\nFurthermore, the findings from the Evangelical clergyman showed that the Christian\\nnation declaration was not there to compel any adherents of other religions to belong to\\nChristianity but it had set limits in order not to have content equal to Christianity in the R.E.\\nsyllabuses. No such limits and safe guards should be included in either educational\\nmaterials or policy documents. A look at the 2013 Curriculum Framework shows that R.E.\\nis at crossroads. The 2013 Curriculum Framework has shaken the foundations of R.E. by\\nmaking all subjects promote the values R.E. was originally meant to promote. Furthermore,\\nin the 2013 Curriculum Framework, at junior secondary school level, R.E. is compulsory\\nbut the subject is not included in the Vocational pathway. At senior secondary level, the\\nsubject is optional in both pathways. In 2016, the Ministry of General Education (MoGE)\\nannounced that at junior secondary school learners in the Vocational pathway would also\\ntake R.E. to meet the required number 204\\nJudith L. Ilubala-Ziwa, et al\\nof subjects for certification. At this point, while it can be argued that R.E. has been\\ngiven a lifeline, it is clear that the decision was purely academic or educational. The\\ndecision was not related to the declaration of Zambia as a Christian nation.\\n7.0 Conclusion and Recommendations\\nThe article aimed at ascertaining the impact of the declaration of Zambia as a Christian\\nnation on Religious Education. In line with the objectives of the article, it should be\\nconcluded that stakeholders have a fairly good understanding of the declaration and R.E. as\\na school curriculum subject. In terms of the declaration, stakeholders acknowledged that it\\nwas a good move because it, in a way, worked as a safeguard against different vices\\nexperienced by the learners and the teachers. With regard to the impact that the declaration\\nhad on RE, the study established that the declaration had no impact on the subject in that the\\nperceived Christian bias in the R.E. syllabuses was a result of deep rooted historical factors,\\nnot the declaration. Furthermore, the religious activities which were conducted in R.E.\\nlessons, such as prayer before teaching, were as a result of school ethos. In mission schools\\nprayer had been going on from time immemorial.\\nThe article aimed at ascertaining the impact ofthe declaration of Zambia as a\\nChristian nation The on Religious Education. In line with the objectives of the article, it\\nshould be concluded that stakeholders have a fairly good understanding of the declaration\\nand R.E. as a school curriculum subject. In terms of the declaration, stakeholders\\nacknowledged that it was a good move because it, in a way, worked as a safeguard against\\ndifferent vices experienced by the learners and the 205\\nZAMBIAN JOURNAL OF RELIGION AND CONTEMPORARY ISSUES\\nteachers. With regard to the impact that the declaration had on R.E., the study\\nestablished that the declaration had no impact .on the subject in that the perceived Christian\\nbias in the R.E. syllabuses was a result of deep rooted historical factors, not the declaration.\\nFurthermore, the religious activities which were conducted in R.E. lessons, such as prayer\\nbefore teaching, were as a result of school ethos. In mission schools prayer had been going\\non from time immemorial.\\nIn view of the results of the study and the conclusions drawn, the authors\\nrecommend that stakeholders, especially religious leaders, should take interest in R.E. and\\nsupport the development of a more liberal, critical and educational subject which places\\nequal emphasis on the coverage of different religious traditions so as to reflect the current\\nmulti-religious scenario prevailing in the country. Furthermore, stakeholders should\\nencourage teachers to remain professionally neutral in a bid to guard against a misguided\\nunderstanding of the declaration of Zambia as a Christian nation and being in tandem with\\n\\u2018Educating our Future\\u2019, the MoGE policy document on education.\\nReferences\\nBusia, K.A. (1964). Purposeful of Education for Africa. The Hague: Mouton and Company.\\nCarmody, B. (Ed.) (2004). Religion and Education in Zambia. Ndola: Mission Press.\\nChita, J. (2011). \\u2018The Role of Missionaries in the Development of the Zambian Religious\\nEducation Curriculum.\\u2019 Unpublished Masters Dissertation, University of Zambia.\\nCheyeka, A.M. (2014). The Politics and Christianity of Chilubaism in Zambia 1991-2011.\\nNdola: Mission Press.206\\nJudith L. Ilubala-Ziwa, et al\\nCoulby, D. (2008). Intercultural education: Religion, Knowledge and the limits of\\npostmodernism. Intercultural Education, vol. 19, No. 4, p. 305-314.\\nCurriculum Development Centre (1984). Syllabi for Religious Education for School Certificate:\\nGrade 10, 11 and 12. Lusaka: CDC.\\nDickson, K.A. (1979). \\u201cContinuity and Discontinuity between the Old Testament and African\\nLife Thought.\\u201d Bulletin of African Theology.1:2 (1979): 179-193.\\nExaminations Council of Zambia. (2008). Teachers Handbook for Christian Religious Education\\nGrades 10-12. ECZ: Lusaka.\\nGovernment of the Republic of Zambia. (2012). 2010 Census of Population and Housing.\\nLusaka: Central Statistical Office.\\nHaar, G. (Ed.). (1992). \\u201cAfrican Traditional Religious Education.\\u201d Part 3. African Traditional\\nReligions in Religious Education: A Resource Book with Special Reference to\\nZimbabwe.22-49. Utrecht: Utrecht University.\\nHenze, B. (2009). \\u201cTowards Better Religious Education\\u201d. In The Challenge for Christian Living\\nToday.11, (3), 24-25.\\nHenze, J. (2007). Some Basics of Religious Education in Zambia. Ndola: Mission Press.\\nHenze, J. (2003). Interfacing: Religious Education in dialogue with Educating Our Future.\\nNdola: Mission Press.\\nHenze, J. (2000). Readings for Religious Education Teachers. Ndola: Copperbelt Religious\\nEducation Development Unit.\\nHenze, J. (1994). Creative Tension: Essay in Religious Education for the Twentieth Anniversary\\nof ZARET. Ndola: Copperbelt RE Development Unit.207\\nZAMBIAN JOURNAL OF RELIGION AND CONTEMPORARY ISSUES\\nJackson, R. (2004). Rethinking Religious Education and Plurality: Issues in Diversity and\\nPedagogy. New York: Routledge.\\nJackson, R. (1997). Religious Education: An Interpretive Approach. London: Holder and\\nStoughton.\\nGhosh, (1992) is missing\\nKamanga, G. (2013). \\u2018Religious Education in Zambia: Towards Religious literacy, Religious\\npluralism and liberalism.\\u2019 Unpublished Masters Dissertation, University of Zambia\\nLahnemann, J. (1985). \\u201cAn acknowledging Religious Pluralism in Education \\u201cin Felderhof M. C.\\n(Ed.) Religious Education in a Pluralistic Society. London: Holder and Stoughton.\\nMaalouf, A. (2003). In the name of identity: violence and the need to belong. New York:\\nPenguin.\\nMasterton, R. (1987). \\u201cThe Growth and Development of Religious Education in Zambia.\\u201d Med\\nthesis, University of Birmingham.\\nMinistry of Education, Science, Vocational Training and Early Education (2013). The Zambia\\nEducation Curriculum Frame Work 2013. Lusaka: Curriculum Development Centre.\\nMinistry of Education, Science, Vocational Training and Early Education (2013). Syllabi for\\nReligious Education for School Certificate: Grade 10, 11 and 12. Lusaka: Curriculum\\nDevelopment Centre.\\nMinistry of Education (1996). Educating Our Future: National Policy on Education. Lusaka:\\nZambia Educational Publishing House.\\nMinistry of Education (1977). Education Reform: Proposals and Recommendations. Lusaka:\\nMinistry of Education.\\nMudalitsa, J.Y. (2016). R.E. is Great. Ndola: Mission Press.\\nMudalitsa, J.Y. (2006). Religious Education for Excellence. Ndola: Mission Press.\\nMudalitsa, J. (2002). Religious Education with a Difference. Ndola: Mission Press208\\nJudith L. Ilubala-Ziwa, et al\\nMujdrica, J.J. (1995). \\u201cAn Evaluation of the Zambian Secondary School RE Syllabuses\\u201d\\nUnpublished MEd dissertation, University of Birmingham.\\nOsler, A. and Starkey, H. (2005). Changing Citizenship, Democracy and Inclusion in Education.\\nNew York: Open University Press.\\nParekh, B. (2006). Rethinking Multiculturalism: Cultural Diversity and Political Theory.\\nBasingstoke: Palgrave Macmillan.\\nRichardson, N. (2007).Sharing Religious Education: A brief introduction to the possibility of an\\ninclusive approach to R.E. in Northern Ireland.Stranmills: Stranmills University College.\\nSimuchimba, M. (2005). \\u2018Religious Education in Zambia 1890 \\u2013 2000 and Beyond.\\u2019\\nUnpublished Doctoral Thesis, University of South Africa.\\nSimuchimba, M. (2004). \\u201cReligious Education in a Christian Nation: The case of Zambia\\u201d In\\nCarmody, B., Religious and Education in Zambia. pp. 88-97. Ndola: Mission Press.\\nSimuchimba, M. (2004). \\u201cReligious Education in Zambia: Syllabus, Approaches and\\nContentious Issues,\\u201d In Carmody B., Religion and Education in Zambia. pp.108- 116.\\nNdola: Mission Press.\\nSimuchimba, M. (2000). Religious Education in Zambia: Approaches and Contentious Issues.\\nZango-Journal of Contemporary Issues. 23 (13), 13-21.\\nSmith, A. (1982). Interdenominational Religious Education in Africa: The Emergence of\\nCommon Syllabuses. Utrecht: IIMO.\\nSnelson, P. (1974). Educational Development in Northern Rhodesia 1883-1945. Lusaka:\\nKenneth Kaunda Foundation.\\nZambeta, E. (2008).Religion, Modernity and Social Rights in European Education. Intercultural\\nEducation, 19, (4), p.297-304.209\",\n          \"1\"\n        ],\n        \"semantic_type\": \"\",\n        \"description\": \"\"\n      }\n    }\n  ]\n}"
            }
          },
          "metadata": {}
        },
        {
          "output_type": "stream",
          "name": "stdout",
          "text": [
            "\n",
            "--- SHAPE ---\n",
            "(9, 2)\n"
          ]
        },
        {
          "output_type": "display_data",
          "data": {
            "text/plain": [
              "<Figure size 800x500 with 1 Axes>"
            ],
            "image/png": "[encoded data removed]"
          },
          "metadata": {}
        },
        {
          "output_type": "display_data",
          "data": {
            "text/plain": [
              "<Figure size 600x400 with 1 Axes>"
            ],
            "image/png": "[encoded data removed]"
          },
          "metadata": {}
        },
        {
          "output_type": "stream",
          "name": "stdout",
          "text": [
            "\n",
            "--- Summary of Initial Findings ---\n",
            "📊 Total PDFs processed: 9\n",
            "✅ Successful text extractions: 8\n",
            "❌ Failed / empty extractions: 1\n",
            "ℹ️ Text length ranges from 13 to 165876 characters\n",
            "\n",
            "📌 Top 10 Most Frequent Words in Successful PDFs:\n",
            "were: 558\n",
            "study: 517\n",
            "education: 466\n",
            "treatment: 314\n",
            "not: 291\n",
            "their: 290\n",
            "school: 277\n",
            "patients: 271\n",
            "which: 250\n",
            "zambia: 244\n"
          ]
        },
        {
          "output_type": "display_data",
          "data": {
            "text/plain": [
              "<Figure size 1000x600 with 1 Axes>"
            ],
            "image/png": "[encoded data removed]"
          },
          "metadata": {}
        }
      ]
    },
    {
      "cell_type": "markdown",
      "source": [
        "## 3. Data Preparation\n",
        "\n",
        "In this step, we cleaned and transformed our raw extracted data to prepare it for modeling.\n",
        "\n",
        "### Data Cleaning\n",
        "- Removed rows with failed/empty PDF extractions.\n",
        "- Dropped duplicates and extremely short texts (<50 characters).\n",
        "- Normalized whitespace and casing.\n",
        "\n",
        "### Feature Engineering\n",
        "- Added text length and word count features to help analyze reference complexity.\n",
        "\n",
        "### Data Transformation\n",
        "- Preprocessed text (lowercase, punctuation removal).\n",
        "- Standardized `publication_type` categories based on the source URL (journal, thesis, conference, report, other).\n",
        "- Created a new `cleaned_text` column for training.\n",
        "\n",
        "The cleaned dataset was saved as `processed_references.csv` for use in the modeling stage.\n"
      ],
      "metadata": {
        "id": "fh0dbehUHYy0"
      }
    },
    {
      "cell_type": "code",
      "source": [
        "import requests\n",
        "from bs4 import BeautifulSoup\n",
        "import pandas as pd\n",
        "import os\n",
        "import re\n",
        "\n",
        "HEADERS = {\"User-Agent\": \"Mozilla/5.0\"}\n",
        "\n",
        "categories = {\n",
        "    \"thesis\": \"https://datalab.unza.zm/publications/theses-and-dissertations\",\n",
        "    \"conference\": \"https://datalab.unza.zm/publications/conference-papers\",\n",
        "    \"report\": \"https://datalab.unza.zm/index.php/publications/technical-reports\",\n",
        "    \"journal\": \"https://datalab.unza.zm/publications/journal-articles\",\n",
        "}\n",
        "\n",
        "references = []\n",
        "\n",
        "def get_pdf_from_detail(url, pub_type):\n",
        "    \"\"\"Visit detail page and extract PDF link + title.\"\"\"\n",
        "    r = requests.get(url, headers=HEADERS)\n",
        "    if r.status_code != 200:\n",
        "        print(f\" Failed to load detail page: {url}\")\n",
        "        return None\n",
        "    soup = BeautifulSoup(r.text, \"lxml\")\n",
        "\n",
        "    # Extract title\n",
        "    title_tag = soup.find(\"h1\")\n",
        "    title = title_tag.get_text(strip=True) if title_tag else url\n",
        "\n",
        "    # Find PDF links\n",
        "    pdf_link = None\n",
        "    for a in soup.find_all(\"a\", href=True):\n",
        "        if a[\"href\"].lower().endswith(\".pdf\"):\n",
        "            pdf_link = a[\"href\"]\n",
        "            if not pdf_link.startswith(\"http\"):\n",
        "                pdf_link = \"https://datalab.unza.zm\" + pdf_link\n",
        "            break\n",
        "\n",
        "    if pdf_link:\n",
        "        return {\n",
        "            \"reference_text\": title,\n",
        "            \"publication_type\": pub_type,\n",
        "            \"pdf_url\": pdf_link\n",
        "        }\n",
        "    return None\n",
        "\n",
        "for pub_type, base_url in categories.items():\n",
        "    print(f\"🔎 Scraping {pub_type}\")\n",
        "    page = 0\n",
        "    while True:\n",
        "        list_url = f\"{base_url}?page={page}\" if \"?\" in base_url else f\"{base_url}?page={page}\"\n",
        "        r = requests.get(list_url, headers=HEADERS)\n",
        "        if r.status_code != 200:\n",
        "            print(f\" Failed to load {list_url}\")\n",
        "            break\n",
        "\n",
        "        soup = BeautifulSoup(r.text, \"lxml\")\n",
        "        more_info_links = soup.find_all(\"a\", href=True, string=re.compile(r\"More Info\", re.I))\n",
        "\n",
        "        if not more_info_links:\n",
        "            break  # No more results, stop pagination\n",
        "\n",
        "        for a in more_info_links:\n",
        "            detail_url = a[\"href\"]\n",
        "            if not detail_url.startswith(\"http\"):\n",
        "                detail_url = \"https://datalab.unza.zm\" + detail_url\n",
        "            ref = get_pdf_from_detail(detail_url, pub_type)\n",
        "            if ref:\n",
        "                references.append(ref)\n",
        "\n",
        "        print(f\"➡ Processed page {page}, found {len(more_info_links)} entries\")\n",
        "        page += 1\n",
        "\n",
        "# Save results\n",
        "df = pd.DataFrame(references)\n",
        "print(f\"✅ Collected {len(df)} references\")\n",
        "os.makedirs(\"data\", exist_ok=True)\n",
        "df.to_csv(\"/content/drive/MyDrive/misc-unza25-csc4792-project_team30/references.csv\", index=False)\n",
        "print(\"💾 Saved references to data/references.csv\")\n"
      ],
      "metadata": {
        "colab": {
          "base_uri": "https://localhost:8080/"
        },
        "id": "jTm9kDlzPaI2",
        "outputId": "7645fca3-bb12-45e3-b8b3-e2d067a76450"
      },
      "execution_count": null,
      "outputs": [
        {
          "output_type": "stream",
          "name": "stdout",
          "text": [
            "🔎 Scraping thesis\n",
            "➡ Processed page 0, found 10 entries\n",
            "🔎 Scraping conference\n",
            "➡ Processed page 0, found 10 entries\n",
            "➡ Processed page 1, found 10 entries\n",
            "➡ Processed page 2, found 5 entries\n",
            "🔎 Scraping report\n",
            "➡ Processed page 0, found 4 entries\n",
            "🔎 Scraping journal\n",
            "➡ Processed page 0, found 6 entries\n",
            "✅ Collected 39 references\n",
            "💾 Saved references to data/references.csv\n"
          ]
        }
      ]
    },
    {
      "cell_type": "code",
      "source": [
        "# -----------------------------\n",
        "# Step 1: Data Cleaning\n",
        "# -----------------------------\n",
        "# Replace known errors in reference_text with NaN\n",
        "data[\"reference_text\"] = data[\"reference_text\"].replace(\n",
        "    [\"Failed to download PDF\", \"No text found\", \"Error extracting text\"], pd.NA\n",
        ")\n",
        "\n",
        "\n",
        "# Drop rows with missing reference_text\n",
        "data = data.dropna(subset=[\"reference_text\"])\n",
        "\n",
        "# Remove duplicates\n",
        "data = data.drop_duplicates(subset=[\"reference_text\"])\n",
        "\n",
        "# Strip whitespace\n",
        "data[\"reference_text\"] = data[\"reference_text\"].str.strip()\n",
        "\n",
        "# Drop very short texts (<50 chars)\n",
        "data = data[data[\"reference_text\"].str.len() > 50]\n",
        "\n",
        "print(f\"✅ After cleaning: {data.shape[0]} rows remain\")\n"
      ],
      "metadata": {
        "colab": {
          "base_uri": "https://localhost:8080/",
          "height": 211
        },
        "id": "P5QUtktiJThm",
        "outputId": "1c474b0e-d159-4c0d-8c44-b17e569a0ed4"
      },
      "execution_count": null,
      "outputs": [
        {
          "output_type": "error",
          "ename": "NameError",
          "evalue": "name 'data' is not defined",
          "traceback": [
            "\u001b[0;31m---------------------------------------------------------------------------\u001b[0m",
            "\u001b[0;31mNameError\u001b[0m                                 Traceback (most recent call last)",
            "\u001b[0;32m/tmp/ipython-input-4105645231.py\u001b[0m in \u001b[0;36m<cell line: 0>\u001b[0;34m()\u001b[0m\n\u001b[1;32m      3\u001b[0m \u001b[0;31m# -----------------------------\u001b[0m\u001b[0;34m\u001b[0m\u001b[0;34m\u001b[0m\u001b[0m\n\u001b[1;32m      4\u001b[0m \u001b[0;31m# Replace known errors in reference_text with NaN\u001b[0m\u001b[0;34m\u001b[0m\u001b[0;34m\u001b[0m\u001b[0m\n\u001b[0;32m----> 5\u001b[0;31m data[\"reference_text\"] = data[\"reference_text\"].replace(\n\u001b[0m\u001b[1;32m      6\u001b[0m     \u001b[0;34m[\u001b[0m\u001b[0;34m\"Failed to download PDF\"\u001b[0m\u001b[0;34m,\u001b[0m \u001b[0;34m\"No text found\"\u001b[0m\u001b[0;34m,\u001b[0m \u001b[0;34m\"Error extracting text\"\u001b[0m\u001b[0;34m]\u001b[0m\u001b[0;34m,\u001b[0m \u001b[0mpd\u001b[0m\u001b[0;34m.\u001b[0m\u001b[0mNA\u001b[0m\u001b[0;34m\u001b[0m\u001b[0;34m\u001b[0m\u001b[0m\n\u001b[1;32m      7\u001b[0m )\n",
            "\u001b[0;31mNameError\u001b[0m: name 'data' is not defined"
          ]
        }
      ]
    },
    {
      "cell_type": "code",
      "source": [
        "# -----------------------------\n",
        "# Step 2: Feature Engineering\n",
        "# -----------------------------\n",
        "# Add length-based features\n",
        "data[\"char_length\"] = data[\"reference_text\"].str.len()\n",
        "data[\"word_count\"] = data[\"reference_text\"].str.split().str.len()\n",
        "\n",
        "print(\"\\nFeature sample:\")\n",
        "print(data[[\"char_length\", \"word_count\"]].head())\n"
      ],
      "metadata": {
        "colab": {
          "base_uri": "https://localhost:8080/"
        },
        "id": "myOXRMipJdJP",
        "outputId": "edbdeb37-f428-4869-d8b4-56b91125d1fd"
      },
      "execution_count": null,
      "outputs": [
        {
          "output_type": "stream",
          "name": "stdout",
          "text": [
            "\n",
            "Feature sample:\n",
            "   char_length  word_count\n",
            "0           99          14\n",
            "1          130          17\n",
            "2          112          15\n",
            "3           98          13\n",
            "4           84          12\n"
          ]
        }
      ]
    },
    {
      "cell_type": "markdown",
      "source": [
        "# Step 3: Data Transformation"
      ],
      "metadata": {
        "id": "Xgr93xSoJlbZ"
      }
    },
    {
      "cell_type": "code",
      "source": [
        "# -----------------------------\n",
        "# Step 3: Data Transformation\n",
        "# -----------------------------\n",
        "def clean_text(text):\n",
        "    text = str(text).lower()\n",
        "    text = re.sub(r\"[^a-z\\s]\", \" \", text)  # keep only letters\n",
        "    text = re.sub(r\"\\s+\", \" \", text).strip()\n",
        "    return text\n",
        "\n",
        "data[\"cleaned_text\"] = data[\"reference_text\"].apply(clean_text)\n",
        "\n",
        "# Standardize publication types based on PDF URL\n",
        "def map_pub_type(url):\n",
        "    url = str(url).lower()\n",
        "    if \"journal\" in url:\n",
        "        return \"journal\"\n",
        "    elif \"conference\" in url:\n",
        "        return \"conference\"\n",
        "    elif \"thesis\" in url or \"theses\" in url:\n",
        "        return \"thesis\"\n",
        "    elif \"report\" in url or \"technical-report\" in url:\n",
        "        return \"report\"\n",
        "    else:\n",
        "        return \"other\"\n",
        "\n",
        "data[\"publication_type_mapped\"] = data[\"pdf_url\"].apply(map_pub_type)\n",
        "\n",
        "print(\"\\nDistribution after mapping:\")\n",
        "print(data[\"publication_type_mapped\"].value_counts())\n",
        "\n",
        "# Save cleaned and transformed data\n",
        "os.makedirs(\"/content/drive/MyDrive/misc-unza25-csc4792-project_team30/data\", exist_ok=True)\n",
        "data.to_csv(\"/content/drive/MyDrive/misc-unza25-csc4792-project_team30/data/references_cleaned.csv\", index=False)\n",
        "print(\"💾 Saved cleaned and transformed references to data/references_cleaned.csv\")"
      ],
      "metadata": {
        "colab": {
          "base_uri": "https://localhost:8080/"
        },
        "id": "fFvCgx32JoV0",
        "outputId": "61157eb3-85ea-42fb-e868-5f072fedf0a9"
      },
      "execution_count": null,
      "outputs": [
        {
          "output_type": "stream",
          "name": "stdout",
          "text": [
            "\n",
            "Distribution after mapping:\n",
            "publication_type_mapped\n",
            "other     31\n",
            "report     3\n",
            "Name: count, dtype: int64\n",
            "💾 Saved cleaned and transformed references to data/references_cleaned.csv\n"
          ]
        }
      ]
    },
    {
      "cell_type": "markdown",
      "source": [
        "# Step 4: Save Processed Data"
      ],
      "metadata": {
        "id": "NJVWPkitJtR3"
      }
    },
    {
      "cell_type": "code",
      "source": [
        "# -----------------------------\n",
        "# Step 4: Save Processed Data\n",
        "# -----------------------------\n",
        "processed_path = \"/content/drive/MyDrive/misc-unza25-csc4792-project_team30/processed_references.csv\"\n",
        "data[[\"cleaned_text\", \"publication_type\"]].to_csv(processed_path, index=False)\n",
        "\n",
        "print(f\"\\n💾 Saved processed dataset to {processed_path}\")"
      ],
      "metadata": {
        "colab": {
          "base_uri": "https://localhost:8080/"
        },
        "id": "40jukRlZJv2z",
        "outputId": "3962f022-6bb5-42ac-f8aa-013b71321fc6"
      },
      "execution_count": null,
      "outputs": [
        {
          "output_type": "stream",
          "name": "stdout",
          "text": [
            "\n",
            "💾 Saved processed dataset to /content/drive/MyDrive/misc-unza25-csc4792-project_team30/processed_references.csv\n"
          ]
        }
      ]
    }
  ]
}